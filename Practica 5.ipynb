{
  "cells": [
    {
      "cell_type": "markdown",
      "metadata": {
        "id": "upQUXtFgmshj"
      },
      "source": [
        "# <font color=darkblue>**Universidad Nacional Autónoma de México**\n",
        "# <font color=darkblue>**Facultad de Ciencias**\n",
        "# <font color=orange>**Práctica  de Análisis Numérico**\n",
        "# <font color=orange>**Semestre 2023 - 1**\n",
        "# Dra. Úrsula Iturrarán Viveros"
      ]
    },
    {
      "cell_type": "markdown",
      "metadata": {
        "id": "AcgLoDy0WsUN"
      },
      "source": [
        "## Parte computacional\n",
        "Alumnos:\n",
        "\n",
        "*   Olvera Trejo Alberto\n",
        "*   Ramos López Gabriela"
      ]
    },
    {
      "cell_type": "code",
      "execution_count": null,
      "metadata": {
        "id": "FkAQv9NAy_si"
      },
      "outputs": [],
      "source": [
        "import numpy as np\n",
        "from sympy import *\n",
        "import sympy as sym\n",
        "from IPython.display import display, Latex\n",
        "import plotly.graph_objects as go\n",
        "from matplotlib.axis import YAxis\n",
        "from math import *\n",
        "import matplotlib.pyplot as plt\n",
        "import pandas as pd\n",
        "import plotly.io as pio"
      ]
    },
    {
      "cell_type": "markdown",
      "metadata": {
        "id": "JyRVxwfld9Jm"
      },
      "source": [
        "# **Ajuste por mínimos cuadrados lineales**"
      ]
    },
    {
      "cell_type": "markdown",
      "metadata": {
        "id": "cOUW8SBvLnGB"
      },
      "source": [
        "## Ejercicio 1\n",
        "\n",
        "En la década de 1910, el físico Robert Millikan hizo una serie de mediciones para estudiar el efecto fotoeléctrico el cual consiste en la emisión de electrones por parte de una placa metálica cuando es irradiada con luz de distintas frecuencias; este fenómeno puede describirse por la ecuación\n",
        "$$\n",
        "V = \\frac{h}{\\mathrm{e}}\\nu - \\frac{\\phi}{\\mathrm{e}},\n",
        "$$\n",
        "\n",
        "donde $h$ es la constante de Planck, $\\mathrm{e}$ es la carga eléctrica del electrón, $\\nu$ es el valor de la frecuencia de la luz que irradia a una cierta placa metálica, $V$ es el voltaje producido por la emisión de electrones y $\\phi$ es un término que representa la cantidad de energía mínima necesaria para que la placa emita un electrón. Nótese que $V$ se puede ver como una función lineal de la forma\n",
        "$$\n",
        "V = m\\nu + b,\n",
        "$$\n",
        "\n",
        "donde $m = \\frac{h}{\\mathrm{e}}$ y $b = - \\frac{\\phi}{\\mathrm{e}}$. De esta manera, Millikan reportó los siguientes datos\n",
        "\n",
        "<table>\n",
        "<tr><th> $\\nu$ <th><th> $5.4874\\times 10^{14}$ <th><th> $6.931\\times 10^{14}$ <th><th> $7.4307\\times 10^{14}$ <th><th> $8.2193\\times 10^{14}$ <th><th> $9.6074\\times 10^{14}$ <th><th> $11.84\\times 10^{14}$<tr><tr>\n",
        "<tr><td> $V$ <td><td> $0.5309$ <td><td> $1.0842$ <td><td> $1.2734$ <td><td> $1.6598$ <td><td> $2.19856$ <td><td> $3.10891$ <td><tr>\n",
        "<table>\n",
        "    \n",
        "Escribe un programa que mediante el método de ecuaciones normales calcule la recta que mejor se ajuste a los datos reportados por Millikan."
      ]
    },
    {
      "cell_type": "code",
      "execution_count": null,
      "metadata": {
        "id": "91VhBtrSJ79s"
      },
      "outputs": [],
      "source": [
        "def ec_norm(X, y):\n",
        "  #Transformamos en arrays\n",
        "  X = np.array(X)\n",
        "  y_vec = np.array(y).reshape(len(y), 1)\n",
        "  n = len(X)\n",
        "  #Matriz de Vandermonde\n",
        "  A = np.zeros((n, 2))\n",
        "\n",
        "\n",
        "  #Llenamos la matriz\n",
        "  for i in range(n):\n",
        "    for j in range(2):\n",
        "      A[i, j] = X[i]**j\n",
        "\n",
        "  At = np.transpose(A)\n",
        "\n",
        "  #B = A^t *A, z = A^t*y\n",
        "  B = np.matmul(At, A)\n",
        "  z = np.matmul(At, y_vec)\n",
        "\n",
        "  #Descomponemos A^t*A con Cholesky\n",
        "  L = np.linalg.cholesky(B)\n",
        "  \n",
        "  #Resolvemos L*x_0 = A^t*y\n",
        "  x_0 = np.linalg.solve(L, z)\n",
        "\n",
        "  #Ahora resolvemos L^t*a = x_0\n",
        "  a = np.linalg.solve(np.transpose(L), x_0)\n",
        "\n",
        "  #Imprimimos el polinomio de segundo grado\n",
        "  x = sym.Symbol('x')\n",
        "  \n",
        "  #Imprimimos el polinomio\n",
        "  pol = float(a[0]) + float(a[1])*x\n",
        "\n",
        "  latexpol =f'$P(x) = {latex(pol)}$'\n",
        "  print(\"***Polinomio\\n\")\n",
        "  display(Latex(latexpol))\n",
        "\n",
        "  # Graficamos \n",
        "  x_graf = np.linspace(min(X)-1, max(X)+1, 100)\n",
        "  y_graf = [float(pol.subs(x, xi)) for xi in x_graf]\n",
        "\n",
        "  fig = go.Figure()\n",
        "\n",
        "  fig.add_trace(\n",
        "      go.Scatter(x = x_graf, y = y_graf, mode = 'lines',\n",
        "                 marker=dict(color=\"LightSeaGreen\"), name = 'P(x)')\n",
        "      )\n",
        "\n",
        "  fig.add_trace(\n",
        "      go.Scatter(x = X, y = y, mode = 'markers',\n",
        "                 marker=dict(size=10, color=\"MediumPurple\"), name = 'Puntos dados')\n",
        "      )\n",
        "  fig.update_layout(title_text=\"Ajuste de minimos cuadrados lineal\",\n",
        "                  title_font_size=30, width=1400, height=700)\n",
        "  fig.show(renderer = 'svg') "
      ]
    },
    {
      "cell_type": "code",
      "execution_count": null,
      "metadata": {
        "colab": {
          "base_uri": "https://localhost:8080/",
          "height": 599
        },
        "id": "kcUkKAD7zENN",
        "outputId": "2050fca7-7f79-414b-980d-aa87de380cc5"
      },
      "outputs": [
        {
          "name": "stdout",
          "output_type": "stream",
          "text": [
            "***Polinomio\n",
            "\n"
          ]
        },
        {
          "data": {
            "text/latex": [
              "$P(x) = 4.08822735851751 \\cdot 10^{-15} x - 1.73123580398135$"
            ],
            "text/plain": [
              "<IPython.core.display.Latex object>"
            ]
          },
          "metadata": {},
          "output_type": "display_data"
        },
        {
          "data": {
            "text/html": [
              "<html>\n",
              "<head><meta charset=\"utf-8\" /></head>\n",
              "<body>\n",
              "    <div>            <script src=\"https://cdnjs.cloudflare.com/ajax/libs/mathjax/2.7.5/MathJax.js?config=TeX-AMS-MML_SVG\"></script><script type=\"text/javascript\">if (window.MathJax) {MathJax.Hub.Config({SVG: {font: \"STIX-Web\"}});}</script>                <script type=\"text/javascript\">window.PlotlyConfig = {MathJaxConfig: 'local'};</script>\n",
              "        <script src=\"https://cdn.plot.ly/plotly-2.8.3.min.js\"></script>                <div id=\"bb811a98-af4d-49bb-b2d9-1559e263e10b\" class=\"plotly-graph-div\" style=\"height:525px; width:100%;\"></div>            <script type=\"text/javascript\">                                    window.PLOTLYENV=window.PLOTLYENV || {};                                    if (document.getElementById(\"bb811a98-af4d-49bb-b2d9-1559e263e10b\")) {                    Plotly.newPlot(                        \"bb811a98-af4d-49bb-b2d9-1559e263e10b\",                        [{\"marker\":{\"color\":\"LightSeaGreen\"},\"mode\":\"lines\",\"name\":\"P(x)\",\"x\":[548739999999999.0,555156767676766.7,561573535353534.4,567990303030302.1,574407070707069.8,580823838383837.5,587240606060605.2,593657373737372.9,600074141414140.6,606490909090908.2,612907676767676.0,619324444444443.6,625741212121211.4,632157979797979.0,638574747474746.8,644991515151514.5,651408282828282.1,657825050505049.9,664241818181817.5,670658585858585.2,677075353535353.0,683492121212120.6,689908888888888.4,696325656565656.0,702742424242423.8,709159191919191.5,715575959595959.1,721992727272726.8,728409494949494.5,734826262626262.2,741243030303029.9,747659797979797.6,754076565656565.2,760493333333333.0,766910101010100.8,773326868686868.4,779743636363636.1,786160404040403.8,792577171717171.5,798993939393939.2,805410707070706.9,811827474747474.6,818244242424242.2,824661010101010.0,831077777777777.8,837494545454545.4,843911313131313.0,850328080808080.8,856744848484848.5,863161616161616.2,869578383838383.9,875995151515151.5,882411919191919.2,888828686868687.0,895245454545454.6,901662222222222.4,908078989898990.0,914495757575757.8,920912525252525.5,927329292929293.1,933746060606060.8,940162828282828.5,946579595959596.2,952996363636364.0,959413131313131.6,965829898989899.2,972246666666667.0,978663434343434.8,985080202020202.5,991496969696970.1,997913737373737.8,1004330505050505.5,1010747272727273.2,1017164040404040.9,1023580808080808.6,1029997575757576.2,1036414343434344.0,1042831111111111.8,1049247878787879.4,1055664646464647.0,1062081414141414.8,1068498181818182.5,1074914949494950.2,1081331717171717.9,1087748484848485.5,1094165252525253.2,1100582020202021.0,1106998787878788.8,1113415555555556.4,1119832323232324.0,1126249090909091.8,1132665858585859.5,1139082626262627.0,1145499393939395.0,1151916161616162.5,1158332929292930.2,1164749696969698.0,1171166464646465.5,1177583232323233.5,1184000000000001.0],\"y\":[0.5121380767315391,0.5383712819009516,0.5646044870703641,0.5908376922397767,0.6170708974091892,0.6433041025786017,0.6695373077480147,0.6957705129174268,0.7220037180868397,0.7482369232562518,0.7744701284256648,0.8007033335950768,0.8269365387644894,0.8531697439339019,0.8794029491033144,0.9056361542727274,0.9318693594421394,0.9581025646115524,0.9843357697809645,1.0105689749503775,1.03680218011979,1.063035385289202,1.089268590458615,1.115501795628027,1.14173500079744,1.1679682059668526,1.194201411136265,1.2204346163056772,1.2466678214750901,1.2729010266445027,1.2991342318139152,1.3253674369833277,1.3516006421527398,1.3778338473221527,1.4040670524915653,1.4303002576609778,1.4565334628303903,1.4827666679998028,1.5089998731692154,1.5352330783386283,1.5614662835080404,1.5876994886774534,1.6139326938468654,1.6401658990162784,1.666399104185691,1.692632309355103,1.7188655145245155,1.745098719693928,1.771331924863341,1.7975651300327535,1.823798335202166,1.8500315403715781,1.876264745540991,1.9024979507104036,1.9287311558798157,1.9549643610492287,1.9811975662186407,2.0074307713880537,2.0336639765574662,2.0598971817268787,2.086130386896291,2.112363592065704,2.1385967972351163,2.1648300024045293,2.1910632075739414,2.2172964127433534,2.2435296179127664,2.269762823082179,2.2959960282515914,2.322229233421004,2.3484624385904165,2.374695643759829,2.4009288489292415,2.427162054098654,2.4533952592680666,2.479628464437479,2.5058616696068916,2.532094874776305,2.5583280799457166,2.584561285115129,2.6107944902845417,2.637027695453954,2.6632609006233676,2.6894941057927793,2.7157273109621918,2.7419605161316043,2.7681937213010177,2.7944269264704302,2.820660131639842,2.8468933368092544,2.873126541978667,2.8993597471480803,2.925592952317492,2.9518261574869054,2.978059362656317,3.0042925678257304,3.030525772995143,3.0567589781645546,3.082992183333968,3.1092253885033796],\"type\":\"scatter\"},{\"marker\":{\"color\":\"MediumPurple\",\"size\":10},\"mode\":\"markers\",\"name\":\"Puntos dados\",\"x\":[548740000000000.0,693100000000000.0,743070000000000.0,821930000000000.0,960740000000000.0,1184000000000000.0],\"y\":[0.5309,1.0842,1.2734,1.6598,2.19856,3.10891],\"type\":\"scatter\"}],                        {\"template\":{\"data\":{\"bar\":[{\"error_x\":{\"color\":\"#2a3f5f\"},\"error_y\":{\"color\":\"#2a3f5f\"},\"marker\":{\"line\":{\"color\":\"#E5ECF6\",\"width\":0.5},\"pattern\":{\"fillmode\":\"overlay\",\"size\":10,\"solidity\":0.2}},\"type\":\"bar\"}],\"barpolar\":[{\"marker\":{\"line\":{\"color\":\"#E5ECF6\",\"width\":0.5},\"pattern\":{\"fillmode\":\"overlay\",\"size\":10,\"solidity\":0.2}},\"type\":\"barpolar\"}],\"carpet\":[{\"aaxis\":{\"endlinecolor\":\"#2a3f5f\",\"gridcolor\":\"white\",\"linecolor\":\"white\",\"minorgridcolor\":\"white\",\"startlinecolor\":\"#2a3f5f\"},\"baxis\":{\"endlinecolor\":\"#2a3f5f\",\"gridcolor\":\"white\",\"linecolor\":\"white\",\"minorgridcolor\":\"white\",\"startlinecolor\":\"#2a3f5f\"},\"type\":\"carpet\"}],\"choropleth\":[{\"colorbar\":{\"outlinewidth\":0,\"ticks\":\"\"},\"type\":\"choropleth\"}],\"contour\":[{\"colorbar\":{\"outlinewidth\":0,\"ticks\":\"\"},\"colorscale\":[[0.0,\"#0d0887\"],[0.1111111111111111,\"#46039f\"],[0.2222222222222222,\"#7201a8\"],[0.3333333333333333,\"#9c179e\"],[0.4444444444444444,\"#bd3786\"],[0.5555555555555556,\"#d8576b\"],[0.6666666666666666,\"#ed7953\"],[0.7777777777777778,\"#fb9f3a\"],[0.8888888888888888,\"#fdca26\"],[1.0,\"#f0f921\"]],\"type\":\"contour\"}],\"contourcarpet\":[{\"colorbar\":{\"outlinewidth\":0,\"ticks\":\"\"},\"type\":\"contourcarpet\"}],\"heatmap\":[{\"colorbar\":{\"outlinewidth\":0,\"ticks\":\"\"},\"colorscale\":[[0.0,\"#0d0887\"],[0.1111111111111111,\"#46039f\"],[0.2222222222222222,\"#7201a8\"],[0.3333333333333333,\"#9c179e\"],[0.4444444444444444,\"#bd3786\"],[0.5555555555555556,\"#d8576b\"],[0.6666666666666666,\"#ed7953\"],[0.7777777777777778,\"#fb9f3a\"],[0.8888888888888888,\"#fdca26\"],[1.0,\"#f0f921\"]],\"type\":\"heatmap\"}],\"heatmapgl\":[{\"colorbar\":{\"outlinewidth\":0,\"ticks\":\"\"},\"colorscale\":[[0.0,\"#0d0887\"],[0.1111111111111111,\"#46039f\"],[0.2222222222222222,\"#7201a8\"],[0.3333333333333333,\"#9c179e\"],[0.4444444444444444,\"#bd3786\"],[0.5555555555555556,\"#d8576b\"],[0.6666666666666666,\"#ed7953\"],[0.7777777777777778,\"#fb9f3a\"],[0.8888888888888888,\"#fdca26\"],[1.0,\"#f0f921\"]],\"type\":\"heatmapgl\"}],\"histogram\":[{\"marker\":{\"pattern\":{\"fillmode\":\"overlay\",\"size\":10,\"solidity\":0.2}},\"type\":\"histogram\"}],\"histogram2d\":[{\"colorbar\":{\"outlinewidth\":0,\"ticks\":\"\"},\"colorscale\":[[0.0,\"#0d0887\"],[0.1111111111111111,\"#46039f\"],[0.2222222222222222,\"#7201a8\"],[0.3333333333333333,\"#9c179e\"],[0.4444444444444444,\"#bd3786\"],[0.5555555555555556,\"#d8576b\"],[0.6666666666666666,\"#ed7953\"],[0.7777777777777778,\"#fb9f3a\"],[0.8888888888888888,\"#fdca26\"],[1.0,\"#f0f921\"]],\"type\":\"histogram2d\"}],\"histogram2dcontour\":[{\"colorbar\":{\"outlinewidth\":0,\"ticks\":\"\"},\"colorscale\":[[0.0,\"#0d0887\"],[0.1111111111111111,\"#46039f\"],[0.2222222222222222,\"#7201a8\"],[0.3333333333333333,\"#9c179e\"],[0.4444444444444444,\"#bd3786\"],[0.5555555555555556,\"#d8576b\"],[0.6666666666666666,\"#ed7953\"],[0.7777777777777778,\"#fb9f3a\"],[0.8888888888888888,\"#fdca26\"],[1.0,\"#f0f921\"]],\"type\":\"histogram2dcontour\"}],\"mesh3d\":[{\"colorbar\":{\"outlinewidth\":0,\"ticks\":\"\"},\"type\":\"mesh3d\"}],\"parcoords\":[{\"line\":{\"colorbar\":{\"outlinewidth\":0,\"ticks\":\"\"}},\"type\":\"parcoords\"}],\"pie\":[{\"automargin\":true,\"type\":\"pie\"}],\"scatter\":[{\"marker\":{\"colorbar\":{\"outlinewidth\":0,\"ticks\":\"\"}},\"type\":\"scatter\"}],\"scatter3d\":[{\"line\":{\"colorbar\":{\"outlinewidth\":0,\"ticks\":\"\"}},\"marker\":{\"colorbar\":{\"outlinewidth\":0,\"ticks\":\"\"}},\"type\":\"scatter3d\"}],\"scattercarpet\":[{\"marker\":{\"colorbar\":{\"outlinewidth\":0,\"ticks\":\"\"}},\"type\":\"scattercarpet\"}],\"scattergeo\":[{\"marker\":{\"colorbar\":{\"outlinewidth\":0,\"ticks\":\"\"}},\"type\":\"scattergeo\"}],\"scattergl\":[{\"marker\":{\"colorbar\":{\"outlinewidth\":0,\"ticks\":\"\"}},\"type\":\"scattergl\"}],\"scattermapbox\":[{\"marker\":{\"colorbar\":{\"outlinewidth\":0,\"ticks\":\"\"}},\"type\":\"scattermapbox\"}],\"scatterpolar\":[{\"marker\":{\"colorbar\":{\"outlinewidth\":0,\"ticks\":\"\"}},\"type\":\"scatterpolar\"}],\"scatterpolargl\":[{\"marker\":{\"colorbar\":{\"outlinewidth\":0,\"ticks\":\"\"}},\"type\":\"scatterpolargl\"}],\"scatterternary\":[{\"marker\":{\"colorbar\":{\"outlinewidth\":0,\"ticks\":\"\"}},\"type\":\"scatterternary\"}],\"surface\":[{\"colorbar\":{\"outlinewidth\":0,\"ticks\":\"\"},\"colorscale\":[[0.0,\"#0d0887\"],[0.1111111111111111,\"#46039f\"],[0.2222222222222222,\"#7201a8\"],[0.3333333333333333,\"#9c179e\"],[0.4444444444444444,\"#bd3786\"],[0.5555555555555556,\"#d8576b\"],[0.6666666666666666,\"#ed7953\"],[0.7777777777777778,\"#fb9f3a\"],[0.8888888888888888,\"#fdca26\"],[1.0,\"#f0f921\"]],\"type\":\"surface\"}],\"table\":[{\"cells\":{\"fill\":{\"color\":\"#EBF0F8\"},\"line\":{\"color\":\"white\"}},\"header\":{\"fill\":{\"color\":\"#C8D4E3\"},\"line\":{\"color\":\"white\"}},\"type\":\"table\"}]},\"layout\":{\"annotationdefaults\":{\"arrowcolor\":\"#2a3f5f\",\"arrowhead\":0,\"arrowwidth\":1},\"autotypenumbers\":\"strict\",\"coloraxis\":{\"colorbar\":{\"outlinewidth\":0,\"ticks\":\"\"}},\"colorscale\":{\"diverging\":[[0,\"#8e0152\"],[0.1,\"#c51b7d\"],[0.2,\"#de77ae\"],[0.3,\"#f1b6da\"],[0.4,\"#fde0ef\"],[0.5,\"#f7f7f7\"],[0.6,\"#e6f5d0\"],[0.7,\"#b8e186\"],[0.8,\"#7fbc41\"],[0.9,\"#4d9221\"],[1,\"#276419\"]],\"sequential\":[[0.0,\"#0d0887\"],[0.1111111111111111,\"#46039f\"],[0.2222222222222222,\"#7201a8\"],[0.3333333333333333,\"#9c179e\"],[0.4444444444444444,\"#bd3786\"],[0.5555555555555556,\"#d8576b\"],[0.6666666666666666,\"#ed7953\"],[0.7777777777777778,\"#fb9f3a\"],[0.8888888888888888,\"#fdca26\"],[1.0,\"#f0f921\"]],\"sequentialminus\":[[0.0,\"#0d0887\"],[0.1111111111111111,\"#46039f\"],[0.2222222222222222,\"#7201a8\"],[0.3333333333333333,\"#9c179e\"],[0.4444444444444444,\"#bd3786\"],[0.5555555555555556,\"#d8576b\"],[0.6666666666666666,\"#ed7953\"],[0.7777777777777778,\"#fb9f3a\"],[0.8888888888888888,\"#fdca26\"],[1.0,\"#f0f921\"]]},\"colorway\":[\"#636efa\",\"#EF553B\",\"#00cc96\",\"#ab63fa\",\"#FFA15A\",\"#19d3f3\",\"#FF6692\",\"#B6E880\",\"#FF97FF\",\"#FECB52\"],\"font\":{\"color\":\"#2a3f5f\"},\"geo\":{\"bgcolor\":\"white\",\"lakecolor\":\"white\",\"landcolor\":\"#E5ECF6\",\"showlakes\":true,\"showland\":true,\"subunitcolor\":\"white\"},\"hoverlabel\":{\"align\":\"left\"},\"hovermode\":\"closest\",\"mapbox\":{\"style\":\"light\"},\"paper_bgcolor\":\"white\",\"plot_bgcolor\":\"#E5ECF6\",\"polar\":{\"angularaxis\":{\"gridcolor\":\"white\",\"linecolor\":\"white\",\"ticks\":\"\"},\"bgcolor\":\"#E5ECF6\",\"radialaxis\":{\"gridcolor\":\"white\",\"linecolor\":\"white\",\"ticks\":\"\"}},\"scene\":{\"xaxis\":{\"backgroundcolor\":\"#E5ECF6\",\"gridcolor\":\"white\",\"gridwidth\":2,\"linecolor\":\"white\",\"showbackground\":true,\"ticks\":\"\",\"zerolinecolor\":\"white\"},\"yaxis\":{\"backgroundcolor\":\"#E5ECF6\",\"gridcolor\":\"white\",\"gridwidth\":2,\"linecolor\":\"white\",\"showbackground\":true,\"ticks\":\"\",\"zerolinecolor\":\"white\"},\"zaxis\":{\"backgroundcolor\":\"#E5ECF6\",\"gridcolor\":\"white\",\"gridwidth\":2,\"linecolor\":\"white\",\"showbackground\":true,\"ticks\":\"\",\"zerolinecolor\":\"white\"}},\"shapedefaults\":{\"line\":{\"color\":\"#2a3f5f\"}},\"ternary\":{\"aaxis\":{\"gridcolor\":\"white\",\"linecolor\":\"white\",\"ticks\":\"\"},\"baxis\":{\"gridcolor\":\"white\",\"linecolor\":\"white\",\"ticks\":\"\"},\"bgcolor\":\"#E5ECF6\",\"caxis\":{\"gridcolor\":\"white\",\"linecolor\":\"white\",\"ticks\":\"\"}},\"title\":{\"x\":0.05},\"xaxis\":{\"automargin\":true,\"gridcolor\":\"white\",\"linecolor\":\"white\",\"ticks\":\"\",\"title\":{\"standoff\":15},\"zerolinecolor\":\"white\",\"zerolinewidth\":2},\"yaxis\":{\"automargin\":true,\"gridcolor\":\"white\",\"linecolor\":\"white\",\"ticks\":\"\",\"title\":{\"standoff\":15},\"zerolinecolor\":\"white\",\"zerolinewidth\":2}}},\"title\":{\"font\":{\"size\":30},\"text\":\"Ajuste de minimos cuadrados lineal\"}},                        {\"responsive\": true}                    ).then(function(){\n",
              "                            \n",
              "var gd = document.getElementById('bb811a98-af4d-49bb-b2d9-1559e263e10b');\n",
              "var x = new MutationObserver(function (mutations, observer) {{\n",
              "        var display = window.getComputedStyle(gd).display;\n",
              "        if (!display || display === 'none') {{\n",
              "            console.log([gd, 'removed!']);\n",
              "            Plotly.purge(gd);\n",
              "            observer.disconnect();\n",
              "        }}\n",
              "}});\n",
              "\n",
              "// Listen for the removal of the full notebook cells\n",
              "var notebookContainer = gd.closest('#notebook-container');\n",
              "if (notebookContainer) {{\n",
              "    x.observe(notebookContainer, {childList: true});\n",
              "}}\n",
              "\n",
              "// Listen for the clearing of the current output cell\n",
              "var outputEl = gd.closest('.output');\n",
              "if (outputEl) {{\n",
              "    x.observe(outputEl, {childList: true});\n",
              "}}\n",
              "\n",
              "                        })                };                            </script>        </div>\n",
              "</body>\n",
              "</html>"
            ]
          },
          "metadata": {},
          "output_type": "display_data"
        }
      ],
      "source": [
        "X = [5.4874*10**14, 6.931*10**14, 7.4307*10**14,\n",
        "     8.2193*10**14, 9.6074*10**14, 11.84*10**14]\n",
        "y = [0.5309, 1.0842, 1.2734, 1.6598, 2.19856, 3.10891]\n",
        "\n",
        "ec_norm(X, y)"
      ]
    },
    {
      "cell_type": "markdown",
      "metadata": {
        "id": "q_DTIgotWpjd"
      },
      "source": [
        "> - <font color=red> Con los resultados obtenidos de tu programa, ¿cuáles son los valores de $m$ y $b$?</font>\n",
        "\n",
        "El valor de la pendiente es $m = 4.08822735851751\\cdot 10 \n",
        "^{−15}$ y $b = −1.73123580398135$\n",
        "> - <font color=red> Algunos años antes de que Millikan hizo estas mediciones ya había encontrado el valor de la carga del electrón; si la carga del electrón es $\\mathrm{e}=1.602\\times 10^{-19}$; entonces ¿cuál sería el valor de la constante de Planck $h$? .</font>\n",
        "\n",
        "Sabemos que $m = \\dfrac{h}{\\mathrm{e}}$, entonces $h = m\\mathrm{e}$, por lo que"
      ]
    },
    {
      "cell_type": "code",
      "execution_count": null,
      "metadata": {
        "colab": {
          "base_uri": "https://localhost:8080/"
        },
        "id": "faS-0IUM8004",
        "outputId": "ef23f624-b18e-4eed-dfe9-8dd7d4c85956"
      },
      "outputs": [
        {
          "name": "stdout",
          "output_type": "stream",
          "text": [
            "El valor de la constante de Plank es: h = 6.549340228345051e-34\n"
          ]
        }
      ],
      "source": [
        "print(f'El valor de la constante de Plank es: h = {(4.08822735851751*10**(-15))*(1.602*10**(-19))}')"
      ]
    },
    {
      "cell_type": "markdown",
      "metadata": {
        "id": "SxPXLP5AO9bo"
      },
      "source": [
        "## Ejercicio 2\n",
        "Un astrónomo observó el movimiento de un planeta P alrededor de un estrella S y capturó la siguiente información: \n",
        "\n",
        "$(-5.5,1.6)$, $(-5.9,1.0)$, $(-6.2,0.3)$, $(-6.3,-1.0)$, $(-5.7,-2.1)$, $(-2.8,-3.0)$, $(0.5,-1.7)$, $(2.3,0.8)$, $(0.4,3.9)$, $(-5.6,1.6)$, $(-4.0,3.0)$\n",
        "\n",
        "\n",
        "\n",
        "Donde cada punto $(x_i,y_i)$, $i=1,2,...,11$, es la posición del planeta P en un plano $XY$.\n",
        "\n",
        "Tomando en cuenta que la ecuación de la elipse está dada por:\n",
        "\n",
        "$$Ay^2 + Bxy + Cx + Dy + E = x^2$$\n",
        "\n",
        "Escribe un programa que, mediante el método de ecuaciones normales, encuentre la elipse que mejor se ajuste a los datos capturados y que grafique dicha elipse junto con los puntos $(x_i,y_i)$."
      ]
    },
    {
      "cell_type": "code",
      "execution_count": null,
      "metadata": {
        "id": "5wpl_NV-t--y"
      },
      "outputs": [],
      "source": [
        "#Para poder evaluar la elipse en funcion de x, creamos dos funciones\n",
        "def elipse_pos(A, B, C, D, E, x):\n",
        "  a = A\n",
        "  b = B*x + D\n",
        "  c = C*x + E - x**2\n",
        "\n",
        "  num = -b + np.sqrt(b**2 - 4*a*c)\n",
        "  den = 2*a\n",
        " \n",
        "  return num/den\n",
        "\n",
        "def elipse_neg(A, B, C, D, E, x):\n",
        "  a = A\n",
        "  b = B*x + D\n",
        "  c = C*x + E - x**2\n",
        "\n",
        "  num = -b - np.sqrt(b**2 - 4*a*c)\n",
        "  den = 2*a\n",
        " \n",
        "  return num/den"
      ]
    },
    {
      "cell_type": "code",
      "execution_count": null,
      "metadata": {
        "id": "ktrQWBGLzJ16"
      },
      "outputs": [],
      "source": [
        "def elipse(X, y):\n",
        "  #Transformamos en arrays\n",
        "  X = np.array(X)\n",
        "  y_vec = np.array(y).reshape(len(y), 1)\n",
        "  n = len(X)\n",
        "  #Matriz de Vandermonde\n",
        "  A = np.zeros((n, 5))\n",
        "\n",
        "\n",
        "  #Llenamos la matriz\n",
        "  for i in range(n):\n",
        "    for j in range(5):\n",
        "      if j == 0:\n",
        "        A[i, j] = y[i]**2\n",
        "      elif j == 1:\n",
        "        A[i, j] = X[i]*y[i]\n",
        "      elif j == 2:\n",
        "        A[i, j] = X[i]\n",
        "      elif j == 3:\n",
        "        A[i, j] = y[i]\n",
        "      elif j == 4:\n",
        "        A[i, j] = 1\n",
        "        \n",
        "\n",
        "  At = np.transpose(A)\n",
        "\n",
        "  #B = A^t *A, z = A^t*y\n",
        "  B = np.matmul(At, A)\n",
        "  z = np.matmul(At, np.array(X).reshape(len(X), 1)**2)\n",
        "\n",
        "  #Descomponemos A^t*A con Cholesky\n",
        "  L = np.linalg.cholesky(B)\n",
        "\n",
        "  #Resolvemos L*x_0 = A^t*y\n",
        "  x_0 = np.linalg.solve(L, z)\n",
        "\n",
        "  #Ahora resolvemos L^t*a = x_0\n",
        "  a = np.linalg.solve(np.transpose(L), x_0)\n",
        "\n",
        "  #Imprimimos el polinomio de segundo grado redondeando a 3 decimales\n",
        "  x_sym = sym.Symbol('x')\n",
        "  y_sym = sym.Symbol('y')\n",
        "  \n",
        "  #Imprimimos el polinomio\n",
        "  pol = float(a[0])*y_sym**2  + float(a[1])*x_sym*y_sym + float(a[2])*x_sym + float(a[3])*y_sym + float(a[4])\n",
        "\n",
        "  A, B, C, D, E = a[0][0], a[1][0], a[2][0], a[3][0], a[4][0]\n",
        " \n",
        "  latexpol =f'${latex(pol)} = x^{2}$'\n",
        "  print(\"***Elipse\\n\")\n",
        "  display(Latex(latexpol))\n",
        "\n",
        "  # Graficamos \n",
        "  linspace = np.linspace(min(X)-0.3, max(X) + 0.3, 100)\n",
        "  x_graf = []\n",
        "  y_graf = []\n",
        "  for i in linspace:\n",
        "    x_graf.append(i)\n",
        "    x_graf.append(i)\n",
        "    y_graf.append(elipse_pos(A, B, C, D, E, i))\n",
        "    y_graf.append(elipse_neg(A, B, C, D, E, i))\n",
        "\n",
        "  fig = go.Figure()\n",
        "\n",
        "  fig.add_trace(\n",
        "      go.Scatter(x = x_graf, y = y_graf, mode = 'markers',\n",
        "                 marker=dict(color=\"LightSeaGreen\"), name = 'P(x)')\n",
        "      )\n",
        "\n",
        "  fig.add_trace(\n",
        "      go.Scatter(x = X, y = y, mode = 'markers',\n",
        "                 marker=dict(size=10, color=\"MediumPurple\"), name = 'Puntos dados')\n",
        "      )\n",
        "  fig.update_layout(title_text=\"Ajuste de minimos cuadrados para una elipse\",\n",
        "                   title_font_size=30, width=1400, height=700)\n",
        "  fig.show(renderer = 'svg') \n"
      ]
    },
    {
      "cell_type": "code",
      "execution_count": null,
      "metadata": {
        "colab": {
          "base_uri": "https://localhost:8080/",
          "height": 737
        },
        "id": "FKphSUn2zQoN",
        "outputId": "d4bf5597-2f10-4b12-f6a5-900c21779df4"
      },
      "outputs": [
        {
          "name": "stdout",
          "output_type": "stream",
          "text": [
            "***Elipse\n",
            "\n"
          ]
        },
        {
          "data": {
            "text/latex": [
              "$0.721930038560937 x y - 4.29268241402626 x - 1.53388007423459 y^{2} + 2.9699192037462 y + 12.4660670499398 = x^2$"
            ],
            "text/plain": [
              "<IPython.core.display.Latex object>"
            ]
          },
          "metadata": {},
          "output_type": "display_data"
        },
        {
          "name": "stderr",
          "output_type": "stream",
          "text": [
            "/usr/local/lib/python3.7/dist-packages/ipykernel_launcher.py:6: RuntimeWarning:\n",
            "\n",
            "invalid value encountered in sqrt\n",
            "\n",
            "/usr/local/lib/python3.7/dist-packages/ipykernel_launcher.py:16: RuntimeWarning:\n",
            "\n",
            "invalid value encountered in sqrt\n",
            "\n"
          ]
        },
        {
          "data": {
            "text/html": [
              "<html>\n",
              "<head><meta charset=\"utf-8\" /></head>\n",
              "<body>\n",
              "    <div>            <script src=\"https://cdnjs.cloudflare.com/ajax/libs/mathjax/2.7.5/MathJax.js?config=TeX-AMS-MML_SVG\"></script><script type=\"text/javascript\">if (window.MathJax) {MathJax.Hub.Config({SVG: {font: \"STIX-Web\"}});}</script>                <script type=\"text/javascript\">window.PlotlyConfig = {MathJaxConfig: 'local'};</script>\n",
              "        <script src=\"https://cdn.plot.ly/plotly-2.8.3.min.js\"></script>                <div id=\"f50f2c5e-dcdd-4540-8888-f75be5f8ca62\" class=\"plotly-graph-div\" style=\"height:525px; width:100%;\"></div>            <script type=\"text/javascript\">                                    window.PLOTLYENV=window.PLOTLYENV || {};                                    if (document.getElementById(\"f50f2c5e-dcdd-4540-8888-f75be5f8ca62\")) {                    Plotly.newPlot(                        \"f50f2c5e-dcdd-4540-8888-f75be5f8ca62\",                        [{\"marker\":{\"color\":\"LightSeaGreen\"},\"mode\":\"markers\",\"name\":\"P(x)\",\"x\":[-6.6,-6.6,-6.507070707070707,-6.507070707070707,-6.4141414141414135,-6.4141414141414135,-6.321212121212121,-6.321212121212121,-6.228282828282828,-6.228282828282828,-6.135353535353535,-6.135353535353535,-6.042424242424242,-6.042424242424242,-5.949494949494949,-5.949494949494949,-5.856565656565657,-5.856565656565657,-5.763636363636364,-5.763636363636364,-5.670707070707071,-5.670707070707071,-5.5777777777777775,-5.5777777777777775,-5.484848484848484,-5.484848484848484,-5.391919191919191,-5.391919191919191,-5.298989898989898,-5.298989898989898,-5.206060606060606,-5.206060606060606,-5.113131313131313,-5.113131313131313,-5.02020202020202,-5.02020202020202,-4.927272727272728,-4.927272727272728,-4.834343434343435,-4.834343434343435,-4.7414141414141415,-4.7414141414141415,-4.648484848484848,-4.648484848484848,-4.555555555555555,-4.555555555555555,-4.462626262626262,-4.462626262626262,-4.369696969696969,-4.369696969696969,-4.276767676767676,-4.276767676767676,-4.183838383838384,-4.183838383838384,-4.090909090909091,-4.090909090909091,-3.9979797979797977,-3.9979797979797977,-3.905050505050505,-3.905050505050505,-3.812121212121212,-3.812121212121212,-3.7191919191919194,-3.7191919191919194,-3.6262626262626263,-3.6262626262626263,-3.533333333333333,-3.533333333333333,-3.4404040404040406,-3.4404040404040406,-3.3474747474747475,-3.3474747474747475,-3.254545454545455,-3.254545454545455,-3.1616161616161618,-3.1616161616161618,-3.0686868686868687,-3.0686868686868687,-2.975757575757576,-2.975757575757576,-2.882828282828283,-2.882828282828283,-2.78989898989899,-2.78989898989899,-2.6969696969696972,-2.6969696969696972,-2.604040404040404,-2.604040404040404,-2.511111111111111,-2.511111111111111,-2.418181818181818,-2.418181818181818,-2.325252525252526,-2.325252525252526,-2.2323232323232327,-2.2323232323232327,-2.1393939393939396,-2.1393939393939396,-2.0464646464646465,-2.0464646464646465,-1.9535353535353535,-1.9535353535353535,-1.8606060606060613,-1.8606060606060613,-1.7676767676767682,-1.7676767676767682,-1.674747474747475,-1.674747474747475,-1.581818181818182,-1.581818181818182,-1.488888888888889,-1.488888888888889,-1.3959595959595958,-1.3959595959595958,-1.3030303030303036,-1.3030303030303036,-1.2101010101010106,-1.2101010101010106,-1.1171717171717175,-1.1171717171717175,-1.0242424242424244,-1.0242424242424244,-0.9313131313131313,-0.9313131313131313,-0.8383838383838391,-0.8383838383838391,-0.745454545454546,-0.745454545454546,-0.652525252525253,-0.652525252525253,-0.5595959595959599,-0.5595959595959599,-0.4666666666666668,-0.4666666666666668,-0.3737373737373746,-0.3737373737373746,-0.2808080808080815,-0.2808080808080815,-0.18787878787878842,-0.18787878787878842,-0.09494949494949534,-0.09494949494949534,-0.0020202020202022553,-0.0020202020202022553,0.09090909090908994,0.09090909090908994,0.18383838383838302,0.18383838383838302,0.2767676767676761,0.2767676767676761,0.3696969696969692,0.3696969696969692,0.4626262626262623,0.4626262626262623,0.5555555555555554,0.5555555555555554,0.6484848484848476,0.6484848484848476,0.7414141414141406,0.7414141414141406,0.8343434343434337,0.8343434343434337,0.9272727272727268,0.9272727272727268,1.0202020202020199,1.0202020202020199,1.113131313131312,1.113131313131312,1.2060606060606052,1.2060606060606052,1.2989898989898983,1.2989898989898983,1.3919191919191913,1.3919191919191913,1.4848484848484844,1.4848484848484844,1.5777777777777775,1.5777777777777775,1.6707070707070706,1.6707070707070706,1.7636363636363637,1.7636363636363637,1.856565656565655,1.856565656565655,1.949494949494948,1.949494949494948,2.042424242424241,2.042424242424241,2.1353535353535342,2.1353535353535342,2.2282828282828273,2.2282828282828273,2.3212121212121204,2.3212121212121204,2.4141414141414135,2.4141414141414135,2.5070707070707066,2.5070707070707066,2.5999999999999996,2.5999999999999996],\"y\":[null,null,null,null,null,null,-0.7125399911132122,-0.3263637233558138,-1.2154103597746,0.22024438540325578,-1.4671603332762952,0.5157320990026327,-1.6539916612486814,0.746301167072701,-1.80581537219631,0.9418626181180115,-1.9346441930271756,1.1144291790465581,-2.0467581522913125,1.2702808784083768,-2.1459366276164555,1.4131970938312017,-2.2346664435731753,1.5456646498856035,-2.314688685016624,1.6694246314267343,-2.387279396403493,1.7857530829112849,-2.453407257550475,1.8956186841559488,-2.5138283889368505,1.9997775556400055,-2.5691464789508482,2.098833385751685,-2.619852594887753,2.1932772417862716,-2.666352494763052,2.283514881759252,-2.708985930857259,2.3698860579511405,-2.748040643718,2.4526785109095632,-2.783762731306233,2.532138338595478,-2.816364479894183,2.60847782728111,-2.8460303777369274,2.681881465221537,-2.8729218020039435,2.7525106295862347,-2.897180720050284,2.820507287730257,-2.918932646901739,2.8859969546793938,-2.9382890335145873,2.9490910813899234,-2.9553492137985393,3.0098890017715574,-2.97020200559829,3.0684795336689894,-2.982927037365971,3.1249423055343524,-2.9935958552224062,3.179348863488468,-3.002272852571222,3.2317636009349666,-3.0090160550929466,3.282244543554373,-3.0138777869108,3.3308440154699084,-3.016905238361964,3.377609207018754,-3.0181409516868314,3.422582660441303,-3.017623237748852,3.4658026866010054,-3.015386534390754,3.507303723340589,-3.011461715052345,3.547116644099862,-3.005876354697074,3.585269023842273,-2.9986549588271405,3.6217853680700207,-2.9898191603404247,3.6566873096809864,-2.9793878881442266,3.6899937775824703,-2.9673775107500147,3.7217211402859403,-2.9538019574986443,3.7518833271322514,-2.9386728195822687,3.7804919293135573,-2.92199943261779,3.8075562824467606,-2.9037889421716545,3.833083532098307,-2.8840463533243224,3.8570786833486563,-2.8627745650842797,3.8795446352062957,-2.8399743902070753,3.9004822004267727,-2.8156445607367218,3.9198901110541007,-2.7897817193578502,3.9377650097729107,-2.7623803964206175,3.95410142693336,-2.7334329722699695,3.968891742880394,-2.7029296242698067,3.982126134977913,-2.6708582576536397,3.9937925084594275,-2.6372044190484623,4.003876409951932,-2.6019511911985296,4.01236092219968,-2.565079067049542,4.0192265381483745,-2.5265658009281164,4.024451012124632,-2.4863862340499794,4.0280091853441755,-2.4445120909925246,4.029872782384403,-2.4009117430473292,4.030010174536889,-2.355549933492555,4.028386105079797,-2.308387458751076,4.024961370435999,-2.2593807980713976,4.019692449854002,-2.2084816827112586,4.0125310745915455,-2.155636593519959,4.003423725497927,-2.100786173173172,3.9923110452488224,-2.0438645359346905,3.979127148108023,-1.9847984534584593,3.9637988057294726,-1.9235063894625108,3.9462444818312057,-1.8598973486288428,3.9263731810952205,-1.7938694951354601,3.9040830676995193,-1.7253084828378766,3.879259795499617,-1.6540854208692535,3.8517744736286765,-1.5800543732158179,3.8214811660729224,-1.503049255466967,3.788213788421753,-1.4228799415400428,3.7517822145925104,-1.3393273200356186,3.711967333185768,-1.2521369315913398,3.668514684839171,-1.1610106546889716,3.621126148034484,-1.0655956530046669,3.569448886447861,-0.9654693914049842,3.5130603649458605,-0.860118858591995,3.451447572230553,-0.7489109902193198,3.3839774439555597,-0.6310492437878639,3.3098534376217854,-0.505507440639913,3.228049374571517,-0.37092433324441154,3.137204007273697,-0.2254258843680215,3.0354432984949877,-0.06630330735961736,2.920058461584265,0.11062922365846609,2.786863670663864,0.3125036614604828,2.6287269729595293,0.5535572125705062,2.4314111619471874,0.8727601383333058,2.15594597628207,null,null,null,null,null,null],\"type\":\"scatter\"},{\"marker\":{\"color\":\"MediumPurple\",\"size\":10},\"mode\":\"markers\",\"name\":\"Puntos dados\",\"x\":[-5.5,-5.9,-6.2,-6.3,-5.7,-2.8,0.5,2.3,0.4,-5.6,-4.0],\"y\":[1.6,1,0.3,-1,-2.1,-3,-1.7,0.8,3.9,1.6,3],\"type\":\"scatter\"}],                        {\"template\":{\"data\":{\"bar\":[{\"error_x\":{\"color\":\"#2a3f5f\"},\"error_y\":{\"color\":\"#2a3f5f\"},\"marker\":{\"line\":{\"color\":\"#E5ECF6\",\"width\":0.5},\"pattern\":{\"fillmode\":\"overlay\",\"size\":10,\"solidity\":0.2}},\"type\":\"bar\"}],\"barpolar\":[{\"marker\":{\"line\":{\"color\":\"#E5ECF6\",\"width\":0.5},\"pattern\":{\"fillmode\":\"overlay\",\"size\":10,\"solidity\":0.2}},\"type\":\"barpolar\"}],\"carpet\":[{\"aaxis\":{\"endlinecolor\":\"#2a3f5f\",\"gridcolor\":\"white\",\"linecolor\":\"white\",\"minorgridcolor\":\"white\",\"startlinecolor\":\"#2a3f5f\"},\"baxis\":{\"endlinecolor\":\"#2a3f5f\",\"gridcolor\":\"white\",\"linecolor\":\"white\",\"minorgridcolor\":\"white\",\"startlinecolor\":\"#2a3f5f\"},\"type\":\"carpet\"}],\"choropleth\":[{\"colorbar\":{\"outlinewidth\":0,\"ticks\":\"\"},\"type\":\"choropleth\"}],\"contour\":[{\"colorbar\":{\"outlinewidth\":0,\"ticks\":\"\"},\"colorscale\":[[0.0,\"#0d0887\"],[0.1111111111111111,\"#46039f\"],[0.2222222222222222,\"#7201a8\"],[0.3333333333333333,\"#9c179e\"],[0.4444444444444444,\"#bd3786\"],[0.5555555555555556,\"#d8576b\"],[0.6666666666666666,\"#ed7953\"],[0.7777777777777778,\"#fb9f3a\"],[0.8888888888888888,\"#fdca26\"],[1.0,\"#f0f921\"]],\"type\":\"contour\"}],\"contourcarpet\":[{\"colorbar\":{\"outlinewidth\":0,\"ticks\":\"\"},\"type\":\"contourcarpet\"}],\"heatmap\":[{\"colorbar\":{\"outlinewidth\":0,\"ticks\":\"\"},\"colorscale\":[[0.0,\"#0d0887\"],[0.1111111111111111,\"#46039f\"],[0.2222222222222222,\"#7201a8\"],[0.3333333333333333,\"#9c179e\"],[0.4444444444444444,\"#bd3786\"],[0.5555555555555556,\"#d8576b\"],[0.6666666666666666,\"#ed7953\"],[0.7777777777777778,\"#fb9f3a\"],[0.8888888888888888,\"#fdca26\"],[1.0,\"#f0f921\"]],\"type\":\"heatmap\"}],\"heatmapgl\":[{\"colorbar\":{\"outlinewidth\":0,\"ticks\":\"\"},\"colorscale\":[[0.0,\"#0d0887\"],[0.1111111111111111,\"#46039f\"],[0.2222222222222222,\"#7201a8\"],[0.3333333333333333,\"#9c179e\"],[0.4444444444444444,\"#bd3786\"],[0.5555555555555556,\"#d8576b\"],[0.6666666666666666,\"#ed7953\"],[0.7777777777777778,\"#fb9f3a\"],[0.8888888888888888,\"#fdca26\"],[1.0,\"#f0f921\"]],\"type\":\"heatmapgl\"}],\"histogram\":[{\"marker\":{\"pattern\":{\"fillmode\":\"overlay\",\"size\":10,\"solidity\":0.2}},\"type\":\"histogram\"}],\"histogram2d\":[{\"colorbar\":{\"outlinewidth\":0,\"ticks\":\"\"},\"colorscale\":[[0.0,\"#0d0887\"],[0.1111111111111111,\"#46039f\"],[0.2222222222222222,\"#7201a8\"],[0.3333333333333333,\"#9c179e\"],[0.4444444444444444,\"#bd3786\"],[0.5555555555555556,\"#d8576b\"],[0.6666666666666666,\"#ed7953\"],[0.7777777777777778,\"#fb9f3a\"],[0.8888888888888888,\"#fdca26\"],[1.0,\"#f0f921\"]],\"type\":\"histogram2d\"}],\"histogram2dcontour\":[{\"colorbar\":{\"outlinewidth\":0,\"ticks\":\"\"},\"colorscale\":[[0.0,\"#0d0887\"],[0.1111111111111111,\"#46039f\"],[0.2222222222222222,\"#7201a8\"],[0.3333333333333333,\"#9c179e\"],[0.4444444444444444,\"#bd3786\"],[0.5555555555555556,\"#d8576b\"],[0.6666666666666666,\"#ed7953\"],[0.7777777777777778,\"#fb9f3a\"],[0.8888888888888888,\"#fdca26\"],[1.0,\"#f0f921\"]],\"type\":\"histogram2dcontour\"}],\"mesh3d\":[{\"colorbar\":{\"outlinewidth\":0,\"ticks\":\"\"},\"type\":\"mesh3d\"}],\"parcoords\":[{\"line\":{\"colorbar\":{\"outlinewidth\":0,\"ticks\":\"\"}},\"type\":\"parcoords\"}],\"pie\":[{\"automargin\":true,\"type\":\"pie\"}],\"scatter\":[{\"marker\":{\"colorbar\":{\"outlinewidth\":0,\"ticks\":\"\"}},\"type\":\"scatter\"}],\"scatter3d\":[{\"line\":{\"colorbar\":{\"outlinewidth\":0,\"ticks\":\"\"}},\"marker\":{\"colorbar\":{\"outlinewidth\":0,\"ticks\":\"\"}},\"type\":\"scatter3d\"}],\"scattercarpet\":[{\"marker\":{\"colorbar\":{\"outlinewidth\":0,\"ticks\":\"\"}},\"type\":\"scattercarpet\"}],\"scattergeo\":[{\"marker\":{\"colorbar\":{\"outlinewidth\":0,\"ticks\":\"\"}},\"type\":\"scattergeo\"}],\"scattergl\":[{\"marker\":{\"colorbar\":{\"outlinewidth\":0,\"ticks\":\"\"}},\"type\":\"scattergl\"}],\"scattermapbox\":[{\"marker\":{\"colorbar\":{\"outlinewidth\":0,\"ticks\":\"\"}},\"type\":\"scattermapbox\"}],\"scatterpolar\":[{\"marker\":{\"colorbar\":{\"outlinewidth\":0,\"ticks\":\"\"}},\"type\":\"scatterpolar\"}],\"scatterpolargl\":[{\"marker\":{\"colorbar\":{\"outlinewidth\":0,\"ticks\":\"\"}},\"type\":\"scatterpolargl\"}],\"scatterternary\":[{\"marker\":{\"colorbar\":{\"outlinewidth\":0,\"ticks\":\"\"}},\"type\":\"scatterternary\"}],\"surface\":[{\"colorbar\":{\"outlinewidth\":0,\"ticks\":\"\"},\"colorscale\":[[0.0,\"#0d0887\"],[0.1111111111111111,\"#46039f\"],[0.2222222222222222,\"#7201a8\"],[0.3333333333333333,\"#9c179e\"],[0.4444444444444444,\"#bd3786\"],[0.5555555555555556,\"#d8576b\"],[0.6666666666666666,\"#ed7953\"],[0.7777777777777778,\"#fb9f3a\"],[0.8888888888888888,\"#fdca26\"],[1.0,\"#f0f921\"]],\"type\":\"surface\"}],\"table\":[{\"cells\":{\"fill\":{\"color\":\"#EBF0F8\"},\"line\":{\"color\":\"white\"}},\"header\":{\"fill\":{\"color\":\"#C8D4E3\"},\"line\":{\"color\":\"white\"}},\"type\":\"table\"}]},\"layout\":{\"annotationdefaults\":{\"arrowcolor\":\"#2a3f5f\",\"arrowhead\":0,\"arrowwidth\":1},\"autotypenumbers\":\"strict\",\"coloraxis\":{\"colorbar\":{\"outlinewidth\":0,\"ticks\":\"\"}},\"colorscale\":{\"diverging\":[[0,\"#8e0152\"],[0.1,\"#c51b7d\"],[0.2,\"#de77ae\"],[0.3,\"#f1b6da\"],[0.4,\"#fde0ef\"],[0.5,\"#f7f7f7\"],[0.6,\"#e6f5d0\"],[0.7,\"#b8e186\"],[0.8,\"#7fbc41\"],[0.9,\"#4d9221\"],[1,\"#276419\"]],\"sequential\":[[0.0,\"#0d0887\"],[0.1111111111111111,\"#46039f\"],[0.2222222222222222,\"#7201a8\"],[0.3333333333333333,\"#9c179e\"],[0.4444444444444444,\"#bd3786\"],[0.5555555555555556,\"#d8576b\"],[0.6666666666666666,\"#ed7953\"],[0.7777777777777778,\"#fb9f3a\"],[0.8888888888888888,\"#fdca26\"],[1.0,\"#f0f921\"]],\"sequentialminus\":[[0.0,\"#0d0887\"],[0.1111111111111111,\"#46039f\"],[0.2222222222222222,\"#7201a8\"],[0.3333333333333333,\"#9c179e\"],[0.4444444444444444,\"#bd3786\"],[0.5555555555555556,\"#d8576b\"],[0.6666666666666666,\"#ed7953\"],[0.7777777777777778,\"#fb9f3a\"],[0.8888888888888888,\"#fdca26\"],[1.0,\"#f0f921\"]]},\"colorway\":[\"#636efa\",\"#EF553B\",\"#00cc96\",\"#ab63fa\",\"#FFA15A\",\"#19d3f3\",\"#FF6692\",\"#B6E880\",\"#FF97FF\",\"#FECB52\"],\"font\":{\"color\":\"#2a3f5f\"},\"geo\":{\"bgcolor\":\"white\",\"lakecolor\":\"white\",\"landcolor\":\"#E5ECF6\",\"showlakes\":true,\"showland\":true,\"subunitcolor\":\"white\"},\"hoverlabel\":{\"align\":\"left\"},\"hovermode\":\"closest\",\"mapbox\":{\"style\":\"light\"},\"paper_bgcolor\":\"white\",\"plot_bgcolor\":\"#E5ECF6\",\"polar\":{\"angularaxis\":{\"gridcolor\":\"white\",\"linecolor\":\"white\",\"ticks\":\"\"},\"bgcolor\":\"#E5ECF6\",\"radialaxis\":{\"gridcolor\":\"white\",\"linecolor\":\"white\",\"ticks\":\"\"}},\"scene\":{\"xaxis\":{\"backgroundcolor\":\"#E5ECF6\",\"gridcolor\":\"white\",\"gridwidth\":2,\"linecolor\":\"white\",\"showbackground\":true,\"ticks\":\"\",\"zerolinecolor\":\"white\"},\"yaxis\":{\"backgroundcolor\":\"#E5ECF6\",\"gridcolor\":\"white\",\"gridwidth\":2,\"linecolor\":\"white\",\"showbackground\":true,\"ticks\":\"\",\"zerolinecolor\":\"white\"},\"zaxis\":{\"backgroundcolor\":\"#E5ECF6\",\"gridcolor\":\"white\",\"gridwidth\":2,\"linecolor\":\"white\",\"showbackground\":true,\"ticks\":\"\",\"zerolinecolor\":\"white\"}},\"shapedefaults\":{\"line\":{\"color\":\"#2a3f5f\"}},\"ternary\":{\"aaxis\":{\"gridcolor\":\"white\",\"linecolor\":\"white\",\"ticks\":\"\"},\"baxis\":{\"gridcolor\":\"white\",\"linecolor\":\"white\",\"ticks\":\"\"},\"bgcolor\":\"#E5ECF6\",\"caxis\":{\"gridcolor\":\"white\",\"linecolor\":\"white\",\"ticks\":\"\"}},\"title\":{\"x\":0.05},\"xaxis\":{\"automargin\":true,\"gridcolor\":\"white\",\"linecolor\":\"white\",\"ticks\":\"\",\"title\":{\"standoff\":15},\"zerolinecolor\":\"white\",\"zerolinewidth\":2},\"yaxis\":{\"automargin\":true,\"gridcolor\":\"white\",\"linecolor\":\"white\",\"ticks\":\"\",\"title\":{\"standoff\":15},\"zerolinecolor\":\"white\",\"zerolinewidth\":2}}},\"title\":{\"font\":{\"size\":30},\"text\":\"Ajuste de minimos cuadrados para una elipse\"}},                        {\"responsive\": true}                    ).then(function(){\n",
              "                            \n",
              "var gd = document.getElementById('f50f2c5e-dcdd-4540-8888-f75be5f8ca62');\n",
              "var x = new MutationObserver(function (mutations, observer) {{\n",
              "        var display = window.getComputedStyle(gd).display;\n",
              "        if (!display || display === 'none') {{\n",
              "            console.log([gd, 'removed!']);\n",
              "            Plotly.purge(gd);\n",
              "            observer.disconnect();\n",
              "        }}\n",
              "}});\n",
              "\n",
              "// Listen for the removal of the full notebook cells\n",
              "var notebookContainer = gd.closest('#notebook-container');\n",
              "if (notebookContainer) {{\n",
              "    x.observe(notebookContainer, {childList: true});\n",
              "}}\n",
              "\n",
              "// Listen for the clearing of the current output cell\n",
              "var outputEl = gd.closest('.output');\n",
              "if (outputEl) {{\n",
              "    x.observe(outputEl, {childList: true});\n",
              "}}\n",
              "\n",
              "                        })                };                            </script>        </div>\n",
              "</body>\n",
              "</html>"
            ]
          },
          "metadata": {},
          "output_type": "display_data"
        }
      ],
      "source": [
        "X = [-5.5, -5.9, -6.2, -6.3, -5.7, -2.8, 0.5, 2.3, 0.4, -5.6, -4]\n",
        "y = [1.6, 1, 0.3, -1, -2.1, -3, -1.7, 0.8, 3.9, 1.6, 3]\n",
        "\n",
        "elipse(X, y)"
      ]
    },
    {
      "cell_type": "markdown",
      "metadata": {
        "id": "CF_8Ei4Xwgh5"
      },
      "source": [
        "## Ejercicio 3\n",
        "Escribe una rutina que, para $n = 0,1,2,3,4,5$, usando el método de ecuaciones normales encuentre un polinomio de grado $n$ que ajuste los datos mostrados en la siguiente tabla:\n",
        "\n",
        "$$t = 0.0 \\quad 1.0 \\quad 2.0 \\quad 3.0 \\quad 4.0 \\quad 5.0 $$\n",
        "$$y = 1.0 \\quad 2.7 \\quad 5.8 \\quad 6.6 \\quad 7.5 \\quad 9.9 $$\n",
        "\n",
        "Para cada polinomio el programa debe mostrar la gráfica de dicho polinomio junto con los puntos mostrados en la tabla anterior.\n"
      ]
    },
    {
      "cell_type": "code",
      "execution_count": null,
      "metadata": {
        "id": "b9UxMYliyrcq"
      },
      "outputs": [],
      "source": [
        "def ec_norma_grad(X, y, grad):\n",
        "  #Transformamos en arrays\n",
        "  X = np.array(X)\n",
        "  y_vec = np.array(y).reshape(len(y), 1)\n",
        "  n = len(X)\n",
        "  #Matriz de Vandermonde\n",
        "  A = np.zeros((n, grad + 1))\n",
        "\n",
        "  #Llenamos la matriz\n",
        "  for i in range(n):\n",
        "    for j in range(grad + 1):\n",
        "      A[i, j] = X[i]**j\n",
        "\n",
        "  At = np.transpose(A)\n",
        "\n",
        "  #B = A^t *A, z = A^t*y\n",
        "  B = np.matmul(At, A)\n",
        "  z = np.matmul(At, y_vec)\n",
        "\n",
        "  #Descomponemos A^t*A con Cholesky\n",
        "  L = np.linalg.cholesky(B)\n",
        "  \n",
        "  #Resolvemos L*x_0 = A^t*y\n",
        "  x_0 = np.linalg.solve(L, z)\n",
        "\n",
        "  #Ahora resolvemos L^t*a = x_0\n",
        "  a = np.linalg.solve(np.transpose(L), x_0)\n",
        "  \n",
        "  #Imprimimos el polinomio y creamos los arreglos para graficar\n",
        "  x = sym.Symbol('x')\n",
        "  x_graf = np.linspace(min(X)-1, max(X)+1, 100)\n",
        "  pol = 0\n",
        "  \n",
        "  #Diferenciamos el caso cuando el grado es cero y cuando no lo es\n",
        "  if grad == 0:\n",
        "    pol = a[0]\n",
        "    y_graf = [float(a[0]) for xi in x_graf]\n",
        "\n",
        "  else:\n",
        "    for i in range(grad + 1):\n",
        "      pol += float(a[i])*x**i\n",
        "    y_graf = [float(pol.subs(x, xi)) for xi in x_graf]\n",
        "\n",
        "  latexpol =f'$P(x) = {latex(pol)}$'\n",
        "  print(\"***Polinomio\\n\")\n",
        "  display(Latex(latexpol))\n",
        "\n",
        "  # Graficamos \n",
        "  fig = go.Figure()\n",
        "\n",
        "  fig.add_trace(\n",
        "      go.Scatter(x = x_graf, y = y_graf, mode = 'lines',\n",
        "                 marker=dict(color=\"LightSeaGreen\"), name = 'P(x)')\n",
        "      )\n",
        "\n",
        "  fig.add_trace(\n",
        "      go.Scatter(x = X, y = y, mode = 'markers',\n",
        "                 marker=dict(size=10, color=\"MediumPurple\"), name = 'Puntos dados')\n",
        "      )\n",
        "  fig.update_layout(title_text=\"Ajuste de minimos cuadrados\",\n",
        "                  title_font_size=30, width=1400, height=700)\n",
        "  fig.show(renderer = 'svg') "
      ]
    },
    {
      "cell_type": "code",
      "execution_count": null,
      "metadata": {
        "colab": {
          "base_uri": "https://localhost:8080/",
          "height": 1000
        },
        "id": "-66wJCAzzVvF",
        "outputId": "137666f0-5c79-4b11-ab3d-9751c12ec8dc"
      },
      "outputs": [
        {
          "name": "stdout",
          "output_type": "stream",
          "text": [
            "***Polinomio\n",
            "\n"
          ]
        },
        {
          "data": {
            "text/latex": [
              "$P(x) = \\mathtt{\\text{[5.58333333]}}$"
            ],
            "text/plain": [
              "<IPython.core.display.Latex object>"
            ]
          },
          "metadata": {},
          "output_type": "display_data"
        },
        {
          "data": {
            "text/html": [
              "<html>\n",
              "<head><meta charset=\"utf-8\" /></head>\n",
              "<body>\n",
              "    <div>            <script src=\"https://cdnjs.cloudflare.com/ajax/libs/mathjax/2.7.5/MathJax.js?config=TeX-AMS-MML_SVG\"></script><script type=\"text/javascript\">if (window.MathJax) {MathJax.Hub.Config({SVG: {font: \"STIX-Web\"}});}</script>                <script type=\"text/javascript\">window.PlotlyConfig = {MathJaxConfig: 'local'};</script>\n",
              "        <script src=\"https://cdn.plot.ly/plotly-2.8.3.min.js\"></script>                <div id=\"edfed859-a1e7-4d3f-a21d-b226e414ec68\" class=\"plotly-graph-div\" style=\"height:525px; width:100%;\"></div>            <script type=\"text/javascript\">                                    window.PLOTLYENV=window.PLOTLYENV || {};                                    if (document.getElementById(\"edfed859-a1e7-4d3f-a21d-b226e414ec68\")) {                    Plotly.newPlot(                        \"edfed859-a1e7-4d3f-a21d-b226e414ec68\",                        [{\"marker\":{\"color\":\"LightSeaGreen\"},\"mode\":\"lines\",\"name\":\"P(x)\",\"x\":[-1.0,-0.9292929292929293,-0.8585858585858586,-0.7878787878787878,-0.7171717171717171,-0.6464646464646464,-0.5757575757575758,-0.5050505050505051,-0.43434343434343436,-0.36363636363636365,-0.29292929292929293,-0.2222222222222222,-0.1515151515151516,-0.08080808080808088,-0.010101010101010166,0.06060606060606055,0.13131313131313127,0.202020202020202,0.2727272727272727,0.3434343434343434,0.41414141414141414,0.48484848484848486,0.5555555555555556,0.6262626262626263,0.6969696969696968,0.7676767676767675,0.8383838383838382,0.909090909090909,0.9797979797979797,1.0505050505050506,1.121212121212121,1.191919191919192,1.2626262626262625,1.333333333333333,1.404040404040404,1.4747474747474745,1.5454545454545454,1.616161616161616,1.6868686868686869,1.7575757575757573,1.8282828282828283,1.8989898989898988,1.9696969696969697,2.04040404040404,2.111111111111111,2.1818181818181817,2.2525252525252526,2.323232323232323,2.3939393939393936,2.4646464646464645,2.535353535353535,2.606060606060606,2.6767676767676765,2.7474747474747474,2.818181818181818,2.888888888888889,2.9595959595959593,3.0303030303030303,3.101010101010101,3.1717171717171713,3.242424242424242,3.313131313131313,3.383838383838384,3.454545454545454,3.525252525252525,3.595959595959596,3.666666666666666,3.737373737373737,3.808080808080808,3.878787878787879,3.949494949494949,4.02020202020202,4.090909090909091,4.161616161616162,4.232323232323232,4.303030303030303,4.373737373737374,4.444444444444445,4.515151515151515,4.585858585858586,4.656565656565657,4.727272727272727,4.797979797979798,4.8686868686868685,4.9393939393939394,5.0101010101010095,5.08080808080808,5.151515151515151,5.222222222222222,5.292929292929292,5.363636363636363,5.434343434343434,5.505050505050505,5.575757575757575,5.646464646464646,5.717171717171717,5.787878787878787,5.858585858585858,5.929292929292929,6.0],\"y\":[5.583333333333335,5.583333333333335,5.583333333333335,5.583333333333335,5.583333333333335,5.583333333333335,5.583333333333335,5.583333333333335,5.583333333333335,5.583333333333335,5.583333333333335,5.583333333333335,5.583333333333335,5.583333333333335,5.583333333333335,5.583333333333335,5.583333333333335,5.583333333333335,5.583333333333335,5.583333333333335,5.583333333333335,5.583333333333335,5.583333333333335,5.583333333333335,5.583333333333335,5.583333333333335,5.583333333333335,5.583333333333335,5.583333333333335,5.583333333333335,5.583333333333335,5.583333333333335,5.583333333333335,5.583333333333335,5.583333333333335,5.583333333333335,5.583333333333335,5.583333333333335,5.583333333333335,5.583333333333335,5.583333333333335,5.583333333333335,5.583333333333335,5.583333333333335,5.583333333333335,5.583333333333335,5.583333333333335,5.583333333333335,5.583333333333335,5.583333333333335,5.583333333333335,5.583333333333335,5.583333333333335,5.583333333333335,5.583333333333335,5.583333333333335,5.583333333333335,5.583333333333335,5.583333333333335,5.583333333333335,5.583333333333335,5.583333333333335,5.583333333333335,5.583333333333335,5.583333333333335,5.583333333333335,5.583333333333335,5.583333333333335,5.583333333333335,5.583333333333335,5.583333333333335,5.583333333333335,5.583333333333335,5.583333333333335,5.583333333333335,5.583333333333335,5.583333333333335,5.583333333333335,5.583333333333335,5.583333333333335,5.583333333333335,5.583333333333335,5.583333333333335,5.583333333333335,5.583333333333335,5.583333333333335,5.583333333333335,5.583333333333335,5.583333333333335,5.583333333333335,5.583333333333335,5.583333333333335,5.583333333333335,5.583333333333335,5.583333333333335,5.583333333333335,5.583333333333335,5.583333333333335,5.583333333333335,5.583333333333335],\"type\":\"scatter\"},{\"marker\":{\"color\":\"MediumPurple\",\"size\":10},\"mode\":\"markers\",\"name\":\"Puntos dados\",\"x\":[0,1,2,3,4,5],\"y\":[1,2.7,5.8,6.6,7.5,9.9],\"type\":\"scatter\"}],                        {\"template\":{\"data\":{\"bar\":[{\"error_x\":{\"color\":\"#2a3f5f\"},\"error_y\":{\"color\":\"#2a3f5f\"},\"marker\":{\"line\":{\"color\":\"#E5ECF6\",\"width\":0.5},\"pattern\":{\"fillmode\":\"overlay\",\"size\":10,\"solidity\":0.2}},\"type\":\"bar\"}],\"barpolar\":[{\"marker\":{\"line\":{\"color\":\"#E5ECF6\",\"width\":0.5},\"pattern\":{\"fillmode\":\"overlay\",\"size\":10,\"solidity\":0.2}},\"type\":\"barpolar\"}],\"carpet\":[{\"aaxis\":{\"endlinecolor\":\"#2a3f5f\",\"gridcolor\":\"white\",\"linecolor\":\"white\",\"minorgridcolor\":\"white\",\"startlinecolor\":\"#2a3f5f\"},\"baxis\":{\"endlinecolor\":\"#2a3f5f\",\"gridcolor\":\"white\",\"linecolor\":\"white\",\"minorgridcolor\":\"white\",\"startlinecolor\":\"#2a3f5f\"},\"type\":\"carpet\"}],\"choropleth\":[{\"colorbar\":{\"outlinewidth\":0,\"ticks\":\"\"},\"type\":\"choropleth\"}],\"contour\":[{\"colorbar\":{\"outlinewidth\":0,\"ticks\":\"\"},\"colorscale\":[[0.0,\"#0d0887\"],[0.1111111111111111,\"#46039f\"],[0.2222222222222222,\"#7201a8\"],[0.3333333333333333,\"#9c179e\"],[0.4444444444444444,\"#bd3786\"],[0.5555555555555556,\"#d8576b\"],[0.6666666666666666,\"#ed7953\"],[0.7777777777777778,\"#fb9f3a\"],[0.8888888888888888,\"#fdca26\"],[1.0,\"#f0f921\"]],\"type\":\"contour\"}],\"contourcarpet\":[{\"colorbar\":{\"outlinewidth\":0,\"ticks\":\"\"},\"type\":\"contourcarpet\"}],\"heatmap\":[{\"colorbar\":{\"outlinewidth\":0,\"ticks\":\"\"},\"colorscale\":[[0.0,\"#0d0887\"],[0.1111111111111111,\"#46039f\"],[0.2222222222222222,\"#7201a8\"],[0.3333333333333333,\"#9c179e\"],[0.4444444444444444,\"#bd3786\"],[0.5555555555555556,\"#d8576b\"],[0.6666666666666666,\"#ed7953\"],[0.7777777777777778,\"#fb9f3a\"],[0.8888888888888888,\"#fdca26\"],[1.0,\"#f0f921\"]],\"type\":\"heatmap\"}],\"heatmapgl\":[{\"colorbar\":{\"outlinewidth\":0,\"ticks\":\"\"},\"colorscale\":[[0.0,\"#0d0887\"],[0.1111111111111111,\"#46039f\"],[0.2222222222222222,\"#7201a8\"],[0.3333333333333333,\"#9c179e\"],[0.4444444444444444,\"#bd3786\"],[0.5555555555555556,\"#d8576b\"],[0.6666666666666666,\"#ed7953\"],[0.7777777777777778,\"#fb9f3a\"],[0.8888888888888888,\"#fdca26\"],[1.0,\"#f0f921\"]],\"type\":\"heatmapgl\"}],\"histogram\":[{\"marker\":{\"pattern\":{\"fillmode\":\"overlay\",\"size\":10,\"solidity\":0.2}},\"type\":\"histogram\"}],\"histogram2d\":[{\"colorbar\":{\"outlinewidth\":0,\"ticks\":\"\"},\"colorscale\":[[0.0,\"#0d0887\"],[0.1111111111111111,\"#46039f\"],[0.2222222222222222,\"#7201a8\"],[0.3333333333333333,\"#9c179e\"],[0.4444444444444444,\"#bd3786\"],[0.5555555555555556,\"#d8576b\"],[0.6666666666666666,\"#ed7953\"],[0.7777777777777778,\"#fb9f3a\"],[0.8888888888888888,\"#fdca26\"],[1.0,\"#f0f921\"]],\"type\":\"histogram2d\"}],\"histogram2dcontour\":[{\"colorbar\":{\"outlinewidth\":0,\"ticks\":\"\"},\"colorscale\":[[0.0,\"#0d0887\"],[0.1111111111111111,\"#46039f\"],[0.2222222222222222,\"#7201a8\"],[0.3333333333333333,\"#9c179e\"],[0.4444444444444444,\"#bd3786\"],[0.5555555555555556,\"#d8576b\"],[0.6666666666666666,\"#ed7953\"],[0.7777777777777778,\"#fb9f3a\"],[0.8888888888888888,\"#fdca26\"],[1.0,\"#f0f921\"]],\"type\":\"histogram2dcontour\"}],\"mesh3d\":[{\"colorbar\":{\"outlinewidth\":0,\"ticks\":\"\"},\"type\":\"mesh3d\"}],\"parcoords\":[{\"line\":{\"colorbar\":{\"outlinewidth\":0,\"ticks\":\"\"}},\"type\":\"parcoords\"}],\"pie\":[{\"automargin\":true,\"type\":\"pie\"}],\"scatter\":[{\"marker\":{\"colorbar\":{\"outlinewidth\":0,\"ticks\":\"\"}},\"type\":\"scatter\"}],\"scatter3d\":[{\"line\":{\"colorbar\":{\"outlinewidth\":0,\"ticks\":\"\"}},\"marker\":{\"colorbar\":{\"outlinewidth\":0,\"ticks\":\"\"}},\"type\":\"scatter3d\"}],\"scattercarpet\":[{\"marker\":{\"colorbar\":{\"outlinewidth\":0,\"ticks\":\"\"}},\"type\":\"scattercarpet\"}],\"scattergeo\":[{\"marker\":{\"colorbar\":{\"outlinewidth\":0,\"ticks\":\"\"}},\"type\":\"scattergeo\"}],\"scattergl\":[{\"marker\":{\"colorbar\":{\"outlinewidth\":0,\"ticks\":\"\"}},\"type\":\"scattergl\"}],\"scattermapbox\":[{\"marker\":{\"colorbar\":{\"outlinewidth\":0,\"ticks\":\"\"}},\"type\":\"scattermapbox\"}],\"scatterpolar\":[{\"marker\":{\"colorbar\":{\"outlinewidth\":0,\"ticks\":\"\"}},\"type\":\"scatterpolar\"}],\"scatterpolargl\":[{\"marker\":{\"colorbar\":{\"outlinewidth\":0,\"ticks\":\"\"}},\"type\":\"scatterpolargl\"}],\"scatterternary\":[{\"marker\":{\"colorbar\":{\"outlinewidth\":0,\"ticks\":\"\"}},\"type\":\"scatterternary\"}],\"surface\":[{\"colorbar\":{\"outlinewidth\":0,\"ticks\":\"\"},\"colorscale\":[[0.0,\"#0d0887\"],[0.1111111111111111,\"#46039f\"],[0.2222222222222222,\"#7201a8\"],[0.3333333333333333,\"#9c179e\"],[0.4444444444444444,\"#bd3786\"],[0.5555555555555556,\"#d8576b\"],[0.6666666666666666,\"#ed7953\"],[0.7777777777777778,\"#fb9f3a\"],[0.8888888888888888,\"#fdca26\"],[1.0,\"#f0f921\"]],\"type\":\"surface\"}],\"table\":[{\"cells\":{\"fill\":{\"color\":\"#EBF0F8\"},\"line\":{\"color\":\"white\"}},\"header\":{\"fill\":{\"color\":\"#C8D4E3\"},\"line\":{\"color\":\"white\"}},\"type\":\"table\"}]},\"layout\":{\"annotationdefaults\":{\"arrowcolor\":\"#2a3f5f\",\"arrowhead\":0,\"arrowwidth\":1},\"autotypenumbers\":\"strict\",\"coloraxis\":{\"colorbar\":{\"outlinewidth\":0,\"ticks\":\"\"}},\"colorscale\":{\"diverging\":[[0,\"#8e0152\"],[0.1,\"#c51b7d\"],[0.2,\"#de77ae\"],[0.3,\"#f1b6da\"],[0.4,\"#fde0ef\"],[0.5,\"#f7f7f7\"],[0.6,\"#e6f5d0\"],[0.7,\"#b8e186\"],[0.8,\"#7fbc41\"],[0.9,\"#4d9221\"],[1,\"#276419\"]],\"sequential\":[[0.0,\"#0d0887\"],[0.1111111111111111,\"#46039f\"],[0.2222222222222222,\"#7201a8\"],[0.3333333333333333,\"#9c179e\"],[0.4444444444444444,\"#bd3786\"],[0.5555555555555556,\"#d8576b\"],[0.6666666666666666,\"#ed7953\"],[0.7777777777777778,\"#fb9f3a\"],[0.8888888888888888,\"#fdca26\"],[1.0,\"#f0f921\"]],\"sequentialminus\":[[0.0,\"#0d0887\"],[0.1111111111111111,\"#46039f\"],[0.2222222222222222,\"#7201a8\"],[0.3333333333333333,\"#9c179e\"],[0.4444444444444444,\"#bd3786\"],[0.5555555555555556,\"#d8576b\"],[0.6666666666666666,\"#ed7953\"],[0.7777777777777778,\"#fb9f3a\"],[0.8888888888888888,\"#fdca26\"],[1.0,\"#f0f921\"]]},\"colorway\":[\"#636efa\",\"#EF553B\",\"#00cc96\",\"#ab63fa\",\"#FFA15A\",\"#19d3f3\",\"#FF6692\",\"#B6E880\",\"#FF97FF\",\"#FECB52\"],\"font\":{\"color\":\"#2a3f5f\"},\"geo\":{\"bgcolor\":\"white\",\"lakecolor\":\"white\",\"landcolor\":\"#E5ECF6\",\"showlakes\":true,\"showland\":true,\"subunitcolor\":\"white\"},\"hoverlabel\":{\"align\":\"left\"},\"hovermode\":\"closest\",\"mapbox\":{\"style\":\"light\"},\"paper_bgcolor\":\"white\",\"plot_bgcolor\":\"#E5ECF6\",\"polar\":{\"angularaxis\":{\"gridcolor\":\"white\",\"linecolor\":\"white\",\"ticks\":\"\"},\"bgcolor\":\"#E5ECF6\",\"radialaxis\":{\"gridcolor\":\"white\",\"linecolor\":\"white\",\"ticks\":\"\"}},\"scene\":{\"xaxis\":{\"backgroundcolor\":\"#E5ECF6\",\"gridcolor\":\"white\",\"gridwidth\":2,\"linecolor\":\"white\",\"showbackground\":true,\"ticks\":\"\",\"zerolinecolor\":\"white\"},\"yaxis\":{\"backgroundcolor\":\"#E5ECF6\",\"gridcolor\":\"white\",\"gridwidth\":2,\"linecolor\":\"white\",\"showbackground\":true,\"ticks\":\"\",\"zerolinecolor\":\"white\"},\"zaxis\":{\"backgroundcolor\":\"#E5ECF6\",\"gridcolor\":\"white\",\"gridwidth\":2,\"linecolor\":\"white\",\"showbackground\":true,\"ticks\":\"\",\"zerolinecolor\":\"white\"}},\"shapedefaults\":{\"line\":{\"color\":\"#2a3f5f\"}},\"ternary\":{\"aaxis\":{\"gridcolor\":\"white\",\"linecolor\":\"white\",\"ticks\":\"\"},\"baxis\":{\"gridcolor\":\"white\",\"linecolor\":\"white\",\"ticks\":\"\"},\"bgcolor\":\"#E5ECF6\",\"caxis\":{\"gridcolor\":\"white\",\"linecolor\":\"white\",\"ticks\":\"\"}},\"title\":{\"x\":0.05},\"xaxis\":{\"automargin\":true,\"gridcolor\":\"white\",\"linecolor\":\"white\",\"ticks\":\"\",\"title\":{\"standoff\":15},\"zerolinecolor\":\"white\",\"zerolinewidth\":2},\"yaxis\":{\"automargin\":true,\"gridcolor\":\"white\",\"linecolor\":\"white\",\"ticks\":\"\",\"title\":{\"standoff\":15},\"zerolinecolor\":\"white\",\"zerolinewidth\":2}}},\"title\":{\"font\":{\"size\":30},\"text\":\"Ajuste de minimos cuadrados\"}},                        {\"responsive\": true}                    ).then(function(){\n",
              "                            \n",
              "var gd = document.getElementById('edfed859-a1e7-4d3f-a21d-b226e414ec68');\n",
              "var x = new MutationObserver(function (mutations, observer) {{\n",
              "        var display = window.getComputedStyle(gd).display;\n",
              "        if (!display || display === 'none') {{\n",
              "            console.log([gd, 'removed!']);\n",
              "            Plotly.purge(gd);\n",
              "            observer.disconnect();\n",
              "        }}\n",
              "}});\n",
              "\n",
              "// Listen for the removal of the full notebook cells\n",
              "var notebookContainer = gd.closest('#notebook-container');\n",
              "if (notebookContainer) {{\n",
              "    x.observe(notebookContainer, {childList: true});\n",
              "}}\n",
              "\n",
              "// Listen for the clearing of the current output cell\n",
              "var outputEl = gd.closest('.output');\n",
              "if (outputEl) {{\n",
              "    x.observe(outputEl, {childList: true});\n",
              "}}\n",
              "\n",
              "                        })                };                            </script>        </div>\n",
              "</body>\n",
              "</html>"
            ]
          },
          "metadata": {},
          "output_type": "display_data"
        },
        {
          "name": "stdout",
          "output_type": "stream",
          "text": [
            "***Polinomio\n",
            "\n"
          ]
        },
        {
          "data": {
            "text/latex": [
              "$P(x) = 1.70571428571429 x + 1.31904761904762$"
            ],
            "text/plain": [
              "<IPython.core.display.Latex object>"
            ]
          },
          "metadata": {},
          "output_type": "display_data"
        },
        {
          "data": {
            "text/html": [
              "<html>\n",
              "<head><meta charset=\"utf-8\" /></head>\n",
              "<body>\n",
              "    <div>            <script src=\"https://cdnjs.cloudflare.com/ajax/libs/mathjax/2.7.5/MathJax.js?config=TeX-AMS-MML_SVG\"></script><script type=\"text/javascript\">if (window.MathJax) {MathJax.Hub.Config({SVG: {font: \"STIX-Web\"}});}</script>                <script type=\"text/javascript\">window.PlotlyConfig = {MathJaxConfig: 'local'};</script>\n",
              "        <script src=\"https://cdn.plot.ly/plotly-2.8.3.min.js\"></script>                <div id=\"cd46f6b5-7834-48d3-8273-278c3e577687\" class=\"plotly-graph-div\" style=\"height:525px; width:100%;\"></div>            <script type=\"text/javascript\">                                    window.PLOTLYENV=window.PLOTLYENV || {};                                    if (document.getElementById(\"cd46f6b5-7834-48d3-8273-278c3e577687\")) {                    Plotly.newPlot(                        \"cd46f6b5-7834-48d3-8273-278c3e577687\",                        [{\"marker\":{\"color\":\"LightSeaGreen\"},\"mode\":\"lines\",\"name\":\"P(x)\",\"x\":[-1.0,-0.9292929292929293,-0.8585858585858586,-0.7878787878787878,-0.7171717171717171,-0.6464646464646464,-0.5757575757575758,-0.5050505050505051,-0.43434343434343436,-0.36363636363636365,-0.29292929292929293,-0.2222222222222222,-0.1515151515151516,-0.08080808080808088,-0.010101010101010166,0.06060606060606055,0.13131313131313127,0.202020202020202,0.2727272727272727,0.3434343434343434,0.41414141414141414,0.48484848484848486,0.5555555555555556,0.6262626262626263,0.6969696969696968,0.7676767676767675,0.8383838383838382,0.909090909090909,0.9797979797979797,1.0505050505050506,1.121212121212121,1.191919191919192,1.2626262626262625,1.333333333333333,1.404040404040404,1.4747474747474745,1.5454545454545454,1.616161616161616,1.6868686868686869,1.7575757575757573,1.8282828282828283,1.8989898989898988,1.9696969696969697,2.04040404040404,2.111111111111111,2.1818181818181817,2.2525252525252526,2.323232323232323,2.3939393939393936,2.4646464646464645,2.535353535353535,2.606060606060606,2.6767676767676765,2.7474747474747474,2.818181818181818,2.888888888888889,2.9595959595959593,3.0303030303030303,3.101010101010101,3.1717171717171713,3.242424242424242,3.313131313131313,3.383838383838384,3.454545454545454,3.525252525252525,3.595959595959596,3.666666666666666,3.737373737373737,3.808080808080808,3.878787878787879,3.949494949494949,4.02020202020202,4.090909090909091,4.161616161616162,4.232323232323232,4.303030303030303,4.373737373737374,4.444444444444445,4.515151515151515,4.585858585858586,4.656565656565657,4.727272727272727,4.797979797979798,4.8686868686868685,4.9393939393939394,5.0101010101010095,5.08080808080808,5.151515151515151,5.222222222222222,5.292929292929292,5.363636363636363,5.434343434343434,5.505050505050505,5.575757575757575,5.646464646464646,5.717171717171717,5.787878787878787,5.858585858585858,5.929292929292929,6.0],\"y\":[-0.38666666666666605,-0.26606060606060544,-0.14545454545454484,-0.02484848484848423,0.09575757575757637,0.21636363636363698,0.3369696969696975,0.4575757575757581,0.5781818181818187,0.6987878787878793,0.8193939393939399,0.9400000000000005,1.060606060606061,1.1812121212121216,1.3018181818181822,1.4224242424242428,1.5430303030303034,1.663636363636364,1.7842424242424246,1.9048484848484852,2.025454545454546,2.1460606060606064,2.266666666666667,2.3872727272727277,2.507878787878788,2.6284848484848484,2.749090909090909,2.8696969696969696,2.9903030303030302,3.1109090909090913,3.2315151515151515,3.3521212121212125,3.4727272727272727,3.593333333333333,3.713939393939394,3.834545454545454,3.955151515151515,4.075757575757575,4.196363636363636,4.3169696969696965,4.4375757575757575,4.558181818181818,4.678787878787879,4.799393939393939,4.92,5.04060606060606,5.161212121212121,5.281818181818181,5.402424242424242,5.523030303030303,5.643636363636364,5.764242424242425,5.884848484848485,6.005454545454546,6.126060606060606,6.246666666666667,6.367272727272727,6.487878787878788,6.608484848484849,6.729090909090909,6.84969696969697,6.970303030303031,7.090909090909092,7.211515151515151,7.332121212121212,7.452727272727273,7.573333333333332,7.693939393939393,7.8145454545454545,7.9351515151515155,8.055757575757575,8.176363636363636,8.296969696969697,8.417575757575758,8.538181818181817,8.658787878787878,8.77939393939394,8.9,9.02060606060606,9.14121212121212,9.261818181818182,9.382424242424241,9.503030303030302,9.623636363636363,9.744242424242424,9.864848484848483,9.985454545454544,10.106060606060606,10.226666666666667,10.347272727272726,10.467878787878787,10.588484848484848,10.709090909090909,10.829696969696968,10.95030303030303,11.07090909090909,11.19151515151515,11.31212121212121,11.432727272727272,11.553333333333333],\"type\":\"scatter\"},{\"marker\":{\"color\":\"MediumPurple\",\"size\":10},\"mode\":\"markers\",\"name\":\"Puntos dados\",\"x\":[0,1,2,3,4,5],\"y\":[1,2.7,5.8,6.6,7.5,9.9],\"type\":\"scatter\"}],                        {\"template\":{\"data\":{\"bar\":[{\"error_x\":{\"color\":\"#2a3f5f\"},\"error_y\":{\"color\":\"#2a3f5f\"},\"marker\":{\"line\":{\"color\":\"#E5ECF6\",\"width\":0.5},\"pattern\":{\"fillmode\":\"overlay\",\"size\":10,\"solidity\":0.2}},\"type\":\"bar\"}],\"barpolar\":[{\"marker\":{\"line\":{\"color\":\"#E5ECF6\",\"width\":0.5},\"pattern\":{\"fillmode\":\"overlay\",\"size\":10,\"solidity\":0.2}},\"type\":\"barpolar\"}],\"carpet\":[{\"aaxis\":{\"endlinecolor\":\"#2a3f5f\",\"gridcolor\":\"white\",\"linecolor\":\"white\",\"minorgridcolor\":\"white\",\"startlinecolor\":\"#2a3f5f\"},\"baxis\":{\"endlinecolor\":\"#2a3f5f\",\"gridcolor\":\"white\",\"linecolor\":\"white\",\"minorgridcolor\":\"white\",\"startlinecolor\":\"#2a3f5f\"},\"type\":\"carpet\"}],\"choropleth\":[{\"colorbar\":{\"outlinewidth\":0,\"ticks\":\"\"},\"type\":\"choropleth\"}],\"contour\":[{\"colorbar\":{\"outlinewidth\":0,\"ticks\":\"\"},\"colorscale\":[[0.0,\"#0d0887\"],[0.1111111111111111,\"#46039f\"],[0.2222222222222222,\"#7201a8\"],[0.3333333333333333,\"#9c179e\"],[0.4444444444444444,\"#bd3786\"],[0.5555555555555556,\"#d8576b\"],[0.6666666666666666,\"#ed7953\"],[0.7777777777777778,\"#fb9f3a\"],[0.8888888888888888,\"#fdca26\"],[1.0,\"#f0f921\"]],\"type\":\"contour\"}],\"contourcarpet\":[{\"colorbar\":{\"outlinewidth\":0,\"ticks\":\"\"},\"type\":\"contourcarpet\"}],\"heatmap\":[{\"colorbar\":{\"outlinewidth\":0,\"ticks\":\"\"},\"colorscale\":[[0.0,\"#0d0887\"],[0.1111111111111111,\"#46039f\"],[0.2222222222222222,\"#7201a8\"],[0.3333333333333333,\"#9c179e\"],[0.4444444444444444,\"#bd3786\"],[0.5555555555555556,\"#d8576b\"],[0.6666666666666666,\"#ed7953\"],[0.7777777777777778,\"#fb9f3a\"],[0.8888888888888888,\"#fdca26\"],[1.0,\"#f0f921\"]],\"type\":\"heatmap\"}],\"heatmapgl\":[{\"colorbar\":{\"outlinewidth\":0,\"ticks\":\"\"},\"colorscale\":[[0.0,\"#0d0887\"],[0.1111111111111111,\"#46039f\"],[0.2222222222222222,\"#7201a8\"],[0.3333333333333333,\"#9c179e\"],[0.4444444444444444,\"#bd3786\"],[0.5555555555555556,\"#d8576b\"],[0.6666666666666666,\"#ed7953\"],[0.7777777777777778,\"#fb9f3a\"],[0.8888888888888888,\"#fdca26\"],[1.0,\"#f0f921\"]],\"type\":\"heatmapgl\"}],\"histogram\":[{\"marker\":{\"pattern\":{\"fillmode\":\"overlay\",\"size\":10,\"solidity\":0.2}},\"type\":\"histogram\"}],\"histogram2d\":[{\"colorbar\":{\"outlinewidth\":0,\"ticks\":\"\"},\"colorscale\":[[0.0,\"#0d0887\"],[0.1111111111111111,\"#46039f\"],[0.2222222222222222,\"#7201a8\"],[0.3333333333333333,\"#9c179e\"],[0.4444444444444444,\"#bd3786\"],[0.5555555555555556,\"#d8576b\"],[0.6666666666666666,\"#ed7953\"],[0.7777777777777778,\"#fb9f3a\"],[0.8888888888888888,\"#fdca26\"],[1.0,\"#f0f921\"]],\"type\":\"histogram2d\"}],\"histogram2dcontour\":[{\"colorbar\":{\"outlinewidth\":0,\"ticks\":\"\"},\"colorscale\":[[0.0,\"#0d0887\"],[0.1111111111111111,\"#46039f\"],[0.2222222222222222,\"#7201a8\"],[0.3333333333333333,\"#9c179e\"],[0.4444444444444444,\"#bd3786\"],[0.5555555555555556,\"#d8576b\"],[0.6666666666666666,\"#ed7953\"],[0.7777777777777778,\"#fb9f3a\"],[0.8888888888888888,\"#fdca26\"],[1.0,\"#f0f921\"]],\"type\":\"histogram2dcontour\"}],\"mesh3d\":[{\"colorbar\":{\"outlinewidth\":0,\"ticks\":\"\"},\"type\":\"mesh3d\"}],\"parcoords\":[{\"line\":{\"colorbar\":{\"outlinewidth\":0,\"ticks\":\"\"}},\"type\":\"parcoords\"}],\"pie\":[{\"automargin\":true,\"type\":\"pie\"}],\"scatter\":[{\"marker\":{\"colorbar\":{\"outlinewidth\":0,\"ticks\":\"\"}},\"type\":\"scatter\"}],\"scatter3d\":[{\"line\":{\"colorbar\":{\"outlinewidth\":0,\"ticks\":\"\"}},\"marker\":{\"colorbar\":{\"outlinewidth\":0,\"ticks\":\"\"}},\"type\":\"scatter3d\"}],\"scattercarpet\":[{\"marker\":{\"colorbar\":{\"outlinewidth\":0,\"ticks\":\"\"}},\"type\":\"scattercarpet\"}],\"scattergeo\":[{\"marker\":{\"colorbar\":{\"outlinewidth\":0,\"ticks\":\"\"}},\"type\":\"scattergeo\"}],\"scattergl\":[{\"marker\":{\"colorbar\":{\"outlinewidth\":0,\"ticks\":\"\"}},\"type\":\"scattergl\"}],\"scattermapbox\":[{\"marker\":{\"colorbar\":{\"outlinewidth\":0,\"ticks\":\"\"}},\"type\":\"scattermapbox\"}],\"scatterpolar\":[{\"marker\":{\"colorbar\":{\"outlinewidth\":0,\"ticks\":\"\"}},\"type\":\"scatterpolar\"}],\"scatterpolargl\":[{\"marker\":{\"colorbar\":{\"outlinewidth\":0,\"ticks\":\"\"}},\"type\":\"scatterpolargl\"}],\"scatterternary\":[{\"marker\":{\"colorbar\":{\"outlinewidth\":0,\"ticks\":\"\"}},\"type\":\"scatterternary\"}],\"surface\":[{\"colorbar\":{\"outlinewidth\":0,\"ticks\":\"\"},\"colorscale\":[[0.0,\"#0d0887\"],[0.1111111111111111,\"#46039f\"],[0.2222222222222222,\"#7201a8\"],[0.3333333333333333,\"#9c179e\"],[0.4444444444444444,\"#bd3786\"],[0.5555555555555556,\"#d8576b\"],[0.6666666666666666,\"#ed7953\"],[0.7777777777777778,\"#fb9f3a\"],[0.8888888888888888,\"#fdca26\"],[1.0,\"#f0f921\"]],\"type\":\"surface\"}],\"table\":[{\"cells\":{\"fill\":{\"color\":\"#EBF0F8\"},\"line\":{\"color\":\"white\"}},\"header\":{\"fill\":{\"color\":\"#C8D4E3\"},\"line\":{\"color\":\"white\"}},\"type\":\"table\"}]},\"layout\":{\"annotationdefaults\":{\"arrowcolor\":\"#2a3f5f\",\"arrowhead\":0,\"arrowwidth\":1},\"autotypenumbers\":\"strict\",\"coloraxis\":{\"colorbar\":{\"outlinewidth\":0,\"ticks\":\"\"}},\"colorscale\":{\"diverging\":[[0,\"#8e0152\"],[0.1,\"#c51b7d\"],[0.2,\"#de77ae\"],[0.3,\"#f1b6da\"],[0.4,\"#fde0ef\"],[0.5,\"#f7f7f7\"],[0.6,\"#e6f5d0\"],[0.7,\"#b8e186\"],[0.8,\"#7fbc41\"],[0.9,\"#4d9221\"],[1,\"#276419\"]],\"sequential\":[[0.0,\"#0d0887\"],[0.1111111111111111,\"#46039f\"],[0.2222222222222222,\"#7201a8\"],[0.3333333333333333,\"#9c179e\"],[0.4444444444444444,\"#bd3786\"],[0.5555555555555556,\"#d8576b\"],[0.6666666666666666,\"#ed7953\"],[0.7777777777777778,\"#fb9f3a\"],[0.8888888888888888,\"#fdca26\"],[1.0,\"#f0f921\"]],\"sequentialminus\":[[0.0,\"#0d0887\"],[0.1111111111111111,\"#46039f\"],[0.2222222222222222,\"#7201a8\"],[0.3333333333333333,\"#9c179e\"],[0.4444444444444444,\"#bd3786\"],[0.5555555555555556,\"#d8576b\"],[0.6666666666666666,\"#ed7953\"],[0.7777777777777778,\"#fb9f3a\"],[0.8888888888888888,\"#fdca26\"],[1.0,\"#f0f921\"]]},\"colorway\":[\"#636efa\",\"#EF553B\",\"#00cc96\",\"#ab63fa\",\"#FFA15A\",\"#19d3f3\",\"#FF6692\",\"#B6E880\",\"#FF97FF\",\"#FECB52\"],\"font\":{\"color\":\"#2a3f5f\"},\"geo\":{\"bgcolor\":\"white\",\"lakecolor\":\"white\",\"landcolor\":\"#E5ECF6\",\"showlakes\":true,\"showland\":true,\"subunitcolor\":\"white\"},\"hoverlabel\":{\"align\":\"left\"},\"hovermode\":\"closest\",\"mapbox\":{\"style\":\"light\"},\"paper_bgcolor\":\"white\",\"plot_bgcolor\":\"#E5ECF6\",\"polar\":{\"angularaxis\":{\"gridcolor\":\"white\",\"linecolor\":\"white\",\"ticks\":\"\"},\"bgcolor\":\"#E5ECF6\",\"radialaxis\":{\"gridcolor\":\"white\",\"linecolor\":\"white\",\"ticks\":\"\"}},\"scene\":{\"xaxis\":{\"backgroundcolor\":\"#E5ECF6\",\"gridcolor\":\"white\",\"gridwidth\":2,\"linecolor\":\"white\",\"showbackground\":true,\"ticks\":\"\",\"zerolinecolor\":\"white\"},\"yaxis\":{\"backgroundcolor\":\"#E5ECF6\",\"gridcolor\":\"white\",\"gridwidth\":2,\"linecolor\":\"white\",\"showbackground\":true,\"ticks\":\"\",\"zerolinecolor\":\"white\"},\"zaxis\":{\"backgroundcolor\":\"#E5ECF6\",\"gridcolor\":\"white\",\"gridwidth\":2,\"linecolor\":\"white\",\"showbackground\":true,\"ticks\":\"\",\"zerolinecolor\":\"white\"}},\"shapedefaults\":{\"line\":{\"color\":\"#2a3f5f\"}},\"ternary\":{\"aaxis\":{\"gridcolor\":\"white\",\"linecolor\":\"white\",\"ticks\":\"\"},\"baxis\":{\"gridcolor\":\"white\",\"linecolor\":\"white\",\"ticks\":\"\"},\"bgcolor\":\"#E5ECF6\",\"caxis\":{\"gridcolor\":\"white\",\"linecolor\":\"white\",\"ticks\":\"\"}},\"title\":{\"x\":0.05},\"xaxis\":{\"automargin\":true,\"gridcolor\":\"white\",\"linecolor\":\"white\",\"ticks\":\"\",\"title\":{\"standoff\":15},\"zerolinecolor\":\"white\",\"zerolinewidth\":2},\"yaxis\":{\"automargin\":true,\"gridcolor\":\"white\",\"linecolor\":\"white\",\"ticks\":\"\",\"title\":{\"standoff\":15},\"zerolinecolor\":\"white\",\"zerolinewidth\":2}}},\"title\":{\"font\":{\"size\":30},\"text\":\"Ajuste de minimos cuadrados\"}},                        {\"responsive\": true}                    ).then(function(){\n",
              "                            \n",
              "var gd = document.getElementById('cd46f6b5-7834-48d3-8273-278c3e577687');\n",
              "var x = new MutationObserver(function (mutations, observer) {{\n",
              "        var display = window.getComputedStyle(gd).display;\n",
              "        if (!display || display === 'none') {{\n",
              "            console.log([gd, 'removed!']);\n",
              "            Plotly.purge(gd);\n",
              "            observer.disconnect();\n",
              "        }}\n",
              "}});\n",
              "\n",
              "// Listen for the removal of the full notebook cells\n",
              "var notebookContainer = gd.closest('#notebook-container');\n",
              "if (notebookContainer) {{\n",
              "    x.observe(notebookContainer, {childList: true});\n",
              "}}\n",
              "\n",
              "// Listen for the clearing of the current output cell\n",
              "var outputEl = gd.closest('.output');\n",
              "if (outputEl) {{\n",
              "    x.observe(outputEl, {childList: true});\n",
              "}}\n",
              "\n",
              "                        })                };                            </script>        </div>\n",
              "</body>\n",
              "</html>"
            ]
          },
          "metadata": {},
          "output_type": "display_data"
        },
        {
          "name": "stdout",
          "output_type": "stream",
          "text": [
            "***Polinomio\n",
            "\n"
          ]
        },
        {
          "data": {
            "text/latex": [
              "$P(x) = - 0.0946428571428548 x^{2} + 2.17892857142856 x + 1.00357142857144$"
            ],
            "text/plain": [
              "<IPython.core.display.Latex object>"
            ]
          },
          "metadata": {},
          "output_type": "display_data"
        },
        {
          "data": {
            "text/html": [
              "<html>\n",
              "<head><meta charset=\"utf-8\" /></head>\n",
              "<body>\n",
              "    <div>            <script src=\"https://cdnjs.cloudflare.com/ajax/libs/mathjax/2.7.5/MathJax.js?config=TeX-AMS-MML_SVG\"></script><script type=\"text/javascript\">if (window.MathJax) {MathJax.Hub.Config({SVG: {font: \"STIX-Web\"}});}</script>                <script type=\"text/javascript\">window.PlotlyConfig = {MathJaxConfig: 'local'};</script>\n",
              "        <script src=\"https://cdn.plot.ly/plotly-2.8.3.min.js\"></script>                <div id=\"daec1423-a028-4c3f-af7a-75197830c13f\" class=\"plotly-graph-div\" style=\"height:525px; width:100%;\"></div>            <script type=\"text/javascript\">                                    window.PLOTLYENV=window.PLOTLYENV || {};                                    if (document.getElementById(\"daec1423-a028-4c3f-af7a-75197830c13f\")) {                    Plotly.newPlot(                        \"daec1423-a028-4c3f-af7a-75197830c13f\",                        [{\"marker\":{\"color\":\"LightSeaGreen\"},\"mode\":\"lines\",\"name\":\"P(x)\",\"x\":[-1.0,-0.9292929292929293,-0.8585858585858586,-0.7878787878787878,-0.7171717171717171,-0.6464646464646464,-0.5757575757575758,-0.5050505050505051,-0.43434343434343436,-0.36363636363636365,-0.29292929292929293,-0.2222222222222222,-0.1515151515151516,-0.08080808080808088,-0.010101010101010166,0.06060606060606055,0.13131313131313127,0.202020202020202,0.2727272727272727,0.3434343434343434,0.41414141414141414,0.48484848484848486,0.5555555555555556,0.6262626262626263,0.6969696969696968,0.7676767676767675,0.8383838383838382,0.909090909090909,0.9797979797979797,1.0505050505050506,1.121212121212121,1.191919191919192,1.2626262626262625,1.333333333333333,1.404040404040404,1.4747474747474745,1.5454545454545454,1.616161616161616,1.6868686868686869,1.7575757575757573,1.8282828282828283,1.8989898989898988,1.9696969696969697,2.04040404040404,2.111111111111111,2.1818181818181817,2.2525252525252526,2.323232323232323,2.3939393939393936,2.4646464646464645,2.535353535353535,2.606060606060606,2.6767676767676765,2.7474747474747474,2.818181818181818,2.888888888888889,2.9595959595959593,3.0303030303030303,3.101010101010101,3.1717171717171713,3.242424242424242,3.313131313131313,3.383838383838384,3.454545454545454,3.525252525252525,3.595959595959596,3.666666666666666,3.737373737373737,3.808080808080808,3.878787878787879,3.949494949494949,4.02020202020202,4.090909090909091,4.161616161616162,4.232323232323232,4.303030303030303,4.373737373737374,4.444444444444445,4.515151515151515,4.585858585858586,4.656565656565657,4.727272727272727,4.797979797979798,4.8686868686868685,4.9393939393939394,5.0101010101010095,5.08080808080808,5.151515151515151,5.222222222222222,5.292929292929292,5.363636363636363,5.434343434343434,5.505050505050505,5.575757575757575,5.646464646464646,5.717171717171717,5.787878787878787,5.858585858585858,5.929292929292929,6.0],\"y\":[-1.2699999999999767,-1.1030236710539518,-0.9369936741148652,-0.7719100091827165,-0.6077726762575059,-0.44458167533923326,-0.28233700642789916,-0.12103866952350267,0.03931333537395579,0.19871900826447622,0.35717834914805857,0.5146913580247029,0.6712580348944089,0.8268783797571772,0.9815523926130073,1.1352800734618995,1.2880614223038533,1.4398964391388696,1.5907851239669475,1.7407274767880876,1.8897234976022894,2.037773186409553,2.1848765432098793,2.3310335680032668,2.476244260789716,2.6205086215692277,2.7638266503418016,2.9061983471074373,3.0476237118661347,3.1881027446178947,3.3276354453627155,3.4662218141005994,3.6038618508315445,3.7405555555555514,3.8763029282726214,4.011103968982752,4.1449586776859455,4.277867054382201,4.409829099071518,4.540844811753897,4.670914192429338,4.80003724109784,4.9282139577594055,5.055444342414032,5.181728395061721,5.307066115702471,5.431457504336285,5.554902560963159,5.6774012855830955,5.798953678196095,5.919559738802155,6.039219467401278,6.157932863993462,6.2756999285787085,6.3925206611570164,6.508395061728388,6.623323130292819,6.737304866850314,6.850340271400871,6.962429343944488,7.073572084481168,7.183768493010911,7.293018569533715,7.4013223140495805,7.508679726558508,7.615090807060499,7.72055555555555,7.825073972043664,7.9286460565248404,8.031271808999078,8.132951229466377,8.23368431792674,8.333471074380164,8.43231149882665,8.530205591266196,8.627153351698805,8.723154780124478,8.81820987654321,8.912318640955005,9.005481073359864,9.097697173757783,9.188966942148763,9.279290378532806,9.368667482909913,9.45709825528008,9.544582695643308,9.6311208039996,9.716712580348952,9.801358024691368,9.885057137026845,9.967809917355384,10.049616365676984,10.130476481991646,10.21039026629937,10.289357718600158,10.367378838894007,10.444453627180916,10.520582083460887,10.595764207733922,10.670000000000021],\"type\":\"scatter\"},{\"marker\":{\"color\":\"MediumPurple\",\"size\":10},\"mode\":\"markers\",\"name\":\"Puntos dados\",\"x\":[0,1,2,3,4,5],\"y\":[1,2.7,5.8,6.6,7.5,9.9],\"type\":\"scatter\"}],                        {\"template\":{\"data\":{\"bar\":[{\"error_x\":{\"color\":\"#2a3f5f\"},\"error_y\":{\"color\":\"#2a3f5f\"},\"marker\":{\"line\":{\"color\":\"#E5ECF6\",\"width\":0.5},\"pattern\":{\"fillmode\":\"overlay\",\"size\":10,\"solidity\":0.2}},\"type\":\"bar\"}],\"barpolar\":[{\"marker\":{\"line\":{\"color\":\"#E5ECF6\",\"width\":0.5},\"pattern\":{\"fillmode\":\"overlay\",\"size\":10,\"solidity\":0.2}},\"type\":\"barpolar\"}],\"carpet\":[{\"aaxis\":{\"endlinecolor\":\"#2a3f5f\",\"gridcolor\":\"white\",\"linecolor\":\"white\",\"minorgridcolor\":\"white\",\"startlinecolor\":\"#2a3f5f\"},\"baxis\":{\"endlinecolor\":\"#2a3f5f\",\"gridcolor\":\"white\",\"linecolor\":\"white\",\"minorgridcolor\":\"white\",\"startlinecolor\":\"#2a3f5f\"},\"type\":\"carpet\"}],\"choropleth\":[{\"colorbar\":{\"outlinewidth\":0,\"ticks\":\"\"},\"type\":\"choropleth\"}],\"contour\":[{\"colorbar\":{\"outlinewidth\":0,\"ticks\":\"\"},\"colorscale\":[[0.0,\"#0d0887\"],[0.1111111111111111,\"#46039f\"],[0.2222222222222222,\"#7201a8\"],[0.3333333333333333,\"#9c179e\"],[0.4444444444444444,\"#bd3786\"],[0.5555555555555556,\"#d8576b\"],[0.6666666666666666,\"#ed7953\"],[0.7777777777777778,\"#fb9f3a\"],[0.8888888888888888,\"#fdca26\"],[1.0,\"#f0f921\"]],\"type\":\"contour\"}],\"contourcarpet\":[{\"colorbar\":{\"outlinewidth\":0,\"ticks\":\"\"},\"type\":\"contourcarpet\"}],\"heatmap\":[{\"colorbar\":{\"outlinewidth\":0,\"ticks\":\"\"},\"colorscale\":[[0.0,\"#0d0887\"],[0.1111111111111111,\"#46039f\"],[0.2222222222222222,\"#7201a8\"],[0.3333333333333333,\"#9c179e\"],[0.4444444444444444,\"#bd3786\"],[0.5555555555555556,\"#d8576b\"],[0.6666666666666666,\"#ed7953\"],[0.7777777777777778,\"#fb9f3a\"],[0.8888888888888888,\"#fdca26\"],[1.0,\"#f0f921\"]],\"type\":\"heatmap\"}],\"heatmapgl\":[{\"colorbar\":{\"outlinewidth\":0,\"ticks\":\"\"},\"colorscale\":[[0.0,\"#0d0887\"],[0.1111111111111111,\"#46039f\"],[0.2222222222222222,\"#7201a8\"],[0.3333333333333333,\"#9c179e\"],[0.4444444444444444,\"#bd3786\"],[0.5555555555555556,\"#d8576b\"],[0.6666666666666666,\"#ed7953\"],[0.7777777777777778,\"#fb9f3a\"],[0.8888888888888888,\"#fdca26\"],[1.0,\"#f0f921\"]],\"type\":\"heatmapgl\"}],\"histogram\":[{\"marker\":{\"pattern\":{\"fillmode\":\"overlay\",\"size\":10,\"solidity\":0.2}},\"type\":\"histogram\"}],\"histogram2d\":[{\"colorbar\":{\"outlinewidth\":0,\"ticks\":\"\"},\"colorscale\":[[0.0,\"#0d0887\"],[0.1111111111111111,\"#46039f\"],[0.2222222222222222,\"#7201a8\"],[0.3333333333333333,\"#9c179e\"],[0.4444444444444444,\"#bd3786\"],[0.5555555555555556,\"#d8576b\"],[0.6666666666666666,\"#ed7953\"],[0.7777777777777778,\"#fb9f3a\"],[0.8888888888888888,\"#fdca26\"],[1.0,\"#f0f921\"]],\"type\":\"histogram2d\"}],\"histogram2dcontour\":[{\"colorbar\":{\"outlinewidth\":0,\"ticks\":\"\"},\"colorscale\":[[0.0,\"#0d0887\"],[0.1111111111111111,\"#46039f\"],[0.2222222222222222,\"#7201a8\"],[0.3333333333333333,\"#9c179e\"],[0.4444444444444444,\"#bd3786\"],[0.5555555555555556,\"#d8576b\"],[0.6666666666666666,\"#ed7953\"],[0.7777777777777778,\"#fb9f3a\"],[0.8888888888888888,\"#fdca26\"],[1.0,\"#f0f921\"]],\"type\":\"histogram2dcontour\"}],\"mesh3d\":[{\"colorbar\":{\"outlinewidth\":0,\"ticks\":\"\"},\"type\":\"mesh3d\"}],\"parcoords\":[{\"line\":{\"colorbar\":{\"outlinewidth\":0,\"ticks\":\"\"}},\"type\":\"parcoords\"}],\"pie\":[{\"automargin\":true,\"type\":\"pie\"}],\"scatter\":[{\"marker\":{\"colorbar\":{\"outlinewidth\":0,\"ticks\":\"\"}},\"type\":\"scatter\"}],\"scatter3d\":[{\"line\":{\"colorbar\":{\"outlinewidth\":0,\"ticks\":\"\"}},\"marker\":{\"colorbar\":{\"outlinewidth\":0,\"ticks\":\"\"}},\"type\":\"scatter3d\"}],\"scattercarpet\":[{\"marker\":{\"colorbar\":{\"outlinewidth\":0,\"ticks\":\"\"}},\"type\":\"scattercarpet\"}],\"scattergeo\":[{\"marker\":{\"colorbar\":{\"outlinewidth\":0,\"ticks\":\"\"}},\"type\":\"scattergeo\"}],\"scattergl\":[{\"marker\":{\"colorbar\":{\"outlinewidth\":0,\"ticks\":\"\"}},\"type\":\"scattergl\"}],\"scattermapbox\":[{\"marker\":{\"colorbar\":{\"outlinewidth\":0,\"ticks\":\"\"}},\"type\":\"scattermapbox\"}],\"scatterpolar\":[{\"marker\":{\"colorbar\":{\"outlinewidth\":0,\"ticks\":\"\"}},\"type\":\"scatterpolar\"}],\"scatterpolargl\":[{\"marker\":{\"colorbar\":{\"outlinewidth\":0,\"ticks\":\"\"}},\"type\":\"scatterpolargl\"}],\"scatterternary\":[{\"marker\":{\"colorbar\":{\"outlinewidth\":0,\"ticks\":\"\"}},\"type\":\"scatterternary\"}],\"surface\":[{\"colorbar\":{\"outlinewidth\":0,\"ticks\":\"\"},\"colorscale\":[[0.0,\"#0d0887\"],[0.1111111111111111,\"#46039f\"],[0.2222222222222222,\"#7201a8\"],[0.3333333333333333,\"#9c179e\"],[0.4444444444444444,\"#bd3786\"],[0.5555555555555556,\"#d8576b\"],[0.6666666666666666,\"#ed7953\"],[0.7777777777777778,\"#fb9f3a\"],[0.8888888888888888,\"#fdca26\"],[1.0,\"#f0f921\"]],\"type\":\"surface\"}],\"table\":[{\"cells\":{\"fill\":{\"color\":\"#EBF0F8\"},\"line\":{\"color\":\"white\"}},\"header\":{\"fill\":{\"color\":\"#C8D4E3\"},\"line\":{\"color\":\"white\"}},\"type\":\"table\"}]},\"layout\":{\"annotationdefaults\":{\"arrowcolor\":\"#2a3f5f\",\"arrowhead\":0,\"arrowwidth\":1},\"autotypenumbers\":\"strict\",\"coloraxis\":{\"colorbar\":{\"outlinewidth\":0,\"ticks\":\"\"}},\"colorscale\":{\"diverging\":[[0,\"#8e0152\"],[0.1,\"#c51b7d\"],[0.2,\"#de77ae\"],[0.3,\"#f1b6da\"],[0.4,\"#fde0ef\"],[0.5,\"#f7f7f7\"],[0.6,\"#e6f5d0\"],[0.7,\"#b8e186\"],[0.8,\"#7fbc41\"],[0.9,\"#4d9221\"],[1,\"#276419\"]],\"sequential\":[[0.0,\"#0d0887\"],[0.1111111111111111,\"#46039f\"],[0.2222222222222222,\"#7201a8\"],[0.3333333333333333,\"#9c179e\"],[0.4444444444444444,\"#bd3786\"],[0.5555555555555556,\"#d8576b\"],[0.6666666666666666,\"#ed7953\"],[0.7777777777777778,\"#fb9f3a\"],[0.8888888888888888,\"#fdca26\"],[1.0,\"#f0f921\"]],\"sequentialminus\":[[0.0,\"#0d0887\"],[0.1111111111111111,\"#46039f\"],[0.2222222222222222,\"#7201a8\"],[0.3333333333333333,\"#9c179e\"],[0.4444444444444444,\"#bd3786\"],[0.5555555555555556,\"#d8576b\"],[0.6666666666666666,\"#ed7953\"],[0.7777777777777778,\"#fb9f3a\"],[0.8888888888888888,\"#fdca26\"],[1.0,\"#f0f921\"]]},\"colorway\":[\"#636efa\",\"#EF553B\",\"#00cc96\",\"#ab63fa\",\"#FFA15A\",\"#19d3f3\",\"#FF6692\",\"#B6E880\",\"#FF97FF\",\"#FECB52\"],\"font\":{\"color\":\"#2a3f5f\"},\"geo\":{\"bgcolor\":\"white\",\"lakecolor\":\"white\",\"landcolor\":\"#E5ECF6\",\"showlakes\":true,\"showland\":true,\"subunitcolor\":\"white\"},\"hoverlabel\":{\"align\":\"left\"},\"hovermode\":\"closest\",\"mapbox\":{\"style\":\"light\"},\"paper_bgcolor\":\"white\",\"plot_bgcolor\":\"#E5ECF6\",\"polar\":{\"angularaxis\":{\"gridcolor\":\"white\",\"linecolor\":\"white\",\"ticks\":\"\"},\"bgcolor\":\"#E5ECF6\",\"radialaxis\":{\"gridcolor\":\"white\",\"linecolor\":\"white\",\"ticks\":\"\"}},\"scene\":{\"xaxis\":{\"backgroundcolor\":\"#E5ECF6\",\"gridcolor\":\"white\",\"gridwidth\":2,\"linecolor\":\"white\",\"showbackground\":true,\"ticks\":\"\",\"zerolinecolor\":\"white\"},\"yaxis\":{\"backgroundcolor\":\"#E5ECF6\",\"gridcolor\":\"white\",\"gridwidth\":2,\"linecolor\":\"white\",\"showbackground\":true,\"ticks\":\"\",\"zerolinecolor\":\"white\"},\"zaxis\":{\"backgroundcolor\":\"#E5ECF6\",\"gridcolor\":\"white\",\"gridwidth\":2,\"linecolor\":\"white\",\"showbackground\":true,\"ticks\":\"\",\"zerolinecolor\":\"white\"}},\"shapedefaults\":{\"line\":{\"color\":\"#2a3f5f\"}},\"ternary\":{\"aaxis\":{\"gridcolor\":\"white\",\"linecolor\":\"white\",\"ticks\":\"\"},\"baxis\":{\"gridcolor\":\"white\",\"linecolor\":\"white\",\"ticks\":\"\"},\"bgcolor\":\"#E5ECF6\",\"caxis\":{\"gridcolor\":\"white\",\"linecolor\":\"white\",\"ticks\":\"\"}},\"title\":{\"x\":0.05},\"xaxis\":{\"automargin\":true,\"gridcolor\":\"white\",\"linecolor\":\"white\",\"ticks\":\"\",\"title\":{\"standoff\":15},\"zerolinecolor\":\"white\",\"zerolinewidth\":2},\"yaxis\":{\"automargin\":true,\"gridcolor\":\"white\",\"linecolor\":\"white\",\"ticks\":\"\",\"title\":{\"standoff\":15},\"zerolinecolor\":\"white\",\"zerolinewidth\":2}}},\"title\":{\"font\":{\"size\":30},\"text\":\"Ajuste de minimos cuadrados\"}},                        {\"responsive\": true}                    ).then(function(){\n",
              "                            \n",
              "var gd = document.getElementById('daec1423-a028-4c3f-af7a-75197830c13f');\n",
              "var x = new MutationObserver(function (mutations, observer) {{\n",
              "        var display = window.getComputedStyle(gd).display;\n",
              "        if (!display || display === 'none') {{\n",
              "            console.log([gd, 'removed!']);\n",
              "            Plotly.purge(gd);\n",
              "            observer.disconnect();\n",
              "        }}\n",
              "}});\n",
              "\n",
              "// Listen for the removal of the full notebook cells\n",
              "var notebookContainer = gd.closest('#notebook-container');\n",
              "if (notebookContainer) {{\n",
              "    x.observe(notebookContainer, {childList: true});\n",
              "}}\n",
              "\n",
              "// Listen for the clearing of the current output cell\n",
              "var outputEl = gd.closest('.output');\n",
              "if (outputEl) {{\n",
              "    x.observe(outputEl, {childList: true});\n",
              "}}\n",
              "\n",
              "                        })                };                            </script>        </div>\n",
              "</body>\n",
              "</html>"
            ]
          },
          "metadata": {},
          "output_type": "display_data"
        },
        {
          "name": "stdout",
          "output_type": "stream",
          "text": [
            "***Polinomio\n",
            "\n"
          ]
        },
        {
          "data": {
            "text/latex": [
              "$P(x) = 0.0712962962962953 x^{3} - 0.62936507936507 x^{2} + 3.15568783068781 x + 0.789682539682553$"
            ],
            "text/plain": [
              "<IPython.core.display.Latex object>"
            ]
          },
          "metadata": {},
          "output_type": "display_data"
        },
        {
          "data": {
            "text/html": [
              "<html>\n",
              "<head><meta charset=\"utf-8\" /></head>\n",
              "<body>\n",
              "    <div>            <script src=\"https://cdnjs.cloudflare.com/ajax/libs/mathjax/2.7.5/MathJax.js?config=TeX-AMS-MML_SVG\"></script><script type=\"text/javascript\">if (window.MathJax) {MathJax.Hub.Config({SVG: {font: \"STIX-Web\"}});}</script>                <script type=\"text/javascript\">window.PlotlyConfig = {MathJaxConfig: 'local'};</script>\n",
              "        <script src=\"https://cdn.plot.ly/plotly-2.8.3.min.js\"></script>                <div id=\"7467ed57-380b-4959-8dd3-f0f79727242e\" class=\"plotly-graph-div\" style=\"height:525px; width:100%;\"></div>            <script type=\"text/javascript\">                                    window.PLOTLYENV=window.PLOTLYENV || {};                                    if (document.getElementById(\"7467ed57-380b-4959-8dd3-f0f79727242e\")) {                    Plotly.newPlot(                        \"7467ed57-380b-4959-8dd3-f0f79727242e\",                        [{\"marker\":{\"color\":\"LightSeaGreen\"},\"mode\":\"lines\",\"name\":\"P(x)\",\"x\":[-1.0,-0.9292929292929293,-0.8585858585858586,-0.7878787878787878,-0.7171717171717171,-0.6464646464646464,-0.5757575757575758,-0.5050505050505051,-0.43434343434343436,-0.36363636363636365,-0.29292929292929293,-0.2222222222222222,-0.1515151515151516,-0.08080808080808088,-0.010101010101010166,0.06060606060606055,0.13131313131313127,0.202020202020202,0.2727272727272727,0.3434343434343434,0.41414141414141414,0.48484848484848486,0.5555555555555556,0.6262626262626263,0.6969696969696968,0.7676767676767675,0.8383838383838382,0.909090909090909,0.9797979797979797,1.0505050505050506,1.121212121212121,1.191919191919192,1.2626262626262625,1.333333333333333,1.404040404040404,1.4747474747474745,1.5454545454545454,1.616161616161616,1.6868686868686869,1.7575757575757573,1.8282828282828283,1.8989898989898988,1.9696969696969697,2.04040404040404,2.111111111111111,2.1818181818181817,2.2525252525252526,2.323232323232323,2.3939393939393936,2.4646464646464645,2.535353535353535,2.606060606060606,2.6767676767676765,2.7474747474747474,2.818181818181818,2.888888888888889,2.9595959595959593,3.0303030303030303,3.101010101010101,3.1717171717171713,3.242424242424242,3.313131313131313,3.383838383838384,3.454545454545454,3.525252525252525,3.595959595959596,3.666666666666666,3.737373737373737,3.808080808080808,3.878787878787879,3.949494949494949,4.02020202020202,4.090909090909091,4.161616161616162,4.232323232323232,4.303030303030303,4.373737373737374,4.444444444444445,4.515151515151515,4.585858585858586,4.656565656565657,4.727272727272727,4.797979797979798,4.8686868686868685,4.9393939393939394,5.0101010101010095,5.08080808080808,5.151515151515151,5.222222222222222,5.292929292929292,5.363636363636363,5.434343434343434,5.505050505050505,5.575757575757575,5.646464646464646,5.717171717171717,5.787878787878787,5.858585858585858,5.929292929292929,6.0],\"y\":[-3.0666666666666202,-2.7436032814321445,-2.4288203563673916,-2.122166672334985,-1.8234910101975472,-1.5326421508177017,-1.2494688750580711,-0.9738199637812784,-0.7055441978499467,-0.44449035812669896,-0.19050722547415827,0.05655641924505254,0.29685179516831006,0.530530121432992,0.7577426171764751,0.9786405015361361,1.1933749936493523,1.4020973126535006,1.6049586776859581,1.8021103078841012,1.9937034223853083,2.179889240326955,2.360818980846419,2.5366438630810766,2.7075151061683056,2.8735839292454832,3.0350015514499864,3.1919191919191907,3.344488069790475,3.4928594042012158,3.6371844142887895,3.777614319190573,3.914300338043944,4.047393689986278,4.177045594154955,4.303407269687351,4.426629935720841,4.546864811392803,4.6642631158406145,4.778976068201652,4.891154887613295,5.000950793212916,5.108515004137896,5.21399873952561,5.317553218513435,5.419329660238747,5.519479283838926,5.6181533084513475,5.715502953213388,5.811679437262423,5.906833979735835,6.001117799770994,6.094682116505283,6.187678149076075,6.280257116620751,6.372570238276685,6.46476873318125,6.557003820471834,6.649426719285805,6.742188648760539,6.8354408280334225,6.929334476241822,7.024020812523121,7.1196510560146935,7.216376425853918,7.314348141178172,7.413717421124831,7.51463548483127,7.617253551434873,7.72172284007301,7.8281945698830615,7.936819960002403,8.04775022956841,8.161136597718471,8.277130283589942,8.39588250632022,8.51754448504667,8.642267438906673,8.770202587037607,8.901501148576848,9.036314342661772,9.174793388429752,9.317089505018178,9.463353911564415,9.613737827205842,9.768392471079839,9.92746906232378,10.091118820075046,10.259492963471015,10.432742711649059,10.611019283746554,10.794473898900879,10.983257776249413,11.177522134929532,11.377418194078619,11.583097172834037,11.794710290333175,12.012408765713406,12.236343818112104,12.466666666666654],\"type\":\"scatter\"},{\"marker\":{\"color\":\"MediumPurple\",\"size\":10},\"mode\":\"markers\",\"name\":\"Puntos dados\",\"x\":[0,1,2,3,4,5],\"y\":[1,2.7,5.8,6.6,7.5,9.9],\"type\":\"scatter\"}],                        {\"template\":{\"data\":{\"bar\":[{\"error_x\":{\"color\":\"#2a3f5f\"},\"error_y\":{\"color\":\"#2a3f5f\"},\"marker\":{\"line\":{\"color\":\"#E5ECF6\",\"width\":0.5},\"pattern\":{\"fillmode\":\"overlay\",\"size\":10,\"solidity\":0.2}},\"type\":\"bar\"}],\"barpolar\":[{\"marker\":{\"line\":{\"color\":\"#E5ECF6\",\"width\":0.5},\"pattern\":{\"fillmode\":\"overlay\",\"size\":10,\"solidity\":0.2}},\"type\":\"barpolar\"}],\"carpet\":[{\"aaxis\":{\"endlinecolor\":\"#2a3f5f\",\"gridcolor\":\"white\",\"linecolor\":\"white\",\"minorgridcolor\":\"white\",\"startlinecolor\":\"#2a3f5f\"},\"baxis\":{\"endlinecolor\":\"#2a3f5f\",\"gridcolor\":\"white\",\"linecolor\":\"white\",\"minorgridcolor\":\"white\",\"startlinecolor\":\"#2a3f5f\"},\"type\":\"carpet\"}],\"choropleth\":[{\"colorbar\":{\"outlinewidth\":0,\"ticks\":\"\"},\"type\":\"choropleth\"}],\"contour\":[{\"colorbar\":{\"outlinewidth\":0,\"ticks\":\"\"},\"colorscale\":[[0.0,\"#0d0887\"],[0.1111111111111111,\"#46039f\"],[0.2222222222222222,\"#7201a8\"],[0.3333333333333333,\"#9c179e\"],[0.4444444444444444,\"#bd3786\"],[0.5555555555555556,\"#d8576b\"],[0.6666666666666666,\"#ed7953\"],[0.7777777777777778,\"#fb9f3a\"],[0.8888888888888888,\"#fdca26\"],[1.0,\"#f0f921\"]],\"type\":\"contour\"}],\"contourcarpet\":[{\"colorbar\":{\"outlinewidth\":0,\"ticks\":\"\"},\"type\":\"contourcarpet\"}],\"heatmap\":[{\"colorbar\":{\"outlinewidth\":0,\"ticks\":\"\"},\"colorscale\":[[0.0,\"#0d0887\"],[0.1111111111111111,\"#46039f\"],[0.2222222222222222,\"#7201a8\"],[0.3333333333333333,\"#9c179e\"],[0.4444444444444444,\"#bd3786\"],[0.5555555555555556,\"#d8576b\"],[0.6666666666666666,\"#ed7953\"],[0.7777777777777778,\"#fb9f3a\"],[0.8888888888888888,\"#fdca26\"],[1.0,\"#f0f921\"]],\"type\":\"heatmap\"}],\"heatmapgl\":[{\"colorbar\":{\"outlinewidth\":0,\"ticks\":\"\"},\"colorscale\":[[0.0,\"#0d0887\"],[0.1111111111111111,\"#46039f\"],[0.2222222222222222,\"#7201a8\"],[0.3333333333333333,\"#9c179e\"],[0.4444444444444444,\"#bd3786\"],[0.5555555555555556,\"#d8576b\"],[0.6666666666666666,\"#ed7953\"],[0.7777777777777778,\"#fb9f3a\"],[0.8888888888888888,\"#fdca26\"],[1.0,\"#f0f921\"]],\"type\":\"heatmapgl\"}],\"histogram\":[{\"marker\":{\"pattern\":{\"fillmode\":\"overlay\",\"size\":10,\"solidity\":0.2}},\"type\":\"histogram\"}],\"histogram2d\":[{\"colorbar\":{\"outlinewidth\":0,\"ticks\":\"\"},\"colorscale\":[[0.0,\"#0d0887\"],[0.1111111111111111,\"#46039f\"],[0.2222222222222222,\"#7201a8\"],[0.3333333333333333,\"#9c179e\"],[0.4444444444444444,\"#bd3786\"],[0.5555555555555556,\"#d8576b\"],[0.6666666666666666,\"#ed7953\"],[0.7777777777777778,\"#fb9f3a\"],[0.8888888888888888,\"#fdca26\"],[1.0,\"#f0f921\"]],\"type\":\"histogram2d\"}],\"histogram2dcontour\":[{\"colorbar\":{\"outlinewidth\":0,\"ticks\":\"\"},\"colorscale\":[[0.0,\"#0d0887\"],[0.1111111111111111,\"#46039f\"],[0.2222222222222222,\"#7201a8\"],[0.3333333333333333,\"#9c179e\"],[0.4444444444444444,\"#bd3786\"],[0.5555555555555556,\"#d8576b\"],[0.6666666666666666,\"#ed7953\"],[0.7777777777777778,\"#fb9f3a\"],[0.8888888888888888,\"#fdca26\"],[1.0,\"#f0f921\"]],\"type\":\"histogram2dcontour\"}],\"mesh3d\":[{\"colorbar\":{\"outlinewidth\":0,\"ticks\":\"\"},\"type\":\"mesh3d\"}],\"parcoords\":[{\"line\":{\"colorbar\":{\"outlinewidth\":0,\"ticks\":\"\"}},\"type\":\"parcoords\"}],\"pie\":[{\"automargin\":true,\"type\":\"pie\"}],\"scatter\":[{\"marker\":{\"colorbar\":{\"outlinewidth\":0,\"ticks\":\"\"}},\"type\":\"scatter\"}],\"scatter3d\":[{\"line\":{\"colorbar\":{\"outlinewidth\":0,\"ticks\":\"\"}},\"marker\":{\"colorbar\":{\"outlinewidth\":0,\"ticks\":\"\"}},\"type\":\"scatter3d\"}],\"scattercarpet\":[{\"marker\":{\"colorbar\":{\"outlinewidth\":0,\"ticks\":\"\"}},\"type\":\"scattercarpet\"}],\"scattergeo\":[{\"marker\":{\"colorbar\":{\"outlinewidth\":0,\"ticks\":\"\"}},\"type\":\"scattergeo\"}],\"scattergl\":[{\"marker\":{\"colorbar\":{\"outlinewidth\":0,\"ticks\":\"\"}},\"type\":\"scattergl\"}],\"scattermapbox\":[{\"marker\":{\"colorbar\":{\"outlinewidth\":0,\"ticks\":\"\"}},\"type\":\"scattermapbox\"}],\"scatterpolar\":[{\"marker\":{\"colorbar\":{\"outlinewidth\":0,\"ticks\":\"\"}},\"type\":\"scatterpolar\"}],\"scatterpolargl\":[{\"marker\":{\"colorbar\":{\"outlinewidth\":0,\"ticks\":\"\"}},\"type\":\"scatterpolargl\"}],\"scatterternary\":[{\"marker\":{\"colorbar\":{\"outlinewidth\":0,\"ticks\":\"\"}},\"type\":\"scatterternary\"}],\"surface\":[{\"colorbar\":{\"outlinewidth\":0,\"ticks\":\"\"},\"colorscale\":[[0.0,\"#0d0887\"],[0.1111111111111111,\"#46039f\"],[0.2222222222222222,\"#7201a8\"],[0.3333333333333333,\"#9c179e\"],[0.4444444444444444,\"#bd3786\"],[0.5555555555555556,\"#d8576b\"],[0.6666666666666666,\"#ed7953\"],[0.7777777777777778,\"#fb9f3a\"],[0.8888888888888888,\"#fdca26\"],[1.0,\"#f0f921\"]],\"type\":\"surface\"}],\"table\":[{\"cells\":{\"fill\":{\"color\":\"#EBF0F8\"},\"line\":{\"color\":\"white\"}},\"header\":{\"fill\":{\"color\":\"#C8D4E3\"},\"line\":{\"color\":\"white\"}},\"type\":\"table\"}]},\"layout\":{\"annotationdefaults\":{\"arrowcolor\":\"#2a3f5f\",\"arrowhead\":0,\"arrowwidth\":1},\"autotypenumbers\":\"strict\",\"coloraxis\":{\"colorbar\":{\"outlinewidth\":0,\"ticks\":\"\"}},\"colorscale\":{\"diverging\":[[0,\"#8e0152\"],[0.1,\"#c51b7d\"],[0.2,\"#de77ae\"],[0.3,\"#f1b6da\"],[0.4,\"#fde0ef\"],[0.5,\"#f7f7f7\"],[0.6,\"#e6f5d0\"],[0.7,\"#b8e186\"],[0.8,\"#7fbc41\"],[0.9,\"#4d9221\"],[1,\"#276419\"]],\"sequential\":[[0.0,\"#0d0887\"],[0.1111111111111111,\"#46039f\"],[0.2222222222222222,\"#7201a8\"],[0.3333333333333333,\"#9c179e\"],[0.4444444444444444,\"#bd3786\"],[0.5555555555555556,\"#d8576b\"],[0.6666666666666666,\"#ed7953\"],[0.7777777777777778,\"#fb9f3a\"],[0.8888888888888888,\"#fdca26\"],[1.0,\"#f0f921\"]],\"sequentialminus\":[[0.0,\"#0d0887\"],[0.1111111111111111,\"#46039f\"],[0.2222222222222222,\"#7201a8\"],[0.3333333333333333,\"#9c179e\"],[0.4444444444444444,\"#bd3786\"],[0.5555555555555556,\"#d8576b\"],[0.6666666666666666,\"#ed7953\"],[0.7777777777777778,\"#fb9f3a\"],[0.8888888888888888,\"#fdca26\"],[1.0,\"#f0f921\"]]},\"colorway\":[\"#636efa\",\"#EF553B\",\"#00cc96\",\"#ab63fa\",\"#FFA15A\",\"#19d3f3\",\"#FF6692\",\"#B6E880\",\"#FF97FF\",\"#FECB52\"],\"font\":{\"color\":\"#2a3f5f\"},\"geo\":{\"bgcolor\":\"white\",\"lakecolor\":\"white\",\"landcolor\":\"#E5ECF6\",\"showlakes\":true,\"showland\":true,\"subunitcolor\":\"white\"},\"hoverlabel\":{\"align\":\"left\"},\"hovermode\":\"closest\",\"mapbox\":{\"style\":\"light\"},\"paper_bgcolor\":\"white\",\"plot_bgcolor\":\"#E5ECF6\",\"polar\":{\"angularaxis\":{\"gridcolor\":\"white\",\"linecolor\":\"white\",\"ticks\":\"\"},\"bgcolor\":\"#E5ECF6\",\"radialaxis\":{\"gridcolor\":\"white\",\"linecolor\":\"white\",\"ticks\":\"\"}},\"scene\":{\"xaxis\":{\"backgroundcolor\":\"#E5ECF6\",\"gridcolor\":\"white\",\"gridwidth\":2,\"linecolor\":\"white\",\"showbackground\":true,\"ticks\":\"\",\"zerolinecolor\":\"white\"},\"yaxis\":{\"backgroundcolor\":\"#E5ECF6\",\"gridcolor\":\"white\",\"gridwidth\":2,\"linecolor\":\"white\",\"showbackground\":true,\"ticks\":\"\",\"zerolinecolor\":\"white\"},\"zaxis\":{\"backgroundcolor\":\"#E5ECF6\",\"gridcolor\":\"white\",\"gridwidth\":2,\"linecolor\":\"white\",\"showbackground\":true,\"ticks\":\"\",\"zerolinecolor\":\"white\"}},\"shapedefaults\":{\"line\":{\"color\":\"#2a3f5f\"}},\"ternary\":{\"aaxis\":{\"gridcolor\":\"white\",\"linecolor\":\"white\",\"ticks\":\"\"},\"baxis\":{\"gridcolor\":\"white\",\"linecolor\":\"white\",\"ticks\":\"\"},\"bgcolor\":\"#E5ECF6\",\"caxis\":{\"gridcolor\":\"white\",\"linecolor\":\"white\",\"ticks\":\"\"}},\"title\":{\"x\":0.05},\"xaxis\":{\"automargin\":true,\"gridcolor\":\"white\",\"linecolor\":\"white\",\"ticks\":\"\",\"title\":{\"standoff\":15},\"zerolinecolor\":\"white\",\"zerolinewidth\":2},\"yaxis\":{\"automargin\":true,\"gridcolor\":\"white\",\"linecolor\":\"white\",\"ticks\":\"\",\"title\":{\"standoff\":15},\"zerolinecolor\":\"white\",\"zerolinewidth\":2}}},\"title\":{\"font\":{\"size\":30},\"text\":\"Ajuste de minimos cuadrados\"}},                        {\"responsive\": true}                    ).then(function(){\n",
              "                            \n",
              "var gd = document.getElementById('7467ed57-380b-4959-8dd3-f0f79727242e');\n",
              "var x = new MutationObserver(function (mutations, observer) {{\n",
              "        var display = window.getComputedStyle(gd).display;\n",
              "        if (!display || display === 'none') {{\n",
              "            console.log([gd, 'removed!']);\n",
              "            Plotly.purge(gd);\n",
              "            observer.disconnect();\n",
              "        }}\n",
              "}});\n",
              "\n",
              "// Listen for the removal of the full notebook cells\n",
              "var notebookContainer = gd.closest('#notebook-container');\n",
              "if (notebookContainer) {{\n",
              "    x.observe(notebookContainer, {childList: true});\n",
              "}}\n",
              "\n",
              "// Listen for the clearing of the current output cell\n",
              "var outputEl = gd.closest('.output');\n",
              "if (outputEl) {{\n",
              "    x.observe(outputEl, {childList: true});\n",
              "}}\n",
              "\n",
              "                        })                };                            </script>        </div>\n",
              "</body>\n",
              "</html>"
            ]
          },
          "metadata": {},
          "output_type": "display_data"
        },
        {
          "name": "stdout",
          "output_type": "stream",
          "text": [
            "***Polinomio\n",
            "\n"
          ]
        },
        {
          "data": {
            "text/latex": [
              "$P(x) = 0.106249999999917 x^{4} - 0.991203703702871 x^{3} + 2.63402777777519 x^{2} + 0.119973544976001 x + 0.97182539682522$"
            ],
            "text/plain": [
              "<IPython.core.display.Latex object>"
            ]
          },
          "metadata": {},
          "output_type": "display_data"
        },
        {
          "data": {
            "text/html": [
              "<html>\n",
              "<head><meta charset=\"utf-8\" /></head>\n",
              "<body>\n",
              "    <div>            <script src=\"https://cdnjs.cloudflare.com/ajax/libs/mathjax/2.7.5/MathJax.js?config=TeX-AMS-MML_SVG\"></script><script type=\"text/javascript\">if (window.MathJax) {MathJax.Hub.Config({SVG: {font: \"STIX-Web\"}});}</script>                <script type=\"text/javascript\">window.PlotlyConfig = {MathJaxConfig: 'local'};</script>\n",
              "        <script src=\"https://cdn.plot.ly/plotly-2.8.3.min.js\"></script>                <div id=\"b630c97b-464c-490d-b503-d91ad145d4fa\" class=\"plotly-graph-div\" style=\"height:525px; width:100%;\"></div>            <script type=\"text/javascript\">                                    window.PLOTLYENV=window.PLOTLYENV || {};                                    if (document.getElementById(\"b630c97b-464c-490d-b503-d91ad145d4fa\")) {                    Plotly.newPlot(                        \"b630c97b-464c-490d-b503-d91ad145d4fa\",                        [{\"marker\":{\"color\":\"LightSeaGreen\"},\"mode\":\"lines\",\"name\":\"P(x)\",\"x\":[-1.0,-0.9292929292929293,-0.8585858585858586,-0.7878787878787878,-0.7171717171717171,-0.6464646464646464,-0.5757575757575758,-0.5050505050505051,-0.43434343434343436,-0.36363636363636365,-0.29292929292929293,-0.2222222222222222,-0.1515151515151516,-0.08080808080808088,-0.010101010101010166,0.06060606060606055,0.13131313131313127,0.202020202020202,0.2727272727272727,0.3434343434343434,0.41414141414141414,0.48484848484848486,0.5555555555555556,0.6262626262626263,0.6969696969696968,0.7676767676767675,0.8383838383838382,0.909090909090909,0.9797979797979797,1.0505050505050506,1.121212121212121,1.191919191919192,1.2626262626262625,1.333333333333333,1.404040404040404,1.4747474747474745,1.5454545454545454,1.616161616161616,1.6868686868686869,1.7575757575757573,1.8282828282828283,1.8989898989898988,1.9696969696969697,2.04040404040404,2.111111111111111,2.1818181818181817,2.2525252525252526,2.323232323232323,2.3939393939393936,2.4646464646464645,2.535353535353535,2.606060606060606,2.6767676767676765,2.7474747474747474,2.818181818181818,2.888888888888889,2.9595959595959593,3.0303030303030303,3.101010101010101,3.1717171717171713,3.242424242424242,3.313131313131313,3.383838383838384,3.454545454545454,3.525252525252525,3.595959595959596,3.666666666666666,3.737373737373737,3.808080808080808,3.878787878787879,3.949494949494949,4.02020202020202,4.090909090909091,4.161616161616162,4.232323232323232,4.303030303030303,4.373737373737374,4.444444444444445,4.515151515151515,4.585858585858586,4.656565656565657,4.727272727272727,4.797979797979798,4.8686868686868685,4.9393939393939394,5.0101010101010095,5.08080808080808,5.151515151515151,5.222222222222222,5.292929292929292,5.363636363636363,5.434343434343434,5.505050505050505,5.575757575757575,5.646464646464646,5.717171717171717,5.787878787878787,5.858585858585858,5.929292929292929,6.0],\"y\":[4.583333333327199,4.009746235650224,3.4956375728773748,3.0380991885402557,2.6342866631622566,2.2814193142585544,1.9767801963361131,1.7177161008936837,1.5016375564218043,1.3260188284027992,1.188397919310781,1.0863765686116482,1.0176202527630864,0.9798581852145687,0.9708833164073545,0.9885523337744905,1.03078566174081,1.0955674617229338,1.1809456321292697,1.2850318083600114,1.406001362807141,1.5420934048544264,1.691610780877423,1.8529200742434733,2.0244516053117056,2.2046994314330375,2.392221346950172,2.5856388831975976,2.7836373085015937,2.9849656281802224,3.1884365845433353,3.3929266568925702,3.5973760615213517,3.8007887517148906,4.00223241775019,4.20083848689603,4.395802123412988,4.58638222855342,4.771901440561478,4.951746134673088,5.125366423115976,5.292276155109644,5.452052916865395,5.604338031586304,5.7488365594672395,5.885317297694861,6.013612780447604,6.133619278895706,6.2452968012011745,6.348669092517818,6.4438236349912295,6.530911647758778,6.610148086949632,6.681811645684736,6.746244754076844,6.803853579230466,6.855108025241929,6.900541733199304,6.940752081182502,6.976400184263188,7.008210894504813,7.036972800962644,7.063538229683701,7.088823243706798,7.11380764306255,7.139534964773368,7.1671124828533905,7.1977112083086325,7.232565889136815,7.272975010327521,7.320300793862032,7.375969198713477,7.441469920846785,7.518356393218625,7.608245785777484,7.712819005463572,7.833820696209045,7.973059238937651,8.132406751565057,8.313799088998664,8.519235843137693,8.750780342873057,9.010559654087615,9.300764579655905,9.623649659444254,9.981533170310783,10.37679712610543,10.81188727766991,11.289313112837704,11.81164785643412,12.38152847027618,13.001655653172776,13.674793840924536,14.40377120632391,15.191479659155078,16.040874846194072,16.954976151208626,17.936866694958496,18.989693335194744,20.11666666666082],\"type\":\"scatter\"},{\"marker\":{\"color\":\"MediumPurple\",\"size\":10},\"mode\":\"markers\",\"name\":\"Puntos dados\",\"x\":[0,1,2,3,4,5],\"y\":[1,2.7,5.8,6.6,7.5,9.9],\"type\":\"scatter\"}],                        {\"template\":{\"data\":{\"bar\":[{\"error_x\":{\"color\":\"#2a3f5f\"},\"error_y\":{\"color\":\"#2a3f5f\"},\"marker\":{\"line\":{\"color\":\"#E5ECF6\",\"width\":0.5},\"pattern\":{\"fillmode\":\"overlay\",\"size\":10,\"solidity\":0.2}},\"type\":\"bar\"}],\"barpolar\":[{\"marker\":{\"line\":{\"color\":\"#E5ECF6\",\"width\":0.5},\"pattern\":{\"fillmode\":\"overlay\",\"size\":10,\"solidity\":0.2}},\"type\":\"barpolar\"}],\"carpet\":[{\"aaxis\":{\"endlinecolor\":\"#2a3f5f\",\"gridcolor\":\"white\",\"linecolor\":\"white\",\"minorgridcolor\":\"white\",\"startlinecolor\":\"#2a3f5f\"},\"baxis\":{\"endlinecolor\":\"#2a3f5f\",\"gridcolor\":\"white\",\"linecolor\":\"white\",\"minorgridcolor\":\"white\",\"startlinecolor\":\"#2a3f5f\"},\"type\":\"carpet\"}],\"choropleth\":[{\"colorbar\":{\"outlinewidth\":0,\"ticks\":\"\"},\"type\":\"choropleth\"}],\"contour\":[{\"colorbar\":{\"outlinewidth\":0,\"ticks\":\"\"},\"colorscale\":[[0.0,\"#0d0887\"],[0.1111111111111111,\"#46039f\"],[0.2222222222222222,\"#7201a8\"],[0.3333333333333333,\"#9c179e\"],[0.4444444444444444,\"#bd3786\"],[0.5555555555555556,\"#d8576b\"],[0.6666666666666666,\"#ed7953\"],[0.7777777777777778,\"#fb9f3a\"],[0.8888888888888888,\"#fdca26\"],[1.0,\"#f0f921\"]],\"type\":\"contour\"}],\"contourcarpet\":[{\"colorbar\":{\"outlinewidth\":0,\"ticks\":\"\"},\"type\":\"contourcarpet\"}],\"heatmap\":[{\"colorbar\":{\"outlinewidth\":0,\"ticks\":\"\"},\"colorscale\":[[0.0,\"#0d0887\"],[0.1111111111111111,\"#46039f\"],[0.2222222222222222,\"#7201a8\"],[0.3333333333333333,\"#9c179e\"],[0.4444444444444444,\"#bd3786\"],[0.5555555555555556,\"#d8576b\"],[0.6666666666666666,\"#ed7953\"],[0.7777777777777778,\"#fb9f3a\"],[0.8888888888888888,\"#fdca26\"],[1.0,\"#f0f921\"]],\"type\":\"heatmap\"}],\"heatmapgl\":[{\"colorbar\":{\"outlinewidth\":0,\"ticks\":\"\"},\"colorscale\":[[0.0,\"#0d0887\"],[0.1111111111111111,\"#46039f\"],[0.2222222222222222,\"#7201a8\"],[0.3333333333333333,\"#9c179e\"],[0.4444444444444444,\"#bd3786\"],[0.5555555555555556,\"#d8576b\"],[0.6666666666666666,\"#ed7953\"],[0.7777777777777778,\"#fb9f3a\"],[0.8888888888888888,\"#fdca26\"],[1.0,\"#f0f921\"]],\"type\":\"heatmapgl\"}],\"histogram\":[{\"marker\":{\"pattern\":{\"fillmode\":\"overlay\",\"size\":10,\"solidity\":0.2}},\"type\":\"histogram\"}],\"histogram2d\":[{\"colorbar\":{\"outlinewidth\":0,\"ticks\":\"\"},\"colorscale\":[[0.0,\"#0d0887\"],[0.1111111111111111,\"#46039f\"],[0.2222222222222222,\"#7201a8\"],[0.3333333333333333,\"#9c179e\"],[0.4444444444444444,\"#bd3786\"],[0.5555555555555556,\"#d8576b\"],[0.6666666666666666,\"#ed7953\"],[0.7777777777777778,\"#fb9f3a\"],[0.8888888888888888,\"#fdca26\"],[1.0,\"#f0f921\"]],\"type\":\"histogram2d\"}],\"histogram2dcontour\":[{\"colorbar\":{\"outlinewidth\":0,\"ticks\":\"\"},\"colorscale\":[[0.0,\"#0d0887\"],[0.1111111111111111,\"#46039f\"],[0.2222222222222222,\"#7201a8\"],[0.3333333333333333,\"#9c179e\"],[0.4444444444444444,\"#bd3786\"],[0.5555555555555556,\"#d8576b\"],[0.6666666666666666,\"#ed7953\"],[0.7777777777777778,\"#fb9f3a\"],[0.8888888888888888,\"#fdca26\"],[1.0,\"#f0f921\"]],\"type\":\"histogram2dcontour\"}],\"mesh3d\":[{\"colorbar\":{\"outlinewidth\":0,\"ticks\":\"\"},\"type\":\"mesh3d\"}],\"parcoords\":[{\"line\":{\"colorbar\":{\"outlinewidth\":0,\"ticks\":\"\"}},\"type\":\"parcoords\"}],\"pie\":[{\"automargin\":true,\"type\":\"pie\"}],\"scatter\":[{\"marker\":{\"colorbar\":{\"outlinewidth\":0,\"ticks\":\"\"}},\"type\":\"scatter\"}],\"scatter3d\":[{\"line\":{\"colorbar\":{\"outlinewidth\":0,\"ticks\":\"\"}},\"marker\":{\"colorbar\":{\"outlinewidth\":0,\"ticks\":\"\"}},\"type\":\"scatter3d\"}],\"scattercarpet\":[{\"marker\":{\"colorbar\":{\"outlinewidth\":0,\"ticks\":\"\"}},\"type\":\"scattercarpet\"}],\"scattergeo\":[{\"marker\":{\"colorbar\":{\"outlinewidth\":0,\"ticks\":\"\"}},\"type\":\"scattergeo\"}],\"scattergl\":[{\"marker\":{\"colorbar\":{\"outlinewidth\":0,\"ticks\":\"\"}},\"type\":\"scattergl\"}],\"scattermapbox\":[{\"marker\":{\"colorbar\":{\"outlinewidth\":0,\"ticks\":\"\"}},\"type\":\"scattermapbox\"}],\"scatterpolar\":[{\"marker\":{\"colorbar\":{\"outlinewidth\":0,\"ticks\":\"\"}},\"type\":\"scatterpolar\"}],\"scatterpolargl\":[{\"marker\":{\"colorbar\":{\"outlinewidth\":0,\"ticks\":\"\"}},\"type\":\"scatterpolargl\"}],\"scatterternary\":[{\"marker\":{\"colorbar\":{\"outlinewidth\":0,\"ticks\":\"\"}},\"type\":\"scatterternary\"}],\"surface\":[{\"colorbar\":{\"outlinewidth\":0,\"ticks\":\"\"},\"colorscale\":[[0.0,\"#0d0887\"],[0.1111111111111111,\"#46039f\"],[0.2222222222222222,\"#7201a8\"],[0.3333333333333333,\"#9c179e\"],[0.4444444444444444,\"#bd3786\"],[0.5555555555555556,\"#d8576b\"],[0.6666666666666666,\"#ed7953\"],[0.7777777777777778,\"#fb9f3a\"],[0.8888888888888888,\"#fdca26\"],[1.0,\"#f0f921\"]],\"type\":\"surface\"}],\"table\":[{\"cells\":{\"fill\":{\"color\":\"#EBF0F8\"},\"line\":{\"color\":\"white\"}},\"header\":{\"fill\":{\"color\":\"#C8D4E3\"},\"line\":{\"color\":\"white\"}},\"type\":\"table\"}]},\"layout\":{\"annotationdefaults\":{\"arrowcolor\":\"#2a3f5f\",\"arrowhead\":0,\"arrowwidth\":1},\"autotypenumbers\":\"strict\",\"coloraxis\":{\"colorbar\":{\"outlinewidth\":0,\"ticks\":\"\"}},\"colorscale\":{\"diverging\":[[0,\"#8e0152\"],[0.1,\"#c51b7d\"],[0.2,\"#de77ae\"],[0.3,\"#f1b6da\"],[0.4,\"#fde0ef\"],[0.5,\"#f7f7f7\"],[0.6,\"#e6f5d0\"],[0.7,\"#b8e186\"],[0.8,\"#7fbc41\"],[0.9,\"#4d9221\"],[1,\"#276419\"]],\"sequential\":[[0.0,\"#0d0887\"],[0.1111111111111111,\"#46039f\"],[0.2222222222222222,\"#7201a8\"],[0.3333333333333333,\"#9c179e\"],[0.4444444444444444,\"#bd3786\"],[0.5555555555555556,\"#d8576b\"],[0.6666666666666666,\"#ed7953\"],[0.7777777777777778,\"#fb9f3a\"],[0.8888888888888888,\"#fdca26\"],[1.0,\"#f0f921\"]],\"sequentialminus\":[[0.0,\"#0d0887\"],[0.1111111111111111,\"#46039f\"],[0.2222222222222222,\"#7201a8\"],[0.3333333333333333,\"#9c179e\"],[0.4444444444444444,\"#bd3786\"],[0.5555555555555556,\"#d8576b\"],[0.6666666666666666,\"#ed7953\"],[0.7777777777777778,\"#fb9f3a\"],[0.8888888888888888,\"#fdca26\"],[1.0,\"#f0f921\"]]},\"colorway\":[\"#636efa\",\"#EF553B\",\"#00cc96\",\"#ab63fa\",\"#FFA15A\",\"#19d3f3\",\"#FF6692\",\"#B6E880\",\"#FF97FF\",\"#FECB52\"],\"font\":{\"color\":\"#2a3f5f\"},\"geo\":{\"bgcolor\":\"white\",\"lakecolor\":\"white\",\"landcolor\":\"#E5ECF6\",\"showlakes\":true,\"showland\":true,\"subunitcolor\":\"white\"},\"hoverlabel\":{\"align\":\"left\"},\"hovermode\":\"closest\",\"mapbox\":{\"style\":\"light\"},\"paper_bgcolor\":\"white\",\"plot_bgcolor\":\"#E5ECF6\",\"polar\":{\"angularaxis\":{\"gridcolor\":\"white\",\"linecolor\":\"white\",\"ticks\":\"\"},\"bgcolor\":\"#E5ECF6\",\"radialaxis\":{\"gridcolor\":\"white\",\"linecolor\":\"white\",\"ticks\":\"\"}},\"scene\":{\"xaxis\":{\"backgroundcolor\":\"#E5ECF6\",\"gridcolor\":\"white\",\"gridwidth\":2,\"linecolor\":\"white\",\"showbackground\":true,\"ticks\":\"\",\"zerolinecolor\":\"white\"},\"yaxis\":{\"backgroundcolor\":\"#E5ECF6\",\"gridcolor\":\"white\",\"gridwidth\":2,\"linecolor\":\"white\",\"showbackground\":true,\"ticks\":\"\",\"zerolinecolor\":\"white\"},\"zaxis\":{\"backgroundcolor\":\"#E5ECF6\",\"gridcolor\":\"white\",\"gridwidth\":2,\"linecolor\":\"white\",\"showbackground\":true,\"ticks\":\"\",\"zerolinecolor\":\"white\"}},\"shapedefaults\":{\"line\":{\"color\":\"#2a3f5f\"}},\"ternary\":{\"aaxis\":{\"gridcolor\":\"white\",\"linecolor\":\"white\",\"ticks\":\"\"},\"baxis\":{\"gridcolor\":\"white\",\"linecolor\":\"white\",\"ticks\":\"\"},\"bgcolor\":\"#E5ECF6\",\"caxis\":{\"gridcolor\":\"white\",\"linecolor\":\"white\",\"ticks\":\"\"}},\"title\":{\"x\":0.05},\"xaxis\":{\"automargin\":true,\"gridcolor\":\"white\",\"linecolor\":\"white\",\"ticks\":\"\",\"title\":{\"standoff\":15},\"zerolinecolor\":\"white\",\"zerolinewidth\":2},\"yaxis\":{\"automargin\":true,\"gridcolor\":\"white\",\"linecolor\":\"white\",\"ticks\":\"\",\"title\":{\"standoff\":15},\"zerolinecolor\":\"white\",\"zerolinewidth\":2}}},\"title\":{\"font\":{\"size\":30},\"text\":\"Ajuste de minimos cuadrados\"}},                        {\"responsive\": true}                    ).then(function(){\n",
              "                            \n",
              "var gd = document.getElementById('b630c97b-464c-490d-b503-d91ad145d4fa');\n",
              "var x = new MutationObserver(function (mutations, observer) {{\n",
              "        var display = window.getComputedStyle(gd).display;\n",
              "        if (!display || display === 'none') {{\n",
              "            console.log([gd, 'removed!']);\n",
              "            Plotly.purge(gd);\n",
              "            observer.disconnect();\n",
              "        }}\n",
              "}});\n",
              "\n",
              "// Listen for the removal of the full notebook cells\n",
              "var notebookContainer = gd.closest('#notebook-container');\n",
              "if (notebookContainer) {{\n",
              "    x.observe(notebookContainer, {childList: true});\n",
              "}}\n",
              "\n",
              "// Listen for the clearing of the current output cell\n",
              "var outputEl = gd.closest('.output');\n",
              "if (outputEl) {{\n",
              "    x.observe(outputEl, {childList: true});\n",
              "}}\n",
              "\n",
              "                        })                };                            </script>        </div>\n",
              "</body>\n",
              "</html>"
            ]
          },
          "metadata": {},
          "output_type": "display_data"
        },
        {
          "name": "stdout",
          "output_type": "stream",
          "text": [
            "***Polinomio\n",
            "\n"
          ]
        },
        {
          "data": {
            "text/latex": [
              "$P(x) = - 0.0591666666586222 x^{5} + 0.845833333231907 x^{4} - 4.21249999955313 x^{3} + 8.3041666658676 x^{2} - 3.17833333285735 x + 0.999999999994016$"
            ],
            "text/plain": [
              "<IPython.core.display.Latex object>"
            ]
          },
          "metadata": {},
          "output_type": "display_data"
        },
        {
          "data": {
            "text/html": [
              "<html>\n",
              "<head><meta charset=\"utf-8\" /></head>\n",
              "<body>\n",
              "    <div>            <script src=\"https://cdnjs.cloudflare.com/ajax/libs/mathjax/2.7.5/MathJax.js?config=TeX-AMS-MML_SVG\"></script><script type=\"text/javascript\">if (window.MathJax) {MathJax.Hub.Config({SVG: {font: \"STIX-Web\"}});}</script>                <script type=\"text/javascript\">window.PlotlyConfig = {MathJaxConfig: 'local'};</script>\n",
              "        <script src=\"https://cdn.plot.ly/plotly-2.8.3.min.js\"></script>                <div id=\"97970a38-f680-4584-b6af-83ea1bc9265f\" class=\"plotly-graph-div\" style=\"height:525px; width:100%;\"></div>            <script type=\"text/javascript\">                                    window.PLOTLYENV=window.PLOTLYENV || {};                                    if (document.getElementById(\"97970a38-f680-4584-b6af-83ea1bc9265f\")) {                    Plotly.newPlot(                        \"97970a38-f680-4584-b6af-83ea1bc9265f\",                        [{\"marker\":{\"color\":\"LightSeaGreen\"},\"mode\":\"lines\",\"name\":\"P(x)\",\"x\":[-1.0,-0.9292929292929293,-0.8585858585858586,-0.7878787878787878,-0.7171717171717171,-0.6464646464646464,-0.5757575757575758,-0.5050505050505051,-0.43434343434343436,-0.36363636363636365,-0.29292929292929293,-0.2222222222222222,-0.1515151515151516,-0.08080808080808088,-0.010101010101010166,0.06060606060606055,0.13131313131313127,0.202020202020202,0.2727272727272727,0.3434343434343434,0.41414141414141414,0.48484848484848486,0.5555555555555556,0.6262626262626263,0.6969696969696968,0.7676767676767675,0.8383838383838382,0.909090909090909,0.9797979797979797,1.0505050505050506,1.121212121212121,1.191919191919192,1.2626262626262625,1.333333333333333,1.404040404040404,1.4747474747474745,1.5454545454545454,1.616161616161616,1.6868686868686869,1.7575757575757573,1.8282828282828283,1.8989898989898988,1.9696969696969697,2.04040404040404,2.111111111111111,2.1818181818181817,2.2525252525252526,2.323232323232323,2.3939393939393936,2.4646464646464645,2.535353535353535,2.606060606060606,2.6767676767676765,2.7474747474747474,2.818181818181818,2.888888888888889,2.9595959595959593,3.0303030303030303,3.101010101010101,3.1717171717171713,3.242424242424242,3.313131313131313,3.383838383838384,3.454545454545454,3.525252525252525,3.595959595959596,3.666666666666666,3.737373737373737,3.808080808080808,3.878787878787879,3.949494949494949,4.02020202020202,4.090909090909091,4.161616161616162,4.232323232323232,4.303030303030303,4.373737373737374,4.444444444444445,4.515151515151515,4.585858585858586,4.656565656565657,4.727272727272727,4.797979797979798,4.8686868686868685,4.9393939393939394,5.0101010101010095,5.08080808080808,5.151515151515151,5.222222222222222,5.292929292929292,5.363636363636363,5.434343434343434,5.505050505050505,5.575757575757575,5.646464646464646,5.717171717171717,5.787878787878787,5.858585858585858,5.929292929292929,6.0],\"y\":[17.599999998162627,15.17740130393605,13.00388950700124,11.063110560531035,9.339370182035424,7.817621305417455,6.483451533029116,5.3230705877272095,4.32329776492926,3.4715493846693866,2.7558262436541945,2.1647010673186604,1.6873059618820214,1.3133198664036563,1.0329560048389796,0.836949338095325,0.7165440160878311,0.6634808297953295,0.6699846633162311,0.7287519459244133,0.8329381041251066,0.9761450137107817,1.1524084518170339,1.3561855489784753,1.5823422411846155,1.8261407219357515,2.0832268942988543,2.3496178229634554,2.621689186297534,2.8961627284034037,3.170093711173592,3.440858366346748,3.7061413475635026,3.9639231824223753,4.212467724535648,4.450309605585262,4.676241687378696,4.889302513904861,5.088763763389984,5.274117700353477,5.445064627663869,5.6015003385946445,5.743503568880149,5.871323448771492,5.985366955092419,6.086186363295159,6.174466699516405,6.251013192633114,6.316738726318439,6.372651291097576,6.419841436403729,6.459469722633867,6.492754173204773,6.520957726608799,6.5453756884698375,6.567323183599079,6.588122608051117,6.609091081179633,6.631527897693363,6.656701979712,6.6858393288220235,6.720110478132696,6.760617944331855,6.808383679741716,6.864336524374956,6.929299657990597,7.0039780521496695,7.088945922271293,7.184634179688459,7.29131788370394,7.409103693646415,7.537917320925864,7.67749098108996,7.827350845879465,7.9868044952847015,8.154928369600796,8.330555221484133,8.512261568007858,8.698355142718,8.88686234768933,9.07551570558087,9.261741311692248,9.442646286019567,9.615006225311049,9.775252655123097,9.919460481875745,10.043335444909417,10.142201568540003,10.210988614115195,10.244219532069792,10.235997913982715,10.179995444632084,10.06943935405053,9.897099869582519,9.65527766793906,9.335791327254185,8.929964779140619,8.42861476074603,7.822038266808022,7.10000000171118],\"type\":\"scatter\"},{\"marker\":{\"color\":\"MediumPurple\",\"size\":10},\"mode\":\"markers\",\"name\":\"Puntos dados\",\"x\":[0,1,2,3,4,5],\"y\":[1,2.7,5.8,6.6,7.5,9.9],\"type\":\"scatter\"}],                        {\"template\":{\"data\":{\"bar\":[{\"error_x\":{\"color\":\"#2a3f5f\"},\"error_y\":{\"color\":\"#2a3f5f\"},\"marker\":{\"line\":{\"color\":\"#E5ECF6\",\"width\":0.5},\"pattern\":{\"fillmode\":\"overlay\",\"size\":10,\"solidity\":0.2}},\"type\":\"bar\"}],\"barpolar\":[{\"marker\":{\"line\":{\"color\":\"#E5ECF6\",\"width\":0.5},\"pattern\":{\"fillmode\":\"overlay\",\"size\":10,\"solidity\":0.2}},\"type\":\"barpolar\"}],\"carpet\":[{\"aaxis\":{\"endlinecolor\":\"#2a3f5f\",\"gridcolor\":\"white\",\"linecolor\":\"white\",\"minorgridcolor\":\"white\",\"startlinecolor\":\"#2a3f5f\"},\"baxis\":{\"endlinecolor\":\"#2a3f5f\",\"gridcolor\":\"white\",\"linecolor\":\"white\",\"minorgridcolor\":\"white\",\"startlinecolor\":\"#2a3f5f\"},\"type\":\"carpet\"}],\"choropleth\":[{\"colorbar\":{\"outlinewidth\":0,\"ticks\":\"\"},\"type\":\"choropleth\"}],\"contour\":[{\"colorbar\":{\"outlinewidth\":0,\"ticks\":\"\"},\"colorscale\":[[0.0,\"#0d0887\"],[0.1111111111111111,\"#46039f\"],[0.2222222222222222,\"#7201a8\"],[0.3333333333333333,\"#9c179e\"],[0.4444444444444444,\"#bd3786\"],[0.5555555555555556,\"#d8576b\"],[0.6666666666666666,\"#ed7953\"],[0.7777777777777778,\"#fb9f3a\"],[0.8888888888888888,\"#fdca26\"],[1.0,\"#f0f921\"]],\"type\":\"contour\"}],\"contourcarpet\":[{\"colorbar\":{\"outlinewidth\":0,\"ticks\":\"\"},\"type\":\"contourcarpet\"}],\"heatmap\":[{\"colorbar\":{\"outlinewidth\":0,\"ticks\":\"\"},\"colorscale\":[[0.0,\"#0d0887\"],[0.1111111111111111,\"#46039f\"],[0.2222222222222222,\"#7201a8\"],[0.3333333333333333,\"#9c179e\"],[0.4444444444444444,\"#bd3786\"],[0.5555555555555556,\"#d8576b\"],[0.6666666666666666,\"#ed7953\"],[0.7777777777777778,\"#fb9f3a\"],[0.8888888888888888,\"#fdca26\"],[1.0,\"#f0f921\"]],\"type\":\"heatmap\"}],\"heatmapgl\":[{\"colorbar\":{\"outlinewidth\":0,\"ticks\":\"\"},\"colorscale\":[[0.0,\"#0d0887\"],[0.1111111111111111,\"#46039f\"],[0.2222222222222222,\"#7201a8\"],[0.3333333333333333,\"#9c179e\"],[0.4444444444444444,\"#bd3786\"],[0.5555555555555556,\"#d8576b\"],[0.6666666666666666,\"#ed7953\"],[0.7777777777777778,\"#fb9f3a\"],[0.8888888888888888,\"#fdca26\"],[1.0,\"#f0f921\"]],\"type\":\"heatmapgl\"}],\"histogram\":[{\"marker\":{\"pattern\":{\"fillmode\":\"overlay\",\"size\":10,\"solidity\":0.2}},\"type\":\"histogram\"}],\"histogram2d\":[{\"colorbar\":{\"outlinewidth\":0,\"ticks\":\"\"},\"colorscale\":[[0.0,\"#0d0887\"],[0.1111111111111111,\"#46039f\"],[0.2222222222222222,\"#7201a8\"],[0.3333333333333333,\"#9c179e\"],[0.4444444444444444,\"#bd3786\"],[0.5555555555555556,\"#d8576b\"],[0.6666666666666666,\"#ed7953\"],[0.7777777777777778,\"#fb9f3a\"],[0.8888888888888888,\"#fdca26\"],[1.0,\"#f0f921\"]],\"type\":\"histogram2d\"}],\"histogram2dcontour\":[{\"colorbar\":{\"outlinewidth\":0,\"ticks\":\"\"},\"colorscale\":[[0.0,\"#0d0887\"],[0.1111111111111111,\"#46039f\"],[0.2222222222222222,\"#7201a8\"],[0.3333333333333333,\"#9c179e\"],[0.4444444444444444,\"#bd3786\"],[0.5555555555555556,\"#d8576b\"],[0.6666666666666666,\"#ed7953\"],[0.7777777777777778,\"#fb9f3a\"],[0.8888888888888888,\"#fdca26\"],[1.0,\"#f0f921\"]],\"type\":\"histogram2dcontour\"}],\"mesh3d\":[{\"colorbar\":{\"outlinewidth\":0,\"ticks\":\"\"},\"type\":\"mesh3d\"}],\"parcoords\":[{\"line\":{\"colorbar\":{\"outlinewidth\":0,\"ticks\":\"\"}},\"type\":\"parcoords\"}],\"pie\":[{\"automargin\":true,\"type\":\"pie\"}],\"scatter\":[{\"marker\":{\"colorbar\":{\"outlinewidth\":0,\"ticks\":\"\"}},\"type\":\"scatter\"}],\"scatter3d\":[{\"line\":{\"colorbar\":{\"outlinewidth\":0,\"ticks\":\"\"}},\"marker\":{\"colorbar\":{\"outlinewidth\":0,\"ticks\":\"\"}},\"type\":\"scatter3d\"}],\"scattercarpet\":[{\"marker\":{\"colorbar\":{\"outlinewidth\":0,\"ticks\":\"\"}},\"type\":\"scattercarpet\"}],\"scattergeo\":[{\"marker\":{\"colorbar\":{\"outlinewidth\":0,\"ticks\":\"\"}},\"type\":\"scattergeo\"}],\"scattergl\":[{\"marker\":{\"colorbar\":{\"outlinewidth\":0,\"ticks\":\"\"}},\"type\":\"scattergl\"}],\"scattermapbox\":[{\"marker\":{\"colorbar\":{\"outlinewidth\":0,\"ticks\":\"\"}},\"type\":\"scattermapbox\"}],\"scatterpolar\":[{\"marker\":{\"colorbar\":{\"outlinewidth\":0,\"ticks\":\"\"}},\"type\":\"scatterpolar\"}],\"scatterpolargl\":[{\"marker\":{\"colorbar\":{\"outlinewidth\":0,\"ticks\":\"\"}},\"type\":\"scatterpolargl\"}],\"scatterternary\":[{\"marker\":{\"colorbar\":{\"outlinewidth\":0,\"ticks\":\"\"}},\"type\":\"scatterternary\"}],\"surface\":[{\"colorbar\":{\"outlinewidth\":0,\"ticks\":\"\"},\"colorscale\":[[0.0,\"#0d0887\"],[0.1111111111111111,\"#46039f\"],[0.2222222222222222,\"#7201a8\"],[0.3333333333333333,\"#9c179e\"],[0.4444444444444444,\"#bd3786\"],[0.5555555555555556,\"#d8576b\"],[0.6666666666666666,\"#ed7953\"],[0.7777777777777778,\"#fb9f3a\"],[0.8888888888888888,\"#fdca26\"],[1.0,\"#f0f921\"]],\"type\":\"surface\"}],\"table\":[{\"cells\":{\"fill\":{\"color\":\"#EBF0F8\"},\"line\":{\"color\":\"white\"}},\"header\":{\"fill\":{\"color\":\"#C8D4E3\"},\"line\":{\"color\":\"white\"}},\"type\":\"table\"}]},\"layout\":{\"annotationdefaults\":{\"arrowcolor\":\"#2a3f5f\",\"arrowhead\":0,\"arrowwidth\":1},\"autotypenumbers\":\"strict\",\"coloraxis\":{\"colorbar\":{\"outlinewidth\":0,\"ticks\":\"\"}},\"colorscale\":{\"diverging\":[[0,\"#8e0152\"],[0.1,\"#c51b7d\"],[0.2,\"#de77ae\"],[0.3,\"#f1b6da\"],[0.4,\"#fde0ef\"],[0.5,\"#f7f7f7\"],[0.6,\"#e6f5d0\"],[0.7,\"#b8e186\"],[0.8,\"#7fbc41\"],[0.9,\"#4d9221\"],[1,\"#276419\"]],\"sequential\":[[0.0,\"#0d0887\"],[0.1111111111111111,\"#46039f\"],[0.2222222222222222,\"#7201a8\"],[0.3333333333333333,\"#9c179e\"],[0.4444444444444444,\"#bd3786\"],[0.5555555555555556,\"#d8576b\"],[0.6666666666666666,\"#ed7953\"],[0.7777777777777778,\"#fb9f3a\"],[0.8888888888888888,\"#fdca26\"],[1.0,\"#f0f921\"]],\"sequentialminus\":[[0.0,\"#0d0887\"],[0.1111111111111111,\"#46039f\"],[0.2222222222222222,\"#7201a8\"],[0.3333333333333333,\"#9c179e\"],[0.4444444444444444,\"#bd3786\"],[0.5555555555555556,\"#d8576b\"],[0.6666666666666666,\"#ed7953\"],[0.7777777777777778,\"#fb9f3a\"],[0.8888888888888888,\"#fdca26\"],[1.0,\"#f0f921\"]]},\"colorway\":[\"#636efa\",\"#EF553B\",\"#00cc96\",\"#ab63fa\",\"#FFA15A\",\"#19d3f3\",\"#FF6692\",\"#B6E880\",\"#FF97FF\",\"#FECB52\"],\"font\":{\"color\":\"#2a3f5f\"},\"geo\":{\"bgcolor\":\"white\",\"lakecolor\":\"white\",\"landcolor\":\"#E5ECF6\",\"showlakes\":true,\"showland\":true,\"subunitcolor\":\"white\"},\"hoverlabel\":{\"align\":\"left\"},\"hovermode\":\"closest\",\"mapbox\":{\"style\":\"light\"},\"paper_bgcolor\":\"white\",\"plot_bgcolor\":\"#E5ECF6\",\"polar\":{\"angularaxis\":{\"gridcolor\":\"white\",\"linecolor\":\"white\",\"ticks\":\"\"},\"bgcolor\":\"#E5ECF6\",\"radialaxis\":{\"gridcolor\":\"white\",\"linecolor\":\"white\",\"ticks\":\"\"}},\"scene\":{\"xaxis\":{\"backgroundcolor\":\"#E5ECF6\",\"gridcolor\":\"white\",\"gridwidth\":2,\"linecolor\":\"white\",\"showbackground\":true,\"ticks\":\"\",\"zerolinecolor\":\"white\"},\"yaxis\":{\"backgroundcolor\":\"#E5ECF6\",\"gridcolor\":\"white\",\"gridwidth\":2,\"linecolor\":\"white\",\"showbackground\":true,\"ticks\":\"\",\"zerolinecolor\":\"white\"},\"zaxis\":{\"backgroundcolor\":\"#E5ECF6\",\"gridcolor\":\"white\",\"gridwidth\":2,\"linecolor\":\"white\",\"showbackground\":true,\"ticks\":\"\",\"zerolinecolor\":\"white\"}},\"shapedefaults\":{\"line\":{\"color\":\"#2a3f5f\"}},\"ternary\":{\"aaxis\":{\"gridcolor\":\"white\",\"linecolor\":\"white\",\"ticks\":\"\"},\"baxis\":{\"gridcolor\":\"white\",\"linecolor\":\"white\",\"ticks\":\"\"},\"bgcolor\":\"#E5ECF6\",\"caxis\":{\"gridcolor\":\"white\",\"linecolor\":\"white\",\"ticks\":\"\"}},\"title\":{\"x\":0.05},\"xaxis\":{\"automargin\":true,\"gridcolor\":\"white\",\"linecolor\":\"white\",\"ticks\":\"\",\"title\":{\"standoff\":15},\"zerolinecolor\":\"white\",\"zerolinewidth\":2},\"yaxis\":{\"automargin\":true,\"gridcolor\":\"white\",\"linecolor\":\"white\",\"ticks\":\"\",\"title\":{\"standoff\":15},\"zerolinecolor\":\"white\",\"zerolinewidth\":2}}},\"title\":{\"font\":{\"size\":30},\"text\":\"Ajuste de minimos cuadrados\"}},                        {\"responsive\": true}                    ).then(function(){\n",
              "                            \n",
              "var gd = document.getElementById('97970a38-f680-4584-b6af-83ea1bc9265f');\n",
              "var x = new MutationObserver(function (mutations, observer) {{\n",
              "        var display = window.getComputedStyle(gd).display;\n",
              "        if (!display || display === 'none') {{\n",
              "            console.log([gd, 'removed!']);\n",
              "            Plotly.purge(gd);\n",
              "            observer.disconnect();\n",
              "        }}\n",
              "}});\n",
              "\n",
              "// Listen for the removal of the full notebook cells\n",
              "var notebookContainer = gd.closest('#notebook-container');\n",
              "if (notebookContainer) {{\n",
              "    x.observe(notebookContainer, {childList: true});\n",
              "}}\n",
              "\n",
              "// Listen for the clearing of the current output cell\n",
              "var outputEl = gd.closest('.output');\n",
              "if (outputEl) {{\n",
              "    x.observe(outputEl, {childList: true});\n",
              "}}\n",
              "\n",
              "                        })                };                            </script>        </div>\n",
              "</body>\n",
              "</html>"
            ]
          },
          "metadata": {},
          "output_type": "display_data"
        }
      ],
      "source": [
        "X = [0, 1, 2, 3, 4, 5]\n",
        "y = [1, 2.7, 5.8, 6.6, 7.5, 9.9]\n",
        "\n",
        "for i in range(6):\n",
        "  ec_norma_grad(X, y, i)\n"
      ]
    },
    {
      "cell_type": "markdown",
      "metadata": {
        "id": "HylRGSAHy16y"
      },
      "source": [
        "> - <font color=red> ¿Qué polinomio ajusta mejor el comportamiento de los datos?</font>\n",
        "\n",
        "El polinomio de grado 5 es el que ajusta mejor\n",
        "\n",
        "> - <font color=red> Explica tu respuesta anterior.</font>\n",
        "\n",
        "Lo anterior se debe a que estamos sobre ajustando el modelo a nuestros datos, pues entre mayor sea el grado del polinomio entonces el ajuste será mejor."
      ]
    },
    {
      "cell_type": "markdown",
      "metadata": {
        "id": "zGq37oUj1lXe"
      },
      "source": [
        "## Ejercicio 4\n",
        "Escribe un programa que calcule la factorización QR mediante las reflexiones de Householder de la siguiente matriz: \n",
        "\n",
        "$$A = \\left(\\begin{array}{cc} 1.0 & 1.0 & 1.5\\\\ 1.5 & 1.0 & 1.0  \\\\ 1.0 & 1.5 & 1.0 \\\\ 0.0 & 0.5 & -0.5 \\\\ -0.5 & 0.5 & 0.0\\end{array}\\right)$$"
      ]
    },
    {
      "cell_type": "code",
      "execution_count": null,
      "metadata": {
        "colab": {
          "base_uri": "https://localhost:8080/"
        },
        "id": "AyyBHgR--BT4",
        "outputId": "e7e58f66-f433-4d36-b5c0-fd0a356ba9b4"
      },
      "outputs": [
        {
          "name": "stdout",
          "output_type": "stream",
          "text": [
            "La matriz es \n",
            " [[ 1.   1.   1.5]\n",
            " [ 1.5  1.   1. ]\n",
            " [ 1.   1.5  1. ]\n",
            " [ 0.   0.5 -0.5]\n",
            " [-0.5  0.5  0. ]] \n",
            "\n",
            "La factorización QR de A es: \n",
            "\n",
            "Matriz R:\n",
            "[[-2.12132  -1.767767 -1.885618]\n",
            " [-0.        1.274755  0.32686 ]\n",
            " [-0.       -0.        0.915209]] \n",
            "\n",
            "Matriz Q:\n",
            "[[-0.471405  0.130744  0.621034  0.564321 -0.237786]\n",
            " [-0.707107 -0.196116 -0.294174  0.03608   0.611309]\n",
            " [-0.471405  0.522976 -0.065372 -0.600401 -0.373523]\n",
            " [ 0.        0.392232 -0.686406  0.564321 -0.237786]\n",
            " [ 0.235702  0.719092  0.228802  0.03608   0.611309]] \n",
            "\n"
          ]
        }
      ],
      "source": [
        "def columnas(x):\n",
        "    \"\"\"\n",
        "    Convierte 1d arrays a vectores columna\n",
        "    \"\"\"\n",
        "    x.shape = (1, x.shape[0])\n",
        "    return x\n",
        "\n",
        "def norma(x):\n",
        "    \"\"\"\n",
        "    Calcula la norma del vector\n",
        "    \"\"\"\n",
        "    return np.sqrt(np.sum(np.square(x)))\n",
        "\n",
        "def householder(v):\n",
        "    \"\"\"\n",
        "    Nos devuelve la matriz de Householder\n",
        "    \"\"\"\n",
        "    tamaño_v = v.shape[1]\n",
        "    e1 = np.zeros_like(v)\n",
        "    e1[0, 0] = 1\n",
        "    vector = norma(v) * e1\n",
        "    if v[0, 0] < 0:\n",
        "        vector = - vector\n",
        "    u = (v + vector).astype(np.float32)\n",
        "    H = np.identity(tamaño_v) - ((2 * np.matmul(np.transpose(u), u)) / np.matmul(u, np.transpose(u)))\n",
        "    return H\n",
        "\n",
        "def fact_qr(q, r, iter, n):\n",
        "    \"\"\"\n",
        "    Devuelve la factorización Q R de una matriz\n",
        "    \"\"\"\n",
        "    v = columnas(r[iter:, iter])\n",
        "    Hbar = householder(v)\n",
        "    H = np.identity(n)\n",
        "    H[iter:, iter:] = Hbar\n",
        "    r = np.matmul(H, r)\n",
        "    q = np.matmul(q, H)\n",
        "    return q, r\n",
        "\n",
        "def main():\n",
        "    A = np.array([[1.0, 1.0, 1.5], \n",
        "         [1.5, 1.0, 1.0],\n",
        "         [1.0, 1.5, 1.0],\n",
        "         [0.0, 0.5, -0.5],\n",
        "         [-0.5, 0.5, 0.0]])\n",
        "    n = 5\n",
        "    m = 3\n",
        "    print('La matriz es \\n', A, '\\n')\n",
        "    Q = np.identity(n)\n",
        "    R = A.astype(np.float32)\n",
        "    for i in range(min(n, m)):\n",
        "        Q, R = fact_qr(Q, R, i, n)\n",
        "    min_dim = min(m, n)\n",
        "    R = np.around(R, decimals=6)\n",
        "    R = R[:min_dim, :min_dim]\n",
        "    Q = np.around(Q, decimals=6)\n",
        "    print('La factorización QR de A es: \\n')\n",
        "    print('Matriz R:')\n",
        "    print(R, '\\n')\n",
        "    print('Matriz Q:')\n",
        "    print(Q, '\\n')\n",
        "if __name__ == \"__main__\":\n",
        "    main()"
      ]
    },
    {
      "cell_type": "markdown",
      "metadata": {
        "id": "Iv8NMAaj-Cnn"
      },
      "source": [
        "## Ejercicio 5\n",
        "Escribe un programa que, utilizando el método de descomposición QR, encuentre el polinomio de grado 2 que mejor se ajuste a los datos de la tabla:\n",
        "\n",
        "\n",
        "$$t =\\: 0.0 \\quad\\: 1.0 \\quad\\:\\: 2.0 \\quad\\:\\: 3.0  $$\n",
        "$$y = 7.0 \\quad 11.0 \\quad 17.0 \\quad 25.0 $$"
      ]
    },
    {
      "cell_type": "code",
      "execution_count": null,
      "metadata": {
        "colab": {
          "base_uri": "https://localhost:8080/",
          "height": 924
        },
        "id": "wsoHHoyJ_wBO",
        "outputId": "0f184558-b862-4d4a-dbb2-eaeaec13844f"
      },
      "outputs": [
        {
          "name": "stdout",
          "output_type": "stream",
          "text": [
            "Tenemos el siguiente conjunto de puntos\n",
            "Nuestros valores de las abcisas son \n",
            " [[0.]\n",
            " [1.]\n",
            " [2.]\n",
            " [3.]]\n",
            "Nuestros valores de las ordenada son \n",
            " [[ 7.]\n",
            " [11.]\n",
            " [17.]\n",
            " [25.]]\n",
            "La matriz V será \n",
            " [[1. 0. 0.]\n",
            " [1. 1. 1.]\n",
            " [1. 2. 4.]\n",
            " [1. 3. 9.]]\n",
            "La factorización QR de V es:\n",
            "Matriz R:\n",
            "[[-2.       -3.       -7.      ]\n",
            " [-0.        2.236068  6.708204]\n",
            " [ 0.        0.        2.      ]] \n",
            "\n",
            "Matriz Q:\n",
            "[[-0.5      -0.67082   0.5      -0.223607]\n",
            " [-0.5      -0.223607 -0.5       0.67082 ]\n",
            " [-0.5       0.223607 -0.5      -0.67082 ]\n",
            " [-0.5       0.67082   0.5       0.223607]] \n",
            "\n",
            "Matriz transpuesta de Q:\n",
            "[[-0.5      -0.5      -0.5      -0.5     ]\n",
            " [-0.67082  -0.223607  0.223607  0.67082 ]\n",
            " [ 0.5      -0.5      -0.5       0.5     ]\n",
            " [-0.223607  0.67082  -0.67082   0.223607]] \n",
            "\n",
            "Nuestro vector solución será:\n",
            "[7.00000402 2.99999732 1.        ] \n",
            "\n",
            "Nuestro polinomio será: 7.000004024922319 + 2.9999973167184537 x + 1.0 x**2\n"
          ]
        },
        {
          "data": {
            "image/png": "[encoded data removed]",
            "text/plain": [
              "<Figure size 432x288 with 1 Axes>"
            ]
          },
          "metadata": {
            "needs_background": "light"
          },
          "output_type": "display_data"
        }
      ],
      "source": [
        "print(\"Tenemos el siguiente conjunto de puntos\")\n",
        "t = np.array([[0], [1.0], [2.0] ,[3.0]])\n",
        "y = np.array([[7.0] , [11.0] , [17.0], [25.0]])\n",
        "print(\"Nuestros valores de las abcisas son \\n\", t)\n",
        "print(\"Nuestros valores de las ordenada son \\n\", y)\n",
        "\n",
        "\n",
        "# Como queremos un polinomio de grado 2 debemos construir nuestra matriz V\n",
        "# V = np.vander(t, N = 3) \n",
        "V = np.array([[1.0, 0.0, 0.0],\n",
        "             [1.0, 1.0, 1.0],\n",
        "              [1.0, 2.0, 4.0],\n",
        "              [1.0, 3.0, 9.0]])\n",
        "\n",
        "# Ahora encontremos la factorización QR de V\n",
        "def main():\n",
        "    A = V\n",
        "    n = 4  \n",
        "    m = 3\n",
        "    print('La matriz V será \\n', A)\n",
        "    Q = np.identity(n)\n",
        "    R = A.astype(np.float32)\n",
        "    for i in range(min(n, m)):\n",
        "        Q, R = fact_qr(Q, R, i, n)\n",
        "    min_dim = min(m, n)\n",
        "    R = np.around(R, decimals=6)\n",
        "    R = R[:min_dim, :min_dim]\n",
        "    Q = np.around(Q, decimals=6)\n",
        "    print('La factorización QR de V es:')\n",
        "    print('Matriz R:')\n",
        "    print(R, '\\n')\n",
        "    print('Matriz Q:')\n",
        "    print(Q, '\\n')\n",
        "\n",
        "    # Ya que tenemos la factorización QR debemos resolver Ra = Q^T y\n",
        "    QT = np.transpose(Q)\n",
        "    print('Matriz transpuesta de Q:')\n",
        "    print(QT, '\\n')\n",
        "    QTy = np.dot(QT, y)\n",
        "    b = np.array([QTy[i,0] for i in range(3)])\n",
        "    a = np.linalg.solve(R,b)\n",
        "    print(\"Nuestro vector solución será:\")\n",
        "    print(a, '\\n')\n",
        "    print(\"Nuestro polinomio será:\", a[0],\"+\",a[1],\"x +\",a[2],\"x**2\")\n",
        "\n",
        "    # Grafiquemos\n",
        "    ts = [0, 1.0, 2.0 ,3.0]\n",
        "    ys = [7.0 ,11.0 ,17.0, 25.0]\n",
        "    xis = np.linspace(-5, 5 ,100)\n",
        "    yis = a[0] + a[1]*xis + a[2]*xis**2\n",
        "    plt.plot(xis, yis, 'r')\n",
        "    plt.grid()\n",
        "    plt.scatter(ts, ys)\n",
        "    plt.show()\n",
        "\n",
        "\n",
        "if __name__ == \"__main__\":\n",
        "    main()\n",
        "\n",
        "\n"
      ]
    },
    {
      "cell_type": "markdown",
      "metadata": {
        "id": "pk9JMoUeWpjp"
      },
      "source": [
        "# Resolución de ecuaciones no lineales"
      ]
    },
    {
      "cell_type": "markdown",
      "metadata": {
        "id": "Qg9naJ-3Wpjq"
      },
      "source": [
        "## Ejercicio 6\n",
        "El número áureo está dado por\n",
        "\n",
        "$$\\phi = \\frac{1+\\sqrt{5}}{2},$$\n",
        "\n",
        "y es solución de la ecuación\n",
        "\n",
        "$$ x ^2 - x - 1 = 0.$$\n",
        "\n",
        "Escribe un programa que mediante el método de bisección calcule aproximaciones $x_k$ de la raíz positiva de la ecuación cuadrática anterior con una tolerancia de error de $\\vert x_k - \\phi \\vert \\leq 10^{-10}$, donde el valor de $\\phi$ es calculado por la máquina. Para cada iteración imprime $k$, el valor $x_k$ y el error."
      ]
    },
    {
      "cell_type": "code",
      "execution_count": null,
      "metadata": {
        "colab": {
          "base_uri": "https://localhost:8080/"
        },
        "id": "QwP6zG77Wpjr",
        "outputId": "2691ce54-e932-4063-f016-b5402c9f6b92"
      },
      "outputs": [
        {
          "name": "stdout",
          "output_type": "stream",
          "text": [
            "***\n",
            "Itenarion 1\n",
            "x_k = 1.5\n",
            "error = 0.25\n",
            "***\n",
            "Itenarion 2\n",
            "x_k = 1.75\n",
            "error = 0.3125\n",
            "***\n",
            "Itenarion 3\n",
            "x_k = 1.625\n",
            "error = 0.015625\n",
            "***\n",
            "Itenarion 4\n",
            "x_k = 1.5625\n",
            "error = 0.12109375\n",
            "***\n",
            "Itenarion 5\n",
            "x_k = 1.59375\n",
            "error = 0.0537109375\n",
            "***\n",
            "Itenarion 6\n",
            "x_k = 1.609375\n",
            "error = 0.019287109375\n",
            "***\n",
            "Itenarion 7\n",
            "x_k = 1.6171875\n",
            "error = 0.00189208984375\n",
            "***\n",
            "Itenarion 8\n",
            "x_k = 1.62109375\n",
            "error = 0.0068511962890625\n",
            "***\n",
            "Itenarion 9\n",
            "x_k = 1.619140625\n",
            "error = 0.002475738525390625\n",
            "***\n",
            "Itenarion 10\n",
            "x_k = 1.6181640625\n",
            "error = 0.00029087066650390625\n",
            "***\n",
            "Itenarion 11\n",
            "x_k = 1.61767578125\n",
            "error = 0.0008008480072021484\n",
            "***\n",
            "Itenarion 12\n",
            "x_k = 1.617919921875\n",
            "error = 0.0002550482749938965\n",
            "***\n",
            "Itenarion 13\n",
            "x_k = 1.6180419921875\n",
            "error = 1.7896294593811035e-05\n",
            "***\n",
            "Itenarion 14\n",
            "x_k = 1.61798095703125\n",
            "error = 0.00011857971549034119\n",
            "***\n",
            "Itenarion 15\n",
            "x_k = 1.618011474609375\n",
            "error = 5.034264177083969e-05\n",
            "***\n",
            "Itenarion 16\n",
            "x_k = 1.6180267333984375\n",
            "error = 1.6223406419157982e-05\n",
            "***\n",
            "Itenarion 17\n",
            "x_k = 1.6180343627929688\n",
            "error = 8.363858796656132e-07\n",
            "***\n",
            "Itenarion 18\n",
            "x_k = 1.6180305480957031\n",
            "error = 7.693524821661413e-06\n",
            "***\n",
            "Itenarion 19\n",
            "x_k = 1.618032455444336\n",
            "error = 3.428573108976707e-06\n",
            "***\n",
            "Itenarion 20\n",
            "x_k = 1.6180334091186523\n",
            "error = 1.2960945241502486e-06\n",
            "***\n",
            "Itenarion 21\n",
            "x_k = 1.6180338859558105\n",
            "error = 2.2985454961599316e-07\n",
            "***\n",
            "Itenarion 22\n",
            "x_k = 1.6180341243743896\n",
            "error = 3.0326560818139114e-07\n",
            "***\n",
            "Itenarion 23\n",
            "x_k = 1.6180340051651\n",
            "error = 3.6705515071844275e-08\n",
            "***\n",
            "Itenarion 24\n",
            "x_k = 1.6180339455604553\n",
            "error = 9.657452082478812e-08\n",
            "***\n",
            "Itenarion 25\n",
            "x_k = 1.6180339753627777\n",
            "error = 2.9934503764650344e-08\n",
            "***\n",
            "Itenarion 26\n",
            "x_k = 1.618033990263939\n",
            "error = 3.3855052095077554e-09\n",
            "***\n",
            "Itenarion 27\n",
            "x_k = 1.6180339828133583\n",
            "error = 1.3274499277571294e-08\n",
            "***\n",
            "Itenarion 28\n",
            "x_k = 1.6180339865386486\n",
            "error = 4.944496811987165e-09\n",
            "***\n",
            "Itenarion 29\n",
            "x_k = 1.6180339884012938\n",
            "error = 7.794955791950997e-10\n",
            "***\n",
            "Itenarion 30\n",
            "x_k = 1.6180339893326163\n",
            "error = 1.3030048151563278e-09\n",
            "***\n",
            "Itenarion 31\n",
            "x_k = 1.618033988866955\n",
            "error = 2.6175461798061406e-10\n",
            "***\n",
            "Itenarion 32\n",
            "x_k = 1.6180339886341244\n",
            "error = 2.5887070265184775e-10\n",
            "***\n",
            "Itenarion 33\n",
            "x_k = 1.6180339887505397\n",
            "error = 1.4419576643831533e-12\n",
            "\n",
            " ******El número aureo es aproximadamente 1.6180339887505397\n"
          ]
        }
      ],
      "source": [
        "#Tomemos el intervalo [1, 2] para poder usar el metodo de biseccion\n",
        "\n",
        "def aureo(x):\n",
        "  return x**2 - x -1\n",
        "\n",
        "a = 1\n",
        "b = 2\n",
        "k = 0\n",
        "\n",
        "bandera = True\n",
        "\n",
        "while bandera:\n",
        "  k += 1\n",
        "  c = a + (b-a)/2\n",
        "\n",
        "  if aureo(a)*aureo(c) < 0:\n",
        "    b = c\n",
        "  elif aureo(c)*aureo(b):\n",
        "    a = c\n",
        "\n",
        "  #El error lo obtenemos directamente al evaluar la funcion aurea en c\n",
        "  error = aureo(c)\n",
        "  print('***')\n",
        "  print(f'Itenarion {k}')\n",
        "  print(f'x_k = {c}')\n",
        "  print(f'error = {abs(error)}')\n",
        "\n",
        "\n",
        "  #Usamos la cota del error dada por el teorema de la biseccion para detener el ciclo\n",
        "  if 2**(-k-1) < 10**(-10):\n",
        "    bandera = False\n",
        "    print(f'\\n ******El número aureo es aproximadamente {c}')\n",
        "  "
      ]
    },
    {
      "cell_type": "markdown",
      "metadata": {
        "id": "95SeDGdyWpjr"
      },
      "source": [
        "Escribe otro programa que mediante el método de la secante calcule una aproximación $x_k$ de la raíz positiva de la ecuación cuadrática arriba mencionada; utiliza la misma tolerancia de error $\\vert x_k - \\phi \\vert \\leq 10^{-10}$.  Para cada iteración imprime $k$, el valor $x_k$ y el error."
      ]
    },
    {
      "cell_type": "code",
      "execution_count": null,
      "metadata": {
        "colab": {
          "base_uri": "https://localhost:8080/"
        },
        "id": "0jyMwRTJWpjs",
        "outputId": "2a27c175-e2c5-4e18-90d1-761188568649"
      },
      "outputs": [
        {
          "name": "stdout",
          "output_type": "stream",
          "text": [
            "Iteración 1\n",
            "x_k = 1.5\n",
            "error = -0.25\n",
            "Iteración 2\n",
            "x_k = 1.6666666666666667\n",
            "error = 0.11111111111111138\n",
            "Iteración 3\n",
            "x_k = 1.6153846153846154\n",
            "error = -0.005917159763313418\n",
            "Iteración 4\n",
            "x_k = 1.6179775280898876\n",
            "error = -0.00012624668602478906\n",
            "Iteración 5\n",
            "x_k = 1.6180340557275543\n",
            "error = 1.4976660400733977e-07\n",
            "Iteración 6\n",
            "x_k = 1.6180339887482036\n",
            "error = -3.781641666478208e-12\n",
            "\n",
            " ******El número aureo es aproximadamente 1.6180339887505397\n"
          ]
        }
      ],
      "source": [
        "#Tomamos las aproximaciones iniciales\n",
        "xn = 1\n",
        "xn_1 = 2\n",
        "k = 0\n",
        "\n",
        "bandera = True\n",
        "\n",
        "while bandera:\n",
        "  #Contador de las iteraciones\n",
        "  k += 1\n",
        "  a = xn - xn_1\n",
        "  b = aureo(xn) - aureo(xn_1)\n",
        "\n",
        "  #Formula del metodo de la secante\n",
        "  secante = xn - (a/b)*aureo(xn)\n",
        "  #Actualizamos los terminos n y el n-1\n",
        "  xn, xn_1 = secante, xn\n",
        "  error = aureo(xn)\n",
        "\n",
        "  #Imrpimimos la iteracion, el valor de x_k y el error\n",
        "  print(f'Iteración {k}')\n",
        "  print(f'x_k = {xn}')\n",
        "  print(f'error = {error}')\n",
        "\n",
        "  #Si el error es menor que la cota dada, terminamos el bucle\n",
        "  if abs(error) < 10**(-10):\n",
        "    bandera = False\n",
        "    print(f'\\n ******El número aureo es aproximadamente {c}')"
      ]
    },
    {
      "cell_type": "markdown",
      "metadata": {
        "id": "XPCrEBoTWpjs"
      },
      "source": [
        "> - <font color=red> ¿Qué método converge en menos iteraciones?</font>\n",
        "\n",
        "En este caso el método que converge más rápido es el método de la secante\n",
        "> - <font color=red> Explica tu respuesta.\n",
        "\n",
        "El número de iteraciones que se hacen usando el método de la secante son 6, mientras que el método de la bisección usó 33 iteraciones.\n",
        "\n",
        "Por lo visto en clase, el método de la bisección tiene una convergencia muy lenta, es más rápido usar Newton-Rhapson, y como el método de la secante es una variación del de Newton, entonces eso explica su rápida convergencia"
      ]
    },
    {
      "cell_type": "markdown",
      "metadata": {
        "id": "hQiFszv8Wpjt"
      },
      "source": [
        "## Ejercicio 7\n",
        "La siguiente ecuación\n",
        "\n",
        "$$ \\left( p+ \\frac{n^2a}{V^2} \\right)\\left( V-nb \\right) = nRT$$\n",
        "\n",
        "se conoce como ecuación de Van der Waals y describe el comportamiento de un gas de manera más realista que la ecuación de gas ideal. En dicha ecuación: $p$ es la presión, $V$ es el volumen, $n$ es el número de moles del gas, $a$ y $b$ son constantes que dependen del gas en cuestión, $R = 8.3145 \\frac{J}{mol\\cdot K}$ es la constante universal de los gases y $T$ es la temperatura.\n",
        "\n",
        "Un gas tiene los siguientes parámetros: $a = 0.547 \\,Pa\\cdot m^3$, $b = 3.052\\times 10^{-5} \\frac{m^3}{mol}$, $p = 101325 \\,Pa$, $n = 70 \\,mol$ y $T = 400\\,K$. Encuentra el volumen $V$ de dicho gas por medio de un programa que utilice el método de Newton-Raphson con iteraciones $k = 1,2,...,15$. En cada iteración imprime el valor de $V_k$ y la tolerancia de error.\n",
        "*Sugerencia*: multiplica por $V^2$ ambos miembros de la ecuación y encuentra la raíz positiva de la ecuación cúbica resultante."
      ]
    },
    {
      "cell_type": "code",
      "execution_count": null,
      "metadata": {
        "colab": {
          "base_uri": "https://localhost:8080/"
        },
        "id": "Z51IVE0CWpjt",
        "outputId": "dfa1e038-812c-43c7-fb0e-27535e0b49d5"
      },
      "outputs": [
        {
          "name": "stdout",
          "output_type": "stream",
          "text": [
            "El volumen aproximado es: 215.9376152768815 metros cúbicos\n"
          ]
        }
      ],
      "source": [
        "a = 0.547\n",
        "b = 3.052\n",
        "p = 101325\n",
        "n = 70\n",
        "T = 400\n",
        "R = 8.3145\n",
        "\n",
        "def h(V):\n",
        "  return p*V**3 - (p*n*b + n*R*T)*V**2 + (n**2)*a*V - a*b*n**3\n",
        "\n",
        "def h_derivada(V):\n",
        "  return 3*p*V**2 - 2*(p*n*b + n*R*T)*V + (n**2)*a \n",
        "\n",
        "x0 = 0\n",
        "\n",
        "for _ in range(15):\n",
        "  x0 = x0 - h(x0)/h_derivada(x0)\n",
        "\n",
        "print(f'El volumen aproximado es: {x0} metros cúbicos')"
      ]
    },
    {
      "cell_type": "markdown",
      "metadata": {
        "id": "l_ZVacJRWpju"
      },
      "source": [
        "## Ejercicio 8\n",
        "\n",
        "Escribe una rutina que mediante el método de punto fíjo calcule la raíz de la ecuación:\n",
        "\n",
        "$$ x^2 + 3x -4 = 0, $$\n",
        "\n",
        "considera $g(x) = \\frac{4}{x + 3}$. En cada iteración imprime el número de pasos y utiliza una tolerancia de error de $10^{-8}$."
      ]
    },
    {
      "cell_type": "code",
      "execution_count": null,
      "metadata": {
        "colab": {
          "base_uri": "https://localhost:8080/",
          "height": 506
        },
        "id": "GJoghkSxWpju",
        "outputId": "75b03966-b4cb-417e-c518-f1a0483f55b4"
      },
      "outputs": [
        {
          "name": "stdout",
          "output_type": "stream",
          "text": [
            "El valor de la raiz de la ecuación es x= 1.0000000053218434\n"
          ]
        },
        {
          "data": {
            "text/html": [
              "\n",
              "  <div id=\"df-6ab1d33a-0a88-477e-96e2-3893f693c83a\">\n",
              "    <div class=\"colab-df-container\">\n",
              "      <div>\n",
              "<style scoped>\n",
              "    .dataframe tbody tr th:only-of-type {\n",
              "        vertical-align: middle;\n",
              "    }\n",
              "\n",
              "    .dataframe tbody tr th {\n",
              "        vertical-align: top;\n",
              "    }\n",
              "\n",
              "    .dataframe thead th {\n",
              "        text-align: right;\n",
              "    }\n",
              "</style>\n",
              "<table border=\"1\" class=\"dataframe\">\n",
              "  <thead>\n",
              "    <tr style=\"text-align: right;\">\n",
              "      <th></th>\n",
              "      <th>Iteraciones</th>\n",
              "      <th>Aprox. de la raiz</th>\n",
              "      <th>f(x)</th>\n",
              "    </tr>\n",
              "  </thead>\n",
              "  <tbody>\n",
              "    <tr>\n",
              "      <th>0</th>\n",
              "      <td>1</td>\n",
              "      <td>0.666667</td>\n",
              "      <td>-1.555556e+00</td>\n",
              "    </tr>\n",
              "    <tr>\n",
              "      <th>1</th>\n",
              "      <td>2</td>\n",
              "      <td>1.090909</td>\n",
              "      <td>4.628099e-01</td>\n",
              "    </tr>\n",
              "    <tr>\n",
              "      <th>2</th>\n",
              "      <td>3</td>\n",
              "      <td>0.977778</td>\n",
              "      <td>-1.106173e-01</td>\n",
              "    </tr>\n",
              "    <tr>\n",
              "      <th>3</th>\n",
              "      <td>4</td>\n",
              "      <td>1.005587</td>\n",
              "      <td>2.796417e-02</td>\n",
              "    </tr>\n",
              "    <tr>\n",
              "      <th>4</th>\n",
              "      <td>5</td>\n",
              "      <td>0.998605</td>\n",
              "      <td>-6.971556e-03</td>\n",
              "    </tr>\n",
              "    <tr>\n",
              "      <th>5</th>\n",
              "      <td>6</td>\n",
              "      <td>1.000349</td>\n",
              "      <td>1.744105e-03</td>\n",
              "    </tr>\n",
              "    <tr>\n",
              "      <th>6</th>\n",
              "      <td>7</td>\n",
              "      <td>0.999913</td>\n",
              "      <td>-4.359502e-04</td>\n",
              "    </tr>\n",
              "    <tr>\n",
              "      <th>7</th>\n",
              "      <td>8</td>\n",
              "      <td>1.000022</td>\n",
              "      <td>1.089923e-04</td>\n",
              "    </tr>\n",
              "    <tr>\n",
              "      <th>8</th>\n",
              "      <td>9</td>\n",
              "      <td>0.999995</td>\n",
              "      <td>-2.724778e-05</td>\n",
              "    </tr>\n",
              "    <tr>\n",
              "      <th>9</th>\n",
              "      <td>10</td>\n",
              "      <td>1.000001</td>\n",
              "      <td>6.811963e-06</td>\n",
              "    </tr>\n",
              "    <tr>\n",
              "      <th>10</th>\n",
              "      <td>11</td>\n",
              "      <td>1.000000</td>\n",
              "      <td>-1.702990e-06</td>\n",
              "    </tr>\n",
              "    <tr>\n",
              "      <th>11</th>\n",
              "      <td>12</td>\n",
              "      <td>1.000000</td>\n",
              "      <td>4.257475e-07</td>\n",
              "    </tr>\n",
              "    <tr>\n",
              "      <th>12</th>\n",
              "      <td>13</td>\n",
              "      <td>1.000000</td>\n",
              "      <td>-1.064369e-07</td>\n",
              "    </tr>\n",
              "    <tr>\n",
              "      <th>13</th>\n",
              "      <td>14</td>\n",
              "      <td>1.000000</td>\n",
              "      <td>2.660922e-08</td>\n",
              "    </tr>\n",
              "  </tbody>\n",
              "</table>\n",
              "</div>\n",
              "      <button class=\"colab-df-convert\" onclick=\"convertToInteractive('df-6ab1d33a-0a88-477e-96e2-3893f693c83a')\"\n",
              "              title=\"Convert this dataframe to an interactive table.\"\n",
              "              style=\"display:none;\">\n",
              "        \n",
              "  <svg xmlns=\"http://www.w3.org/2000/svg\" height=\"24px\"viewBox=\"0 0 24 24\"\n",
              "       width=\"24px\">\n",
              "    <path d=\"M0 0h24v24H0V0z\" fill=\"none\"/>\n",
              "    <path d=\"M18.56 5.44l.94 2.06.94-2.06 2.06-.94-2.06-.94-.94-2.06-.94 2.06-2.06.94zm-11 1L8.5 8.5l.94-2.06 2.06-.94-2.06-.94L8.5 2.5l-.94 2.06-2.06.94zm10 10l.94 2.06.94-2.06 2.06-.94-2.06-.94-.94-2.06-.94 2.06-2.06.94z\"/><path d=\"M17.41 7.96l-1.37-1.37c-.4-.4-.92-.59-1.43-.59-.52 0-1.04.2-1.43.59L10.3 9.45l-7.72 7.72c-.78.78-.78 2.05 0 2.83L4 21.41c.39.39.9.59 1.41.59.51 0 1.02-.2 1.41-.59l7.78-7.78 2.81-2.81c.8-.78.8-2.07 0-2.86zM5.41 20L4 18.59l7.72-7.72 1.47 1.35L5.41 20z\"/>\n",
              "  </svg>\n",
              "      </button>\n",
              "      \n",
              "  <style>\n",
              "    .colab-df-container {\n",
              "      display:flex;\n",
              "      flex-wrap:wrap;\n",
              "      gap: 12px;\n",
              "    }\n",
              "\n",
              "    .colab-df-convert {\n",
              "      background-color: #E8F0FE;\n",
              "      border: none;\n",
              "      border-radius: 50%;\n",
              "      cursor: pointer;\n",
              "      display: none;\n",
              "      fill: #1967D2;\n",
              "      height: 32px;\n",
              "      padding: 0 0 0 0;\n",
              "      width: 32px;\n",
              "    }\n",
              "\n",
              "    .colab-df-convert:hover {\n",
              "      background-color: #E2EBFA;\n",
              "      box-shadow: 0px 1px 2px rgba(60, 64, 67, 0.3), 0px 1px 3px 1px rgba(60, 64, 67, 0.15);\n",
              "      fill: #174EA6;\n",
              "    }\n",
              "\n",
              "    [theme=dark] .colab-df-convert {\n",
              "      background-color: #3B4455;\n",
              "      fill: #D2E3FC;\n",
              "    }\n",
              "\n",
              "    [theme=dark] .colab-df-convert:hover {\n",
              "      background-color: #434B5C;\n",
              "      box-shadow: 0px 1px 3px 1px rgba(0, 0, 0, 0.15);\n",
              "      filter: drop-shadow(0px 1px 2px rgba(0, 0, 0, 0.3));\n",
              "      fill: #FFFFFF;\n",
              "    }\n",
              "  </style>\n",
              "\n",
              "      <script>\n",
              "        const buttonEl =\n",
              "          document.querySelector('#df-6ab1d33a-0a88-477e-96e2-3893f693c83a button.colab-df-convert');\n",
              "        buttonEl.style.display =\n",
              "          google.colab.kernel.accessAllowed ? 'block' : 'none';\n",
              "\n",
              "        async function convertToInteractive(key) {\n",
              "          const element = document.querySelector('#df-6ab1d33a-0a88-477e-96e2-3893f693c83a');\n",
              "          const dataTable =\n",
              "            await google.colab.kernel.invokeFunction('convertToInteractive',\n",
              "                                                     [key], {});\n",
              "          if (!dataTable) return;\n",
              "\n",
              "          const docLinkHtml = 'Like what you see? Visit the ' +\n",
              "            '<a target=\"_blank\" href=https://colab.research.google.com/notebooks/data_table.ipynb>data table notebook</a>'\n",
              "            + ' to learn more about interactive tables.';\n",
              "          element.innerHTML = '';\n",
              "          dataTable['output_type'] = 'display_data';\n",
              "          await google.colab.output.renderOutput(dataTable, element);\n",
              "          const docLink = document.createElement('div');\n",
              "          docLink.innerHTML = docLinkHtml;\n",
              "          element.appendChild(docLink);\n",
              "        }\n",
              "      </script>\n",
              "    </div>\n",
              "  </div>\n",
              "  "
            ],
            "text/plain": [
              "    Iteraciones  Aprox. de la raiz          f(x)\n",
              "0             1           0.666667 -1.555556e+00\n",
              "1             2           1.090909  4.628099e-01\n",
              "2             3           0.977778 -1.106173e-01\n",
              "3             4           1.005587  2.796417e-02\n",
              "4             5           0.998605 -6.971556e-03\n",
              "5             6           1.000349  1.744105e-03\n",
              "6             7           0.999913 -4.359502e-04\n",
              "7             8           1.000022  1.089923e-04\n",
              "8             9           0.999995 -2.724778e-05\n",
              "9            10           1.000001  6.811963e-06\n",
              "10           11           1.000000 -1.702990e-06\n",
              "11           12           1.000000  4.257475e-07\n",
              "12           13           1.000000 -1.064369e-07\n",
              "13           14           1.000000  2.660922e-08"
            ]
          },
          "execution_count": 58,
          "metadata": {},
          "output_type": "execute_result"
        }
      ],
      "source": [
        "def f(x):\n",
        "  y = x**2 + 3*x - 4\n",
        "  return y\n",
        "\n",
        "def g(x):\n",
        "  y = 4/(x+3)\n",
        "  return y\n",
        "\n",
        "x0 = float(3.0)\n",
        "j = int(0)\n",
        "\n",
        "iteraciones = []\n",
        "aprox_raiz = []\n",
        "fx = []\n",
        "\n",
        "while abs(g(x0)-x0) >= 1e-8:\n",
        "  j = j+1\n",
        "  x = g(x0)\n",
        "  x0 = x\n",
        "  iteraciones.append(j)\n",
        "  aprox_raiz.append(x0)\n",
        "  fx.append(f(x0))\n",
        "\n",
        "print('El valor de la raiz de la ecuación es x=', x0)     \n",
        "\n",
        "tabla = pd.DataFrame({'Iteraciones' : iteraciones, 'Aprox. de la raiz': aprox_raiz, 'f(x)' : fx})\n",
        "tabla"
      ]
    }
  ],
  "metadata": {
    "colab": {
      "provenance": []
    },
    "kernelspec": {
      "display_name": "Python 3 (ipykernel)",
      "language": "python",
      "name": "python3"
    },
    "language_info": {
      "codemirror_mode": {
        "name": "ipython",
        "version": 3
      },
      "file_extension": ".py",
      "mimetype": "text/x-python",
      "name": "python",
      "nbconvert_exporter": "python",
      "pygments_lexer": "ipython3",
      "version": "3.9.7"
    }
  },
  "nbformat": 4,
  "nbformat_minor": 0
}
