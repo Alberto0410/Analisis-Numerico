{
  "cells": [
    {
      "cell_type": "markdown",
      "metadata": {
        "id": "upQUXtFgmshj"
      },
      "source": [
        "# <font color=darkblue>**Universidad Nacional Autónoma de México**\n",
        "# <font color=darkblue>**Facultad de Ciencias**\n",
        "# <font color=orange>**Práctica  de Análisis Numérico**\n",
        "# <font color=orange>**Semestre 2023 - 1**\n",
        "# Dra. Úrsula Iturrarán Viveros"
      ]
    },
    {
      "cell_type": "markdown",
      "metadata": {
        "id": "AcgLoDy0WsUN"
      },
      "source": [
        "## Parte computacional\n",
        "Alumnos:\n",
        "\n",
        "*   Olvera Trejo Alberto\n",
        "*   Ramos López Gabriela"
      ]
    },
    {
      "cell_type": "code",
      "execution_count": 36,
      "metadata": {
        "id": "FkAQv9NAy_si"
      },
      "outputs": [],
      "source": [
        "import numpy as np\n",
        "from sympy import *\n",
        "import sympy as sym\n",
        "from IPython.display import display, Latex\n",
        "import plotly.graph_objects as go\n",
        "from matplotlib.axis import YAxis\n",
        "from math import *\n",
        "import matplotlib.pyplot as plt\n",
        "import pandas as pd\n",
        "import plotly.io as pio"
      ]
    },
    {
      "cell_type": "markdown",
      "metadata": {
        "id": "JyRVxwfld9Jm"
      },
      "source": [
        "# **Ajuste por mínimos cuadrados lineales**"
      ]
    },
    {
      "cell_type": "markdown",
      "metadata": {
        "id": "cOUW8SBvLnGB"
      },
      "source": [
        "## Ejercicio 1\n",
        "\n",
        "En la década de 1910, el físico Robert Millikan hizo una serie de mediciones para estudiar el efecto fotoeléctrico el cual consiste en la emisión de electrones por parte de una placa metálica cuando es irradiada con luz de distintas frecuencias; este fenómeno puede describirse por la ecuación\n",
        "$$\n",
        "V = \\frac{h}{\\mathrm{e}}\\nu - \\frac{\\phi}{\\mathrm{e}},\n",
        "$$\n",
        "\n",
        "donde $h$ es la constante de Planck, $\\mathrm{e}$ es la carga eléctrica del electrón, $\\nu$ es el valor de la frecuencia de la luz que irradia a una cierta placa metálica, $V$ es el voltaje producido por la emisión de electrones y $\\phi$ es un término que representa la cantidad de energía mínima necesaria para que la placa emita un electrón. Nótese que $V$ se puede ver como una función lineal de la forma\n",
        "$$\n",
        "V = m\\nu + b,\n",
        "$$\n",
        "\n",
        "donde $m = \\frac{h}{\\mathrm{e}}$ y $b = - \\frac{\\phi}{\\mathrm{e}}$. De esta manera, Millikan reportó los siguientes datos\n",
        "\n",
        "<table>\n",
        "<tr><th> $\\nu$ <th><th> $5.4874\\times 10^{14}$ <th><th> $6.931\\times 10^{14}$ <th><th> $7.4307\\times 10^{14}$ <th><th> $8.2193\\times 10^{14}$ <th><th> $9.6074\\times 10^{14}$ <th><th> $11.84\\times 10^{14}$<tr><tr>\n",
        "<tr><td> $V$ <td><td> $0.5309$ <td><td> $1.0842$ <td><td> $1.2734$ <td><td> $1.6598$ <td><td> $2.19856$ <td><td> $3.10891$ <td><tr>\n",
        "<table>\n",
        "    \n",
        "Escribe un programa que mediante el método de ecuaciones normales calcule la recta que mejor se ajuste a los datos reportados por Millikan."
      ]
    },
    {
      "cell_type": "code",
      "execution_count": 35,
      "metadata": {
        "id": "91VhBtrSJ79s"
      },
      "outputs": [],
      "source": [
        "def ec_norm(X, y):\n",
        "  #Transformamos en arrays\n",
        "  X = np.array(X)\n",
        "  y_vec = np.array(y).reshape(len(y), 1)\n",
        "  n = len(X)\n",
        "  #Matriz de Vandermonde\n",
        "  A = np.zeros((n, 2))\n",
        "\n",
        "\n",
        "  #Llenamos la matriz\n",
        "  for i in range(n):\n",
        "    for j in range(2):\n",
        "      A[i, j] = X[i]**j\n",
        "\n",
        "  At = np.transpose(A)\n",
        "\n",
        "  #B = A^t *A, z = A^t*y\n",
        "  B = np.matmul(At, A)\n",
        "  z = np.matmul(At, y_vec)\n",
        "\n",
        "  #Descomponemos A^t*A con Cholesky\n",
        "  L = np.linalg.cholesky(B)\n",
        "  \n",
        "  #Resolvemos L*x_0 = A^t*y\n",
        "  x_0 = np.linalg.solve(L, z)\n",
        "\n",
        "  #Ahora resolvemos L^t*a = x_0\n",
        "  a = np.linalg.solve(np.transpose(L), x_0)\n",
        "\n",
        "  #Imprimimos el polinomio de segundo grado\n",
        "  x = sym.Symbol('x')\n",
        "  \n",
        "  #Imprimimos el polinomio\n",
        "  pol = float(a[0]) + float(a[1])*x\n",
        "\n",
        "  latexpol =f'$P(x) = {latex(pol)}$'\n",
        "  print(\"***Polinomio\\n\")\n",
        "  display(Latex(latexpol))\n",
        "\n",
        "  # Graficamos \n",
        "  x_graf = np.linspace(min(X)-1, max(X)+1, 100)\n",
        "  y_graf = [float(pol.subs(x, xi)) for xi in x_graf]\n",
        "\n",
        "  fig = go.Figure()\n",
        "\n",
        "  fig.add_trace(\n",
        "      go.Scatter(x = x_graf, y = y_graf, mode = 'lines',\n",
        "                 marker=dict(color=\"LightSeaGreen\"), name = 'P(x)')\n",
        "      )\n",
        "\n",
        "  fig.add_trace(\n",
        "      go.Scatter(x = X, y = y, mode = 'markers',\n",
        "                 marker=dict(size=10, color=\"MediumPurple\"), name = 'Puntos dados')\n",
        "      )\n",
        "  fig.update_layout(title_text=\"Ajuste de minimos cuadrados lineal\",\n",
        "                  title_font_size=30, width=1400, height=700)\n",
        "  fig.show(renderer = 'svg') "
      ]
    },
    {
      "cell_type": "code",
      "execution_count": 21,
      "metadata": {
        "colab": {
          "base_uri": "https://localhost:8080/",
          "height": 599
        },
        "id": "kcUkKAD7zENN",
        "outputId": "2050fca7-7f79-414b-980d-aa87de380cc5"
      },
      "outputs": [
        {
          "name": "stdout",
          "output_type": "stream",
          "text": [
            "***Polinomio\n",
            "\n"
          ]
        },
        {
          "data": {
            "text/latex": [
              "$P(x) = 4.08822735851751 \\cdot 10^{-15} x - 1.73123580398135$"
            ],
            "text/plain": [
              "<IPython.core.display.Latex object>"
            ]
          },
          "metadata": {},
          "output_type": "display_data"
        },
        {
          "data": {
            "image/svg+xml": "<svg class=\"main-svg\" xmlns=\"http://www.w3.org/2000/svg\" xmlns:xlink=\"http://www.w3.org/1999/xlink\" width=\"1400\" height=\"700\" style=\"\" viewBox=\"0 0 1400 700\"><rect x=\"0\" y=\"0\" width=\"1400\" height=\"700\" style=\"fill: rgb(255, 255, 255); fill-opacity: 1;\"/><defs id=\"defs-1eb2d0\"><g class=\"clips\"><clipPath id=\"clip1eb2d0xyplot\" class=\"plotclip\"><rect width=\"1158\" height=\"520\"/></clipPath><clipPath class=\"axesclip\" id=\"clip1eb2d0x\"><rect x=\"80\" y=\"0\" width=\"1158\" height=\"700\"/></clipPath><clipPath class=\"axesclip\" id=\"clip1eb2d0y\"><rect x=\"0\" y=\"100\" width=\"1400\" height=\"520\"/></clipPath><clipPath class=\"axesclip\" id=\"clip1eb2d0xy\"><rect x=\"80\" y=\"100\" width=\"1158\" height=\"520\"/></clipPath></g><g class=\"gradients\"/><g class=\"patterns\"/></defs><g class=\"bglayer\"><rect class=\"bg\" x=\"80\" y=\"100\" width=\"1158\" height=\"520\" style=\"fill: rgb(229, 236, 246); fill-opacity: 1; stroke-width: 0;\"/></g><g class=\"layer-below\"><g class=\"imagelayer\"/><g class=\"shapelayer\"/></g><g class=\"cartesianlayer\"><g class=\"subplot xy\"><g class=\"layer-subplot\"><g class=\"shapelayer\"/><g class=\"imagelayer\"/></g><g class=\"minor-gridlayer\"><g class=\"x\"/><g class=\"y\"/></g><g class=\"gridlayer\"><g class=\"x\"><path class=\"xgrid crisp\" transform=\"translate(227.24,0)\" d=\"M0,100v520\" style=\"stroke: rgb(255, 255, 255); stroke-opacity: 1; stroke-width: 1px;\"/><path class=\"xgrid crisp\" transform=\"translate(389.33,0)\" d=\"M0,100v520\" style=\"stroke: rgb(255, 255, 255); stroke-opacity: 1; stroke-width: 1px;\"/><path class=\"xgrid crisp\" transform=\"translate(551.4200000000001,0)\" d=\"M0,100v520\" style=\"stroke: rgb(255, 255, 255); stroke-opacity: 1; stroke-width: 1px;\"/><path class=\"xgrid crisp\" transform=\"translate(713.51,0)\" d=\"M0,100v520\" style=\"stroke: rgb(255, 255, 255); stroke-opacity: 1; stroke-width: 1px;\"/><path class=\"xgrid crisp\" transform=\"translate(875.6,0)\" d=\"M0,100v520\" style=\"stroke: rgb(255, 255, 255); stroke-opacity: 1; stroke-width: 1px;\"/><path class=\"xgrid crisp\" transform=\"translate(1037.69,0)\" d=\"M0,100v520\" style=\"stroke: rgb(255, 255, 255); stroke-opacity: 1; stroke-width: 1px;\"/><path class=\"xgrid crisp\" transform=\"translate(1199.78,0)\" d=\"M0,100v520\" style=\"stroke: rgb(255, 255, 255); stroke-opacity: 1; stroke-width: 1px;\"/></g><g class=\"y\"><path class=\"ygrid crisp\" transform=\"translate(0,593.21)\" d=\"M80,0h1158\" style=\"stroke: rgb(255, 255, 255); stroke-opacity: 1; stroke-width: 1px;\"/><path class=\"ygrid crisp\" transform=\"translate(0,504.87)\" d=\"M80,0h1158\" style=\"stroke: rgb(255, 255, 255); stroke-opacity: 1; stroke-width: 1px;\"/><path class=\"ygrid crisp\" transform=\"translate(0,416.52)\" d=\"M80,0h1158\" style=\"stroke: rgb(255, 255, 255); stroke-opacity: 1; stroke-width: 1px;\"/><path class=\"ygrid crisp\" transform=\"translate(0,328.18)\" d=\"M80,0h1158\" style=\"stroke: rgb(255, 255, 255); stroke-opacity: 1; stroke-width: 1px;\"/><path class=\"ygrid crisp\" transform=\"translate(0,239.84)\" d=\"M80,0h1158\" style=\"stroke: rgb(255, 255, 255); stroke-opacity: 1; stroke-width: 1px;\"/><path class=\"ygrid crisp\" transform=\"translate(0,151.49)\" d=\"M80,0h1158\" style=\"stroke: rgb(255, 255, 255); stroke-opacity: 1; stroke-width: 1px;\"/></g></g><g class=\"zerolinelayer\"/><path class=\"xlines-below\"/><path class=\"ylines-below\"/><g class=\"overlines-below\"/><g class=\"xaxislayer-below\"/><g class=\"yaxislayer-below\"/><g class=\"overaxes-below\"/><g class=\"plot\" transform=\"translate(80,100)\" clip-path=\"url(#clip1eb2d0xyplot)\"><g class=\"scatterlayer mlayer\"><g class=\"trace scatter trace9fb3b1\" style=\"stroke-miterlimit: 2; opacity: 1;\"><g class=\"fills\"/><g class=\"errorbars\"/><g class=\"lines\"><path class=\"js-line\" d=\"M64.15,491.06L1093.85,32.19\" style=\"vector-effect: non-scaling-stroke; fill: none; stroke: rgb(32, 178, 170); stroke-opacity: 1; stroke-width: 2px; opacity: 1;\"/></g><g class=\"points\"/><g class=\"text\"/></g><g class=\"trace scatter trace38b1b1\" style=\"stroke-miterlimit: 2; opacity: 1;\"><g class=\"fills\"/><g class=\"errorbars\"/><g class=\"lines\"/><g class=\"points\"><path class=\"point\" transform=\"translate(64.15,487.75)\" d=\"M5,0A5,5 0 1,1 0,-5A5,5 0 0,1 5,0Z\" style=\"opacity: 1; stroke-width: 0px; fill: rgb(147, 112, 219); fill-opacity: 1;\"/><path class=\"point\" transform=\"translate(298.14,389.99)\" d=\"M5,0A5,5 0 1,1 0,-5A5,5 0 0,1 5,0Z\" style=\"opacity: 1; stroke-width: 0px; fill: rgb(147, 112, 219); fill-opacity: 1;\"/><path class=\"point\" transform=\"translate(379.14,356.56)\" d=\"M5,0A5,5 0 1,1 0,-5A5,5 0 0,1 5,0Z\" style=\"opacity: 1; stroke-width: 0px; fill: rgb(147, 112, 219); fill-opacity: 1;\"/><path class=\"point\" transform=\"translate(506.97,288.29)\" d=\"M5,0A5,5 0 1,1 0,-5A5,5 0 0,1 5,0Z\" style=\"opacity: 1; stroke-width: 0px; fill: rgb(147, 112, 219); fill-opacity: 1;\"/><path class=\"point\" transform=\"translate(731.97,193.1)\" d=\"M5,0A5,5 0 1,1 0,-5A5,5 0 0,1 5,0Z\" style=\"opacity: 1; stroke-width: 0px; fill: rgb(147, 112, 219); fill-opacity: 1;\"/><path class=\"point\" transform=\"translate(1093.85,32.25)\" d=\"M5,0A5,5 0 1,1 0,-5A5,5 0 0,1 5,0Z\" style=\"opacity: 1; stroke-width: 0px; fill: rgb(147, 112, 219); fill-opacity: 1;\"/></g><g class=\"text\"/></g></g></g><g class=\"overplot\"/><path class=\"xlines-above crisp\" d=\"M0,0\" style=\"fill: none;\"/><path class=\"ylines-above crisp\" d=\"M0,0\" style=\"fill: none;\"/><g class=\"overlines-above\"/><g class=\"xaxislayer-above\"><g class=\"xtick\"><text text-anchor=\"middle\" x=\"0\" y=\"633\" transform=\"translate(227.24,0)\" style=\"font-family: 'Open Sans', verdana, arial, sans-serif; font-size: 12px; fill: rgb(42, 63, 95); fill-opacity: 1; white-space: pre; opacity: 1;\">0.6×10​<tspan style=\"font-size:70%\" dy=\"-0.6em\">15</tspan><tspan dy=\"0.42em\">​</tspan></text></g><g class=\"xtick\"><text text-anchor=\"middle\" x=\"0\" y=\"633\" style=\"font-family: 'Open Sans', verdana, arial, sans-serif; font-size: 12px; fill: rgb(42, 63, 95); fill-opacity: 1; white-space: pre; opacity: 1;\" transform=\"translate(389.33,0)\">0.7×10​<tspan style=\"font-size:70%\" dy=\"-0.6em\">15</tspan><tspan dy=\"0.42em\">​</tspan></text></g><g class=\"xtick\"><text text-anchor=\"middle\" x=\"0\" y=\"633\" style=\"font-family: 'Open Sans', verdana, arial, sans-serif; font-size: 12px; fill: rgb(42, 63, 95); fill-opacity: 1; white-space: pre; opacity: 1;\" transform=\"translate(551.4200000000001,0)\">0.8×10​<tspan style=\"font-size:70%\" dy=\"-0.6em\">15</tspan><tspan dy=\"0.42em\">​</tspan></text></g><g class=\"xtick\"><text text-anchor=\"middle\" x=\"0\" y=\"633\" style=\"font-family: 'Open Sans', verdana, arial, sans-serif; font-size: 12px; fill: rgb(42, 63, 95); fill-opacity: 1; white-space: pre; opacity: 1;\" transform=\"translate(713.51,0)\">0.9×10​<tspan style=\"font-size:70%\" dy=\"-0.6em\">15</tspan><tspan dy=\"0.42em\">​</tspan></text></g><g class=\"xtick\"><text text-anchor=\"middle\" x=\"0\" y=\"633\" style=\"font-family: 'Open Sans', verdana, arial, sans-serif; font-size: 12px; fill: rgb(42, 63, 95); fill-opacity: 1; white-space: pre; opacity: 1;\" transform=\"translate(875.6,0)\">1×10​<tspan style=\"font-size:70%\" dy=\"-0.6em\">15</tspan><tspan dy=\"0.42em\">​</tspan></text></g><g class=\"xtick\"><text text-anchor=\"middle\" x=\"0\" y=\"633\" style=\"font-family: 'Open Sans', verdana, arial, sans-serif; font-size: 12px; fill: rgb(42, 63, 95); fill-opacity: 1; white-space: pre; opacity: 1;\" transform=\"translate(1037.69,0)\">1.1×10​<tspan style=\"font-size:70%\" dy=\"-0.6em\">15</tspan><tspan dy=\"0.42em\">​</tspan></text></g><g class=\"xtick\"><text text-anchor=\"middle\" x=\"0\" y=\"633\" style=\"font-family: 'Open Sans', verdana, arial, sans-serif; font-size: 12px; fill: rgb(42, 63, 95); fill-opacity: 1; white-space: pre; opacity: 1;\" transform=\"translate(1199.78,0)\">1.2×10​<tspan style=\"font-size:70%\" dy=\"-0.6em\">15</tspan><tspan dy=\"0.42em\">​</tspan></text></g></g><g class=\"yaxislayer-above\"><g class=\"ytick\"><text text-anchor=\"end\" x=\"79\" y=\"4.199999999999999\" transform=\"translate(0,593.21)\" style=\"font-family: 'Open Sans', verdana, arial, sans-serif; font-size: 12px; fill: rgb(42, 63, 95); fill-opacity: 1; white-space: pre; opacity: 1;\">0.5</text></g><g class=\"ytick\"><text text-anchor=\"end\" x=\"79\" y=\"4.199999999999999\" style=\"font-family: 'Open Sans', verdana, arial, sans-serif; font-size: 12px; fill: rgb(42, 63, 95); fill-opacity: 1; white-space: pre; opacity: 1;\" transform=\"translate(0,504.87)\">1</text></g><g class=\"ytick\"><text text-anchor=\"end\" x=\"79\" y=\"4.199999999999999\" style=\"font-family: 'Open Sans', verdana, arial, sans-serif; font-size: 12px; fill: rgb(42, 63, 95); fill-opacity: 1; white-space: pre; opacity: 1;\" transform=\"translate(0,416.52)\">1.5</text></g><g class=\"ytick\"><text text-anchor=\"end\" x=\"79\" y=\"4.199999999999999\" style=\"font-family: 'Open Sans', verdana, arial, sans-serif; font-size: 12px; fill: rgb(42, 63, 95); fill-opacity: 1; white-space: pre; opacity: 1;\" transform=\"translate(0,328.18)\">2</text></g><g class=\"ytick\"><text text-anchor=\"end\" x=\"79\" y=\"4.199999999999999\" style=\"font-family: 'Open Sans', verdana, arial, sans-serif; font-size: 12px; fill: rgb(42, 63, 95); fill-opacity: 1; white-space: pre; opacity: 1;\" transform=\"translate(0,239.84)\">2.5</text></g><g class=\"ytick\"><text text-anchor=\"end\" x=\"79\" y=\"4.199999999999999\" style=\"font-family: 'Open Sans', verdana, arial, sans-serif; font-size: 12px; fill: rgb(42, 63, 95); fill-opacity: 1; white-space: pre; opacity: 1;\" transform=\"translate(0,151.49)\">3</text></g></g><g class=\"overaxes-above\"/></g></g><g class=\"polarlayer\"/><g class=\"smithlayer\"/><g class=\"ternarylayer\"/><g class=\"geolayer\"/><g class=\"funnelarealayer\"/><g class=\"pielayer\"/><g class=\"iciclelayer\"/><g class=\"treemaplayer\"/><g class=\"sunburstlayer\"/><g class=\"glimages\"/><defs id=\"topdefs-1eb2d0\"><g class=\"clips\"/><clipPath id=\"legend1eb2d0\"><rect width=\"127\" height=\"48\" x=\"0\" y=\"0\"/></clipPath></defs><g class=\"layer-above\"><g class=\"imagelayer\"/><g class=\"shapelayer\"/></g><g class=\"infolayer\"><g class=\"legend\" pointer-events=\"all\" transform=\"translate(1261.16,100)\"><rect class=\"bg\" shape-rendering=\"crispEdges\" width=\"127\" height=\"48\" x=\"0\" y=\"0\" style=\"stroke: rgb(68, 68, 68); stroke-opacity: 1; fill: rgb(255, 255, 255); fill-opacity: 1; stroke-width: 0px;\"/><g class=\"scrollbox\" transform=\"\" clip-path=\"url(#legend1eb2d0)\"><g class=\"groups\"><g class=\"traces\" transform=\"translate(0,14.5)\" style=\"opacity: 1;\"><text class=\"legendtext\" text-anchor=\"start\" x=\"40\" y=\"4.680000000000001\" style=\"font-family: 'Open Sans', verdana, arial, sans-serif; font-size: 12px; fill: rgb(42, 63, 95); fill-opacity: 1; white-space: pre;\">P(x)</text><g class=\"layers\" style=\"opacity: 1;\"><g class=\"legendfill\"/><g class=\"legendlines\"><path class=\"js-line\" d=\"M5,0h30\" style=\"fill: none; stroke: rgb(32, 178, 170); stroke-opacity: 1; stroke-width: 2px;\"/></g><g class=\"legendsymbols\"><g class=\"legendpoints\"/></g></g><rect class=\"legendtoggle\" x=\"0\" y=\"-9.5\" width=\"121.359375\" height=\"19\" style=\"fill: rgb(0, 0, 0); fill-opacity: 0;\"/></g><g class=\"traces\" transform=\"translate(0,33.5)\" style=\"opacity: 1;\"><text class=\"legendtext\" text-anchor=\"start\" x=\"40\" y=\"4.680000000000001\" style=\"font-family: 'Open Sans', verdana, arial, sans-serif; font-size: 12px; fill: rgb(42, 63, 95); fill-opacity: 1; white-space: pre;\">Puntos dados</text><g class=\"layers\" style=\"opacity: 1;\"><g class=\"legendfill\"/><g class=\"legendlines\"/><g class=\"legendsymbols\"><g class=\"legendpoints\"><path class=\"scatterpts\" transform=\"translate(20,0)\" d=\"M5,0A5,5 0 1,1 0,-5A5,5 0 0,1 5,0Z\" style=\"opacity: 1; stroke-width: 0px; fill: rgb(147, 112, 219); fill-opacity: 1;\"/></g></g></g><rect class=\"legendtoggle\" x=\"0\" y=\"-9.5\" width=\"121.359375\" height=\"19\" style=\"fill: rgb(0, 0, 0); fill-opacity: 0;\"/></g></g></g><rect class=\"scrollbar\" rx=\"20\" ry=\"3\" width=\"0\" height=\"0\" x=\"0\" y=\"0\" style=\"fill: rgb(128, 139, 164); fill-opacity: 1;\"/></g><g class=\"g-gtitle\"><text class=\"gtitle\" x=\"70\" y=\"50\" text-anchor=\"start\" dy=\"0em\" style=\"font-family: 'Open Sans', verdana, arial, sans-serif; font-size: 30px; fill: rgb(42, 63, 95); opacity: 1; font-weight: normal; white-space: pre;\">Ajuste de minimos cuadrados lineal</text></g><g class=\"g-xtitle\"/><g class=\"g-ytitle\"/></g></svg>"
          },
          "metadata": {},
          "output_type": "display_data"
        }
      ],
      "source": [
        "X = [5.4874*10**14, 6.931*10**14, 7.4307*10**14,\n",
        "     8.2193*10**14, 9.6074*10**14, 11.84*10**14]\n",
        "y = [0.5309, 1.0842, 1.2734, 1.6598, 2.19856, 3.10891]\n",
        "\n",
        "ec_norm(X, y)"
      ]
    },
    {
      "cell_type": "markdown",
      "metadata": {
        "id": "q_DTIgotWpjd"
      },
      "source": [
        "> - <font color=red> Con los resultados obtenidos de tu programa, ¿cuáles son los valores de $m$ y $b$?</font>\n",
        "\n",
        "El valor de la pendiente es $m = 4.08822735851751\\cdot 10 \n",
        "^{−15}$ y $b = −1.73123580398135$\n",
        "> - <font color=red> Algunos años antes de que Millikan hizo estas mediciones ya había encontrado el valor de la carga del electrón; si la carga del electrón es $\\mathrm{e}=1.602\\times 10^{-19}$; entonces ¿cuál sería el valor de la constante de Planck $h$? .</font>\n",
        "\n",
        "Sabemos que $m = \\dfrac{h}{\\mathrm{e}}$, entonces $h = m\\mathrm{e}$, por lo que"
      ]
    },
    {
      "cell_type": "code",
      "execution_count": 22,
      "metadata": {
        "colab": {
          "base_uri": "https://localhost:8080/"
        },
        "id": "faS-0IUM8004",
        "outputId": "ef23f624-b18e-4eed-dfe9-8dd7d4c85956"
      },
      "outputs": [
        {
          "name": "stdout",
          "output_type": "stream",
          "text": [
            "El valor de la constante de Plank es: h = 6.549340228345051e-34\n"
          ]
        }
      ],
      "source": [
        "print(f'El valor de la constante de Plank es: h = {(4.08822735851751*10**(-15))*(1.602*10**(-19))}')"
      ]
    },
    {
      "cell_type": "markdown",
      "metadata": {
        "id": "SxPXLP5AO9bo"
      },
      "source": [
        "## Ejercicio 2\n",
        "Un astrónomo observó el movimiento de un planeta P alrededor de un estrella S y capturó la siguiente información: \n",
        "\n",
        "$(-5.5,1.6)$, $(-5.9,1.0)$, $(-6.2,0.3)$, $(-6.3,-1.0)$, $(-5.7,-2.1)$, $(-2.8,-3.0)$, $(0.5,-1.7)$, $(2.3,0.8)$, $(0.4,3.9)$, $(-5.6,1.6)$, $(-4.0,3.0)$\n",
        "\n",
        "\n",
        "\n",
        "Donde cada punto $(x_i,y_i)$, $i=1,2,...,11$, es la posición del planeta P en un plano $XY$.\n",
        "\n",
        "Tomando en cuenta que la ecuación de la elipse está dada por:\n",
        "\n",
        "$$Ay^2 + Bxy + Cx + Dy + E = x^2$$\n",
        "\n",
        "Escribe un programa que, mediante el método de ecuaciones normales, encuentre la elipse que mejor se ajuste a los datos capturados y que grafique dicha elipse junto con los puntos $(x_i,y_i)$."
      ]
    },
    {
      "cell_type": "code",
      "execution_count": 23,
      "metadata": {
        "id": "5wpl_NV-t--y"
      },
      "outputs": [],
      "source": [
        "#Para poder evaluar la elipse en funcion de x, creamos dos funciones\n",
        "def elipse_pos(A, B, C, D, E, x):\n",
        "  a = A\n",
        "  b = B*x + D\n",
        "  c = C*x + E - x**2\n",
        "\n",
        "  num = -b + np.sqrt(b**2 - 4*a*c)\n",
        "  den = 2*a\n",
        " \n",
        "  return num/den\n",
        "\n",
        "def elipse_neg(A, B, C, D, E, x):\n",
        "  a = A\n",
        "  b = B*x + D\n",
        "  c = C*x + E - x**2\n",
        "\n",
        "  num = -b - np.sqrt(b**2 - 4*a*c)\n",
        "  den = 2*a\n",
        " \n",
        "  return num/den"
      ]
    },
    {
      "cell_type": "code",
      "execution_count": 24,
      "metadata": {
        "id": "ktrQWBGLzJ16"
      },
      "outputs": [],
      "source": [
        "def elipse(X, y):\n",
        "  #Transformamos en arrays\n",
        "  X = np.array(X)\n",
        "  y_vec = np.array(y).reshape(len(y), 1)\n",
        "  n = len(X)\n",
        "  #Matriz de Vandermonde\n",
        "  A = np.zeros((n, 5))\n",
        "\n",
        "\n",
        "  #Llenamos la matriz\n",
        "  for i in range(n):\n",
        "    for j in range(5):\n",
        "      if j == 0:\n",
        "        A[i, j] = y[i]**2\n",
        "      elif j == 1:\n",
        "        A[i, j] = X[i]*y[i]\n",
        "      elif j == 2:\n",
        "        A[i, j] = X[i]\n",
        "      elif j == 3:\n",
        "        A[i, j] = y[i]\n",
        "      elif j == 4:\n",
        "        A[i, j] = 1\n",
        "        \n",
        "\n",
        "  At = np.transpose(A)\n",
        "\n",
        "  #B = A^t *A, z = A^t*y\n",
        "  B = np.matmul(At, A)\n",
        "  z = np.matmul(At, np.array(X).reshape(len(X), 1)**2)\n",
        "\n",
        "  #Descomponemos A^t*A con Cholesky\n",
        "  L = np.linalg.cholesky(B)\n",
        "\n",
        "  #Resolvemos L*x_0 = A^t*y\n",
        "  x_0 = np.linalg.solve(L, z)\n",
        "\n",
        "  #Ahora resolvemos L^t*a = x_0\n",
        "  a = np.linalg.solve(np.transpose(L), x_0)\n",
        "\n",
        "  #Imprimimos el polinomio de segundo grado redondeando a 3 decimales\n",
        "  x_sym = sym.Symbol('x')\n",
        "  y_sym = sym.Symbol('y')\n",
        "  \n",
        "  #Imprimimos el polinomio\n",
        "  pol = float(a[0])*y_sym**2  + float(a[1])*x_sym*y_sym + float(a[2])*x_sym + float(a[3])*y_sym + float(a[4])\n",
        "\n",
        "  A, B, C, D, E = a[0][0], a[1][0], a[2][0], a[3][0], a[4][0]\n",
        " \n",
        "  latexpol =f'${latex(pol)} = x^{2}$'\n",
        "  print(\"***Elipse\\n\")\n",
        "  display(Latex(latexpol))\n",
        "\n",
        "  # Graficamos \n",
        "  linspace = np.linspace(min(X)-0.3, max(X) + 0.3, 100)\n",
        "  x_graf = []\n",
        "  y_graf = []\n",
        "  for i in linspace:\n",
        "    x_graf.append(i)\n",
        "    x_graf.append(i)\n",
        "    y_graf.append(elipse_pos(A, B, C, D, E, i))\n",
        "    y_graf.append(elipse_neg(A, B, C, D, E, i))\n",
        "\n",
        "  fig = go.Figure()\n",
        "\n",
        "  fig.add_trace(\n",
        "      go.Scatter(x = x_graf, y = y_graf, mode = 'markers',\n",
        "                 marker=dict(color=\"LightSeaGreen\"), name = 'P(x)')\n",
        "      )\n",
        "\n",
        "  fig.add_trace(\n",
        "      go.Scatter(x = X, y = y, mode = 'markers',\n",
        "                 marker=dict(size=10, color=\"MediumPurple\"), name = 'Puntos dados')\n",
        "      )\n",
        "  fig.update_layout(title_text=\"Ajuste de minimos cuadrados para una elipse\",\n",
        "                   title_font_size=30, width=1400, height=700)\n",
        "  fig.show(renderer = 'svg') \n"
      ]
    },
    {
      "cell_type": "code",
      "execution_count": 25,
      "metadata": {
        "colab": {
          "base_uri": "https://localhost:8080/",
          "height": 737
        },
        "id": "FKphSUn2zQoN",
        "outputId": "d4bf5597-2f10-4b12-f6a5-900c21779df4"
      },
      "outputs": [
        {
          "name": "stdout",
          "output_type": "stream",
          "text": [
            "***Elipse\n",
            "\n"
          ]
        },
        {
          "data": {
            "text/latex": [
              "$0.721930038560937 x y - 4.29268241402626 x - 1.53388007423459 y^{2} + 2.9699192037462 y + 12.4660670499398 = x^2$"
            ],
            "text/plain": [
              "<IPython.core.display.Latex object>"
            ]
          },
          "metadata": {},
          "output_type": "display_data"
        },
        {
          "name": "stderr",
          "output_type": "stream",
          "text": [
            "C:\\Users\\PC\\AppData\\Local\\Temp\\ipykernel_15008\\1461810293.py:7: RuntimeWarning:\n",
            "\n",
            "invalid value encountered in sqrt\n",
            "\n",
            "C:\\Users\\PC\\AppData\\Local\\Temp\\ipykernel_15008\\1461810293.py:17: RuntimeWarning:\n",
            "\n",
            "invalid value encountered in sqrt\n",
            "\n"
          ]
        },
        {
          "data": {
            "image/svg+xml": "<svg class=\"main-svg\" xmlns=\"http://www.w3.org/2000/svg\" xmlns:xlink=\"http://www.w3.org/1999/xlink\" width=\"1400\" height=\"700\" style=\"\" viewBox=\"0 0 1400 700\"><rect x=\"0\" y=\"0\" width=\"1400\" height=\"700\" style=\"fill: rgb(255, 255, 255); fill-opacity: 1;\"/><defs id=\"defs-1e705a\"><g class=\"clips\"><clipPath id=\"clip1e705axyplot\" class=\"plotclip\"><rect width=\"1158\" height=\"520\"/></clipPath><clipPath class=\"axesclip\" id=\"clip1e705ax\"><rect x=\"80\" y=\"0\" width=\"1158\" height=\"700\"/></clipPath><clipPath class=\"axesclip\" id=\"clip1e705ay\"><rect x=\"0\" y=\"100\" width=\"1400\" height=\"520\"/></clipPath><clipPath class=\"axesclip\" id=\"clip1e705axy\"><rect x=\"80\" y=\"100\" width=\"1158\" height=\"520\"/></clipPath></g><g class=\"gradients\"/><g class=\"patterns\"/></defs><g class=\"bglayer\"><rect class=\"bg\" x=\"80\" y=\"100\" width=\"1158\" height=\"520\" style=\"fill: rgb(229, 236, 246); fill-opacity: 1; stroke-width: 0;\"/></g><g class=\"layer-below\"><g class=\"imagelayer\"/><g class=\"shapelayer\"/></g><g class=\"cartesianlayer\"><g class=\"subplot xy\"><g class=\"layer-subplot\"><g class=\"shapelayer\"/><g class=\"imagelayer\"/></g><g class=\"minor-gridlayer\"><g class=\"x\"/><g class=\"y\"/></g><g class=\"gridlayer\"><g class=\"x\"><path class=\"xgrid crisp\" transform=\"translate(209.13,0)\" d=\"M0,100v520\" style=\"stroke: rgb(255, 255, 255); stroke-opacity: 1; stroke-width: 1px;\"/><path class=\"xgrid crisp\" transform=\"translate(434.07,0)\" d=\"M0,100v520\" style=\"stroke: rgb(255, 255, 255); stroke-opacity: 1; stroke-width: 1px;\"/><path class=\"xgrid crisp\" transform=\"translate(659,0)\" d=\"M0,100v520\" style=\"stroke: rgb(255, 255, 255); stroke-opacity: 1; stroke-width: 1px;\"/><path class=\"xgrid crisp\" transform=\"translate(1108.87,0)\" d=\"M0,100v520\" style=\"stroke: rgb(255, 255, 255); stroke-opacity: 1; stroke-width: 1px;\"/></g><g class=\"y\"><path class=\"ygrid crisp\" transform=\"translate(0,587.75)\" d=\"M80,0h1158\" style=\"stroke: rgb(255, 255, 255); stroke-opacity: 1; stroke-width: 1px;\"/><path class=\"ygrid crisp\" transform=\"translate(0,522.6)\" d=\"M80,0h1158\" style=\"stroke: rgb(255, 255, 255); stroke-opacity: 1; stroke-width: 1px;\"/><path class=\"ygrid crisp\" transform=\"translate(0,457.45)\" d=\"M80,0h1158\" style=\"stroke: rgb(255, 255, 255); stroke-opacity: 1; stroke-width: 1px;\"/><path class=\"ygrid crisp\" transform=\"translate(0,327.15)\" d=\"M80,0h1158\" style=\"stroke: rgb(255, 255, 255); stroke-opacity: 1; stroke-width: 1px;\"/><path class=\"ygrid crisp\" transform=\"translate(0,262)\" d=\"M80,0h1158\" style=\"stroke: rgb(255, 255, 255); stroke-opacity: 1; stroke-width: 1px;\"/><path class=\"ygrid crisp\" transform=\"translate(0,196.85)\" d=\"M80,0h1158\" style=\"stroke: rgb(255, 255, 255); stroke-opacity: 1; stroke-width: 1px;\"/><path class=\"ygrid crisp\" transform=\"translate(0,131.71)\" d=\"M80,0h1158\" style=\"stroke: rgb(255, 255, 255); stroke-opacity: 1; stroke-width: 1px;\"/></g></g><g class=\"zerolinelayer\"><path class=\"xzl zl crisp\" transform=\"translate(883.93,0)\" d=\"M0,100v520\" style=\"stroke: rgb(255, 255, 255); stroke-opacity: 1; stroke-width: 2px;\"/><path class=\"yzl zl crisp\" transform=\"translate(0,392.3)\" d=\"M80,0h1158\" style=\"stroke: rgb(255, 255, 255); stroke-opacity: 1; stroke-width: 2px;\"/></g><path class=\"xlines-below\"/><path class=\"ylines-below\"/><g class=\"overlines-below\"/><g class=\"xaxislayer-below\"/><g class=\"yaxislayer-below\"/><g class=\"overaxes-below\"/><g class=\"plot\" transform=\"translate(80,100)\" clip-path=\"url(#clip1e705axyplot)\"><g class=\"scatterlayer mlayer\"><g class=\"trace scatter tracecc5361\" style=\"stroke-miterlimit: 2; opacity: 1;\"><g class=\"fills\"/><g class=\"errorbars\"/><g class=\"lines\"/><g class=\"points\"><path class=\"point\" transform=\"translate(93,338.72)\" d=\"M3,0A3,3 0 1,1 0,-3A3,3 0 0,1 3,0Z\" style=\"opacity: 1; stroke-width: 0px; fill: rgb(32, 178, 170); fill-opacity: 1;\"/><path class=\"point\" transform=\"translate(93,313.56)\" d=\"M3,0A3,3 0 1,1 0,-3A3,3 0 0,1 3,0Z\" style=\"opacity: 1; stroke-width: 0px; fill: rgb(32, 178, 170); fill-opacity: 1;\"/><path class=\"point\" transform=\"translate(103.46,371.49)\" d=\"M3,0A3,3 0 1,1 0,-3A3,3 0 0,1 3,0Z\" style=\"opacity: 1; stroke-width: 0px; fill: rgb(32, 178, 170); fill-opacity: 1;\"/><path class=\"point\" transform=\"translate(103.46,277.95)\" d=\"M3,0A3,3 0 1,1 0,-3A3,3 0 0,1 3,0Z\" style=\"opacity: 1; stroke-width: 0px; fill: rgb(32, 178, 170); fill-opacity: 1;\"/><path class=\"point\" transform=\"translate(113.91,387.89)\" d=\"M3,0A3,3 0 1,1 0,-3A3,3 0 0,1 3,0Z\" style=\"opacity: 1; stroke-width: 0px; fill: rgb(32, 178, 170); fill-opacity: 1;\"/><path class=\"point\" transform=\"translate(113.91,258.7)\" d=\"M3,0A3,3 0 1,1 0,-3A3,3 0 0,1 3,0Z\" style=\"opacity: 1; stroke-width: 0px; fill: rgb(32, 178, 170); fill-opacity: 1;\"/><path class=\"point\" transform=\"translate(124.36,400.06)\" d=\"M3,0A3,3 0 1,1 0,-3A3,3 0 0,1 3,0Z\" style=\"opacity: 1; stroke-width: 0px; fill: rgb(32, 178, 170); fill-opacity: 1;\"/><path class=\"point\" transform=\"translate(124.36,243.68)\" d=\"M3,0A3,3 0 1,1 0,-3A3,3 0 0,1 3,0Z\" style=\"opacity: 1; stroke-width: 0px; fill: rgb(32, 178, 170); fill-opacity: 1;\"/><path class=\"point\" transform=\"translate(134.81,409.95)\" d=\"M3,0A3,3 0 1,1 0,-3A3,3 0 0,1 3,0Z\" style=\"opacity: 1; stroke-width: 0px; fill: rgb(32, 178, 170); fill-opacity: 1;\"/><path class=\"point\" transform=\"translate(134.81,230.94)\" d=\"M3,0A3,3 0 1,1 0,-3A3,3 0 0,1 3,0Z\" style=\"opacity: 1; stroke-width: 0px; fill: rgb(32, 178, 170); fill-opacity: 1;\"/><path class=\"point\" transform=\"translate(145.26,418.34)\" d=\"M3,0A3,3 0 1,1 0,-3A3,3 0 0,1 3,0Z\" style=\"opacity: 1; stroke-width: 0px; fill: rgb(32, 178, 170); fill-opacity: 1;\"/><path class=\"point\" transform=\"translate(145.26,219.7)\" d=\"M3,0A3,3 0 1,1 0,-3A3,3 0 0,1 3,0Z\" style=\"opacity: 1; stroke-width: 0px; fill: rgb(32, 178, 170); fill-opacity: 1;\"/><path class=\"point\" transform=\"translate(155.71,425.65)\" d=\"M3,0A3,3 0 1,1 0,-3A3,3 0 0,1 3,0Z\" style=\"opacity: 1; stroke-width: 0px; fill: rgb(32, 178, 170); fill-opacity: 1;\"/><path class=\"point\" transform=\"translate(155.71,209.54)\" d=\"M3,0A3,3 0 1,1 0,-3A3,3 0 0,1 3,0Z\" style=\"opacity: 1; stroke-width: 0px; fill: rgb(32, 178, 170); fill-opacity: 1;\"/><path class=\"point\" transform=\"translate(166.17,432.11)\" d=\"M3,0A3,3 0 1,1 0,-3A3,3 0 0,1 3,0Z\" style=\"opacity: 1; stroke-width: 0px; fill: rgb(32, 178, 170); fill-opacity: 1;\"/><path class=\"point\" transform=\"translate(166.17,200.23)\" d=\"M3,0A3,3 0 1,1 0,-3A3,3 0 0,1 3,0Z\" style=\"opacity: 1; stroke-width: 0px; fill: rgb(32, 178, 170); fill-opacity: 1;\"/><path class=\"point\" transform=\"translate(176.62,437.89)\" d=\"M3,0A3,3 0 1,1 0,-3A3,3 0 0,1 3,0Z\" style=\"opacity: 1; stroke-width: 0px; fill: rgb(32, 178, 170); fill-opacity: 1;\"/><path class=\"point\" transform=\"translate(176.62,191.6)\" d=\"M3,0A3,3 0 1,1 0,-3A3,3 0 0,1 3,0Z\" style=\"opacity: 1; stroke-width: 0px; fill: rgb(32, 178, 170); fill-opacity: 1;\"/><path class=\"point\" transform=\"translate(187.07,443.1)\" d=\"M3,0A3,3 0 1,1 0,-3A3,3 0 0,1 3,0Z\" style=\"opacity: 1; stroke-width: 0px; fill: rgb(32, 178, 170); fill-opacity: 1;\"/><path class=\"point\" transform=\"translate(187.07,183.54)\" d=\"M3,0A3,3 0 1,1 0,-3A3,3 0 0,1 3,0Z\" style=\"opacity: 1; stroke-width: 0px; fill: rgb(32, 178, 170); fill-opacity: 1;\"/><path class=\"point\" transform=\"translate(197.52,447.83)\" d=\"M3,0A3,3 0 1,1 0,-3A3,3 0 0,1 3,0Z\" style=\"opacity: 1; stroke-width: 0px; fill: rgb(32, 178, 170); fill-opacity: 1;\"/><path class=\"point\" transform=\"translate(197.52,175.96)\" d=\"M3,0A3,3 0 1,1 0,-3A3,3 0 0,1 3,0Z\" style=\"opacity: 1; stroke-width: 0px; fill: rgb(32, 178, 170); fill-opacity: 1;\"/><path class=\"point\" transform=\"translate(207.97,452.14)\" d=\"M3,0A3,3 0 1,1 0,-3A3,3 0 0,1 3,0Z\" style=\"opacity: 1; stroke-width: 0px; fill: rgb(32, 178, 170); fill-opacity: 1;\"/><path class=\"point\" transform=\"translate(207.97,168.8)\" d=\"M3,0A3,3 0 1,1 0,-3A3,3 0 0,1 3,0Z\" style=\"opacity: 1; stroke-width: 0px; fill: rgb(32, 178, 170); fill-opacity: 1;\"/><path class=\"point\" transform=\"translate(218.42,456.08)\" d=\"M3,0A3,3 0 1,1 0,-3A3,3 0 0,1 3,0Z\" style=\"opacity: 1; stroke-width: 0px; fill: rgb(32, 178, 170); fill-opacity: 1;\"/><path class=\"point\" transform=\"translate(218.42,162.02)\" d=\"M3,0A3,3 0 1,1 0,-3A3,3 0 0,1 3,0Z\" style=\"opacity: 1; stroke-width: 0px; fill: rgb(32, 178, 170); fill-opacity: 1;\"/><path class=\"point\" transform=\"translate(228.87,459.68)\" d=\"M3,0A3,3 0 1,1 0,-3A3,3 0 0,1 3,0Z\" style=\"opacity: 1; stroke-width: 0px; fill: rgb(32, 178, 170); fill-opacity: 1;\"/><path class=\"point\" transform=\"translate(228.87,155.56)\" d=\"M3,0A3,3 0 1,1 0,-3A3,3 0 0,1 3,0Z\" style=\"opacity: 1; stroke-width: 0px; fill: rgb(32, 178, 170); fill-opacity: 1;\"/><path class=\"point\" transform=\"translate(239.33,462.98)\" d=\"M3,0A3,3 0 1,1 0,-3A3,3 0 0,1 3,0Z\" style=\"opacity: 1; stroke-width: 0px; fill: rgb(32, 178, 170); fill-opacity: 1;\"/><path class=\"point\" transform=\"translate(239.33,149.41)\" d=\"M3,0A3,3 0 1,1 0,-3A3,3 0 0,1 3,0Z\" style=\"opacity: 1; stroke-width: 0px; fill: rgb(32, 178, 170); fill-opacity: 1;\"/><path class=\"point\" transform=\"translate(249.78,466.01)\" d=\"M3,0A3,3 0 1,1 0,-3A3,3 0 0,1 3,0Z\" style=\"opacity: 1; stroke-width: 0px; fill: rgb(32, 178, 170); fill-opacity: 1;\"/><path class=\"point\" transform=\"translate(249.78,143.53)\" d=\"M3,0A3,3 0 1,1 0,-3A3,3 0 0,1 3,0Z\" style=\"opacity: 1; stroke-width: 0px; fill: rgb(32, 178, 170); fill-opacity: 1;\"/><path class=\"point\" transform=\"translate(260.23,468.79)\" d=\"M3,0A3,3 0 1,1 0,-3A3,3 0 0,1 3,0Z\" style=\"opacity: 1; stroke-width: 0px; fill: rgb(32, 178, 170); fill-opacity: 1;\"/><path class=\"point\" transform=\"translate(260.23,137.91)\" d=\"M3,0A3,3 0 1,1 0,-3A3,3 0 0,1 3,0Z\" style=\"opacity: 1; stroke-width: 0px; fill: rgb(32, 178, 170); fill-opacity: 1;\"/><path class=\"point\" transform=\"translate(270.68,471.34)\" d=\"M3,0A3,3 0 1,1 0,-3A3,3 0 0,1 3,0Z\" style=\"opacity: 1; stroke-width: 0px; fill: rgb(32, 178, 170); fill-opacity: 1;\"/><path class=\"point\" transform=\"translate(270.68,132.51)\" d=\"M3,0A3,3 0 1,1 0,-3A3,3 0 0,1 3,0Z\" style=\"opacity: 1; stroke-width: 0px; fill: rgb(32, 178, 170); fill-opacity: 1;\"/><path class=\"point\" transform=\"translate(281.13,473.66)\" d=\"M3,0A3,3 0 1,1 0,-3A3,3 0 0,1 3,0Z\" style=\"opacity: 1; stroke-width: 0px; fill: rgb(32, 178, 170); fill-opacity: 1;\"/><path class=\"point\" transform=\"translate(281.13,127.34)\" d=\"M3,0A3,3 0 1,1 0,-3A3,3 0 0,1 3,0Z\" style=\"opacity: 1; stroke-width: 0px; fill: rgb(32, 178, 170); fill-opacity: 1;\"/><path class=\"point\" transform=\"translate(291.58,475.79)\" d=\"M3,0A3,3 0 1,1 0,-3A3,3 0 0,1 3,0Z\" style=\"opacity: 1; stroke-width: 0px; fill: rgb(32, 178, 170); fill-opacity: 1;\"/><path class=\"point\" transform=\"translate(291.58,122.36)\" d=\"M3,0A3,3 0 1,1 0,-3A3,3 0 0,1 3,0Z\" style=\"opacity: 1; stroke-width: 0px; fill: rgb(32, 178, 170); fill-opacity: 1;\"/><path class=\"point\" transform=\"translate(302.03,477.72)\" d=\"M3,0A3,3 0 1,1 0,-3A3,3 0 0,1 3,0Z\" style=\"opacity: 1; stroke-width: 0px; fill: rgb(32, 178, 170); fill-opacity: 1;\"/><path class=\"point\" transform=\"translate(302.03,117.58)\" d=\"M3,0A3,3 0 1,1 0,-3A3,3 0 0,1 3,0Z\" style=\"opacity: 1; stroke-width: 0px; fill: rgb(32, 178, 170); fill-opacity: 1;\"/><path class=\"point\" transform=\"translate(312.49,479.47)\" d=\"M3,0A3,3 0 1,1 0,-3A3,3 0 0,1 3,0Z\" style=\"opacity: 1; stroke-width: 0px; fill: rgb(32, 178, 170); fill-opacity: 1;\"/><path class=\"point\" transform=\"translate(312.49,112.98)\" d=\"M3,0A3,3 0 1,1 0,-3A3,3 0 0,1 3,0Z\" style=\"opacity: 1; stroke-width: 0px; fill: rgb(32, 178, 170); fill-opacity: 1;\"/><path class=\"point\" transform=\"translate(322.94,481.05)\" d=\"M3,0A3,3 0 1,1 0,-3A3,3 0 0,1 3,0Z\" style=\"opacity: 1; stroke-width: 0px; fill: rgb(32, 178, 170); fill-opacity: 1;\"/><path class=\"point\" transform=\"translate(322.94,108.55)\" d=\"M3,0A3,3 0 1,1 0,-3A3,3 0 0,1 3,0Z\" style=\"opacity: 1; stroke-width: 0px; fill: rgb(32, 178, 170); fill-opacity: 1;\"/><path class=\"point\" transform=\"translate(333.39,482.47)\" d=\"M3,0A3,3 0 1,1 0,-3A3,3 0 0,1 3,0Z\" style=\"opacity: 1; stroke-width: 0px; fill: rgb(32, 178, 170); fill-opacity: 1;\"/><path class=\"point\" transform=\"translate(333.39,104.28)\" d=\"M3,0A3,3 0 1,1 0,-3A3,3 0 0,1 3,0Z\" style=\"opacity: 1; stroke-width: 0px; fill: rgb(32, 178, 170); fill-opacity: 1;\"/><path class=\"point\" transform=\"translate(343.84,483.73)\" d=\"M3,0A3,3 0 1,1 0,-3A3,3 0 0,1 3,0Z\" style=\"opacity: 1; stroke-width: 0px; fill: rgb(32, 178, 170); fill-opacity: 1;\"/><path class=\"point\" transform=\"translate(343.84,100.17)\" d=\"M3,0A3,3 0 1,1 0,-3A3,3 0 0,1 3,0Z\" style=\"opacity: 1; stroke-width: 0px; fill: rgb(32, 178, 170); fill-opacity: 1;\"/><path class=\"point\" transform=\"translate(354.29,484.84)\" d=\"M3,0A3,3 0 1,1 0,-3A3,3 0 0,1 3,0Z\" style=\"opacity: 1; stroke-width: 0px; fill: rgb(32, 178, 170); fill-opacity: 1;\"/><path class=\"point\" transform=\"translate(354.29,96.21)\" d=\"M3,0A3,3 0 1,1 0,-3A3,3 0 0,1 3,0Z\" style=\"opacity: 1; stroke-width: 0px; fill: rgb(32, 178, 170); fill-opacity: 1;\"/><path class=\"point\" transform=\"translate(364.74,485.81)\" d=\"M3,0A3,3 0 1,1 0,-3A3,3 0 0,1 3,0Z\" style=\"opacity: 1; stroke-width: 0px; fill: rgb(32, 178, 170); fill-opacity: 1;\"/><path class=\"point\" transform=\"translate(364.74,92.39)\" d=\"M3,0A3,3 0 1,1 0,-3A3,3 0 0,1 3,0Z\" style=\"opacity: 1; stroke-width: 0px; fill: rgb(32, 178, 170); fill-opacity: 1;\"/><path class=\"point\" transform=\"translate(375.2,486.64)\" d=\"M3,0A3,3 0 1,1 0,-3A3,3 0 0,1 3,0Z\" style=\"opacity: 1; stroke-width: 0px; fill: rgb(32, 178, 170); fill-opacity: 1;\"/><path class=\"point\" transform=\"translate(375.2,88.71)\" d=\"M3,0A3,3 0 1,1 0,-3A3,3 0 0,1 3,0Z\" style=\"opacity: 1; stroke-width: 0px; fill: rgb(32, 178, 170); fill-opacity: 1;\"/><path class=\"point\" transform=\"translate(385.65,487.33)\" d=\"M3,0A3,3 0 1,1 0,-3A3,3 0 0,1 3,0Z\" style=\"opacity: 1; stroke-width: 0px; fill: rgb(32, 178, 170); fill-opacity: 1;\"/><path class=\"point\" transform=\"translate(385.65,85.17)\" d=\"M3,0A3,3 0 1,1 0,-3A3,3 0 0,1 3,0Z\" style=\"opacity: 1; stroke-width: 0px; fill: rgb(32, 178, 170); fill-opacity: 1;\"/><path class=\"point\" transform=\"translate(396.1,487.9)\" d=\"M3,0A3,3 0 1,1 0,-3A3,3 0 0,1 3,0Z\" style=\"opacity: 1; stroke-width: 0px; fill: rgb(32, 178, 170); fill-opacity: 1;\"/><path class=\"point\" transform=\"translate(396.1,81.76)\" d=\"M3,0A3,3 0 1,1 0,-3A3,3 0 0,1 3,0Z\" style=\"opacity: 1; stroke-width: 0px; fill: rgb(32, 178, 170); fill-opacity: 1;\"/><path class=\"point\" transform=\"translate(406.55,488.34)\" d=\"M3,0A3,3 0 1,1 0,-3A3,3 0 0,1 3,0Z\" style=\"opacity: 1; stroke-width: 0px; fill: rgb(32, 178, 170); fill-opacity: 1;\"/><path class=\"point\" transform=\"translate(406.55,78.47)\" d=\"M3,0A3,3 0 1,1 0,-3A3,3 0 0,1 3,0Z\" style=\"opacity: 1; stroke-width: 0px; fill: rgb(32, 178, 170); fill-opacity: 1;\"/><path class=\"point\" transform=\"translate(417,488.65)\" d=\"M3,0A3,3 0 1,1 0,-3A3,3 0 0,1 3,0Z\" style=\"opacity: 1; stroke-width: 0px; fill: rgb(32, 178, 170); fill-opacity: 1;\"/><path class=\"point\" transform=\"translate(417,75.3)\" d=\"M3,0A3,3 0 1,1 0,-3A3,3 0 0,1 3,0Z\" style=\"opacity: 1; stroke-width: 0px; fill: rgb(32, 178, 170); fill-opacity: 1;\"/><path class=\"point\" transform=\"translate(427.45,488.85)\" d=\"M3,0A3,3 0 1,1 0,-3A3,3 0 0,1 3,0Z\" style=\"opacity: 1; stroke-width: 0px; fill: rgb(32, 178, 170); fill-opacity: 1;\"/><path class=\"point\" transform=\"translate(427.45,72.25)\" d=\"M3,0A3,3 0 1,1 0,-3A3,3 0 0,1 3,0Z\" style=\"opacity: 1; stroke-width: 0px; fill: rgb(32, 178, 170); fill-opacity: 1;\"/><path class=\"point\" transform=\"translate(437.9,488.93)\" d=\"M3,0A3,3 0 1,1 0,-3A3,3 0 0,1 3,0Z\" style=\"opacity: 1; stroke-width: 0px; fill: rgb(32, 178, 170); fill-opacity: 1;\"/><path class=\"point\" transform=\"translate(437.9,69.32)\" d=\"M3,0A3,3 0 1,1 0,-3A3,3 0 0,1 3,0Z\" style=\"opacity: 1; stroke-width: 0px; fill: rgb(32, 178, 170); fill-opacity: 1;\"/><path class=\"point\" transform=\"translate(448.36,488.9)\" d=\"M3,0A3,3 0 1,1 0,-3A3,3 0 0,1 3,0Z\" style=\"opacity: 1; stroke-width: 0px; fill: rgb(32, 178, 170); fill-opacity: 1;\"/><path class=\"point\" transform=\"translate(448.36,66.51)\" d=\"M3,0A3,3 0 1,1 0,-3A3,3 0 0,1 3,0Z\" style=\"opacity: 1; stroke-width: 0px; fill: rgb(32, 178, 170); fill-opacity: 1;\"/><path class=\"point\" transform=\"translate(458.81,488.75)\" d=\"M3,0A3,3 0 1,1 0,-3A3,3 0 0,1 3,0Z\" style=\"opacity: 1; stroke-width: 0px; fill: rgb(32, 178, 170); fill-opacity: 1;\"/><path class=\"point\" transform=\"translate(458.81,63.8)\" d=\"M3,0A3,3 0 1,1 0,-3A3,3 0 0,1 3,0Z\" style=\"opacity: 1; stroke-width: 0px; fill: rgb(32, 178, 170); fill-opacity: 1;\"/><path class=\"point\" transform=\"translate(469.26,488.5)\" d=\"M3,0A3,3 0 1,1 0,-3A3,3 0 0,1 3,0Z\" style=\"opacity: 1; stroke-width: 0px; fill: rgb(32, 178, 170); fill-opacity: 1;\"/><path class=\"point\" transform=\"translate(469.26,61.21)\" d=\"M3,0A3,3 0 1,1 0,-3A3,3 0 0,1 3,0Z\" style=\"opacity: 1; stroke-width: 0px; fill: rgb(32, 178, 170); fill-opacity: 1;\"/><path class=\"point\" transform=\"translate(479.71,488.13)\" d=\"M3,0A3,3 0 1,1 0,-3A3,3 0 0,1 3,0Z\" style=\"opacity: 1; stroke-width: 0px; fill: rgb(32, 178, 170); fill-opacity: 1;\"/><path class=\"point\" transform=\"translate(479.71,58.72)\" d=\"M3,0A3,3 0 1,1 0,-3A3,3 0 0,1 3,0Z\" style=\"opacity: 1; stroke-width: 0px; fill: rgb(32, 178, 170); fill-opacity: 1;\"/><path class=\"point\" transform=\"translate(490.16,487.66)\" d=\"M3,0A3,3 0 1,1 0,-3A3,3 0 0,1 3,0Z\" style=\"opacity: 1; stroke-width: 0px; fill: rgb(32, 178, 170); fill-opacity: 1;\"/><path class=\"point\" transform=\"translate(490.16,56.35)\" d=\"M3,0A3,3 0 1,1 0,-3A3,3 0 0,1 3,0Z\" style=\"opacity: 1; stroke-width: 0px; fill: rgb(32, 178, 170); fill-opacity: 1;\"/><path class=\"point\" transform=\"translate(500.61,487.09)\" d=\"M3,0A3,3 0 1,1 0,-3A3,3 0 0,1 3,0Z\" style=\"opacity: 1; stroke-width: 0px; fill: rgb(32, 178, 170); fill-opacity: 1;\"/><path class=\"point\" transform=\"translate(500.61,54.07)\" d=\"M3,0A3,3 0 1,1 0,-3A3,3 0 0,1 3,0Z\" style=\"opacity: 1; stroke-width: 0px; fill: rgb(32, 178, 170); fill-opacity: 1;\"/><path class=\"point\" transform=\"translate(511.07,486.41)\" d=\"M3,0A3,3 0 1,1 0,-3A3,3 0 0,1 3,0Z\" style=\"opacity: 1; stroke-width: 0px; fill: rgb(32, 178, 170); fill-opacity: 1;\"/><path class=\"point\" transform=\"translate(511.07,51.9)\" d=\"M3,0A3,3 0 1,1 0,-3A3,3 0 0,1 3,0Z\" style=\"opacity: 1; stroke-width: 0px; fill: rgb(32, 178, 170); fill-opacity: 1;\"/><path class=\"point\" transform=\"translate(521.52,485.62)\" d=\"M3,0A3,3 0 1,1 0,-3A3,3 0 0,1 3,0Z\" style=\"opacity: 1; stroke-width: 0px; fill: rgb(32, 178, 170); fill-opacity: 1;\"/><path class=\"point\" transform=\"translate(521.52,49.83)\" d=\"M3,0A3,3 0 1,1 0,-3A3,3 0 0,1 3,0Z\" style=\"opacity: 1; stroke-width: 0px; fill: rgb(32, 178, 170); fill-opacity: 1;\"/><path class=\"point\" transform=\"translate(531.97,484.74)\" d=\"M3,0A3,3 0 1,1 0,-3A3,3 0 0,1 3,0Z\" style=\"opacity: 1; stroke-width: 0px; fill: rgb(32, 178, 170); fill-opacity: 1;\"/><path class=\"point\" transform=\"translate(531.97,47.87)\" d=\"M3,0A3,3 0 1,1 0,-3A3,3 0 0,1 3,0Z\" style=\"opacity: 1; stroke-width: 0px; fill: rgb(32, 178, 170); fill-opacity: 1;\"/><path class=\"point\" transform=\"translate(542.42,483.75)\" d=\"M3,0A3,3 0 1,1 0,-3A3,3 0 0,1 3,0Z\" style=\"opacity: 1; stroke-width: 0px; fill: rgb(32, 178, 170); fill-opacity: 1;\"/><path class=\"point\" transform=\"translate(542.42,46.01)\" d=\"M3,0A3,3 0 1,1 0,-3A3,3 0 0,1 3,0Z\" style=\"opacity: 1; stroke-width: 0px; fill: rgb(32, 178, 170); fill-opacity: 1;\"/><path class=\"point\" transform=\"translate(552.87,482.67)\" d=\"M3,0A3,3 0 1,1 0,-3A3,3 0 0,1 3,0Z\" style=\"opacity: 1; stroke-width: 0px; fill: rgb(32, 178, 170); fill-opacity: 1;\"/><path class=\"point\" transform=\"translate(552.87,44.24)\" d=\"M3,0A3,3 0 1,1 0,-3A3,3 0 0,1 3,0Z\" style=\"opacity: 1; stroke-width: 0px; fill: rgb(32, 178, 170); fill-opacity: 1;\"/><path class=\"point\" transform=\"translate(563.32,481.48)\" d=\"M3,0A3,3 0 1,1 0,-3A3,3 0 0,1 3,0Z\" style=\"opacity: 1; stroke-width: 0px; fill: rgb(32, 178, 170); fill-opacity: 1;\"/><path class=\"point\" transform=\"translate(563.32,42.58)\" d=\"M3,0A3,3 0 1,1 0,-3A3,3 0 0,1 3,0Z\" style=\"opacity: 1; stroke-width: 0px; fill: rgb(32, 178, 170); fill-opacity: 1;\"/><path class=\"point\" transform=\"translate(573.77,480.2)\" d=\"M3,0A3,3 0 1,1 0,-3A3,3 0 0,1 3,0Z\" style=\"opacity: 1; stroke-width: 0px; fill: rgb(32, 178, 170); fill-opacity: 1;\"/><path class=\"point\" transform=\"translate(573.77,41.02)\" d=\"M3,0A3,3 0 1,1 0,-3A3,3 0 0,1 3,0Z\" style=\"opacity: 1; stroke-width: 0px; fill: rgb(32, 178, 170); fill-opacity: 1;\"/><path class=\"point\" transform=\"translate(584.23,478.81)\" d=\"M3,0A3,3 0 1,1 0,-3A3,3 0 0,1 3,0Z\" style=\"opacity: 1; stroke-width: 0px; fill: rgb(32, 178, 170); fill-opacity: 1;\"/><path class=\"point\" transform=\"translate(584.23,39.55)\" d=\"M3,0A3,3 0 1,1 0,-3A3,3 0 0,1 3,0Z\" style=\"opacity: 1; stroke-width: 0px; fill: rgb(32, 178, 170); fill-opacity: 1;\"/><path class=\"point\" transform=\"translate(594.68,477.32)\" d=\"M3,0A3,3 0 1,1 0,-3A3,3 0 0,1 3,0Z\" style=\"opacity: 1; stroke-width: 0px; fill: rgb(32, 178, 170); fill-opacity: 1;\"/><path class=\"point\" transform=\"translate(594.68,38.19)\" d=\"M3,0A3,3 0 1,1 0,-3A3,3 0 0,1 3,0Z\" style=\"opacity: 1; stroke-width: 0px; fill: rgb(32, 178, 170); fill-opacity: 1;\"/><path class=\"point\" transform=\"translate(605.13,475.74)\" d=\"M3,0A3,3 0 1,1 0,-3A3,3 0 0,1 3,0Z\" style=\"opacity: 1; stroke-width: 0px; fill: rgb(32, 178, 170); fill-opacity: 1;\"/><path class=\"point\" transform=\"translate(605.13,36.92)\" d=\"M3,0A3,3 0 1,1 0,-3A3,3 0 0,1 3,0Z\" style=\"opacity: 1; stroke-width: 0px; fill: rgb(32, 178, 170); fill-opacity: 1;\"/><path class=\"point\" transform=\"translate(615.58,474.05)\" d=\"M3,0A3,3 0 1,1 0,-3A3,3 0 0,1 3,0Z\" style=\"opacity: 1; stroke-width: 0px; fill: rgb(32, 178, 170); fill-opacity: 1;\"/><path class=\"point\" transform=\"translate(615.58,35.76)\" d=\"M3,0A3,3 0 1,1 0,-3A3,3 0 0,1 3,0Z\" style=\"opacity: 1; stroke-width: 0px; fill: rgb(32, 178, 170); fill-opacity: 1;\"/><path class=\"point\" transform=\"translate(626.03,472.27)\" d=\"M3,0A3,3 0 1,1 0,-3A3,3 0 0,1 3,0Z\" style=\"opacity: 1; stroke-width: 0px; fill: rgb(32, 178, 170); fill-opacity: 1;\"/><path class=\"point\" transform=\"translate(626.03,34.7)\" d=\"M3,0A3,3 0 1,1 0,-3A3,3 0 0,1 3,0Z\" style=\"opacity: 1; stroke-width: 0px; fill: rgb(32, 178, 170); fill-opacity: 1;\"/><path class=\"point\" transform=\"translate(636.48,470.38)\" d=\"M3,0A3,3 0 1,1 0,-3A3,3 0 0,1 3,0Z\" style=\"opacity: 1; stroke-width: 0px; fill: rgb(32, 178, 170); fill-opacity: 1;\"/><path class=\"point\" transform=\"translate(636.48,33.73)\" d=\"M3,0A3,3 0 1,1 0,-3A3,3 0 0,1 3,0Z\" style=\"opacity: 1; stroke-width: 0px; fill: rgb(32, 178, 170); fill-opacity: 1;\"/><path class=\"point\" transform=\"translate(646.93,468.4)\" d=\"M3,0A3,3 0 1,1 0,-3A3,3 0 0,1 3,0Z\" style=\"opacity: 1; stroke-width: 0px; fill: rgb(32, 178, 170); fill-opacity: 1;\"/><path class=\"point\" transform=\"translate(646.93,32.87)\" d=\"M3,0A3,3 0 1,1 0,-3A3,3 0 0,1 3,0Z\" style=\"opacity: 1; stroke-width: 0px; fill: rgb(32, 178, 170); fill-opacity: 1;\"/><path class=\"point\" transform=\"translate(657.39,466.31)\" d=\"M3,0A3,3 0 1,1 0,-3A3,3 0 0,1 3,0Z\" style=\"opacity: 1; stroke-width: 0px; fill: rgb(32, 178, 170); fill-opacity: 1;\"/><path class=\"point\" transform=\"translate(657.39,32.11)\" d=\"M3,0A3,3 0 1,1 0,-3A3,3 0 0,1 3,0Z\" style=\"opacity: 1; stroke-width: 0px; fill: rgb(32, 178, 170); fill-opacity: 1;\"/><path class=\"point\" transform=\"translate(667.84,464.11)\" d=\"M3,0A3,3 0 1,1 0,-3A3,3 0 0,1 3,0Z\" style=\"opacity: 1; stroke-width: 0px; fill: rgb(32, 178, 170); fill-opacity: 1;\"/><path class=\"point\" transform=\"translate(667.84,31.45)\" d=\"M3,0A3,3 0 1,1 0,-3A3,3 0 0,1 3,0Z\" style=\"opacity: 1; stroke-width: 0px; fill: rgb(32, 178, 170); fill-opacity: 1;\"/><path class=\"point\" transform=\"translate(678.29,461.82)\" d=\"M3,0A3,3 0 1,1 0,-3A3,3 0 0,1 3,0Z\" style=\"opacity: 1; stroke-width: 0px; fill: rgb(32, 178, 170); fill-opacity: 1;\"/><path class=\"point\" transform=\"translate(678.29,30.9)\" d=\"M3,0A3,3 0 1,1 0,-3A3,3 0 0,1 3,0Z\" style=\"opacity: 1; stroke-width: 0px; fill: rgb(32, 178, 170); fill-opacity: 1;\"/><path class=\"point\" transform=\"translate(688.74,459.42)\" d=\"M3,0A3,3 0 1,1 0,-3A3,3 0 0,1 3,0Z\" style=\"opacity: 1; stroke-width: 0px; fill: rgb(32, 178, 170); fill-opacity: 1;\"/><path class=\"point\" transform=\"translate(688.74,30.45)\" d=\"M3,0A3,3 0 1,1 0,-3A3,3 0 0,1 3,0Z\" style=\"opacity: 1; stroke-width: 0px; fill: rgb(32, 178, 170); fill-opacity: 1;\"/><path class=\"point\" transform=\"translate(699.19,456.91)\" d=\"M3,0A3,3 0 1,1 0,-3A3,3 0 0,1 3,0Z\" style=\"opacity: 1; stroke-width: 0px; fill: rgb(32, 178, 170); fill-opacity: 1;\"/><path class=\"point\" transform=\"translate(699.19,30.11)\" d=\"M3,0A3,3 0 1,1 0,-3A3,3 0 0,1 3,0Z\" style=\"opacity: 1; stroke-width: 0px; fill: rgb(32, 178, 170); fill-opacity: 1;\"/><path class=\"point\" transform=\"translate(709.64,454.29)\" d=\"M3,0A3,3 0 1,1 0,-3A3,3 0 0,1 3,0Z\" style=\"opacity: 1; stroke-width: 0px; fill: rgb(32, 178, 170); fill-opacity: 1;\"/><path class=\"point\" transform=\"translate(709.64,29.88)\" d=\"M3,0A3,3 0 1,1 0,-3A3,3 0 0,1 3,0Z\" style=\"opacity: 1; stroke-width: 0px; fill: rgb(32, 178, 170); fill-opacity: 1;\"/><path class=\"point\" transform=\"translate(720.1,451.56)\" d=\"M3,0A3,3 0 1,1 0,-3A3,3 0 0,1 3,0Z\" style=\"opacity: 1; stroke-width: 0px; fill: rgb(32, 178, 170); fill-opacity: 1;\"/><path class=\"point\" transform=\"translate(720.1,29.76)\" d=\"M3,0A3,3 0 1,1 0,-3A3,3 0 0,1 3,0Z\" style=\"opacity: 1; stroke-width: 0px; fill: rgb(32, 178, 170); fill-opacity: 1;\"/><path class=\"point\" transform=\"translate(730.55,448.72)\" d=\"M3,0A3,3 0 1,1 0,-3A3,3 0 0,1 3,0Z\" style=\"opacity: 1; stroke-width: 0px; fill: rgb(32, 178, 170); fill-opacity: 1;\"/><path class=\"point\" transform=\"translate(730.55,29.75)\" d=\"M3,0A3,3 0 1,1 0,-3A3,3 0 0,1 3,0Z\" style=\"opacity: 1; stroke-width: 0px; fill: rgb(32, 178, 170); fill-opacity: 1;\"/><path class=\"point\" transform=\"translate(741,445.76)\" d=\"M3,0A3,3 0 1,1 0,-3A3,3 0 0,1 3,0Z\" style=\"opacity: 1; stroke-width: 0px; fill: rgb(32, 178, 170); fill-opacity: 1;\"/><path class=\"point\" transform=\"translate(741,29.86)\" d=\"M3,0A3,3 0 1,1 0,-3A3,3 0 0,1 3,0Z\" style=\"opacity: 1; stroke-width: 0px; fill: rgb(32, 178, 170); fill-opacity: 1;\"/><path class=\"point\" transform=\"translate(751.45,442.69)\" d=\"M3,0A3,3 0 1,1 0,-3A3,3 0 0,1 3,0Z\" style=\"opacity: 1; stroke-width: 0px; fill: rgb(32, 178, 170); fill-opacity: 1;\"/><path class=\"point\" transform=\"translate(751.45,30.08)\" d=\"M3,0A3,3 0 1,1 0,-3A3,3 0 0,1 3,0Z\" style=\"opacity: 1; stroke-width: 0px; fill: rgb(32, 178, 170); fill-opacity: 1;\"/><path class=\"point\" transform=\"translate(761.9,439.5)\" d=\"M3,0A3,3 0 1,1 0,-3A3,3 0 0,1 3,0Z\" style=\"opacity: 1; stroke-width: 0px; fill: rgb(32, 178, 170); fill-opacity: 1;\"/><path class=\"point\" transform=\"translate(761.9,30.42)\" d=\"M3,0A3,3 0 1,1 0,-3A3,3 0 0,1 3,0Z\" style=\"opacity: 1; stroke-width: 0px; fill: rgb(32, 178, 170); fill-opacity: 1;\"/><path class=\"point\" transform=\"translate(772.35,436.18)\" d=\"M3,0A3,3 0 1,1 0,-3A3,3 0 0,1 3,0Z\" style=\"opacity: 1; stroke-width: 0px; fill: rgb(32, 178, 170); fill-opacity: 1;\"/><path class=\"point\" transform=\"translate(772.35,30.89)\" d=\"M3,0A3,3 0 1,1 0,-3A3,3 0 0,1 3,0Z\" style=\"opacity: 1; stroke-width: 0px; fill: rgb(32, 178, 170); fill-opacity: 1;\"/><path class=\"point\" transform=\"translate(782.8,432.74)\" d=\"M3,0A3,3 0 1,1 0,-3A3,3 0 0,1 3,0Z\" style=\"opacity: 1; stroke-width: 0px; fill: rgb(32, 178, 170); fill-opacity: 1;\"/><path class=\"point\" transform=\"translate(782.8,31.48)\" d=\"M3,0A3,3 0 1,1 0,-3A3,3 0 0,1 3,0Z\" style=\"opacity: 1; stroke-width: 0px; fill: rgb(32, 178, 170); fill-opacity: 1;\"/><path class=\"point\" transform=\"translate(793.26,429.17)\" d=\"M3,0A3,3 0 1,1 0,-3A3,3 0 0,1 3,0Z\" style=\"opacity: 1; stroke-width: 0px; fill: rgb(32, 178, 170); fill-opacity: 1;\"/><path class=\"point\" transform=\"translate(793.26,32.21)\" d=\"M3,0A3,3 0 1,1 0,-3A3,3 0 0,1 3,0Z\" style=\"opacity: 1; stroke-width: 0px; fill: rgb(32, 178, 170); fill-opacity: 1;\"/><path class=\"point\" transform=\"translate(803.71,425.46)\" d=\"M3,0A3,3 0 1,1 0,-3A3,3 0 0,1 3,0Z\" style=\"opacity: 1; stroke-width: 0px; fill: rgb(32, 178, 170); fill-opacity: 1;\"/><path class=\"point\" transform=\"translate(803.71,33.06)\" d=\"M3,0A3,3 0 1,1 0,-3A3,3 0 0,1 3,0Z\" style=\"opacity: 1; stroke-width: 0px; fill: rgb(32, 178, 170); fill-opacity: 1;\"/><path class=\"point\" transform=\"translate(814.16,421.61)\" d=\"M3,0A3,3 0 1,1 0,-3A3,3 0 0,1 3,0Z\" style=\"opacity: 1; stroke-width: 0px; fill: rgb(32, 178, 170); fill-opacity: 1;\"/><path class=\"point\" transform=\"translate(814.16,34.06)\" d=\"M3,0A3,3 0 1,1 0,-3A3,3 0 0,1 3,0Z\" style=\"opacity: 1; stroke-width: 0px; fill: rgb(32, 178, 170); fill-opacity: 1;\"/><path class=\"point\" transform=\"translate(824.61,417.62)\" d=\"M3,0A3,3 0 1,1 0,-3A3,3 0 0,1 3,0Z\" style=\"opacity: 1; stroke-width: 0px; fill: rgb(32, 178, 170); fill-opacity: 1;\"/><path class=\"point\" transform=\"translate(824.61,35.21)\" d=\"M3,0A3,3 0 1,1 0,-3A3,3 0 0,1 3,0Z\" style=\"opacity: 1; stroke-width: 0px; fill: rgb(32, 178, 170); fill-opacity: 1;\"/><path class=\"point\" transform=\"translate(835.06,413.47)\" d=\"M3,0A3,3 0 1,1 0,-3A3,3 0 0,1 3,0Z\" style=\"opacity: 1; stroke-width: 0px; fill: rgb(32, 178, 170); fill-opacity: 1;\"/><path class=\"point\" transform=\"translate(835.06,36.5)\" d=\"M3,0A3,3 0 1,1 0,-3A3,3 0 0,1 3,0Z\" style=\"opacity: 1; stroke-width: 0px; fill: rgb(32, 178, 170); fill-opacity: 1;\"/><path class=\"point\" transform=\"translate(845.51,409.17)\" d=\"M3,0A3,3 0 1,1 0,-3A3,3 0 0,1 3,0Z\" style=\"opacity: 1; stroke-width: 0px; fill: rgb(32, 178, 170); fill-opacity: 1;\"/><path class=\"point\" transform=\"translate(845.51,37.95)\" d=\"M3,0A3,3 0 1,1 0,-3A3,3 0 0,1 3,0Z\" style=\"opacity: 1; stroke-width: 0px; fill: rgb(32, 178, 170); fill-opacity: 1;\"/><path class=\"point\" transform=\"translate(855.97,404.7)\" d=\"M3,0A3,3 0 1,1 0,-3A3,3 0 0,1 3,0Z\" style=\"opacity: 1; stroke-width: 0px; fill: rgb(32, 178, 170); fill-opacity: 1;\"/><path class=\"point\" transform=\"translate(855.97,39.57)\" d=\"M3,0A3,3 0 1,1 0,-3A3,3 0 0,1 3,0Z\" style=\"opacity: 1; stroke-width: 0px; fill: rgb(32, 178, 170); fill-opacity: 1;\"/><path class=\"point\" transform=\"translate(866.42,400.06)\" d=\"M3,0A3,3 0 1,1 0,-3A3,3 0 0,1 3,0Z\" style=\"opacity: 1; stroke-width: 0px; fill: rgb(32, 178, 170); fill-opacity: 1;\"/><path class=\"point\" transform=\"translate(866.42,41.36)\" d=\"M3,0A3,3 0 1,1 0,-3A3,3 0 0,1 3,0Z\" style=\"opacity: 1; stroke-width: 0px; fill: rgb(32, 178, 170); fill-opacity: 1;\"/><path class=\"point\" transform=\"translate(876.87,395.24)\" d=\"M3,0A3,3 0 1,1 0,-3A3,3 0 0,1 3,0Z\" style=\"opacity: 1; stroke-width: 0px; fill: rgb(32, 178, 170); fill-opacity: 1;\"/><path class=\"point\" transform=\"translate(876.87,43.34)\" d=\"M3,0A3,3 0 1,1 0,-3A3,3 0 0,1 3,0Z\" style=\"opacity: 1; stroke-width: 0px; fill: rgb(32, 178, 170); fill-opacity: 1;\"/><path class=\"point\" transform=\"translate(887.32,390.22)\" d=\"M3,0A3,3 0 1,1 0,-3A3,3 0 0,1 3,0Z\" style=\"opacity: 1; stroke-width: 0px; fill: rgb(32, 178, 170); fill-opacity: 1;\"/><path class=\"point\" transform=\"translate(887.32,45.5)\" d=\"M3,0A3,3 0 1,1 0,-3A3,3 0 0,1 3,0Z\" style=\"opacity: 1; stroke-width: 0px; fill: rgb(32, 178, 170); fill-opacity: 1;\"/><path class=\"point\" transform=\"translate(897.77,385)\" d=\"M3,0A3,3 0 1,1 0,-3A3,3 0 0,1 3,0Z\" style=\"opacity: 1; stroke-width: 0px; fill: rgb(32, 178, 170); fill-opacity: 1;\"/><path class=\"point\" transform=\"translate(897.77,47.88)\" d=\"M3,0A3,3 0 1,1 0,-3A3,3 0 0,1 3,0Z\" style=\"opacity: 1; stroke-width: 0px; fill: rgb(32, 178, 170); fill-opacity: 1;\"/><path class=\"point\" transform=\"translate(908.22,379.56)\" d=\"M3,0A3,3 0 1,1 0,-3A3,3 0 0,1 3,0Z\" style=\"opacity: 1; stroke-width: 0px; fill: rgb(32, 178, 170); fill-opacity: 1;\"/><path class=\"point\" transform=\"translate(908.22,50.47)\" d=\"M3,0A3,3 0 1,1 0,-3A3,3 0 0,1 3,0Z\" style=\"opacity: 1; stroke-width: 0px; fill: rgb(32, 178, 170); fill-opacity: 1;\"/><path class=\"point\" transform=\"translate(918.67,373.88)\" d=\"M3,0A3,3 0 1,1 0,-3A3,3 0 0,1 3,0Z\" style=\"opacity: 1; stroke-width: 0px; fill: rgb(32, 178, 170); fill-opacity: 1;\"/><path class=\"point\" transform=\"translate(918.67,53.3)\" d=\"M3,0A3,3 0 1,1 0,-3A3,3 0 0,1 3,0Z\" style=\"opacity: 1; stroke-width: 0px; fill: rgb(32, 178, 170); fill-opacity: 1;\"/><path class=\"point\" transform=\"translate(929.13,367.94)\" d=\"M3,0A3,3 0 1,1 0,-3A3,3 0 0,1 3,0Z\" style=\"opacity: 1; stroke-width: 0px; fill: rgb(32, 178, 170); fill-opacity: 1;\"/><path class=\"point\" transform=\"translate(929.13,56.39)\" d=\"M3,0A3,3 0 1,1 0,-3A3,3 0 0,1 3,0Z\" style=\"opacity: 1; stroke-width: 0px; fill: rgb(32, 178, 170); fill-opacity: 1;\"/><path class=\"point\" transform=\"translate(939.58,361.72)\" d=\"M3,0A3,3 0 1,1 0,-3A3,3 0 0,1 3,0Z\" style=\"opacity: 1; stroke-width: 0px; fill: rgb(32, 178, 170); fill-opacity: 1;\"/><path class=\"point\" transform=\"translate(939.58,59.76)\" d=\"M3,0A3,3 0 1,1 0,-3A3,3 0 0,1 3,0Z\" style=\"opacity: 1; stroke-width: 0px; fill: rgb(32, 178, 170); fill-opacity: 1;\"/><path class=\"point\" transform=\"translate(950.03,355.2)\" d=\"M3,0A3,3 0 1,1 0,-3A3,3 0 0,1 3,0Z\" style=\"opacity: 1; stroke-width: 0px; fill: rgb(32, 178, 170); fill-opacity: 1;\"/><path class=\"point\" transform=\"translate(950.03,63.43)\" d=\"M3,0A3,3 0 1,1 0,-3A3,3 0 0,1 3,0Z\" style=\"opacity: 1; stroke-width: 0px; fill: rgb(32, 178, 170); fill-opacity: 1;\"/><path class=\"point\" transform=\"translate(960.48,348.34)\" d=\"M3,0A3,3 0 1,1 0,-3A3,3 0 0,1 3,0Z\" style=\"opacity: 1; stroke-width: 0px; fill: rgb(32, 178, 170); fill-opacity: 1;\"/><path class=\"point\" transform=\"translate(960.48,67.44)\" d=\"M3,0A3,3 0 1,1 0,-3A3,3 0 0,1 3,0Z\" style=\"opacity: 1; stroke-width: 0px; fill: rgb(32, 178, 170); fill-opacity: 1;\"/><path class=\"point\" transform=\"translate(970.93,341.09)\" d=\"M3,0A3,3 0 1,1 0,-3A3,3 0 0,1 3,0Z\" style=\"opacity: 1; stroke-width: 0px; fill: rgb(32, 178, 170); fill-opacity: 1;\"/><path class=\"point\" transform=\"translate(970.93,71.84)\" d=\"M3,0A3,3 0 1,1 0,-3A3,3 0 0,1 3,0Z\" style=\"opacity: 1; stroke-width: 0px; fill: rgb(32, 178, 170); fill-opacity: 1;\"/><path class=\"point\" transform=\"translate(981.38,333.41)\" d=\"M3,0A3,3 0 1,1 0,-3A3,3 0 0,1 3,0Z\" style=\"opacity: 1; stroke-width: 0px; fill: rgb(32, 178, 170); fill-opacity: 1;\"/><path class=\"point\" transform=\"translate(981.38,76.67)\" d=\"M3,0A3,3 0 1,1 0,-3A3,3 0 0,1 3,0Z\" style=\"opacity: 1; stroke-width: 0px; fill: rgb(32, 178, 170); fill-opacity: 1;\"/><path class=\"point\" transform=\"translate(991.83,325.24)\" d=\"M3,0A3,3 0 1,1 0,-3A3,3 0 0,1 3,0Z\" style=\"opacity: 1; stroke-width: 0px; fill: rgb(32, 178, 170); fill-opacity: 1;\"/><path class=\"point\" transform=\"translate(991.83,82)\" d=\"M3,0A3,3 0 1,1 0,-3A3,3 0 0,1 3,0Z\" style=\"opacity: 1; stroke-width: 0px; fill: rgb(32, 178, 170); fill-opacity: 1;\"/><path class=\"point\" transform=\"translate(1002.29,316.47)\" d=\"M3,0A3,3 0 1,1 0,-3A3,3 0 0,1 3,0Z\" style=\"opacity: 1; stroke-width: 0px; fill: rgb(32, 178, 170); fill-opacity: 1;\"/><path class=\"point\" transform=\"translate(1002.29,87.92)\" d=\"M3,0A3,3 0 1,1 0,-3A3,3 0 0,1 3,0Z\" style=\"opacity: 1; stroke-width: 0px; fill: rgb(32, 178, 170); fill-opacity: 1;\"/><path class=\"point\" transform=\"translate(1012.74,306.99)\" d=\"M3,0A3,3 0 1,1 0,-3A3,3 0 0,1 3,0Z\" style=\"opacity: 1; stroke-width: 0px; fill: rgb(32, 178, 170); fill-opacity: 1;\"/><path class=\"point\" transform=\"translate(1012.74,94.55)\" d=\"M3,0A3,3 0 1,1 0,-3A3,3 0 0,1 3,0Z\" style=\"opacity: 1; stroke-width: 0px; fill: rgb(32, 178, 170); fill-opacity: 1;\"/><path class=\"point\" transform=\"translate(1023.19,296.62)\" d=\"M3,0A3,3 0 1,1 0,-3A3,3 0 0,1 3,0Z\" style=\"opacity: 1; stroke-width: 0px; fill: rgb(32, 178, 170); fill-opacity: 1;\"/><path class=\"point\" transform=\"translate(1023.19,102.06)\" d=\"M3,0A3,3 0 1,1 0,-3A3,3 0 0,1 3,0Z\" style=\"opacity: 1; stroke-width: 0px; fill: rgb(32, 178, 170); fill-opacity: 1;\"/><path class=\"point\" transform=\"translate(1033.64,285.09)\" d=\"M3,0A3,3 0 1,1 0,-3A3,3 0 0,1 3,0Z\" style=\"opacity: 1; stroke-width: 0px; fill: rgb(32, 178, 170); fill-opacity: 1;\"/><path class=\"point\" transform=\"translate(1033.64,110.74)\" d=\"M3,0A3,3 0 1,1 0,-3A3,3 0 0,1 3,0Z\" style=\"opacity: 1; stroke-width: 0px; fill: rgb(32, 178, 170); fill-opacity: 1;\"/><path class=\"point\" transform=\"translate(1044.09,271.94)\" d=\"M3,0A3,3 0 1,1 0,-3A3,3 0 0,1 3,0Z\" style=\"opacity: 1; stroke-width: 0px; fill: rgb(32, 178, 170); fill-opacity: 1;\"/><path class=\"point\" transform=\"translate(1044.09,121.04)\" d=\"M3,0A3,3 0 1,1 0,-3A3,3 0 0,1 3,0Z\" style=\"opacity: 1; stroke-width: 0px; fill: rgb(32, 178, 170); fill-opacity: 1;\"/><path class=\"point\" transform=\"translate(1054.54,256.24)\" d=\"M3,0A3,3 0 1,1 0,-3A3,3 0 0,1 3,0Z\" style=\"opacity: 1; stroke-width: 0px; fill: rgb(32, 178, 170); fill-opacity: 1;\"/><path class=\"point\" transform=\"translate(1054.54,133.9)\" d=\"M3,0A3,3 0 1,1 0,-3A3,3 0 0,1 3,0Z\" style=\"opacity: 1; stroke-width: 0px; fill: rgb(32, 178, 170); fill-opacity: 1;\"/><path class=\"point\" transform=\"translate(1065,235.44)\" d=\"M3,0A3,3 0 1,1 0,-3A3,3 0 0,1 3,0Z\" style=\"opacity: 1; stroke-width: 0px; fill: rgb(32, 178, 170); fill-opacity: 1;\"/><path class=\"point\" transform=\"translate(1065,151.84)\" d=\"M3,0A3,3 0 1,1 0,-3A3,3 0 0,1 3,0Z\" style=\"opacity: 1; stroke-width: 0px; fill: rgb(32, 178, 170); fill-opacity: 1;\"/></g><g class=\"text\"/></g><g class=\"trace scatter trace89181b\" style=\"stroke-miterlimit: 2; opacity: 1;\"><g class=\"fills\"/><g class=\"errorbars\"/><g class=\"lines\"/><g class=\"points\"><path class=\"point\" transform=\"translate(185.36,188.06)\" d=\"M5,0A5,5 0 1,1 0,-5A5,5 0 0,1 5,0Z\" style=\"opacity: 1; stroke-width: 0px; fill: rgb(147, 112, 219); fill-opacity: 1;\"/><path class=\"point\" transform=\"translate(140.38,227.15)\" d=\"M5,0A5,5 0 1,1 0,-5A5,5 0 0,1 5,0Z\" style=\"opacity: 1; stroke-width: 0px; fill: rgb(147, 112, 219); fill-opacity: 1;\"/><path class=\"point\" transform=\"translate(106.64,272.76)\" d=\"M5,0A5,5 0 1,1 0,-5A5,5 0 0,1 5,0Z\" style=\"opacity: 1; stroke-width: 0px; fill: rgb(147, 112, 219); fill-opacity: 1;\"/><path class=\"point\" transform=\"translate(95.39,357.45)\" d=\"M5,0A5,5 0 1,1 0,-5A5,5 0 0,1 5,0Z\" style=\"opacity: 1; stroke-width: 0px; fill: rgb(147, 112, 219); fill-opacity: 1;\"/><path class=\"point\" transform=\"translate(162.87,429.12)\" d=\"M5,0A5,5 0 1,1 0,-5A5,5 0 0,1 5,0Z\" style=\"opacity: 1; stroke-width: 0px; fill: rgb(147, 112, 219); fill-opacity: 1;\"/><path class=\"point\" transform=\"translate(489.03,487.75)\" d=\"M5,0A5,5 0 1,1 0,-5A5,5 0 0,1 5,0Z\" style=\"opacity: 1; stroke-width: 0px; fill: rgb(147, 112, 219); fill-opacity: 1;\"/><path class=\"point\" transform=\"translate(860.17,403.06)\" d=\"M5,0A5,5 0 1,1 0,-5A5,5 0 0,1 5,0Z\" style=\"opacity: 1; stroke-width: 0px; fill: rgb(147, 112, 219); fill-opacity: 1;\"/><path class=\"point\" transform=\"translate(1062.61,240.18)\" d=\"M5,0A5,5 0 1,1 0,-5A5,5 0 0,1 5,0Z\" style=\"opacity: 1; stroke-width: 0px; fill: rgb(147, 112, 219); fill-opacity: 1;\"/><path class=\"point\" transform=\"translate(848.92,38.22)\" d=\"M5,0A5,5 0 1,1 0,-5A5,5 0 0,1 5,0Z\" style=\"opacity: 1; stroke-width: 0px; fill: rgb(147, 112, 219); fill-opacity: 1;\"/><path class=\"point\" transform=\"translate(174.12,188.06)\" d=\"M5,0A5,5 0 1,1 0,-5A5,5 0 0,1 5,0Z\" style=\"opacity: 1; stroke-width: 0px; fill: rgb(147, 112, 219); fill-opacity: 1;\"/><path class=\"point\" transform=\"translate(354.07,96.85)\" d=\"M5,0A5,5 0 1,1 0,-5A5,5 0 0,1 5,0Z\" style=\"opacity: 1; stroke-width: 0px; fill: rgb(147, 112, 219); fill-opacity: 1;\"/></g><g class=\"text\"/></g></g></g><g class=\"overplot\"/><path class=\"xlines-above crisp\" d=\"M0,0\" style=\"fill: none;\"/><path class=\"ylines-above crisp\" d=\"M0,0\" style=\"fill: none;\"/><g class=\"overlines-above\"/><g class=\"xaxislayer-above\"><g class=\"xtick\"><text text-anchor=\"middle\" x=\"0\" y=\"633\" transform=\"translate(209.13,0)\" style=\"font-family: 'Open Sans', verdana, arial, sans-serif; font-size: 12px; fill: rgb(42, 63, 95); fill-opacity: 1; white-space: pre; opacity: 1;\">−6</text></g><g class=\"xtick\"><text text-anchor=\"middle\" x=\"0\" y=\"633\" style=\"font-family: 'Open Sans', verdana, arial, sans-serif; font-size: 12px; fill: rgb(42, 63, 95); fill-opacity: 1; white-space: pre; opacity: 1;\" transform=\"translate(434.07,0)\">−4</text></g><g class=\"xtick\"><text text-anchor=\"middle\" x=\"0\" y=\"633\" style=\"font-family: 'Open Sans', verdana, arial, sans-serif; font-size: 12px; fill: rgb(42, 63, 95); fill-opacity: 1; white-space: pre; opacity: 1;\" transform=\"translate(659,0)\">−2</text></g><g class=\"xtick\"><text text-anchor=\"middle\" x=\"0\" y=\"633\" style=\"font-family: 'Open Sans', verdana, arial, sans-serif; font-size: 12px; fill: rgb(42, 63, 95); fill-opacity: 1; white-space: pre; opacity: 1;\" transform=\"translate(883.93,0)\">0</text></g><g class=\"xtick\"><text text-anchor=\"middle\" x=\"0\" y=\"633\" style=\"font-family: 'Open Sans', verdana, arial, sans-serif; font-size: 12px; fill: rgb(42, 63, 95); fill-opacity: 1; white-space: pre; opacity: 1;\" transform=\"translate(1108.87,0)\">2</text></g></g><g class=\"yaxislayer-above\"><g class=\"ytick\"><text text-anchor=\"end\" x=\"79\" y=\"4.199999999999999\" transform=\"translate(0,587.75)\" style=\"font-family: 'Open Sans', verdana, arial, sans-serif; font-size: 12px; fill: rgb(42, 63, 95); fill-opacity: 1; white-space: pre; opacity: 1;\">−3</text></g><g class=\"ytick\"><text text-anchor=\"end\" x=\"79\" y=\"4.199999999999999\" style=\"font-family: 'Open Sans', verdana, arial, sans-serif; font-size: 12px; fill: rgb(42, 63, 95); fill-opacity: 1; white-space: pre; opacity: 1;\" transform=\"translate(0,522.6)\">−2</text></g><g class=\"ytick\"><text text-anchor=\"end\" x=\"79\" y=\"4.199999999999999\" style=\"font-family: 'Open Sans', verdana, arial, sans-serif; font-size: 12px; fill: rgb(42, 63, 95); fill-opacity: 1; white-space: pre; opacity: 1;\" transform=\"translate(0,457.45)\">−1</text></g><g class=\"ytick\"><text text-anchor=\"end\" x=\"79\" y=\"4.199999999999999\" style=\"font-family: 'Open Sans', verdana, arial, sans-serif; font-size: 12px; fill: rgb(42, 63, 95); fill-opacity: 1; white-space: pre; opacity: 1;\" transform=\"translate(0,392.3)\">0</text></g><g class=\"ytick\"><text text-anchor=\"end\" x=\"79\" y=\"4.199999999999999\" style=\"font-family: 'Open Sans', verdana, arial, sans-serif; font-size: 12px; fill: rgb(42, 63, 95); fill-opacity: 1; white-space: pre; opacity: 1;\" transform=\"translate(0,327.15)\">1</text></g><g class=\"ytick\"><text text-anchor=\"end\" x=\"79\" y=\"4.199999999999999\" style=\"font-family: 'Open Sans', verdana, arial, sans-serif; font-size: 12px; fill: rgb(42, 63, 95); fill-opacity: 1; white-space: pre; opacity: 1;\" transform=\"translate(0,262)\">2</text></g><g class=\"ytick\"><text text-anchor=\"end\" x=\"79\" y=\"4.199999999999999\" style=\"font-family: 'Open Sans', verdana, arial, sans-serif; font-size: 12px; fill: rgb(42, 63, 95); fill-opacity: 1; white-space: pre; opacity: 1;\" transform=\"translate(0,196.85)\">3</text></g><g class=\"ytick\"><text text-anchor=\"end\" x=\"79\" y=\"4.199999999999999\" style=\"font-family: 'Open Sans', verdana, arial, sans-serif; font-size: 12px; fill: rgb(42, 63, 95); fill-opacity: 1; white-space: pre; opacity: 1;\" transform=\"translate(0,131.71)\">4</text></g></g><g class=\"overaxes-above\"/></g></g><g class=\"polarlayer\"/><g class=\"smithlayer\"/><g class=\"ternarylayer\"/><g class=\"geolayer\"/><g class=\"funnelarealayer\"/><g class=\"pielayer\"/><g class=\"iciclelayer\"/><g class=\"treemaplayer\"/><g class=\"sunburstlayer\"/><g class=\"glimages\"/><defs id=\"topdefs-1e705a\"><g class=\"clips\"/><clipPath id=\"legend1e705a\"><rect width=\"127\" height=\"48\" x=\"0\" y=\"0\"/></clipPath></defs><g class=\"layer-above\"><g class=\"imagelayer\"/><g class=\"shapelayer\"/></g><g class=\"infolayer\"><g class=\"legend\" pointer-events=\"all\" transform=\"translate(1261.16,100)\"><rect class=\"bg\" shape-rendering=\"crispEdges\" width=\"127\" height=\"48\" x=\"0\" y=\"0\" style=\"stroke: rgb(68, 68, 68); stroke-opacity: 1; fill: rgb(255, 255, 255); fill-opacity: 1; stroke-width: 0px;\"/><g class=\"scrollbox\" transform=\"\" clip-path=\"url(#legend1e705a)\"><g class=\"groups\"><g class=\"traces\" transform=\"translate(0,14.5)\" style=\"opacity: 1;\"><text class=\"legendtext\" text-anchor=\"start\" x=\"40\" y=\"4.680000000000001\" style=\"font-family: 'Open Sans', verdana, arial, sans-serif; font-size: 12px; fill: rgb(42, 63, 95); fill-opacity: 1; white-space: pre;\">P(x)</text><g class=\"layers\" style=\"opacity: 1;\"><g class=\"legendfill\"/><g class=\"legendlines\"/><g class=\"legendsymbols\"><g class=\"legendpoints\"><path class=\"scatterpts\" transform=\"translate(20,0)\" d=\"M3,0A3,3 0 1,1 0,-3A3,3 0 0,1 3,0Z\" style=\"opacity: 1; stroke-width: 0px; fill: rgb(32, 178, 170); fill-opacity: 1;\"/></g></g></g><rect class=\"legendtoggle\" x=\"0\" y=\"-9.5\" width=\"121.359375\" height=\"19\" style=\"fill: rgb(0, 0, 0); fill-opacity: 0;\"/></g><g class=\"traces\" transform=\"translate(0,33.5)\" style=\"opacity: 1;\"><text class=\"legendtext\" text-anchor=\"start\" x=\"40\" y=\"4.680000000000001\" style=\"font-family: 'Open Sans', verdana, arial, sans-serif; font-size: 12px; fill: rgb(42, 63, 95); fill-opacity: 1; white-space: pre;\">Puntos dados</text><g class=\"layers\" style=\"opacity: 1;\"><g class=\"legendfill\"/><g class=\"legendlines\"/><g class=\"legendsymbols\"><g class=\"legendpoints\"><path class=\"scatterpts\" transform=\"translate(20,0)\" d=\"M5,0A5,5 0 1,1 0,-5A5,5 0 0,1 5,0Z\" style=\"opacity: 1; stroke-width: 0px; fill: rgb(147, 112, 219); fill-opacity: 1;\"/></g></g></g><rect class=\"legendtoggle\" x=\"0\" y=\"-9.5\" width=\"121.359375\" height=\"19\" style=\"fill: rgb(0, 0, 0); fill-opacity: 0;\"/></g></g></g><rect class=\"scrollbar\" rx=\"20\" ry=\"3\" width=\"0\" height=\"0\" x=\"0\" y=\"0\" style=\"fill: rgb(128, 139, 164); fill-opacity: 1;\"/></g><g class=\"g-gtitle\"><text class=\"gtitle\" x=\"70\" y=\"50\" text-anchor=\"start\" dy=\"0em\" style=\"font-family: 'Open Sans', verdana, arial, sans-serif; font-size: 30px; fill: rgb(42, 63, 95); opacity: 1; font-weight: normal; white-space: pre;\">Ajuste de minimos cuadrados para una elipse</text></g><g class=\"g-xtitle\"/><g class=\"g-ytitle\"/></g></svg>"
          },
          "metadata": {},
          "output_type": "display_data"
        }
      ],
      "source": [
        "X = [-5.5, -5.9, -6.2, -6.3, -5.7, -2.8, 0.5, 2.3, 0.4, -5.6, -4]\n",
        "y = [1.6, 1, 0.3, -1, -2.1, -3, -1.7, 0.8, 3.9, 1.6, 3]\n",
        "\n",
        "elipse(X, y)"
      ]
    },
    {
      "cell_type": "markdown",
      "metadata": {
        "id": "CF_8Ei4Xwgh5"
      },
      "source": [
        "## Ejercicio 3\n",
        "Escribe una rutina que, para $n = 0,1,2,3,4,5$, usando el método de ecuaciones normales encuentre un polinomio de grado $n$ que ajuste los datos mostrados en la siguiente tabla:\n",
        "\n",
        "$$t = 0.0 \\quad 1.0 \\quad 2.0 \\quad 3.0 \\quad 4.0 \\quad 5.0 $$\n",
        "$$y = 1.0 \\quad 2.7 \\quad 5.8 \\quad 6.6 \\quad 7.5 \\quad 9.9 $$\n",
        "\n",
        "Para cada polinomio el programa debe mostrar la gráfica de dicho polinomio junto con los puntos mostrados en la tabla anterior.\n"
      ]
    },
    {
      "cell_type": "code",
      "execution_count": 26,
      "metadata": {
        "id": "b9UxMYliyrcq"
      },
      "outputs": [],
      "source": [
        "def ec_norma_grad(X, y, grad):\n",
        "  #Transformamos en arrays\n",
        "  X = np.array(X)\n",
        "  y_vec = np.array(y).reshape(len(y), 1)\n",
        "  n = len(X)\n",
        "  #Matriz de Vandermonde\n",
        "  A = np.zeros((n, grad + 1))\n",
        "\n",
        "  #Llenamos la matriz\n",
        "  for i in range(n):\n",
        "    for j in range(grad + 1):\n",
        "      A[i, j] = X[i]**j\n",
        "\n",
        "  At = np.transpose(A)\n",
        "\n",
        "  #B = A^t *A, z = A^t*y\n",
        "  B = np.matmul(At, A)\n",
        "  z = np.matmul(At, y_vec)\n",
        "\n",
        "  #Descomponemos A^t*A con Cholesky\n",
        "  L = np.linalg.cholesky(B)\n",
        "  \n",
        "  #Resolvemos L*x_0 = A^t*y\n",
        "  x_0 = np.linalg.solve(L, z)\n",
        "\n",
        "  #Ahora resolvemos L^t*a = x_0\n",
        "  a = np.linalg.solve(np.transpose(L), x_0)\n",
        "  \n",
        "  #Imprimimos el polinomio y creamos los arreglos para graficar\n",
        "  x = sym.Symbol('x')\n",
        "  x_graf = np.linspace(min(X)-1, max(X)+1, 100)\n",
        "  pol = 0\n",
        "  \n",
        "  #Diferenciamos el caso cuando el grado es cero y cuando no lo es\n",
        "  if grad == 0:\n",
        "    pol = a[0]\n",
        "    y_graf = [float(a[0]) for xi in x_graf]\n",
        "\n",
        "  else:\n",
        "    for i in range(grad + 1):\n",
        "      pol += float(a[i])*x**i\n",
        "    y_graf = [float(pol.subs(x, xi)) for xi in x_graf]\n",
        "\n",
        "  latexpol =f'$P(x) = {latex(pol)}$'\n",
        "  print(\"***Polinomio\\n\")\n",
        "  display(Latex(latexpol))\n",
        "\n",
        "  # Graficamos \n",
        "  fig = go.Figure()\n",
        "\n",
        "  fig.add_trace(\n",
        "      go.Scatter(x = x_graf, y = y_graf, mode = 'lines',\n",
        "                 marker=dict(color=\"LightSeaGreen\"), name = 'P(x)')\n",
        "      )\n",
        "\n",
        "  fig.add_trace(\n",
        "      go.Scatter(x = X, y = y, mode = 'markers',\n",
        "                 marker=dict(size=10, color=\"MediumPurple\"), name = 'Puntos dados')\n",
        "      )\n",
        "  fig.update_layout(title_text=\"Ajuste de minimos cuadrados\",\n",
        "                  title_font_size=30, width=1400, height=700)\n",
        "  fig.show(renderer = 'svg') "
      ]
    },
    {
      "cell_type": "code",
      "execution_count": 27,
      "metadata": {
        "colab": {
          "base_uri": "https://localhost:8080/",
          "height": 1000
        },
        "id": "-66wJCAzzVvF",
        "outputId": "137666f0-5c79-4b11-ab3d-9751c12ec8dc"
      },
      "outputs": [
        {
          "name": "stdout",
          "output_type": "stream",
          "text": [
            "***Polinomio\n",
            "\n"
          ]
        },
        {
          "data": {
            "text/latex": [
              "$P(x) = \\mathtt{\\text{[5.58333333]}}$"
            ],
            "text/plain": [
              "<IPython.core.display.Latex object>"
            ]
          },
          "metadata": {},
          "output_type": "display_data"
        },
        {
          "data": {
            "image/svg+xml": "<svg class=\"main-svg\" xmlns=\"http://www.w3.org/2000/svg\" xmlns:xlink=\"http://www.w3.org/1999/xlink\" width=\"1400\" height=\"700\" style=\"\" viewBox=\"0 0 1400 700\"><rect x=\"0\" y=\"0\" width=\"1400\" height=\"700\" style=\"fill: rgb(255, 255, 255); fill-opacity: 1;\"/><defs id=\"defs-c67731\"><g class=\"clips\"><clipPath id=\"clipc67731xyplot\" class=\"plotclip\"><rect width=\"1158\" height=\"520\"/></clipPath><clipPath class=\"axesclip\" id=\"clipc67731x\"><rect x=\"80\" y=\"0\" width=\"1158\" height=\"700\"/></clipPath><clipPath class=\"axesclip\" id=\"clipc67731y\"><rect x=\"0\" y=\"100\" width=\"1400\" height=\"520\"/></clipPath><clipPath class=\"axesclip\" id=\"clipc67731xy\"><rect x=\"80\" y=\"100\" width=\"1158\" height=\"520\"/></clipPath></g><g class=\"gradients\"/><g class=\"patterns\"/></defs><g class=\"bglayer\"><rect class=\"bg\" x=\"80\" y=\"100\" width=\"1158\" height=\"520\" style=\"fill: rgb(229, 236, 246); fill-opacity: 1; stroke-width: 0;\"/></g><g class=\"layer-below\"><g class=\"imagelayer\"/><g class=\"shapelayer\"/></g><g class=\"cartesianlayer\"><g class=\"subplot xy\"><g class=\"layer-subplot\"><g class=\"shapelayer\"/><g class=\"imagelayer\"/></g><g class=\"minor-gridlayer\"><g class=\"x\"/><g class=\"y\"/></g><g class=\"gridlayer\"><g class=\"x\"><path class=\"xgrid crisp\" transform=\"translate(410.86,0)\" d=\"M0,100v520\" style=\"stroke: rgb(255, 255, 255); stroke-opacity: 1; stroke-width: 1px;\"/><path class=\"xgrid crisp\" transform=\"translate(576.29,0)\" d=\"M0,100v520\" style=\"stroke: rgb(255, 255, 255); stroke-opacity: 1; stroke-width: 1px;\"/><path class=\"xgrid crisp\" transform=\"translate(741.71,0)\" d=\"M0,100v520\" style=\"stroke: rgb(255, 255, 255); stroke-opacity: 1; stroke-width: 1px;\"/><path class=\"xgrid crisp\" transform=\"translate(907.14,0)\" d=\"M0,100v520\" style=\"stroke: rgb(255, 255, 255); stroke-opacity: 1; stroke-width: 1px;\"/><path class=\"xgrid crisp\" transform=\"translate(1072.5700000000002,0)\" d=\"M0,100v520\" style=\"stroke: rgb(255, 255, 255); stroke-opacity: 1; stroke-width: 1px;\"/></g><g class=\"y\"><path class=\"ygrid crisp\" transform=\"translate(0,536.5699999999999)\" d=\"M80,0h1158\" style=\"stroke: rgb(255, 255, 255); stroke-opacity: 1; stroke-width: 1px;\"/><path class=\"ygrid crisp\" transform=\"translate(0,434.21)\" d=\"M80,0h1158\" style=\"stroke: rgb(255, 255, 255); stroke-opacity: 1; stroke-width: 1px;\"/><path class=\"ygrid crisp\" transform=\"translate(0,331.85)\" d=\"M80,0h1158\" style=\"stroke: rgb(255, 255, 255); stroke-opacity: 1; stroke-width: 1px;\"/><path class=\"ygrid crisp\" transform=\"translate(0,229.49)\" d=\"M80,0h1158\" style=\"stroke: rgb(255, 255, 255); stroke-opacity: 1; stroke-width: 1px;\"/><path class=\"ygrid crisp\" transform=\"translate(0,127.13)\" d=\"M80,0h1158\" style=\"stroke: rgb(255, 255, 255); stroke-opacity: 1; stroke-width: 1px;\"/></g></g><g class=\"zerolinelayer\"><path class=\"xzl zl crisp\" transform=\"translate(245.43,0)\" d=\"M0,100v520\" style=\"stroke: rgb(255, 255, 255); stroke-opacity: 1; stroke-width: 2px;\"/></g><path class=\"xlines-below\"/><path class=\"ylines-below\"/><g class=\"overlines-below\"/><g class=\"xaxislayer-below\"/><g class=\"yaxislayer-below\"/><g class=\"overaxes-below\"/><g class=\"plot\" transform=\"translate(80,100)\" clip-path=\"url(#clipc67731xyplot)\"><g class=\"scatterlayer mlayer\"><g class=\"trace scatter trace1b2381\" style=\"stroke-miterlimit: 2; opacity: 1;\"><g class=\"fills\"/><g class=\"errorbars\"/><g class=\"lines\"><path class=\"js-line\" d=\"M0,253.18L1158,253.18\" style=\"vector-effect: non-scaling-stroke; fill: none; stroke: rgb(32, 178, 170); stroke-opacity: 1; stroke-width: 2px; opacity: 1;\"/></g><g class=\"points\"/><g class=\"text\"/></g><g class=\"trace scatter trace9e9b96\" style=\"stroke-miterlimit: 2; opacity: 1;\"><g class=\"fills\"/><g class=\"errorbars\"/><g class=\"lines\"/><g class=\"points\"><path class=\"point\" transform=\"translate(165.43,487.75)\" d=\"M5,0A5,5 0 1,1 0,-5A5,5 0 0,1 5,0Z\" style=\"opacity: 1; stroke-width: 0px; fill: rgb(147, 112, 219); fill-opacity: 1;\"/><path class=\"point\" transform=\"translate(330.86,400.74)\" d=\"M5,0A5,5 0 1,1 0,-5A5,5 0 0,1 5,0Z\" style=\"opacity: 1; stroke-width: 0px; fill: rgb(147, 112, 219); fill-opacity: 1;\"/><path class=\"point\" transform=\"translate(496.29,242.09)\" d=\"M5,0A5,5 0 1,1 0,-5A5,5 0 0,1 5,0Z\" style=\"opacity: 1; stroke-width: 0px; fill: rgb(147, 112, 219); fill-opacity: 1;\"/><path class=\"point\" transform=\"translate(661.71,201.14)\" d=\"M5,0A5,5 0 1,1 0,-5A5,5 0 0,1 5,0Z\" style=\"opacity: 1; stroke-width: 0px; fill: rgb(147, 112, 219); fill-opacity: 1;\"/><path class=\"point\" transform=\"translate(827.14,155.08)\" d=\"M5,0A5,5 0 1,1 0,-5A5,5 0 0,1 5,0Z\" style=\"opacity: 1; stroke-width: 0px; fill: rgb(147, 112, 219); fill-opacity: 1;\"/><path class=\"point\" transform=\"translate(992.57,32.25)\" d=\"M5,0A5,5 0 1,1 0,-5A5,5 0 0,1 5,0Z\" style=\"opacity: 1; stroke-width: 0px; fill: rgb(147, 112, 219); fill-opacity: 1;\"/></g><g class=\"text\"/></g></g></g><g class=\"overplot\"/><path class=\"xlines-above crisp\" d=\"M0,0\" style=\"fill: none;\"/><path class=\"ylines-above crisp\" d=\"M0,0\" style=\"fill: none;\"/><g class=\"overlines-above\"/><g class=\"xaxislayer-above\"><g class=\"xtick\"><text text-anchor=\"middle\" x=\"0\" y=\"633\" transform=\"translate(80,0)\" style=\"font-family: 'Open Sans', verdana, arial, sans-serif; font-size: 12px; fill: rgb(42, 63, 95); fill-opacity: 1; white-space: pre; opacity: 1;\">−1</text></g><g class=\"xtick\"><text text-anchor=\"middle\" x=\"0\" y=\"633\" style=\"font-family: 'Open Sans', verdana, arial, sans-serif; font-size: 12px; fill: rgb(42, 63, 95); fill-opacity: 1; white-space: pre; opacity: 1;\" transform=\"translate(245.43,0)\">0</text></g><g class=\"xtick\"><text text-anchor=\"middle\" x=\"0\" y=\"633\" style=\"font-family: 'Open Sans', verdana, arial, sans-serif; font-size: 12px; fill: rgb(42, 63, 95); fill-opacity: 1; white-space: pre; opacity: 1;\" transform=\"translate(410.86,0)\">1</text></g><g class=\"xtick\"><text text-anchor=\"middle\" x=\"0\" y=\"633\" style=\"font-family: 'Open Sans', verdana, arial, sans-serif; font-size: 12px; fill: rgb(42, 63, 95); fill-opacity: 1; white-space: pre; opacity: 1;\" transform=\"translate(576.29,0)\">2</text></g><g class=\"xtick\"><text text-anchor=\"middle\" x=\"0\" y=\"633\" style=\"font-family: 'Open Sans', verdana, arial, sans-serif; font-size: 12px; fill: rgb(42, 63, 95); fill-opacity: 1; white-space: pre; opacity: 1;\" transform=\"translate(741.71,0)\">3</text></g><g class=\"xtick\"><text text-anchor=\"middle\" x=\"0\" y=\"633\" style=\"font-family: 'Open Sans', verdana, arial, sans-serif; font-size: 12px; fill: rgb(42, 63, 95); fill-opacity: 1; white-space: pre; opacity: 1;\" transform=\"translate(907.14,0)\">4</text></g><g class=\"xtick\"><text text-anchor=\"middle\" x=\"0\" y=\"633\" style=\"font-family: 'Open Sans', verdana, arial, sans-serif; font-size: 12px; fill: rgb(42, 63, 95); fill-opacity: 1; white-space: pre; opacity: 1;\" transform=\"translate(1072.5700000000002,0)\">5</text></g><g class=\"xtick\"><text text-anchor=\"middle\" x=\"0\" y=\"633\" style=\"font-family: 'Open Sans', verdana, arial, sans-serif; font-size: 12px; fill: rgb(42, 63, 95); fill-opacity: 1; white-space: pre; opacity: 1;\" transform=\"translate(1238,0)\">6</text></g></g><g class=\"yaxislayer-above\"><g class=\"ytick\"><text text-anchor=\"end\" x=\"79\" y=\"4.199999999999999\" transform=\"translate(0,536.5699999999999)\" style=\"font-family: 'Open Sans', verdana, arial, sans-serif; font-size: 12px; fill: rgb(42, 63, 95); fill-opacity: 1; white-space: pre; opacity: 1;\">2</text></g><g class=\"ytick\"><text text-anchor=\"end\" x=\"79\" y=\"4.199999999999999\" style=\"font-family: 'Open Sans', verdana, arial, sans-serif; font-size: 12px; fill: rgb(42, 63, 95); fill-opacity: 1; white-space: pre; opacity: 1;\" transform=\"translate(0,434.21)\">4</text></g><g class=\"ytick\"><text text-anchor=\"end\" x=\"79\" y=\"4.199999999999999\" style=\"font-family: 'Open Sans', verdana, arial, sans-serif; font-size: 12px; fill: rgb(42, 63, 95); fill-opacity: 1; white-space: pre; opacity: 1;\" transform=\"translate(0,331.85)\">6</text></g><g class=\"ytick\"><text text-anchor=\"end\" x=\"79\" y=\"4.199999999999999\" style=\"font-family: 'Open Sans', verdana, arial, sans-serif; font-size: 12px; fill: rgb(42, 63, 95); fill-opacity: 1; white-space: pre; opacity: 1;\" transform=\"translate(0,229.49)\">8</text></g><g class=\"ytick\"><text text-anchor=\"end\" x=\"79\" y=\"4.199999999999999\" style=\"font-family: 'Open Sans', verdana, arial, sans-serif; font-size: 12px; fill: rgb(42, 63, 95); fill-opacity: 1; white-space: pre; opacity: 1;\" transform=\"translate(0,127.13)\">10</text></g></g><g class=\"overaxes-above\"/></g></g><g class=\"polarlayer\"/><g class=\"smithlayer\"/><g class=\"ternarylayer\"/><g class=\"geolayer\"/><g class=\"funnelarealayer\"/><g class=\"pielayer\"/><g class=\"iciclelayer\"/><g class=\"treemaplayer\"/><g class=\"sunburstlayer\"/><g class=\"glimages\"/><defs id=\"topdefs-c67731\"><g class=\"clips\"/><clipPath id=\"legendc67731\"><rect width=\"127\" height=\"48\" x=\"0\" y=\"0\"/></clipPath></defs><g class=\"layer-above\"><g class=\"imagelayer\"/><g class=\"shapelayer\"/></g><g class=\"infolayer\"><g class=\"legend\" pointer-events=\"all\" transform=\"translate(1261.16,100)\"><rect class=\"bg\" shape-rendering=\"crispEdges\" width=\"127\" height=\"48\" x=\"0\" y=\"0\" style=\"stroke: rgb(68, 68, 68); stroke-opacity: 1; fill: rgb(255, 255, 255); fill-opacity: 1; stroke-width: 0px;\"/><g class=\"scrollbox\" transform=\"\" clip-path=\"url(#legendc67731)\"><g class=\"groups\"><g class=\"traces\" transform=\"translate(0,14.5)\" style=\"opacity: 1;\"><text class=\"legendtext\" text-anchor=\"start\" x=\"40\" y=\"4.680000000000001\" style=\"font-family: 'Open Sans', verdana, arial, sans-serif; font-size: 12px; fill: rgb(42, 63, 95); fill-opacity: 1; white-space: pre;\">P(x)</text><g class=\"layers\" style=\"opacity: 1;\"><g class=\"legendfill\"/><g class=\"legendlines\"><path class=\"js-line\" d=\"M5,0h30\" style=\"fill: none; stroke: rgb(32, 178, 170); stroke-opacity: 1; stroke-width: 2px;\"/></g><g class=\"legendsymbols\"><g class=\"legendpoints\"/></g></g><rect class=\"legendtoggle\" x=\"0\" y=\"-9.5\" width=\"121.359375\" height=\"19\" style=\"fill: rgb(0, 0, 0); fill-opacity: 0;\"/></g><g class=\"traces\" transform=\"translate(0,33.5)\" style=\"opacity: 1;\"><text class=\"legendtext\" text-anchor=\"start\" x=\"40\" y=\"4.680000000000001\" style=\"font-family: 'Open Sans', verdana, arial, sans-serif; font-size: 12px; fill: rgb(42, 63, 95); fill-opacity: 1; white-space: pre;\">Puntos dados</text><g class=\"layers\" style=\"opacity: 1;\"><g class=\"legendfill\"/><g class=\"legendlines\"/><g class=\"legendsymbols\"><g class=\"legendpoints\"><path class=\"scatterpts\" transform=\"translate(20,0)\" d=\"M5,0A5,5 0 1,1 0,-5A5,5 0 0,1 5,0Z\" style=\"opacity: 1; stroke-width: 0px; fill: rgb(147, 112, 219); fill-opacity: 1;\"/></g></g></g><rect class=\"legendtoggle\" x=\"0\" y=\"-9.5\" width=\"121.359375\" height=\"19\" style=\"fill: rgb(0, 0, 0); fill-opacity: 0;\"/></g></g></g><rect class=\"scrollbar\" rx=\"20\" ry=\"3\" width=\"0\" height=\"0\" x=\"0\" y=\"0\" style=\"fill: rgb(128, 139, 164); fill-opacity: 1;\"/></g><g class=\"g-gtitle\"><text class=\"gtitle\" x=\"70\" y=\"50\" text-anchor=\"start\" dy=\"0em\" style=\"font-family: 'Open Sans', verdana, arial, sans-serif; font-size: 30px; fill: rgb(42, 63, 95); opacity: 1; font-weight: normal; white-space: pre;\">Ajuste de minimos cuadrados</text></g><g class=\"g-xtitle\"/><g class=\"g-ytitle\"/></g></svg>"
          },
          "metadata": {},
          "output_type": "display_data"
        },
        {
          "name": "stdout",
          "output_type": "stream",
          "text": [
            "***Polinomio\n",
            "\n"
          ]
        },
        {
          "data": {
            "text/latex": [
              "$P(x) = 1.70571428571429 x + 1.31904761904762$"
            ],
            "text/plain": [
              "<IPython.core.display.Latex object>"
            ]
          },
          "metadata": {},
          "output_type": "display_data"
        },
        {
          "data": {
            "image/svg+xml": "<svg class=\"main-svg\" xmlns=\"http://www.w3.org/2000/svg\" xmlns:xlink=\"http://www.w3.org/1999/xlink\" width=\"1400\" height=\"700\" style=\"\" viewBox=\"0 0 1400 700\"><rect x=\"0\" y=\"0\" width=\"1400\" height=\"700\" style=\"fill: rgb(255, 255, 255); fill-opacity: 1;\"/><defs id=\"defs-d39b2f\"><g class=\"clips\"><clipPath id=\"clipd39b2fxyplot\" class=\"plotclip\"><rect width=\"1158\" height=\"520\"/></clipPath><clipPath class=\"axesclip\" id=\"clipd39b2fx\"><rect x=\"80\" y=\"0\" width=\"1158\" height=\"700\"/></clipPath><clipPath class=\"axesclip\" id=\"clipd39b2fy\"><rect x=\"0\" y=\"100\" width=\"1400\" height=\"520\"/></clipPath><clipPath class=\"axesclip\" id=\"clipd39b2fxy\"><rect x=\"80\" y=\"100\" width=\"1158\" height=\"520\"/></clipPath></g><g class=\"gradients\"/><g class=\"patterns\"/></defs><g class=\"bglayer\"><rect class=\"bg\" x=\"80\" y=\"100\" width=\"1158\" height=\"520\" style=\"fill: rgb(229, 236, 246); fill-opacity: 1; stroke-width: 0;\"/></g><g class=\"layer-below\"><g class=\"imagelayer\"/><g class=\"shapelayer\"/></g><g class=\"cartesianlayer\"><g class=\"subplot xy\"><g class=\"layer-subplot\"><g class=\"shapelayer\"/><g class=\"imagelayer\"/></g><g class=\"minor-gridlayer\"><g class=\"x\"/><g class=\"y\"/></g><g class=\"gridlayer\"><g class=\"x\"><path class=\"xgrid crisp\" transform=\"translate(410.86,0)\" d=\"M0,100v520\" style=\"stroke: rgb(255, 255, 255); stroke-opacity: 1; stroke-width: 1px;\"/><path class=\"xgrid crisp\" transform=\"translate(576.29,0)\" d=\"M0,100v520\" style=\"stroke: rgb(255, 255, 255); stroke-opacity: 1; stroke-width: 1px;\"/><path class=\"xgrid crisp\" transform=\"translate(741.71,0)\" d=\"M0,100v520\" style=\"stroke: rgb(255, 255, 255); stroke-opacity: 1; stroke-width: 1px;\"/><path class=\"xgrid crisp\" transform=\"translate(907.14,0)\" d=\"M0,100v520\" style=\"stroke: rgb(255, 255, 255); stroke-opacity: 1; stroke-width: 1px;\"/><path class=\"xgrid crisp\" transform=\"translate(1072.5700000000002,0)\" d=\"M0,100v520\" style=\"stroke: rgb(255, 255, 255); stroke-opacity: 1; stroke-width: 1px;\"/></g><g class=\"y\"><path class=\"ygrid crisp\" transform=\"translate(0,500.45)\" d=\"M80,0h1158\" style=\"stroke: rgb(255, 255, 255); stroke-opacity: 1; stroke-width: 1px;\"/><path class=\"ygrid crisp\" transform=\"translate(0,422.06)\" d=\"M80,0h1158\" style=\"stroke: rgb(255, 255, 255); stroke-opacity: 1; stroke-width: 1px;\"/><path class=\"ygrid crisp\" transform=\"translate(0,343.66999999999996)\" d=\"M80,0h1158\" style=\"stroke: rgb(255, 255, 255); stroke-opacity: 1; stroke-width: 1px;\"/><path class=\"ygrid crisp\" transform=\"translate(0,265.28)\" d=\"M80,0h1158\" style=\"stroke: rgb(255, 255, 255); stroke-opacity: 1; stroke-width: 1px;\"/><path class=\"ygrid crisp\" transform=\"translate(0,186.88)\" d=\"M80,0h1158\" style=\"stroke: rgb(255, 255, 255); stroke-opacity: 1; stroke-width: 1px;\"/><path class=\"ygrid crisp\" transform=\"translate(0,108.49)\" d=\"M80,0h1158\" style=\"stroke: rgb(255, 255, 255); stroke-opacity: 1; stroke-width: 1px;\"/></g></g><g class=\"zerolinelayer\"><path class=\"xzl zl crisp\" transform=\"translate(245.43,0)\" d=\"M0,100v520\" style=\"stroke: rgb(255, 255, 255); stroke-opacity: 1; stroke-width: 2px;\"/><path class=\"yzl zl crisp\" transform=\"translate(0,578.8399999999999)\" d=\"M80,0h1158\" style=\"stroke: rgb(255, 255, 255); stroke-opacity: 1; stroke-width: 2px;\"/></g><path class=\"xlines-below\"/><path class=\"ylines-below\"/><g class=\"overlines-below\"/><g class=\"xaxislayer-below\"/><g class=\"yaxislayer-below\"/><g class=\"overaxes-below\"/><g class=\"plot\" transform=\"translate(80,100)\" clip-path=\"url(#clipd39b2fxyplot)\"><g class=\"scatterlayer mlayer\"><g class=\"trace scatter tracee0ea78\" style=\"stroke-miterlimit: 2; opacity: 1;\"><g class=\"fills\"/><g class=\"errorbars\"/><g class=\"lines\"><path class=\"js-line\" d=\"M0,494L1158,26\" style=\"vector-effect: non-scaling-stroke; fill: none; stroke: rgb(32, 178, 170); stroke-opacity: 1; stroke-width: 2px; opacity: 1;\"/></g><g class=\"points\"/><g class=\"text\"/></g><g class=\"trace scatter trace345359\" style=\"stroke-miterlimit: 2; opacity: 1;\"><g class=\"fills\"/><g class=\"errorbars\"/><g class=\"lines\"/><g class=\"points\"><path class=\"point\" transform=\"translate(165.43,439.65)\" d=\"M5,0A5,5 0 1,1 0,-5A5,5 0 0,1 5,0Z\" style=\"opacity: 1; stroke-width: 0px; fill: rgb(147, 112, 219); fill-opacity: 1;\"/><path class=\"point\" transform=\"translate(330.86,373.02)\" d=\"M5,0A5,5 0 1,1 0,-5A5,5 0 0,1 5,0Z\" style=\"opacity: 1; stroke-width: 0px; fill: rgb(147, 112, 219); fill-opacity: 1;\"/><path class=\"point\" transform=\"translate(496.29,251.51)\" d=\"M5,0A5,5 0 1,1 0,-5A5,5 0 0,1 5,0Z\" style=\"opacity: 1; stroke-width: 0px; fill: rgb(147, 112, 219); fill-opacity: 1;\"/><path class=\"point\" transform=\"translate(661.71,220.15)\" d=\"M5,0A5,5 0 1,1 0,-5A5,5 0 0,1 5,0Z\" style=\"opacity: 1; stroke-width: 0px; fill: rgb(147, 112, 219); fill-opacity: 1;\"/><path class=\"point\" transform=\"translate(827.14,184.87)\" d=\"M5,0A5,5 0 1,1 0,-5A5,5 0 0,1 5,0Z\" style=\"opacity: 1; stroke-width: 0px; fill: rgb(147, 112, 219); fill-opacity: 1;\"/><path class=\"point\" transform=\"translate(992.57,90.8)\" d=\"M5,0A5,5 0 1,1 0,-5A5,5 0 0,1 5,0Z\" style=\"opacity: 1; stroke-width: 0px; fill: rgb(147, 112, 219); fill-opacity: 1;\"/></g><g class=\"text\"/></g></g></g><g class=\"overplot\"/><path class=\"xlines-above crisp\" d=\"M0,0\" style=\"fill: none;\"/><path class=\"ylines-above crisp\" d=\"M0,0\" style=\"fill: none;\"/><g class=\"overlines-above\"/><g class=\"xaxislayer-above\"><g class=\"xtick\"><text text-anchor=\"middle\" x=\"0\" y=\"633\" transform=\"translate(80,0)\" style=\"font-family: 'Open Sans', verdana, arial, sans-serif; font-size: 12px; fill: rgb(42, 63, 95); fill-opacity: 1; white-space: pre; opacity: 1;\">−1</text></g><g class=\"xtick\"><text text-anchor=\"middle\" x=\"0\" y=\"633\" style=\"font-family: 'Open Sans', verdana, arial, sans-serif; font-size: 12px; fill: rgb(42, 63, 95); fill-opacity: 1; white-space: pre; opacity: 1;\" transform=\"translate(245.43,0)\">0</text></g><g class=\"xtick\"><text text-anchor=\"middle\" x=\"0\" y=\"633\" style=\"font-family: 'Open Sans', verdana, arial, sans-serif; font-size: 12px; fill: rgb(42, 63, 95); fill-opacity: 1; white-space: pre; opacity: 1;\" transform=\"translate(410.86,0)\">1</text></g><g class=\"xtick\"><text text-anchor=\"middle\" x=\"0\" y=\"633\" style=\"font-family: 'Open Sans', verdana, arial, sans-serif; font-size: 12px; fill: rgb(42, 63, 95); fill-opacity: 1; white-space: pre; opacity: 1;\" transform=\"translate(576.29,0)\">2</text></g><g class=\"xtick\"><text text-anchor=\"middle\" x=\"0\" y=\"633\" style=\"font-family: 'Open Sans', verdana, arial, sans-serif; font-size: 12px; fill: rgb(42, 63, 95); fill-opacity: 1; white-space: pre; opacity: 1;\" transform=\"translate(741.71,0)\">3</text></g><g class=\"xtick\"><text text-anchor=\"middle\" x=\"0\" y=\"633\" style=\"font-family: 'Open Sans', verdana, arial, sans-serif; font-size: 12px; fill: rgb(42, 63, 95); fill-opacity: 1; white-space: pre; opacity: 1;\" transform=\"translate(907.14,0)\">4</text></g><g class=\"xtick\"><text text-anchor=\"middle\" x=\"0\" y=\"633\" style=\"font-family: 'Open Sans', verdana, arial, sans-serif; font-size: 12px; fill: rgb(42, 63, 95); fill-opacity: 1; white-space: pre; opacity: 1;\" transform=\"translate(1072.5700000000002,0)\">5</text></g><g class=\"xtick\"><text text-anchor=\"middle\" x=\"0\" y=\"633\" style=\"font-family: 'Open Sans', verdana, arial, sans-serif; font-size: 12px; fill: rgb(42, 63, 95); fill-opacity: 1; white-space: pre; opacity: 1;\" transform=\"translate(1238,0)\">6</text></g></g><g class=\"yaxislayer-above\"><g class=\"ytick\"><text text-anchor=\"end\" x=\"79\" y=\"4.199999999999999\" transform=\"translate(0,578.8399999999999)\" style=\"font-family: 'Open Sans', verdana, arial, sans-serif; font-size: 12px; fill: rgb(42, 63, 95); fill-opacity: 1; white-space: pre; opacity: 1;\">0</text></g><g class=\"ytick\"><text text-anchor=\"end\" x=\"79\" y=\"4.199999999999999\" style=\"font-family: 'Open Sans', verdana, arial, sans-serif; font-size: 12px; fill: rgb(42, 63, 95); fill-opacity: 1; white-space: pre; opacity: 1;\" transform=\"translate(0,500.45)\">2</text></g><g class=\"ytick\"><text text-anchor=\"end\" x=\"79\" y=\"4.199999999999999\" style=\"font-family: 'Open Sans', verdana, arial, sans-serif; font-size: 12px; fill: rgb(42, 63, 95); fill-opacity: 1; white-space: pre; opacity: 1;\" transform=\"translate(0,422.06)\">4</text></g><g class=\"ytick\"><text text-anchor=\"end\" x=\"79\" y=\"4.199999999999999\" style=\"font-family: 'Open Sans', verdana, arial, sans-serif; font-size: 12px; fill: rgb(42, 63, 95); fill-opacity: 1; white-space: pre; opacity: 1;\" transform=\"translate(0,343.66999999999996)\">6</text></g><g class=\"ytick\"><text text-anchor=\"end\" x=\"79\" y=\"4.199999999999999\" style=\"font-family: 'Open Sans', verdana, arial, sans-serif; font-size: 12px; fill: rgb(42, 63, 95); fill-opacity: 1; white-space: pre; opacity: 1;\" transform=\"translate(0,265.28)\">8</text></g><g class=\"ytick\"><text text-anchor=\"end\" x=\"79\" y=\"4.199999999999999\" style=\"font-family: 'Open Sans', verdana, arial, sans-serif; font-size: 12px; fill: rgb(42, 63, 95); fill-opacity: 1; white-space: pre; opacity: 1;\" transform=\"translate(0,186.88)\">10</text></g><g class=\"ytick\"><text text-anchor=\"end\" x=\"79\" y=\"4.199999999999999\" style=\"font-family: 'Open Sans', verdana, arial, sans-serif; font-size: 12px; fill: rgb(42, 63, 95); fill-opacity: 1; white-space: pre; opacity: 1;\" transform=\"translate(0,108.49)\">12</text></g></g><g class=\"overaxes-above\"/></g></g><g class=\"polarlayer\"/><g class=\"smithlayer\"/><g class=\"ternarylayer\"/><g class=\"geolayer\"/><g class=\"funnelarealayer\"/><g class=\"pielayer\"/><g class=\"iciclelayer\"/><g class=\"treemaplayer\"/><g class=\"sunburstlayer\"/><g class=\"glimages\"/><defs id=\"topdefs-d39b2f\"><g class=\"clips\"/><clipPath id=\"legendd39b2f\"><rect width=\"127\" height=\"48\" x=\"0\" y=\"0\"/></clipPath></defs><g class=\"layer-above\"><g class=\"imagelayer\"/><g class=\"shapelayer\"/></g><g class=\"infolayer\"><g class=\"legend\" pointer-events=\"all\" transform=\"translate(1261.16,100)\"><rect class=\"bg\" shape-rendering=\"crispEdges\" width=\"127\" height=\"48\" x=\"0\" y=\"0\" style=\"stroke: rgb(68, 68, 68); stroke-opacity: 1; fill: rgb(255, 255, 255); fill-opacity: 1; stroke-width: 0px;\"/><g class=\"scrollbox\" transform=\"\" clip-path=\"url(#legendd39b2f)\"><g class=\"groups\"><g class=\"traces\" transform=\"translate(0,14.5)\" style=\"opacity: 1;\"><text class=\"legendtext\" text-anchor=\"start\" x=\"40\" y=\"4.680000000000001\" style=\"font-family: 'Open Sans', verdana, arial, sans-serif; font-size: 12px; fill: rgb(42, 63, 95); fill-opacity: 1; white-space: pre;\">P(x)</text><g class=\"layers\" style=\"opacity: 1;\"><g class=\"legendfill\"/><g class=\"legendlines\"><path class=\"js-line\" d=\"M5,0h30\" style=\"fill: none; stroke: rgb(32, 178, 170); stroke-opacity: 1; stroke-width: 2px;\"/></g><g class=\"legendsymbols\"><g class=\"legendpoints\"/></g></g><rect class=\"legendtoggle\" x=\"0\" y=\"-9.5\" width=\"121.359375\" height=\"19\" style=\"fill: rgb(0, 0, 0); fill-opacity: 0;\"/></g><g class=\"traces\" transform=\"translate(0,33.5)\" style=\"opacity: 1;\"><text class=\"legendtext\" text-anchor=\"start\" x=\"40\" y=\"4.680000000000001\" style=\"font-family: 'Open Sans', verdana, arial, sans-serif; font-size: 12px; fill: rgb(42, 63, 95); fill-opacity: 1; white-space: pre;\">Puntos dados</text><g class=\"layers\" style=\"opacity: 1;\"><g class=\"legendfill\"/><g class=\"legendlines\"/><g class=\"legendsymbols\"><g class=\"legendpoints\"><path class=\"scatterpts\" transform=\"translate(20,0)\" d=\"M5,0A5,5 0 1,1 0,-5A5,5 0 0,1 5,0Z\" style=\"opacity: 1; stroke-width: 0px; fill: rgb(147, 112, 219); fill-opacity: 1;\"/></g></g></g><rect class=\"legendtoggle\" x=\"0\" y=\"-9.5\" width=\"121.359375\" height=\"19\" style=\"fill: rgb(0, 0, 0); fill-opacity: 0;\"/></g></g></g><rect class=\"scrollbar\" rx=\"20\" ry=\"3\" width=\"0\" height=\"0\" x=\"0\" y=\"0\" style=\"fill: rgb(128, 139, 164); fill-opacity: 1;\"/></g><g class=\"g-gtitle\"><text class=\"gtitle\" x=\"70\" y=\"50\" text-anchor=\"start\" dy=\"0em\" style=\"font-family: 'Open Sans', verdana, arial, sans-serif; font-size: 30px; fill: rgb(42, 63, 95); opacity: 1; font-weight: normal; white-space: pre;\">Ajuste de minimos cuadrados</text></g><g class=\"g-xtitle\"/><g class=\"g-ytitle\"/></g></svg>"
          },
          "metadata": {},
          "output_type": "display_data"
        },
        {
          "name": "stdout",
          "output_type": "stream",
          "text": [
            "***Polinomio\n",
            "\n"
          ]
        },
        {
          "data": {
            "text/latex": [
              "$P(x) = - 0.0946428571428548 x^{2} + 2.17892857142856 x + 1.00357142857144$"
            ],
            "text/plain": [
              "<IPython.core.display.Latex object>"
            ]
          },
          "metadata": {},
          "output_type": "display_data"
        },
        {
          "data": {
            "image/svg+xml": "<svg class=\"main-svg\" xmlns=\"http://www.w3.org/2000/svg\" xmlns:xlink=\"http://www.w3.org/1999/xlink\" width=\"1400\" height=\"700\" style=\"\" viewBox=\"0 0 1400 700\"><rect x=\"0\" y=\"0\" width=\"1400\" height=\"700\" style=\"fill: rgb(255, 255, 255); fill-opacity: 1;\"/><defs id=\"defs-a2623c\"><g class=\"clips\"><clipPath id=\"clipa2623cxyplot\" class=\"plotclip\"><rect width=\"1158\" height=\"520\"/></clipPath><clipPath class=\"axesclip\" id=\"clipa2623cx\"><rect x=\"80\" y=\"0\" width=\"1158\" height=\"700\"/></clipPath><clipPath class=\"axesclip\" id=\"clipa2623cy\"><rect x=\"0\" y=\"100\" width=\"1400\" height=\"520\"/></clipPath><clipPath class=\"axesclip\" id=\"clipa2623cxy\"><rect x=\"80\" y=\"100\" width=\"1158\" height=\"520\"/></clipPath></g><g class=\"gradients\"/><g class=\"patterns\"/></defs><g class=\"bglayer\"><rect class=\"bg\" x=\"80\" y=\"100\" width=\"1158\" height=\"520\" style=\"fill: rgb(229, 236, 246); fill-opacity: 1; stroke-width: 0;\"/></g><g class=\"layer-below\"><g class=\"imagelayer\"/><g class=\"shapelayer\"/></g><g class=\"cartesianlayer\"><g class=\"subplot xy\"><g class=\"layer-subplot\"><g class=\"shapelayer\"/><g class=\"imagelayer\"/></g><g class=\"minor-gridlayer\"><g class=\"x\"/><g class=\"y\"/></g><g class=\"gridlayer\"><g class=\"x\"><path class=\"xgrid crisp\" transform=\"translate(410.86,0)\" d=\"M0,100v520\" style=\"stroke: rgb(255, 255, 255); stroke-opacity: 1; stroke-width: 1px;\"/><path class=\"xgrid crisp\" transform=\"translate(576.29,0)\" d=\"M0,100v520\" style=\"stroke: rgb(255, 255, 255); stroke-opacity: 1; stroke-width: 1px;\"/><path class=\"xgrid crisp\" transform=\"translate(741.71,0)\" d=\"M0,100v520\" style=\"stroke: rgb(255, 255, 255); stroke-opacity: 1; stroke-width: 1px;\"/><path class=\"xgrid crisp\" transform=\"translate(907.14,0)\" d=\"M0,100v520\" style=\"stroke: rgb(255, 255, 255); stroke-opacity: 1; stroke-width: 1px;\"/><path class=\"xgrid crisp\" transform=\"translate(1072.5700000000002,0)\" d=\"M0,100v520\" style=\"stroke: rgb(255, 255, 255); stroke-opacity: 1; stroke-width: 1px;\"/></g><g class=\"y\"><path class=\"ygrid crisp\" transform=\"translate(0,465.83)\" d=\"M80,0h1158\" style=\"stroke: rgb(255, 255, 255); stroke-opacity: 1; stroke-width: 1px;\"/><path class=\"ygrid crisp\" transform=\"translate(0,387.44)\" d=\"M80,0h1158\" style=\"stroke: rgb(255, 255, 255); stroke-opacity: 1; stroke-width: 1px;\"/><path class=\"ygrid crisp\" transform=\"translate(0,309.05)\" d=\"M80,0h1158\" style=\"stroke: rgb(255, 255, 255); stroke-opacity: 1; stroke-width: 1px;\"/><path class=\"ygrid crisp\" transform=\"translate(0,230.65)\" d=\"M80,0h1158\" style=\"stroke: rgb(255, 255, 255); stroke-opacity: 1; stroke-width: 1px;\"/><path class=\"ygrid crisp\" transform=\"translate(0,152.26)\" d=\"M80,0h1158\" style=\"stroke: rgb(255, 255, 255); stroke-opacity: 1; stroke-width: 1px;\"/></g></g><g class=\"zerolinelayer\"><path class=\"xzl zl crisp\" transform=\"translate(245.43,0)\" d=\"M0,100v520\" style=\"stroke: rgb(255, 255, 255); stroke-opacity: 1; stroke-width: 2px;\"/><path class=\"yzl zl crisp\" transform=\"translate(0,544.22)\" d=\"M80,0h1158\" style=\"stroke: rgb(255, 255, 255); stroke-opacity: 1; stroke-width: 2px;\"/></g><path class=\"xlines-below\"/><path class=\"ylines-below\"/><g class=\"overlines-below\"/><g class=\"xaxislayer-below\"/><g class=\"yaxislayer-below\"/><g class=\"overaxes-below\"/><g class=\"plot\" transform=\"translate(80,100)\" clip-path=\"url(#clipa2623cxyplot)\"><g class=\"scatterlayer mlayer\"><g class=\"trace scatter tracedb4212\" style=\"stroke-miterlimit: 2; opacity: 1;\"><g class=\"fills\"/><g class=\"errorbars\"/><g class=\"lines\"><path class=\"js-line\" d=\"M0,494L81.88,448.97L93.58,442.68L175.45,399.72L187.15,393.73L269.03,352.85L280.73,347.16L362.61,308.36L374.3,302.96L456.18,266.24L467.88,261.14L549.76,226.49L561.45,221.69L643.33,189.12L655.03,184.61L736.91,154.12L748.61,149.91L830.48,121.49L842.18,117.58L924.06,91.24L935.76,87.63L1005.94,66.72L1017.64,63.37L1087.82,44.01L1099.52,40.92L1158,26\" style=\"vector-effect: non-scaling-stroke; fill: none; stroke: rgb(32, 178, 170); stroke-opacity: 1; stroke-width: 2px; opacity: 1;\"/></g><g class=\"points\"/><g class=\"text\"/></g><g class=\"trace scatter trace7c4e55\" style=\"stroke-miterlimit: 2; opacity: 1;\"><g class=\"fills\"/><g class=\"errorbars\"/><g class=\"lines\"/><g class=\"points\"><path class=\"point\" transform=\"translate(165.43,405.03)\" d=\"M5,0A5,5 0 1,1 0,-5A5,5 0 0,1 5,0Z\" style=\"opacity: 1; stroke-width: 0px; fill: rgb(147, 112, 219); fill-opacity: 1;\"/><path class=\"point\" transform=\"translate(330.86,338.39)\" d=\"M5,0A5,5 0 1,1 0,-5A5,5 0 0,1 5,0Z\" style=\"opacity: 1; stroke-width: 0px; fill: rgb(147, 112, 219); fill-opacity: 1;\"/><path class=\"point\" transform=\"translate(496.29,216.88)\" d=\"M5,0A5,5 0 1,1 0,-5A5,5 0 0,1 5,0Z\" style=\"opacity: 1; stroke-width: 0px; fill: rgb(147, 112, 219); fill-opacity: 1;\"/><path class=\"point\" transform=\"translate(661.71,185.53)\" d=\"M5,0A5,5 0 1,1 0,-5A5,5 0 0,1 5,0Z\" style=\"opacity: 1; stroke-width: 0px; fill: rgb(147, 112, 219); fill-opacity: 1;\"/><path class=\"point\" transform=\"translate(827.14,150.25)\" d=\"M5,0A5,5 0 1,1 0,-5A5,5 0 0,1 5,0Z\" style=\"opacity: 1; stroke-width: 0px; fill: rgb(147, 112, 219); fill-opacity: 1;\"/><path class=\"point\" transform=\"translate(992.57,56.18)\" d=\"M5,0A5,5 0 1,1 0,-5A5,5 0 0,1 5,0Z\" style=\"opacity: 1; stroke-width: 0px; fill: rgb(147, 112, 219); fill-opacity: 1;\"/></g><g class=\"text\"/></g></g></g><g class=\"overplot\"/><path class=\"xlines-above crisp\" d=\"M0,0\" style=\"fill: none;\"/><path class=\"ylines-above crisp\" d=\"M0,0\" style=\"fill: none;\"/><g class=\"overlines-above\"/><g class=\"xaxislayer-above\"><g class=\"xtick\"><text text-anchor=\"middle\" x=\"0\" y=\"633\" transform=\"translate(80,0)\" style=\"font-family: 'Open Sans', verdana, arial, sans-serif; font-size: 12px; fill: rgb(42, 63, 95); fill-opacity: 1; white-space: pre; opacity: 1;\">−1</text></g><g class=\"xtick\"><text text-anchor=\"middle\" x=\"0\" y=\"633\" style=\"font-family: 'Open Sans', verdana, arial, sans-serif; font-size: 12px; fill: rgb(42, 63, 95); fill-opacity: 1; white-space: pre; opacity: 1;\" transform=\"translate(245.43,0)\">0</text></g><g class=\"xtick\"><text text-anchor=\"middle\" x=\"0\" y=\"633\" style=\"font-family: 'Open Sans', verdana, arial, sans-serif; font-size: 12px; fill: rgb(42, 63, 95); fill-opacity: 1; white-space: pre; opacity: 1;\" transform=\"translate(410.86,0)\">1</text></g><g class=\"xtick\"><text text-anchor=\"middle\" x=\"0\" y=\"633\" style=\"font-family: 'Open Sans', verdana, arial, sans-serif; font-size: 12px; fill: rgb(42, 63, 95); fill-opacity: 1; white-space: pre; opacity: 1;\" transform=\"translate(576.29,0)\">2</text></g><g class=\"xtick\"><text text-anchor=\"middle\" x=\"0\" y=\"633\" style=\"font-family: 'Open Sans', verdana, arial, sans-serif; font-size: 12px; fill: rgb(42, 63, 95); fill-opacity: 1; white-space: pre; opacity: 1;\" transform=\"translate(741.71,0)\">3</text></g><g class=\"xtick\"><text text-anchor=\"middle\" x=\"0\" y=\"633\" style=\"font-family: 'Open Sans', verdana, arial, sans-serif; font-size: 12px; fill: rgb(42, 63, 95); fill-opacity: 1; white-space: pre; opacity: 1;\" transform=\"translate(907.14,0)\">4</text></g><g class=\"xtick\"><text text-anchor=\"middle\" x=\"0\" y=\"633\" style=\"font-family: 'Open Sans', verdana, arial, sans-serif; font-size: 12px; fill: rgb(42, 63, 95); fill-opacity: 1; white-space: pre; opacity: 1;\" transform=\"translate(1072.5700000000002,0)\">5</text></g><g class=\"xtick\"><text text-anchor=\"middle\" x=\"0\" y=\"633\" style=\"font-family: 'Open Sans', verdana, arial, sans-serif; font-size: 12px; fill: rgb(42, 63, 95); fill-opacity: 1; white-space: pre; opacity: 1;\" transform=\"translate(1238,0)\">6</text></g></g><g class=\"yaxislayer-above\"><g class=\"ytick\"><text text-anchor=\"end\" x=\"79\" y=\"4.199999999999999\" transform=\"translate(0,544.22)\" style=\"font-family: 'Open Sans', verdana, arial, sans-serif; font-size: 12px; fill: rgb(42, 63, 95); fill-opacity: 1; white-space: pre; opacity: 1;\">0</text></g><g class=\"ytick\"><text text-anchor=\"end\" x=\"79\" y=\"4.199999999999999\" style=\"font-family: 'Open Sans', verdana, arial, sans-serif; font-size: 12px; fill: rgb(42, 63, 95); fill-opacity: 1; white-space: pre; opacity: 1;\" transform=\"translate(0,465.83)\">2</text></g><g class=\"ytick\"><text text-anchor=\"end\" x=\"79\" y=\"4.199999999999999\" style=\"font-family: 'Open Sans', verdana, arial, sans-serif; font-size: 12px; fill: rgb(42, 63, 95); fill-opacity: 1; white-space: pre; opacity: 1;\" transform=\"translate(0,387.44)\">4</text></g><g class=\"ytick\"><text text-anchor=\"end\" x=\"79\" y=\"4.199999999999999\" style=\"font-family: 'Open Sans', verdana, arial, sans-serif; font-size: 12px; fill: rgb(42, 63, 95); fill-opacity: 1; white-space: pre; opacity: 1;\" transform=\"translate(0,309.05)\">6</text></g><g class=\"ytick\"><text text-anchor=\"end\" x=\"79\" y=\"4.199999999999999\" style=\"font-family: 'Open Sans', verdana, arial, sans-serif; font-size: 12px; fill: rgb(42, 63, 95); fill-opacity: 1; white-space: pre; opacity: 1;\" transform=\"translate(0,230.65)\">8</text></g><g class=\"ytick\"><text text-anchor=\"end\" x=\"79\" y=\"4.199999999999999\" style=\"font-family: 'Open Sans', verdana, arial, sans-serif; font-size: 12px; fill: rgb(42, 63, 95); fill-opacity: 1; white-space: pre; opacity: 1;\" transform=\"translate(0,152.26)\">10</text></g></g><g class=\"overaxes-above\"/></g></g><g class=\"polarlayer\"/><g class=\"smithlayer\"/><g class=\"ternarylayer\"/><g class=\"geolayer\"/><g class=\"funnelarealayer\"/><g class=\"pielayer\"/><g class=\"iciclelayer\"/><g class=\"treemaplayer\"/><g class=\"sunburstlayer\"/><g class=\"glimages\"/><defs id=\"topdefs-a2623c\"><g class=\"clips\"/><clipPath id=\"legenda2623c\"><rect width=\"127\" height=\"48\" x=\"0\" y=\"0\"/></clipPath></defs><g class=\"layer-above\"><g class=\"imagelayer\"/><g class=\"shapelayer\"/></g><g class=\"infolayer\"><g class=\"legend\" pointer-events=\"all\" transform=\"translate(1261.16,100)\"><rect class=\"bg\" shape-rendering=\"crispEdges\" width=\"127\" height=\"48\" x=\"0\" y=\"0\" style=\"stroke: rgb(68, 68, 68); stroke-opacity: 1; fill: rgb(255, 255, 255); fill-opacity: 1; stroke-width: 0px;\"/><g class=\"scrollbox\" transform=\"\" clip-path=\"url(#legenda2623c)\"><g class=\"groups\"><g class=\"traces\" transform=\"translate(0,14.5)\" style=\"opacity: 1;\"><text class=\"legendtext\" text-anchor=\"start\" x=\"40\" y=\"4.680000000000001\" style=\"font-family: 'Open Sans', verdana, arial, sans-serif; font-size: 12px; fill: rgb(42, 63, 95); fill-opacity: 1; white-space: pre;\">P(x)</text><g class=\"layers\" style=\"opacity: 1;\"><g class=\"legendfill\"/><g class=\"legendlines\"><path class=\"js-line\" d=\"M5,0h30\" style=\"fill: none; stroke: rgb(32, 178, 170); stroke-opacity: 1; stroke-width: 2px;\"/></g><g class=\"legendsymbols\"><g class=\"legendpoints\"/></g></g><rect class=\"legendtoggle\" x=\"0\" y=\"-9.5\" width=\"121.359375\" height=\"19\" style=\"fill: rgb(0, 0, 0); fill-opacity: 0;\"/></g><g class=\"traces\" transform=\"translate(0,33.5)\" style=\"opacity: 1;\"><text class=\"legendtext\" text-anchor=\"start\" x=\"40\" y=\"4.680000000000001\" style=\"font-family: 'Open Sans', verdana, arial, sans-serif; font-size: 12px; fill: rgb(42, 63, 95); fill-opacity: 1; white-space: pre;\">Puntos dados</text><g class=\"layers\" style=\"opacity: 1;\"><g class=\"legendfill\"/><g class=\"legendlines\"/><g class=\"legendsymbols\"><g class=\"legendpoints\"><path class=\"scatterpts\" transform=\"translate(20,0)\" d=\"M5,0A5,5 0 1,1 0,-5A5,5 0 0,1 5,0Z\" style=\"opacity: 1; stroke-width: 0px; fill: rgb(147, 112, 219); fill-opacity: 1;\"/></g></g></g><rect class=\"legendtoggle\" x=\"0\" y=\"-9.5\" width=\"121.359375\" height=\"19\" style=\"fill: rgb(0, 0, 0); fill-opacity: 0;\"/></g></g></g><rect class=\"scrollbar\" rx=\"20\" ry=\"3\" width=\"0\" height=\"0\" x=\"0\" y=\"0\" style=\"fill: rgb(128, 139, 164); fill-opacity: 1;\"/></g><g class=\"g-gtitle\"><text class=\"gtitle\" x=\"70\" y=\"50\" text-anchor=\"start\" dy=\"0em\" style=\"font-family: 'Open Sans', verdana, arial, sans-serif; font-size: 30px; fill: rgb(42, 63, 95); opacity: 1; font-weight: normal; white-space: pre;\">Ajuste de minimos cuadrados</text></g><g class=\"g-xtitle\"/><g class=\"g-ytitle\"/></g></svg>"
          },
          "metadata": {},
          "output_type": "display_data"
        },
        {
          "name": "stdout",
          "output_type": "stream",
          "text": [
            "***Polinomio\n",
            "\n"
          ]
        },
        {
          "data": {
            "text/latex": [
              "$P(x) = 0.0712962962962953 x^{3} - 0.62936507936507 x^{2} + 3.15568783068781 x + 0.789682539682553$"
            ],
            "text/plain": [
              "<IPython.core.display.Latex object>"
            ]
          },
          "metadata": {},
          "output_type": "display_data"
        },
        {
          "data": {
            "image/svg+xml": "<svg class=\"main-svg\" xmlns=\"http://www.w3.org/2000/svg\" xmlns:xlink=\"http://www.w3.org/1999/xlink\" width=\"1400\" height=\"700\" style=\"\" viewBox=\"0 0 1400 700\"><rect x=\"0\" y=\"0\" width=\"1400\" height=\"700\" style=\"fill: rgb(255, 255, 255); fill-opacity: 1;\"/><defs id=\"defs-90cce9\"><g class=\"clips\"><clipPath id=\"clip90cce9xyplot\" class=\"plotclip\"><rect width=\"1158\" height=\"520\"/></clipPath><clipPath class=\"axesclip\" id=\"clip90cce9x\"><rect x=\"80\" y=\"0\" width=\"1158\" height=\"700\"/></clipPath><clipPath class=\"axesclip\" id=\"clip90cce9y\"><rect x=\"0\" y=\"100\" width=\"1400\" height=\"520\"/></clipPath><clipPath class=\"axesclip\" id=\"clip90cce9xy\"><rect x=\"80\" y=\"100\" width=\"1158\" height=\"520\"/></clipPath></g><g class=\"gradients\"/><g class=\"patterns\"/></defs><g class=\"bglayer\"><rect class=\"bg\" x=\"80\" y=\"100\" width=\"1158\" height=\"520\" style=\"fill: rgb(229, 236, 246); fill-opacity: 1; stroke-width: 0;\"/></g><g class=\"layer-below\"><g class=\"imagelayer\"/><g class=\"shapelayer\"/></g><g class=\"cartesianlayer\"><g class=\"subplot xy\"><g class=\"layer-subplot\"><g class=\"shapelayer\"/><g class=\"imagelayer\"/></g><g class=\"minor-gridlayer\"><g class=\"x\"/><g class=\"y\"/></g><g class=\"gridlayer\"><g class=\"x\"><path class=\"xgrid crisp\" transform=\"translate(410.86,0)\" d=\"M0,100v520\" style=\"stroke: rgb(255, 255, 255); stroke-opacity: 1; stroke-width: 1px;\"/><path class=\"xgrid crisp\" transform=\"translate(576.29,0)\" d=\"M0,100v520\" style=\"stroke: rgb(255, 255, 255); stroke-opacity: 1; stroke-width: 1px;\"/><path class=\"xgrid crisp\" transform=\"translate(741.71,0)\" d=\"M0,100v520\" style=\"stroke: rgb(255, 255, 255); stroke-opacity: 1; stroke-width: 1px;\"/><path class=\"xgrid crisp\" transform=\"translate(907.14,0)\" d=\"M0,100v520\" style=\"stroke: rgb(255, 255, 255); stroke-opacity: 1; stroke-width: 1px;\"/><path class=\"xgrid crisp\" transform=\"translate(1072.5700000000002,0)\" d=\"M0,100v520\" style=\"stroke: rgb(255, 255, 255); stroke-opacity: 1; stroke-width: 1px;\"/></g><g class=\"y\"><path class=\"ygrid crisp\" transform=\"translate(0,561.86)\" d=\"M80,0h1158\" style=\"stroke: rgb(255, 255, 255); stroke-opacity: 1; stroke-width: 1px;\"/><path class=\"ygrid crisp\" transform=\"translate(0,441.35)\" d=\"M80,0h1158\" style=\"stroke: rgb(255, 255, 255); stroke-opacity: 1; stroke-width: 1px;\"/><path class=\"ygrid crisp\" transform=\"translate(0,381.09)\" d=\"M80,0h1158\" style=\"stroke: rgb(255, 255, 255); stroke-opacity: 1; stroke-width: 1px;\"/><path class=\"ygrid crisp\" transform=\"translate(0,320.83000000000004)\" d=\"M80,0h1158\" style=\"stroke: rgb(255, 255, 255); stroke-opacity: 1; stroke-width: 1px;\"/><path class=\"ygrid crisp\" transform=\"translate(0,260.58000000000004)\" d=\"M80,0h1158\" style=\"stroke: rgb(255, 255, 255); stroke-opacity: 1; stroke-width: 1px;\"/><path class=\"ygrid crisp\" transform=\"translate(0,200.32)\" d=\"M80,0h1158\" style=\"stroke: rgb(255, 255, 255); stroke-opacity: 1; stroke-width: 1px;\"/><path class=\"ygrid crisp\" transform=\"translate(0,140.06)\" d=\"M80,0h1158\" style=\"stroke: rgb(255, 255, 255); stroke-opacity: 1; stroke-width: 1px;\"/></g></g><g class=\"zerolinelayer\"><path class=\"xzl zl crisp\" transform=\"translate(245.43,0)\" d=\"M0,100v520\" style=\"stroke: rgb(255, 255, 255); stroke-opacity: 1; stroke-width: 2px;\"/><path class=\"yzl zl crisp\" transform=\"translate(0,501.61)\" d=\"M80,0h1158\" style=\"stroke: rgb(255, 255, 255); stroke-opacity: 1; stroke-width: 2px;\"/></g><path class=\"xlines-below\"/><path class=\"ylines-below\"/><g class=\"overlines-below\"/><g class=\"xaxislayer-below\"/><g class=\"yaxislayer-below\"/><g class=\"overaxes-below\"/><g class=\"plot\" transform=\"translate(80,100)\" clip-path=\"url(#clip90cce9xyplot)\"><g class=\"scatterlayer mlayer\"><g class=\"trace scatter trace020cae\" style=\"stroke-miterlimit: 2; opacity: 1;\"><g class=\"fills\"/><g class=\"errorbars\"/><g class=\"lines\"><path class=\"js-line\" d=\"M0,494L35.09,465.54L46.79,456.54L81.88,430.95L93.58,422.86L128.67,399.9L140.36,392.66L175.45,372.12L187.15,365.65L222.24,347.31L233.94,341.54L269.03,325.18L280.73,320.03L315.82,305.44L327.52,300.84L374.3,283.67L386,279.66L432.79,264.61L444.48,261.08L502.97,244.51L514.67,241.39L584.85,223.64L596.55,220.8L783.7,175.2L795.39,172.11L853.88,155.72L865.58,152.23L912.36,137.37L924.06,133.41L970.85,116.49L982.55,111.96L1017.64,97.57L1029.33,92.5L1064.42,76.38L1076.12,70.69L1111.21,52.62L1122.91,46.25L1158,26\" style=\"vector-effect: non-scaling-stroke; fill: none; stroke: rgb(32, 178, 170); stroke-opacity: 1; stroke-width: 2px; opacity: 1;\"/></g><g class=\"points\"/><g class=\"text\"/></g><g class=\"trace scatter trace28f187\" style=\"stroke-miterlimit: 2; opacity: 1;\"><g class=\"fills\"/><g class=\"errorbars\"/><g class=\"lines\"/><g class=\"points\"><path class=\"point\" transform=\"translate(165.43,371.48)\" d=\"M5,0A5,5 0 1,1 0,-5A5,5 0 0,1 5,0Z\" style=\"opacity: 1; stroke-width: 0px; fill: rgb(147, 112, 219); fill-opacity: 1;\"/><path class=\"point\" transform=\"translate(330.86,320.26)\" d=\"M5,0A5,5 0 1,1 0,-5A5,5 0 0,1 5,0Z\" style=\"opacity: 1; stroke-width: 0px; fill: rgb(147, 112, 219); fill-opacity: 1;\"/><path class=\"point\" transform=\"translate(496.29,226.86)\" d=\"M5,0A5,5 0 1,1 0,-5A5,5 0 0,1 5,0Z\" style=\"opacity: 1; stroke-width: 0px; fill: rgb(147, 112, 219); fill-opacity: 1;\"/><path class=\"point\" transform=\"translate(661.71,202.76)\" d=\"M5,0A5,5 0 1,1 0,-5A5,5 0 0,1 5,0Z\" style=\"opacity: 1; stroke-width: 0px; fill: rgb(147, 112, 219); fill-opacity: 1;\"/><path class=\"point\" transform=\"translate(827.14,175.64)\" d=\"M5,0A5,5 0 1,1 0,-5A5,5 0 0,1 5,0Z\" style=\"opacity: 1; stroke-width: 0px; fill: rgb(147, 112, 219); fill-opacity: 1;\"/><path class=\"point\" transform=\"translate(992.57,103.33)\" d=\"M5,0A5,5 0 1,1 0,-5A5,5 0 0,1 5,0Z\" style=\"opacity: 1; stroke-width: 0px; fill: rgb(147, 112, 219); fill-opacity: 1;\"/></g><g class=\"text\"/></g></g></g><g class=\"overplot\"/><path class=\"xlines-above crisp\" d=\"M0,0\" style=\"fill: none;\"/><path class=\"ylines-above crisp\" d=\"M0,0\" style=\"fill: none;\"/><g class=\"overlines-above\"/><g class=\"xaxislayer-above\"><g class=\"xtick\"><text text-anchor=\"middle\" x=\"0\" y=\"633\" transform=\"translate(80,0)\" style=\"font-family: 'Open Sans', verdana, arial, sans-serif; font-size: 12px; fill: rgb(42, 63, 95); fill-opacity: 1; white-space: pre; opacity: 1;\">−1</text></g><g class=\"xtick\"><text text-anchor=\"middle\" x=\"0\" y=\"633\" style=\"font-family: 'Open Sans', verdana, arial, sans-serif; font-size: 12px; fill: rgb(42, 63, 95); fill-opacity: 1; white-space: pre; opacity: 1;\" transform=\"translate(245.43,0)\">0</text></g><g class=\"xtick\"><text text-anchor=\"middle\" x=\"0\" y=\"633\" style=\"font-family: 'Open Sans', verdana, arial, sans-serif; font-size: 12px; fill: rgb(42, 63, 95); fill-opacity: 1; white-space: pre; opacity: 1;\" transform=\"translate(410.86,0)\">1</text></g><g class=\"xtick\"><text text-anchor=\"middle\" x=\"0\" y=\"633\" style=\"font-family: 'Open Sans', verdana, arial, sans-serif; font-size: 12px; fill: rgb(42, 63, 95); fill-opacity: 1; white-space: pre; opacity: 1;\" transform=\"translate(576.29,0)\">2</text></g><g class=\"xtick\"><text text-anchor=\"middle\" x=\"0\" y=\"633\" style=\"font-family: 'Open Sans', verdana, arial, sans-serif; font-size: 12px; fill: rgb(42, 63, 95); fill-opacity: 1; white-space: pre; opacity: 1;\" transform=\"translate(741.71,0)\">3</text></g><g class=\"xtick\"><text text-anchor=\"middle\" x=\"0\" y=\"633\" style=\"font-family: 'Open Sans', verdana, arial, sans-serif; font-size: 12px; fill: rgb(42, 63, 95); fill-opacity: 1; white-space: pre; opacity: 1;\" transform=\"translate(907.14,0)\">4</text></g><g class=\"xtick\"><text text-anchor=\"middle\" x=\"0\" y=\"633\" style=\"font-family: 'Open Sans', verdana, arial, sans-serif; font-size: 12px; fill: rgb(42, 63, 95); fill-opacity: 1; white-space: pre; opacity: 1;\" transform=\"translate(1072.5700000000002,0)\">5</text></g><g class=\"xtick\"><text text-anchor=\"middle\" x=\"0\" y=\"633\" style=\"font-family: 'Open Sans', verdana, arial, sans-serif; font-size: 12px; fill: rgb(42, 63, 95); fill-opacity: 1; white-space: pre; opacity: 1;\" transform=\"translate(1238,0)\">6</text></g></g><g class=\"yaxislayer-above\"><g class=\"ytick\"><text text-anchor=\"end\" x=\"79\" y=\"4.199999999999999\" transform=\"translate(0,561.86)\" style=\"font-family: 'Open Sans', verdana, arial, sans-serif; font-size: 12px; fill: rgb(42, 63, 95); fill-opacity: 1; white-space: pre; opacity: 1;\">−2</text></g><g class=\"ytick\"><text text-anchor=\"end\" x=\"79\" y=\"4.199999999999999\" style=\"font-family: 'Open Sans', verdana, arial, sans-serif; font-size: 12px; fill: rgb(42, 63, 95); fill-opacity: 1; white-space: pre; opacity: 1;\" transform=\"translate(0,501.61)\">0</text></g><g class=\"ytick\"><text text-anchor=\"end\" x=\"79\" y=\"4.199999999999999\" style=\"font-family: 'Open Sans', verdana, arial, sans-serif; font-size: 12px; fill: rgb(42, 63, 95); fill-opacity: 1; white-space: pre; opacity: 1;\" transform=\"translate(0,441.35)\">2</text></g><g class=\"ytick\"><text text-anchor=\"end\" x=\"79\" y=\"4.199999999999999\" style=\"font-family: 'Open Sans', verdana, arial, sans-serif; font-size: 12px; fill: rgb(42, 63, 95); fill-opacity: 1; white-space: pre; opacity: 1;\" transform=\"translate(0,381.09)\">4</text></g><g class=\"ytick\"><text text-anchor=\"end\" x=\"79\" y=\"4.199999999999999\" style=\"font-family: 'Open Sans', verdana, arial, sans-serif; font-size: 12px; fill: rgb(42, 63, 95); fill-opacity: 1; white-space: pre; opacity: 1;\" transform=\"translate(0,320.83000000000004)\">6</text></g><g class=\"ytick\"><text text-anchor=\"end\" x=\"79\" y=\"4.199999999999999\" style=\"font-family: 'Open Sans', verdana, arial, sans-serif; font-size: 12px; fill: rgb(42, 63, 95); fill-opacity: 1; white-space: pre; opacity: 1;\" transform=\"translate(0,260.58000000000004)\">8</text></g><g class=\"ytick\"><text text-anchor=\"end\" x=\"79\" y=\"4.199999999999999\" style=\"font-family: 'Open Sans', verdana, arial, sans-serif; font-size: 12px; fill: rgb(42, 63, 95); fill-opacity: 1; white-space: pre; opacity: 1;\" transform=\"translate(0,200.32)\">10</text></g><g class=\"ytick\"><text text-anchor=\"end\" x=\"79\" y=\"4.199999999999999\" style=\"font-family: 'Open Sans', verdana, arial, sans-serif; font-size: 12px; fill: rgb(42, 63, 95); fill-opacity: 1; white-space: pre; opacity: 1;\" transform=\"translate(0,140.06)\">12</text></g></g><g class=\"overaxes-above\"/></g></g><g class=\"polarlayer\"/><g class=\"smithlayer\"/><g class=\"ternarylayer\"/><g class=\"geolayer\"/><g class=\"funnelarealayer\"/><g class=\"pielayer\"/><g class=\"iciclelayer\"/><g class=\"treemaplayer\"/><g class=\"sunburstlayer\"/><g class=\"glimages\"/><defs id=\"topdefs-90cce9\"><g class=\"clips\"/><clipPath id=\"legend90cce9\"><rect width=\"127\" height=\"48\" x=\"0\" y=\"0\"/></clipPath></defs><g class=\"layer-above\"><g class=\"imagelayer\"/><g class=\"shapelayer\"/></g><g class=\"infolayer\"><g class=\"legend\" pointer-events=\"all\" transform=\"translate(1261.16,100)\"><rect class=\"bg\" shape-rendering=\"crispEdges\" width=\"127\" height=\"48\" x=\"0\" y=\"0\" style=\"stroke: rgb(68, 68, 68); stroke-opacity: 1; fill: rgb(255, 255, 255); fill-opacity: 1; stroke-width: 0px;\"/><g class=\"scrollbox\" transform=\"\" clip-path=\"url(#legend90cce9)\"><g class=\"groups\"><g class=\"traces\" transform=\"translate(0,14.5)\" style=\"opacity: 1;\"><text class=\"legendtext\" text-anchor=\"start\" x=\"40\" y=\"4.680000000000001\" style=\"font-family: 'Open Sans', verdana, arial, sans-serif; font-size: 12px; fill: rgb(42, 63, 95); fill-opacity: 1; white-space: pre;\">P(x)</text><g class=\"layers\" style=\"opacity: 1;\"><g class=\"legendfill\"/><g class=\"legendlines\"><path class=\"js-line\" d=\"M5,0h30\" style=\"fill: none; stroke: rgb(32, 178, 170); stroke-opacity: 1; stroke-width: 2px;\"/></g><g class=\"legendsymbols\"><g class=\"legendpoints\"/></g></g><rect class=\"legendtoggle\" x=\"0\" y=\"-9.5\" width=\"121.359375\" height=\"19\" style=\"fill: rgb(0, 0, 0); fill-opacity: 0;\"/></g><g class=\"traces\" transform=\"translate(0,33.5)\" style=\"opacity: 1;\"><text class=\"legendtext\" text-anchor=\"start\" x=\"40\" y=\"4.680000000000001\" style=\"font-family: 'Open Sans', verdana, arial, sans-serif; font-size: 12px; fill: rgb(42, 63, 95); fill-opacity: 1; white-space: pre;\">Puntos dados</text><g class=\"layers\" style=\"opacity: 1;\"><g class=\"legendfill\"/><g class=\"legendlines\"/><g class=\"legendsymbols\"><g class=\"legendpoints\"><path class=\"scatterpts\" transform=\"translate(20,0)\" d=\"M5,0A5,5 0 1,1 0,-5A5,5 0 0,1 5,0Z\" style=\"opacity: 1; stroke-width: 0px; fill: rgb(147, 112, 219); fill-opacity: 1;\"/></g></g></g><rect class=\"legendtoggle\" x=\"0\" y=\"-9.5\" width=\"121.359375\" height=\"19\" style=\"fill: rgb(0, 0, 0); fill-opacity: 0;\"/></g></g></g><rect class=\"scrollbar\" rx=\"20\" ry=\"3\" width=\"0\" height=\"0\" x=\"0\" y=\"0\" style=\"fill: rgb(128, 139, 164); fill-opacity: 1;\"/></g><g class=\"g-gtitle\"><text class=\"gtitle\" x=\"70\" y=\"50\" text-anchor=\"start\" dy=\"0em\" style=\"font-family: 'Open Sans', verdana, arial, sans-serif; font-size: 30px; fill: rgb(42, 63, 95); opacity: 1; font-weight: normal; white-space: pre;\">Ajuste de minimos cuadrados</text></g><g class=\"g-xtitle\"/><g class=\"g-ytitle\"/></g></svg>"
          },
          "metadata": {},
          "output_type": "display_data"
        },
        {
          "name": "stdout",
          "output_type": "stream",
          "text": [
            "***Polinomio\n",
            "\n"
          ]
        },
        {
          "data": {
            "text/latex": [
              "$P(x) = 0.106249999999917 x^{4} - 0.991203703702871 x^{3} + 2.63402777777519 x^{2} + 0.119973544976001 x + 0.97182539682522$"
            ],
            "text/plain": [
              "<IPython.core.display.Latex object>"
            ]
          },
          "metadata": {},
          "output_type": "display_data"
        },
        {
          "data": {
            "image/svg+xml": "<svg class=\"main-svg\" xmlns=\"http://www.w3.org/2000/svg\" xmlns:xlink=\"http://www.w3.org/1999/xlink\" width=\"1400\" height=\"700\" style=\"\" viewBox=\"0 0 1400 700\"><rect x=\"0\" y=\"0\" width=\"1400\" height=\"700\" style=\"fill: rgb(255, 255, 255); fill-opacity: 1;\"/><defs id=\"defs-8b70bb\"><g class=\"clips\"><clipPath id=\"clip8b70bbxyplot\" class=\"plotclip\"><rect width=\"1158\" height=\"520\"/></clipPath><clipPath class=\"axesclip\" id=\"clip8b70bbx\"><rect x=\"80\" y=\"0\" width=\"1158\" height=\"700\"/></clipPath><clipPath class=\"axesclip\" id=\"clip8b70bby\"><rect x=\"0\" y=\"100\" width=\"1400\" height=\"520\"/></clipPath><clipPath class=\"axesclip\" id=\"clip8b70bbxy\"><rect x=\"80\" y=\"100\" width=\"1158\" height=\"520\"/></clipPath></g><g class=\"gradients\"/><g class=\"patterns\"/></defs><g class=\"bglayer\"><rect class=\"bg\" x=\"80\" y=\"100\" width=\"1158\" height=\"520\" style=\"fill: rgb(229, 236, 246); fill-opacity: 1; stroke-width: 0;\"/></g><g class=\"layer-below\"><g class=\"imagelayer\"/><g class=\"shapelayer\"/></g><g class=\"cartesianlayer\"><g class=\"subplot xy\"><g class=\"layer-subplot\"><g class=\"shapelayer\"/><g class=\"imagelayer\"/></g><g class=\"minor-gridlayer\"><g class=\"x\"/><g class=\"y\"/></g><g class=\"gridlayer\"><g class=\"x\"><path class=\"xgrid crisp\" transform=\"translate(410.86,0)\" d=\"M0,100v520\" style=\"stroke: rgb(255, 255, 255); stroke-opacity: 1; stroke-width: 1px;\"/><path class=\"xgrid crisp\" transform=\"translate(576.29,0)\" d=\"M0,100v520\" style=\"stroke: rgb(255, 255, 255); stroke-opacity: 1; stroke-width: 1px;\"/><path class=\"xgrid crisp\" transform=\"translate(741.71,0)\" d=\"M0,100v520\" style=\"stroke: rgb(255, 255, 255); stroke-opacity: 1; stroke-width: 1px;\"/><path class=\"xgrid crisp\" transform=\"translate(907.14,0)\" d=\"M0,100v520\" style=\"stroke: rgb(255, 255, 255); stroke-opacity: 1; stroke-width: 1px;\"/><path class=\"xgrid crisp\" transform=\"translate(1072.5700000000002,0)\" d=\"M0,100v520\" style=\"stroke: rgb(255, 255, 255); stroke-opacity: 1; stroke-width: 1px;\"/></g><g class=\"y\"><path class=\"ygrid crisp\" transform=\"translate(0,491.13)\" d=\"M80,0h1158\" style=\"stroke: rgb(255, 255, 255); stroke-opacity: 1; stroke-width: 1px;\"/><path class=\"ygrid crisp\" transform=\"translate(0,370.36)\" d=\"M80,0h1158\" style=\"stroke: rgb(255, 255, 255); stroke-opacity: 1; stroke-width: 1px;\"/><path class=\"ygrid crisp\" transform=\"translate(0,249.59)\" d=\"M80,0h1158\" style=\"stroke: rgb(255, 255, 255); stroke-opacity: 1; stroke-width: 1px;\"/><path class=\"ygrid crisp\" transform=\"translate(0,128.82)\" d=\"M80,0h1158\" style=\"stroke: rgb(255, 255, 255); stroke-opacity: 1; stroke-width: 1px;\"/></g></g><g class=\"zerolinelayer\"><path class=\"xzl zl crisp\" transform=\"translate(245.43,0)\" d=\"M0,100v520\" style=\"stroke: rgb(255, 255, 255); stroke-opacity: 1; stroke-width: 2px;\"/><path class=\"yzl zl crisp\" transform=\"translate(0,611.9)\" d=\"M80,0h1158\" style=\"stroke: rgb(255, 255, 255); stroke-opacity: 1; stroke-width: 2px;\"/></g><path class=\"xlines-below\"/><path class=\"ylines-below\"/><g class=\"overlines-below\"/><g class=\"xaxislayer-below\"/><g class=\"yaxislayer-below\"/><g class=\"overaxes-below\"/><g class=\"plot\" transform=\"translate(80,100)\" clip-path=\"url(#clip8b70bbxyplot)\"><g class=\"scatterlayer mlayer\"><g class=\"trace scatter trace57ba90\" style=\"stroke-miterlimit: 2; opacity: 1;\"><g class=\"fills\"/><g class=\"errorbars\"/><g class=\"lines\"><path class=\"js-line\" d=\"M0,401.2L11.7,415.05L23.39,427.47L35.09,438.52L46.79,448.27L58.48,456.8L70.18,464.16L81.88,470.41L93.58,475.63L105.27,479.88L116.97,483.2L128.67,485.66L140.36,487.32L163.76,488.45L175.45,488.03L198.85,485.44L210.55,483.38L233.94,477.94L245.64,474.66L280.73,463.01L292.42,458.65L339.21,439.8L350.91,434.89L432.79,401.12L444.48,396.64L479.58,384.07L491.27,380.21L526.36,369.75L538.06,366.65L573.15,358.56L584.85,356.26L619.94,350.51L631.64,348.95L666.73,345.23L678.42,344.26L725.21,341.29L736.91,340.68L795.39,337.21L807.09,336.23L842.18,332.16L853.88,330.3L877.27,325.61L888.97,322.68L912.36,315.47L924.06,311.09L947.45,300.54L959.15,294.26L982.55,279.45L994.24,270.81L1017.64,250.75L1029.33,239.22L1041.03,226.6L1052.73,212.84L1064.42,197.86L1076.12,181.6L1087.82,163.99L1099.52,144.96L1111.21,124.45L1122.91,102.37L1134.61,78.65L1146.3,53.22L1158,26\" style=\"vector-effect: non-scaling-stroke; fill: none; stroke: rgb(32, 178, 170); stroke-opacity: 1; stroke-width: 2px; opacity: 1;\"/></g><g class=\"points\"/><g class=\"text\"/></g><g class=\"trace scatter trace8562a1\" style=\"stroke-miterlimit: 2; opacity: 1;\"><g class=\"fills\"/><g class=\"errorbars\"/><g class=\"lines\"/><g class=\"points\"><path class=\"point\" transform=\"translate(165.43,487.75)\" d=\"M5,0A5,5 0 1,1 0,-5A5,5 0 0,1 5,0Z\" style=\"opacity: 1; stroke-width: 0px; fill: rgb(147, 112, 219); fill-opacity: 1;\"/><path class=\"point\" transform=\"translate(330.86,446.69)\" d=\"M5,0A5,5 0 1,1 0,-5A5,5 0 0,1 5,0Z\" style=\"opacity: 1; stroke-width: 0px; fill: rgb(147, 112, 219); fill-opacity: 1;\"/><path class=\"point\" transform=\"translate(496.29,371.81)\" d=\"M5,0A5,5 0 1,1 0,-5A5,5 0 0,1 5,0Z\" style=\"opacity: 1; stroke-width: 0px; fill: rgb(147, 112, 219); fill-opacity: 1;\"/><path class=\"point\" transform=\"translate(661.71,352.49)\" d=\"M5,0A5,5 0 1,1 0,-5A5,5 0 0,1 5,0Z\" style=\"opacity: 1; stroke-width: 0px; fill: rgb(147, 112, 219); fill-opacity: 1;\"/><path class=\"point\" transform=\"translate(827.14,330.75)\" d=\"M5,0A5,5 0 1,1 0,-5A5,5 0 0,1 5,0Z\" style=\"opacity: 1; stroke-width: 0px; fill: rgb(147, 112, 219); fill-opacity: 1;\"/><path class=\"point\" transform=\"translate(992.57,272.78)\" d=\"M5,0A5,5 0 1,1 0,-5A5,5 0 0,1 5,0Z\" style=\"opacity: 1; stroke-width: 0px; fill: rgb(147, 112, 219); fill-opacity: 1;\"/></g><g class=\"text\"/></g></g></g><g class=\"overplot\"/><path class=\"xlines-above crisp\" d=\"M0,0\" style=\"fill: none;\"/><path class=\"ylines-above crisp\" d=\"M0,0\" style=\"fill: none;\"/><g class=\"overlines-above\"/><g class=\"xaxislayer-above\"><g class=\"xtick\"><text text-anchor=\"middle\" x=\"0\" y=\"633\" transform=\"translate(80,0)\" style=\"font-family: 'Open Sans', verdana, arial, sans-serif; font-size: 12px; fill: rgb(42, 63, 95); fill-opacity: 1; white-space: pre; opacity: 1;\">−1</text></g><g class=\"xtick\"><text text-anchor=\"middle\" x=\"0\" y=\"633\" style=\"font-family: 'Open Sans', verdana, arial, sans-serif; font-size: 12px; fill: rgb(42, 63, 95); fill-opacity: 1; white-space: pre; opacity: 1;\" transform=\"translate(245.43,0)\">0</text></g><g class=\"xtick\"><text text-anchor=\"middle\" x=\"0\" y=\"633\" style=\"font-family: 'Open Sans', verdana, arial, sans-serif; font-size: 12px; fill: rgb(42, 63, 95); fill-opacity: 1; white-space: pre; opacity: 1;\" transform=\"translate(410.86,0)\">1</text></g><g class=\"xtick\"><text text-anchor=\"middle\" x=\"0\" y=\"633\" style=\"font-family: 'Open Sans', verdana, arial, sans-serif; font-size: 12px; fill: rgb(42, 63, 95); fill-opacity: 1; white-space: pre; opacity: 1;\" transform=\"translate(576.29,0)\">2</text></g><g class=\"xtick\"><text text-anchor=\"middle\" x=\"0\" y=\"633\" style=\"font-family: 'Open Sans', verdana, arial, sans-serif; font-size: 12px; fill: rgb(42, 63, 95); fill-opacity: 1; white-space: pre; opacity: 1;\" transform=\"translate(741.71,0)\">3</text></g><g class=\"xtick\"><text text-anchor=\"middle\" x=\"0\" y=\"633\" style=\"font-family: 'Open Sans', verdana, arial, sans-serif; font-size: 12px; fill: rgb(42, 63, 95); fill-opacity: 1; white-space: pre; opacity: 1;\" transform=\"translate(907.14,0)\">4</text></g><g class=\"xtick\"><text text-anchor=\"middle\" x=\"0\" y=\"633\" style=\"font-family: 'Open Sans', verdana, arial, sans-serif; font-size: 12px; fill: rgb(42, 63, 95); fill-opacity: 1; white-space: pre; opacity: 1;\" transform=\"translate(1072.5700000000002,0)\">5</text></g><g class=\"xtick\"><text text-anchor=\"middle\" x=\"0\" y=\"633\" style=\"font-family: 'Open Sans', verdana, arial, sans-serif; font-size: 12px; fill: rgb(42, 63, 95); fill-opacity: 1; white-space: pre; opacity: 1;\" transform=\"translate(1238,0)\">6</text></g></g><g class=\"yaxislayer-above\"><g class=\"ytick\"><text text-anchor=\"end\" x=\"79\" y=\"4.199999999999999\" transform=\"translate(0,611.9)\" style=\"font-family: 'Open Sans', verdana, arial, sans-serif; font-size: 12px; fill: rgb(42, 63, 95); fill-opacity: 1; white-space: pre; opacity: 1;\">0</text></g><g class=\"ytick\"><text text-anchor=\"end\" x=\"79\" y=\"4.199999999999999\" style=\"font-family: 'Open Sans', verdana, arial, sans-serif; font-size: 12px; fill: rgb(42, 63, 95); fill-opacity: 1; white-space: pre; opacity: 1;\" transform=\"translate(0,491.13)\">5</text></g><g class=\"ytick\"><text text-anchor=\"end\" x=\"79\" y=\"4.199999999999999\" style=\"font-family: 'Open Sans', verdana, arial, sans-serif; font-size: 12px; fill: rgb(42, 63, 95); fill-opacity: 1; white-space: pre; opacity: 1;\" transform=\"translate(0,370.36)\">10</text></g><g class=\"ytick\"><text text-anchor=\"end\" x=\"79\" y=\"4.199999999999999\" style=\"font-family: 'Open Sans', verdana, arial, sans-serif; font-size: 12px; fill: rgb(42, 63, 95); fill-opacity: 1; white-space: pre; opacity: 1;\" transform=\"translate(0,249.59)\">15</text></g><g class=\"ytick\"><text text-anchor=\"end\" x=\"79\" y=\"4.199999999999999\" style=\"font-family: 'Open Sans', verdana, arial, sans-serif; font-size: 12px; fill: rgb(42, 63, 95); fill-opacity: 1; white-space: pre; opacity: 1;\" transform=\"translate(0,128.82)\">20</text></g></g><g class=\"overaxes-above\"/></g></g><g class=\"polarlayer\"/><g class=\"smithlayer\"/><g class=\"ternarylayer\"/><g class=\"geolayer\"/><g class=\"funnelarealayer\"/><g class=\"pielayer\"/><g class=\"iciclelayer\"/><g class=\"treemaplayer\"/><g class=\"sunburstlayer\"/><g class=\"glimages\"/><defs id=\"topdefs-8b70bb\"><g class=\"clips\"/><clipPath id=\"legend8b70bb\"><rect width=\"127\" height=\"48\" x=\"0\" y=\"0\"/></clipPath></defs><g class=\"layer-above\"><g class=\"imagelayer\"/><g class=\"shapelayer\"/></g><g class=\"infolayer\"><g class=\"legend\" pointer-events=\"all\" transform=\"translate(1261.16,100)\"><rect class=\"bg\" shape-rendering=\"crispEdges\" width=\"127\" height=\"48\" x=\"0\" y=\"0\" style=\"stroke: rgb(68, 68, 68); stroke-opacity: 1; fill: rgb(255, 255, 255); fill-opacity: 1; stroke-width: 0px;\"/><g class=\"scrollbox\" transform=\"\" clip-path=\"url(#legend8b70bb)\"><g class=\"groups\"><g class=\"traces\" transform=\"translate(0,14.5)\" style=\"opacity: 1;\"><text class=\"legendtext\" text-anchor=\"start\" x=\"40\" y=\"4.680000000000001\" style=\"font-family: 'Open Sans', verdana, arial, sans-serif; font-size: 12px; fill: rgb(42, 63, 95); fill-opacity: 1; white-space: pre;\">P(x)</text><g class=\"layers\" style=\"opacity: 1;\"><g class=\"legendfill\"/><g class=\"legendlines\"><path class=\"js-line\" d=\"M5,0h30\" style=\"fill: none; stroke: rgb(32, 178, 170); stroke-opacity: 1; stroke-width: 2px;\"/></g><g class=\"legendsymbols\"><g class=\"legendpoints\"/></g></g><rect class=\"legendtoggle\" x=\"0\" y=\"-9.5\" width=\"121.359375\" height=\"19\" style=\"fill: rgb(0, 0, 0); fill-opacity: 0;\"/></g><g class=\"traces\" transform=\"translate(0,33.5)\" style=\"opacity: 1;\"><text class=\"legendtext\" text-anchor=\"start\" x=\"40\" y=\"4.680000000000001\" style=\"font-family: 'Open Sans', verdana, arial, sans-serif; font-size: 12px; fill: rgb(42, 63, 95); fill-opacity: 1; white-space: pre;\">Puntos dados</text><g class=\"layers\" style=\"opacity: 1;\"><g class=\"legendfill\"/><g class=\"legendlines\"/><g class=\"legendsymbols\"><g class=\"legendpoints\"><path class=\"scatterpts\" transform=\"translate(20,0)\" d=\"M5,0A5,5 0 1,1 0,-5A5,5 0 0,1 5,0Z\" style=\"opacity: 1; stroke-width: 0px; fill: rgb(147, 112, 219); fill-opacity: 1;\"/></g></g></g><rect class=\"legendtoggle\" x=\"0\" y=\"-9.5\" width=\"121.359375\" height=\"19\" style=\"fill: rgb(0, 0, 0); fill-opacity: 0;\"/></g></g></g><rect class=\"scrollbar\" rx=\"20\" ry=\"3\" width=\"0\" height=\"0\" x=\"0\" y=\"0\" style=\"fill: rgb(128, 139, 164); fill-opacity: 1;\"/></g><g class=\"g-gtitle\"><text class=\"gtitle\" x=\"70\" y=\"50\" text-anchor=\"start\" dy=\"0em\" style=\"font-family: 'Open Sans', verdana, arial, sans-serif; font-size: 30px; fill: rgb(42, 63, 95); opacity: 1; font-weight: normal; white-space: pre;\">Ajuste de minimos cuadrados</text></g><g class=\"g-xtitle\"/><g class=\"g-ytitle\"/></g></svg>"
          },
          "metadata": {},
          "output_type": "display_data"
        },
        {
          "name": "stdout",
          "output_type": "stream",
          "text": [
            "***Polinomio\n",
            "\n"
          ]
        },
        {
          "data": {
            "text/latex": [
              "$P(x) = - 0.0591666666586222 x^{5} + 0.845833333231907 x^{4} - 4.21249999955313 x^{3} + 8.3041666658676 x^{2} - 3.17833333285735 x + 0.999999999994016$"
            ],
            "text/plain": [
              "<IPython.core.display.Latex object>"
            ]
          },
          "metadata": {},
          "output_type": "display_data"
        },
        {
          "data": {
            "image/svg+xml": "<svg class=\"main-svg\" xmlns=\"http://www.w3.org/2000/svg\" xmlns:xlink=\"http://www.w3.org/1999/xlink\" width=\"1400\" height=\"700\" style=\"\" viewBox=\"0 0 1400 700\"><rect x=\"0\" y=\"0\" width=\"1400\" height=\"700\" style=\"fill: rgb(255, 255, 255); fill-opacity: 1;\"/><defs id=\"defs-8174a4\"><g class=\"clips\"><clipPath id=\"clip8174a4xyplot\" class=\"plotclip\"><rect width=\"1158\" height=\"520\"/></clipPath><clipPath class=\"axesclip\" id=\"clip8174a4x\"><rect x=\"80\" y=\"0\" width=\"1158\" height=\"700\"/></clipPath><clipPath class=\"axesclip\" id=\"clip8174a4y\"><rect x=\"0\" y=\"100\" width=\"1400\" height=\"520\"/></clipPath><clipPath class=\"axesclip\" id=\"clip8174a4xy\"><rect x=\"80\" y=\"100\" width=\"1158\" height=\"520\"/></clipPath></g><g class=\"gradients\"/><g class=\"patterns\"/></defs><g class=\"bglayer\"><rect class=\"bg\" x=\"80\" y=\"100\" width=\"1158\" height=\"520\" style=\"fill: rgb(229, 236, 246); fill-opacity: 1; stroke-width: 0;\"/></g><g class=\"layer-below\"><g class=\"imagelayer\"/><g class=\"shapelayer\"/></g><g class=\"cartesianlayer\"><g class=\"subplot xy\"><g class=\"layer-subplot\"><g class=\"shapelayer\"/><g class=\"imagelayer\"/></g><g class=\"minor-gridlayer\"><g class=\"x\"/><g class=\"y\"/></g><g class=\"gridlayer\"><g class=\"x\"><path class=\"xgrid crisp\" transform=\"translate(410.86,0)\" d=\"M0,100v520\" style=\"stroke: rgb(255, 255, 255); stroke-opacity: 1; stroke-width: 1px;\"/><path class=\"xgrid crisp\" transform=\"translate(576.29,0)\" d=\"M0,100v520\" style=\"stroke: rgb(255, 255, 255); stroke-opacity: 1; stroke-width: 1px;\"/><path class=\"xgrid crisp\" transform=\"translate(741.71,0)\" d=\"M0,100v520\" style=\"stroke: rgb(255, 255, 255); stroke-opacity: 1; stroke-width: 1px;\"/><path class=\"xgrid crisp\" transform=\"translate(907.14,0)\" d=\"M0,100v520\" style=\"stroke: rgb(255, 255, 255); stroke-opacity: 1; stroke-width: 1px;\"/><path class=\"xgrid crisp\" transform=\"translate(1072.5700000000002,0)\" d=\"M0,100v520\" style=\"stroke: rgb(255, 255, 255); stroke-opacity: 1; stroke-width: 1px;\"/></g><g class=\"y\"><path class=\"ygrid crisp\" transform=\"translate(0,557.0699999999999)\" d=\"M80,0h1158\" style=\"stroke: rgb(255, 255, 255); stroke-opacity: 1; stroke-width: 1px;\"/><path class=\"ygrid crisp\" transform=\"translate(0,501.8)\" d=\"M80,0h1158\" style=\"stroke: rgb(255, 255, 255); stroke-opacity: 1; stroke-width: 1px;\"/><path class=\"ygrid crisp\" transform=\"translate(0,446.54)\" d=\"M80,0h1158\" style=\"stroke: rgb(255, 255, 255); stroke-opacity: 1; stroke-width: 1px;\"/><path class=\"ygrid crisp\" transform=\"translate(0,391.27)\" d=\"M80,0h1158\" style=\"stroke: rgb(255, 255, 255); stroke-opacity: 1; stroke-width: 1px;\"/><path class=\"ygrid crisp\" transform=\"translate(0,336.01)\" d=\"M80,0h1158\" style=\"stroke: rgb(255, 255, 255); stroke-opacity: 1; stroke-width: 1px;\"/><path class=\"ygrid crisp\" transform=\"translate(0,280.74)\" d=\"M80,0h1158\" style=\"stroke: rgb(255, 255, 255); stroke-opacity: 1; stroke-width: 1px;\"/><path class=\"ygrid crisp\" transform=\"translate(0,225.48000000000002)\" d=\"M80,0h1158\" style=\"stroke: rgb(255, 255, 255); stroke-opacity: 1; stroke-width: 1px;\"/><path class=\"ygrid crisp\" transform=\"translate(0,170.20999999999998)\" d=\"M80,0h1158\" style=\"stroke: rgb(255, 255, 255); stroke-opacity: 1; stroke-width: 1px;\"/><path class=\"ygrid crisp\" transform=\"translate(0,114.95)\" d=\"M80,0h1158\" style=\"stroke: rgb(255, 255, 255); stroke-opacity: 1; stroke-width: 1px;\"/></g></g><g class=\"zerolinelayer\"><path class=\"xzl zl crisp\" transform=\"translate(245.43,0)\" d=\"M0,100v520\" style=\"stroke: rgb(255, 255, 255); stroke-opacity: 1; stroke-width: 2px;\"/><path class=\"yzl zl crisp\" transform=\"translate(0,612.33)\" d=\"M80,0h1158\" style=\"stroke: rgb(255, 255, 255); stroke-opacity: 1; stroke-width: 2px;\"/></g><path class=\"xlines-below\"/><path class=\"ylines-below\"/><g class=\"overlines-below\"/><g class=\"xaxislayer-below\"/><g class=\"yaxislayer-below\"/><g class=\"overaxes-below\"/><g class=\"plot\" transform=\"translate(80,100)\" clip-path=\"url(#clip8174a4xyplot)\"><g class=\"scatterlayer mlayer\"><g class=\"trace scatter trace07107e\" style=\"stroke-miterlimit: 2; opacity: 1;\"><g class=\"fills\"/><g class=\"errorbars\"/><g class=\"lines\"><path class=\"js-line\" d=\"M0,26L11.7,92.94L23.39,153L35.09,206.63L46.79,254.26L58.48,296.31L70.18,333.18L81.88,365.24L93.58,392.87L105.27,416.41L116.97,436.18L128.67,452.52L140.36,465.71L152.06,476.04L163.76,483.79L175.45,489.21L187.15,492.53L198.85,494L210.55,493.82L222.24,492.2L233.94,489.32L245.64,485.36L257.33,480.49L280.73,468.61L292.42,461.87L327.52,439.89L339.21,432.31L386,402.8L397.7,395.93L421.09,383.12L432.79,377.23L456.18,366.6L467.88,361.87L491.27,353.63L502.97,350.09L526.36,344.16L538.06,341.72L561.45,337.79L573.15,336.24L608.24,332.92L619.94,332.14L713.52,326.64L725.21,325.52L760.3,320.86L772,318.8L795.39,313.8L807.09,310.86L830.48,304.04L842.18,300.18L877.27,286.99L888.97,282.14L970.85,246.65L982.55,242.22L1005.94,234.81L1017.64,232.08L1029.33,230.18L1041.03,229.26L1052.73,229.49L1064.42,231.03L1076.12,234.09L1087.82,238.85L1099.52,245.53L1111.21,254.36L1122.91,265.58L1134.61,279.43L1146.3,296.19L1158,316.14\" style=\"vector-effect: non-scaling-stroke; fill: none; stroke: rgb(32, 178, 170); stroke-opacity: 1; stroke-width: 2px; opacity: 1;\"/></g><g class=\"points\"/><g class=\"text\"/></g><g class=\"trace scatter tracecb4ceb\" style=\"stroke-miterlimit: 2; opacity: 1;\"><g class=\"fills\"/><g class=\"errorbars\"/><g class=\"lines\"/><g class=\"points\"><path class=\"point\" transform=\"translate(165.43,484.7)\" d=\"M5,0A5,5 0 1,1 0,-5A5,5 0 0,1 5,0Z\" style=\"opacity: 1; stroke-width: 0px; fill: rgb(147, 112, 219); fill-opacity: 1;\"/><path class=\"point\" transform=\"translate(330.86,437.73)\" d=\"M5,0A5,5 0 1,1 0,-5A5,5 0 0,1 5,0Z\" style=\"opacity: 1; stroke-width: 0px; fill: rgb(147, 112, 219); fill-opacity: 1;\"/><path class=\"point\" transform=\"translate(496.29,352.06)\" d=\"M5,0A5,5 0 1,1 0,-5A5,5 0 0,1 5,0Z\" style=\"opacity: 1; stroke-width: 0px; fill: rgb(147, 112, 219); fill-opacity: 1;\"/><path class=\"point\" transform=\"translate(661.71,329.96)\" d=\"M5,0A5,5 0 1,1 0,-5A5,5 0 0,1 5,0Z\" style=\"opacity: 1; stroke-width: 0px; fill: rgb(147, 112, 219); fill-opacity: 1;\"/><path class=\"point\" transform=\"translate(827.14,305.09)\" d=\"M5,0A5,5 0 1,1 0,-5A5,5 0 0,1 5,0Z\" style=\"opacity: 1; stroke-width: 0px; fill: rgb(147, 112, 219); fill-opacity: 1;\"/><path class=\"point\" transform=\"translate(992.57,238.77)\" d=\"M5,0A5,5 0 1,1 0,-5A5,5 0 0,1 5,0Z\" style=\"opacity: 1; stroke-width: 0px; fill: rgb(147, 112, 219); fill-opacity: 1;\"/></g><g class=\"text\"/></g></g></g><g class=\"overplot\"/><path class=\"xlines-above crisp\" d=\"M0,0\" style=\"fill: none;\"/><path class=\"ylines-above crisp\" d=\"M0,0\" style=\"fill: none;\"/><g class=\"overlines-above\"/><g class=\"xaxislayer-above\"><g class=\"xtick\"><text text-anchor=\"middle\" x=\"0\" y=\"633\" transform=\"translate(80,0)\" style=\"font-family: 'Open Sans', verdana, arial, sans-serif; font-size: 12px; fill: rgb(42, 63, 95); fill-opacity: 1; white-space: pre; opacity: 1;\">−1</text></g><g class=\"xtick\"><text text-anchor=\"middle\" x=\"0\" y=\"633\" style=\"font-family: 'Open Sans', verdana, arial, sans-serif; font-size: 12px; fill: rgb(42, 63, 95); fill-opacity: 1; white-space: pre; opacity: 1;\" transform=\"translate(245.43,0)\">0</text></g><g class=\"xtick\"><text text-anchor=\"middle\" x=\"0\" y=\"633\" style=\"font-family: 'Open Sans', verdana, arial, sans-serif; font-size: 12px; fill: rgb(42, 63, 95); fill-opacity: 1; white-space: pre; opacity: 1;\" transform=\"translate(410.86,0)\">1</text></g><g class=\"xtick\"><text text-anchor=\"middle\" x=\"0\" y=\"633\" style=\"font-family: 'Open Sans', verdana, arial, sans-serif; font-size: 12px; fill: rgb(42, 63, 95); fill-opacity: 1; white-space: pre; opacity: 1;\" transform=\"translate(576.29,0)\">2</text></g><g class=\"xtick\"><text text-anchor=\"middle\" x=\"0\" y=\"633\" style=\"font-family: 'Open Sans', verdana, arial, sans-serif; font-size: 12px; fill: rgb(42, 63, 95); fill-opacity: 1; white-space: pre; opacity: 1;\" transform=\"translate(741.71,0)\">3</text></g><g class=\"xtick\"><text text-anchor=\"middle\" x=\"0\" y=\"633\" style=\"font-family: 'Open Sans', verdana, arial, sans-serif; font-size: 12px; fill: rgb(42, 63, 95); fill-opacity: 1; white-space: pre; opacity: 1;\" transform=\"translate(907.14,0)\">4</text></g><g class=\"xtick\"><text text-anchor=\"middle\" x=\"0\" y=\"633\" style=\"font-family: 'Open Sans', verdana, arial, sans-serif; font-size: 12px; fill: rgb(42, 63, 95); fill-opacity: 1; white-space: pre; opacity: 1;\" transform=\"translate(1072.5700000000002,0)\">5</text></g><g class=\"xtick\"><text text-anchor=\"middle\" x=\"0\" y=\"633\" style=\"font-family: 'Open Sans', verdana, arial, sans-serif; font-size: 12px; fill: rgb(42, 63, 95); fill-opacity: 1; white-space: pre; opacity: 1;\" transform=\"translate(1238,0)\">6</text></g></g><g class=\"yaxislayer-above\"><g class=\"ytick\"><text text-anchor=\"end\" x=\"79\" y=\"4.199999999999999\" transform=\"translate(0,612.33)\" style=\"font-family: 'Open Sans', verdana, arial, sans-serif; font-size: 12px; fill: rgb(42, 63, 95); fill-opacity: 1; white-space: pre; opacity: 1;\">0</text></g><g class=\"ytick\"><text text-anchor=\"end\" x=\"79\" y=\"4.199999999999999\" style=\"font-family: 'Open Sans', verdana, arial, sans-serif; font-size: 12px; fill: rgb(42, 63, 95); fill-opacity: 1; white-space: pre; opacity: 1;\" transform=\"translate(0,557.0699999999999)\">2</text></g><g class=\"ytick\"><text text-anchor=\"end\" x=\"79\" y=\"4.199999999999999\" style=\"font-family: 'Open Sans', verdana, arial, sans-serif; font-size: 12px; fill: rgb(42, 63, 95); fill-opacity: 1; white-space: pre; opacity: 1;\" transform=\"translate(0,501.8)\">4</text></g><g class=\"ytick\"><text text-anchor=\"end\" x=\"79\" y=\"4.199999999999999\" style=\"font-family: 'Open Sans', verdana, arial, sans-serif; font-size: 12px; fill: rgb(42, 63, 95); fill-opacity: 1; white-space: pre; opacity: 1;\" transform=\"translate(0,446.54)\">6</text></g><g class=\"ytick\"><text text-anchor=\"end\" x=\"79\" y=\"4.199999999999999\" style=\"font-family: 'Open Sans', verdana, arial, sans-serif; font-size: 12px; fill: rgb(42, 63, 95); fill-opacity: 1; white-space: pre; opacity: 1;\" transform=\"translate(0,391.27)\">8</text></g><g class=\"ytick\"><text text-anchor=\"end\" x=\"79\" y=\"4.199999999999999\" style=\"font-family: 'Open Sans', verdana, arial, sans-serif; font-size: 12px; fill: rgb(42, 63, 95); fill-opacity: 1; white-space: pre; opacity: 1;\" transform=\"translate(0,336.01)\">10</text></g><g class=\"ytick\"><text text-anchor=\"end\" x=\"79\" y=\"4.199999999999999\" style=\"font-family: 'Open Sans', verdana, arial, sans-serif; font-size: 12px; fill: rgb(42, 63, 95); fill-opacity: 1; white-space: pre; opacity: 1;\" transform=\"translate(0,280.74)\">12</text></g><g class=\"ytick\"><text text-anchor=\"end\" x=\"79\" y=\"4.199999999999999\" style=\"font-family: 'Open Sans', verdana, arial, sans-serif; font-size: 12px; fill: rgb(42, 63, 95); fill-opacity: 1; white-space: pre; opacity: 1;\" transform=\"translate(0,225.48000000000002)\">14</text></g><g class=\"ytick\"><text text-anchor=\"end\" x=\"79\" y=\"4.199999999999999\" style=\"font-family: 'Open Sans', verdana, arial, sans-serif; font-size: 12px; fill: rgb(42, 63, 95); fill-opacity: 1; white-space: pre; opacity: 1;\" transform=\"translate(0,170.20999999999998)\">16</text></g><g class=\"ytick\"><text text-anchor=\"end\" x=\"79\" y=\"4.199999999999999\" style=\"font-family: 'Open Sans', verdana, arial, sans-serif; font-size: 12px; fill: rgb(42, 63, 95); fill-opacity: 1; white-space: pre; opacity: 1;\" transform=\"translate(0,114.95)\">18</text></g></g><g class=\"overaxes-above\"/></g></g><g class=\"polarlayer\"/><g class=\"smithlayer\"/><g class=\"ternarylayer\"/><g class=\"geolayer\"/><g class=\"funnelarealayer\"/><g class=\"pielayer\"/><g class=\"iciclelayer\"/><g class=\"treemaplayer\"/><g class=\"sunburstlayer\"/><g class=\"glimages\"/><defs id=\"topdefs-8174a4\"><g class=\"clips\"/><clipPath id=\"legend8174a4\"><rect width=\"127\" height=\"48\" x=\"0\" y=\"0\"/></clipPath></defs><g class=\"layer-above\"><g class=\"imagelayer\"/><g class=\"shapelayer\"/></g><g class=\"infolayer\"><g class=\"legend\" pointer-events=\"all\" transform=\"translate(1261.16,100)\"><rect class=\"bg\" shape-rendering=\"crispEdges\" width=\"127\" height=\"48\" x=\"0\" y=\"0\" style=\"stroke: rgb(68, 68, 68); stroke-opacity: 1; fill: rgb(255, 255, 255); fill-opacity: 1; stroke-width: 0px;\"/><g class=\"scrollbox\" transform=\"\" clip-path=\"url(#legend8174a4)\"><g class=\"groups\"><g class=\"traces\" transform=\"translate(0,14.5)\" style=\"opacity: 1;\"><text class=\"legendtext\" text-anchor=\"start\" x=\"40\" y=\"4.680000000000001\" style=\"font-family: 'Open Sans', verdana, arial, sans-serif; font-size: 12px; fill: rgb(42, 63, 95); fill-opacity: 1; white-space: pre;\">P(x)</text><g class=\"layers\" style=\"opacity: 1;\"><g class=\"legendfill\"/><g class=\"legendlines\"><path class=\"js-line\" d=\"M5,0h30\" style=\"fill: none; stroke: rgb(32, 178, 170); stroke-opacity: 1; stroke-width: 2px;\"/></g><g class=\"legendsymbols\"><g class=\"legendpoints\"/></g></g><rect class=\"legendtoggle\" x=\"0\" y=\"-9.5\" width=\"121.359375\" height=\"19\" style=\"fill: rgb(0, 0, 0); fill-opacity: 0;\"/></g><g class=\"traces\" transform=\"translate(0,33.5)\" style=\"opacity: 1;\"><text class=\"legendtext\" text-anchor=\"start\" x=\"40\" y=\"4.680000000000001\" style=\"font-family: 'Open Sans', verdana, arial, sans-serif; font-size: 12px; fill: rgb(42, 63, 95); fill-opacity: 1; white-space: pre;\">Puntos dados</text><g class=\"layers\" style=\"opacity: 1;\"><g class=\"legendfill\"/><g class=\"legendlines\"/><g class=\"legendsymbols\"><g class=\"legendpoints\"><path class=\"scatterpts\" transform=\"translate(20,0)\" d=\"M5,0A5,5 0 1,1 0,-5A5,5 0 0,1 5,0Z\" style=\"opacity: 1; stroke-width: 0px; fill: rgb(147, 112, 219); fill-opacity: 1;\"/></g></g></g><rect class=\"legendtoggle\" x=\"0\" y=\"-9.5\" width=\"121.359375\" height=\"19\" style=\"fill: rgb(0, 0, 0); fill-opacity: 0;\"/></g></g></g><rect class=\"scrollbar\" rx=\"20\" ry=\"3\" width=\"0\" height=\"0\" x=\"0\" y=\"0\" style=\"fill: rgb(128, 139, 164); fill-opacity: 1;\"/></g><g class=\"g-gtitle\"><text class=\"gtitle\" x=\"70\" y=\"50\" text-anchor=\"start\" dy=\"0em\" style=\"font-family: 'Open Sans', verdana, arial, sans-serif; font-size: 30px; fill: rgb(42, 63, 95); opacity: 1; font-weight: normal; white-space: pre;\">Ajuste de minimos cuadrados</text></g><g class=\"g-xtitle\"/><g class=\"g-ytitle\"/></g></svg>"
          },
          "metadata": {},
          "output_type": "display_data"
        }
      ],
      "source": [
        "X = [0, 1, 2, 3, 4, 5]\n",
        "y = [1, 2.7, 5.8, 6.6, 7.5, 9.9]\n",
        "\n",
        "for i in range(6):\n",
        "  ec_norma_grad(X, y, i)\n"
      ]
    },
    {
      "cell_type": "markdown",
      "metadata": {
        "id": "HylRGSAHy16y"
      },
      "source": [
        "> - <font color=red> ¿Qué polinomio ajusta mejor el comportamiento de los datos?</font>\n",
        "\n",
        "El polinomio de grado 5 es el que ajusta mejor\n",
        "\n",
        "> - <font color=red> Explica tu respuesta anterior.</font>\n",
        "\n",
        "Lo anterior se debe a que estamos sobre ajustando el modelo a nuestros datos, pues entre mayor sea el grado del polinomio entonces el ajuste será mejor."
      ]
    },
    {
      "cell_type": "markdown",
      "metadata": {
        "id": "zGq37oUj1lXe"
      },
      "source": [
        "## Ejercicio 4\n",
        "Escribe un programa que calcule la factorización QR mediante las reflexiones de Householder de la siguiente matriz: \n",
        "\n",
        "$$A = \\left(\\begin{array}{cc} 1.0 & 1.0 & 1.5\\\\ 1.5 & 1.0 & 1.0  \\\\ 1.0 & 1.5 & 1.0 \\\\ 0.0 & 0.5 & -0.5 \\\\ -0.5 & 0.5 & 0.0\\end{array}\\right)$$"
      ]
    },
    {
      "cell_type": "code",
      "execution_count": 28,
      "metadata": {
        "colab": {
          "base_uri": "https://localhost:8080/"
        },
        "id": "AyyBHgR--BT4",
        "outputId": "e7e58f66-f433-4d36-b5c0-fd0a356ba9b4"
      },
      "outputs": [
        {
          "name": "stdout",
          "output_type": "stream",
          "text": [
            "La matriz es \n",
            " [[ 1.   1.   1.5]\n",
            " [ 1.5  1.   1. ]\n",
            " [ 1.   1.5  1. ]\n",
            " [ 0.   0.5 -0.5]\n",
            " [-0.5  0.5  0. ]] \n",
            "\n",
            "La factorización QR de A es: \n",
            "\n",
            "Matriz R:\n",
            "[[-2.12132  -1.767767 -1.885618]\n",
            " [-0.        1.274755  0.32686 ]\n",
            " [-0.       -0.        0.915209]] \n",
            "\n",
            "Matriz Q:\n",
            "[[-0.471405  0.130744  0.621034  0.564321 -0.237786]\n",
            " [-0.707107 -0.196116 -0.294174  0.03608   0.611309]\n",
            " [-0.471405  0.522976 -0.065372 -0.600401 -0.373523]\n",
            " [ 0.        0.392232 -0.686406  0.564321 -0.237786]\n",
            " [ 0.235702  0.719092  0.228802  0.03608   0.611309]] \n",
            "\n"
          ]
        }
      ],
      "source": [
        "def columnas(x):\n",
        "    \"\"\"\n",
        "    Convierte 1d arrays a vectores columna\n",
        "    \"\"\"\n",
        "    x.shape = (1, x.shape[0])\n",
        "    return x\n",
        "\n",
        "def norma(x):\n",
        "    \"\"\"\n",
        "    Calcula la norma del vector\n",
        "    \"\"\"\n",
        "    return np.sqrt(np.sum(np.square(x)))\n",
        "\n",
        "def householder(v):\n",
        "    \"\"\"\n",
        "    Nos devuelve la matriz de Householder\n",
        "    \"\"\"\n",
        "    tamaño_v = v.shape[1]\n",
        "    e1 = np.zeros_like(v)\n",
        "    e1[0, 0] = 1\n",
        "    vector = norma(v) * e1\n",
        "    if v[0, 0] < 0:\n",
        "        vector = - vector\n",
        "    u = (v + vector).astype(np.float32)\n",
        "    H = np.identity(tamaño_v) - ((2 * np.matmul(np.transpose(u), u)) / np.matmul(u, np.transpose(u)))\n",
        "    return H\n",
        "\n",
        "def fact_qr(q, r, iter, n):\n",
        "    \"\"\"\n",
        "    Devuelve la factorización Q R de una matriz\n",
        "    \"\"\"\n",
        "    v = columnas(r[iter:, iter])\n",
        "    Hbar = householder(v)\n",
        "    H = np.identity(n)\n",
        "    H[iter:, iter:] = Hbar\n",
        "    r = np.matmul(H, r)\n",
        "    q = np.matmul(q, H)\n",
        "    return q, r\n",
        "\n",
        "def main():\n",
        "    A = np.array([[1.0, 1.0, 1.5], \n",
        "         [1.5, 1.0, 1.0],\n",
        "         [1.0, 1.5, 1.0],\n",
        "         [0.0, 0.5, -0.5],\n",
        "         [-0.5, 0.5, 0.0]])\n",
        "    n = 5\n",
        "    m = 3\n",
        "    print('La matriz es \\n', A, '\\n')\n",
        "    Q = np.identity(n)\n",
        "    R = A.astype(np.float32)\n",
        "    for i in range(min(n, m)):\n",
        "        Q, R = fact_qr(Q, R, i, n)\n",
        "    min_dim = min(m, n)\n",
        "    R = np.around(R, decimals=6)\n",
        "    R = R[:min_dim, :min_dim]\n",
        "    Q = np.around(Q, decimals=6)\n",
        "    print('La factorización QR de A es: \\n')\n",
        "    print('Matriz R:')\n",
        "    print(R, '\\n')\n",
        "    print('Matriz Q:')\n",
        "    print(Q, '\\n')\n",
        "if __name__ == \"__main__\":\n",
        "    main()"
      ]
    },
    {
      "cell_type": "markdown",
      "metadata": {
        "id": "Iv8NMAaj-Cnn"
      },
      "source": [
        "## Ejercicio 5\n",
        "Escribe un programa que, utilizando el método de descomposición QR, encuentre el polinomio de grado 2 que mejor se ajuste a los datos de la tabla:\n",
        "\n",
        "\n",
        "$$t =\\: 0.0 \\quad\\: 1.0 \\quad\\:\\: 2.0 \\quad\\:\\: 3.0  $$\n",
        "$$y = 7.0 \\quad 11.0 \\quad 17.0 \\quad 25.0 $$"
      ]
    },
    {
      "cell_type": "code",
      "execution_count": 29,
      "metadata": {
        "colab": {
          "base_uri": "https://localhost:8080/",
          "height": 924
        },
        "id": "wsoHHoyJ_wBO",
        "outputId": "0f184558-b862-4d4a-dbb2-eaeaec13844f"
      },
      "outputs": [
        {
          "name": "stdout",
          "output_type": "stream",
          "text": [
            "Tenemos el siguiente conjunto de puntos\n",
            "Nuestros valores de las abcisas son \n",
            " [[0.]\n",
            " [1.]\n",
            " [2.]\n",
            " [3.]]\n",
            "Nuestros valores de las ordenada son \n",
            " [[ 7.]\n",
            " [11.]\n",
            " [17.]\n",
            " [25.]]\n",
            "La matriz V será \n",
            " [[1. 0. 0.]\n",
            " [1. 1. 1.]\n",
            " [1. 2. 4.]\n",
            " [1. 3. 9.]]\n",
            "La factorización QR de V es:\n",
            "Matriz R:\n",
            "[[-2.       -3.       -7.      ]\n",
            " [-0.        2.236068  6.708204]\n",
            " [ 0.        0.        2.      ]] \n",
            "\n",
            "Matriz Q:\n",
            "[[-0.5      -0.67082   0.5      -0.223607]\n",
            " [-0.5      -0.223607 -0.5       0.67082 ]\n",
            " [-0.5       0.223607 -0.5      -0.67082 ]\n",
            " [-0.5       0.67082   0.5       0.223607]] \n",
            "\n",
            "Matriz transpuesta de Q:\n",
            "[[-0.5      -0.5      -0.5      -0.5     ]\n",
            " [-0.67082  -0.223607  0.223607  0.67082 ]\n",
            " [ 0.5      -0.5      -0.5       0.5     ]\n",
            " [-0.223607  0.67082  -0.67082   0.223607]] \n",
            "\n",
            "Nuestro vector solución será:\n",
            "[7.00000402 2.99999732 1.        ] \n",
            "\n",
            "Nuestro polinomio será: 7.000004024922319 + 2.9999973167184537 x + 1.0 x**2\n"
          ]
        },
        {
          "data": {
            "image/png": "[encoded data removed]",
            "text/plain": [
              "<Figure size 432x288 with 1 Axes>"
            ]
          },
          "metadata": {
            "needs_background": "light"
          },
          "output_type": "display_data"
        }
      ],
      "source": [
        "print(\"Tenemos el siguiente conjunto de puntos\")\n",
        "t = np.array([[0], [1.0], [2.0] ,[3.0]])\n",
        "y = np.array([[7.0] , [11.0] , [17.0], [25.0]])\n",
        "print(\"Nuestros valores de las abcisas son \\n\", t)\n",
        "print(\"Nuestros valores de las ordenada son \\n\", y)\n",
        "\n",
        "\n",
        "# Como queremos un polinomio de grado 2 debemos construir nuestra matriz V\n",
        "# V = np.vander(t, N = 3) \n",
        "V = np.array([[1.0, 0.0, 0.0],\n",
        "             [1.0, 1.0, 1.0],\n",
        "              [1.0, 2.0, 4.0],\n",
        "              [1.0, 3.0, 9.0]])\n",
        "\n",
        "# Ahora encontremos la factorización QR de V\n",
        "def main():\n",
        "    A = V\n",
        "    n = 4  \n",
        "    m = 3\n",
        "    print('La matriz V será \\n', A)\n",
        "    Q = np.identity(n)\n",
        "    R = A.astype(np.float32)\n",
        "    for i in range(min(n, m)):\n",
        "        Q, R = fact_qr(Q, R, i, n)\n",
        "    min_dim = min(m, n)\n",
        "    R = np.around(R, decimals=6)\n",
        "    R = R[:min_dim, :min_dim]\n",
        "    Q = np.around(Q, decimals=6)\n",
        "    print('La factorización QR de V es:')\n",
        "    print('Matriz R:')\n",
        "    print(R, '\\n')\n",
        "    print('Matriz Q:')\n",
        "    print(Q, '\\n')\n",
        "\n",
        "    # Ya que tenemos la factorización QR debemos resolver Ra = Q^T y\n",
        "    QT = np.transpose(Q)\n",
        "    print('Matriz transpuesta de Q:')\n",
        "    print(QT, '\\n')\n",
        "    QTy = np.dot(QT, y)\n",
        "    b = np.array([QTy[i,0] for i in range(3)])\n",
        "    a = np.linalg.solve(R,b)\n",
        "    print(\"Nuestro vector solución será:\")\n",
        "    print(a, '\\n')\n",
        "    print(\"Nuestro polinomio será:\", a[0],\"+\",a[1],\"x +\",a[2],\"x**2\")\n",
        "\n",
        "    # Grafiquemos\n",
        "    ts = [0, 1.0, 2.0 ,3.0]\n",
        "    ys = [7.0 ,11.0 ,17.0, 25.0]\n",
        "    xis = np.linspace(-5, 5 ,100)\n",
        "    yis = a[0] + a[1]*xis + a[2]*xis**2\n",
        "    plt.plot(xis, yis, 'r')\n",
        "    plt.grid()\n",
        "    plt.scatter(ts, ys)\n",
        "    plt.show()\n",
        "\n",
        "\n",
        "if __name__ == \"__main__\":\n",
        "    main()\n",
        "\n",
        "\n"
      ]
    },
    {
      "cell_type": "markdown",
      "metadata": {
        "id": "pk9JMoUeWpjp"
      },
      "source": [
        "# Resolución de ecuaciones no lineales"
      ]
    },
    {
      "cell_type": "markdown",
      "metadata": {
        "id": "Qg9naJ-3Wpjq"
      },
      "source": [
        "## Ejercicio 6\n",
        "El número áureo está dado por\n",
        "\n",
        "$$\\phi = \\frac{1+\\sqrt{5}}{2},$$\n",
        "\n",
        "y es solución de la ecuación\n",
        "\n",
        "$$ x ^2 - x - 1 = 0.$$\n",
        "\n",
        "Escribe un programa que mediante el método de bisección calcule aproximaciones $x_k$ de la raíz positiva de la ecuación cuadrática anterior con una tolerancia de error de $\\vert x_k - \\phi \\vert \\leq 10^{-10}$, donde el valor de $\\phi$ es calculado por la máquina. Para cada iteración imprime $k$, el valor $x_k$ y el error."
      ]
    },
    {
      "cell_type": "code",
      "execution_count": 30,
      "metadata": {
        "colab": {
          "base_uri": "https://localhost:8080/"
        },
        "id": "QwP6zG77Wpjr",
        "outputId": "2691ce54-e932-4063-f016-b5402c9f6b92"
      },
      "outputs": [
        {
          "name": "stdout",
          "output_type": "stream",
          "text": [
            "***\n",
            "Itenarion 1\n",
            "x_k = 1.5\n",
            "error = 0.25\n",
            "***\n",
            "Itenarion 2\n",
            "x_k = 1.75\n",
            "error = 0.3125\n",
            "***\n",
            "Itenarion 3\n",
            "x_k = 1.625\n",
            "error = 0.015625\n",
            "***\n",
            "Itenarion 4\n",
            "x_k = 1.5625\n",
            "error = 0.12109375\n",
            "***\n",
            "Itenarion 5\n",
            "x_k = 1.59375\n",
            "error = 0.0537109375\n",
            "***\n",
            "Itenarion 6\n",
            "x_k = 1.609375\n",
            "error = 0.019287109375\n",
            "***\n",
            "Itenarion 7\n",
            "x_k = 1.6171875\n",
            "error = 0.00189208984375\n",
            "***\n",
            "Itenarion 8\n",
            "x_k = 1.62109375\n",
            "error = 0.0068511962890625\n",
            "***\n",
            "Itenarion 9\n",
            "x_k = 1.619140625\n",
            "error = 0.002475738525390625\n",
            "***\n",
            "Itenarion 10\n",
            "x_k = 1.6181640625\n",
            "error = 0.00029087066650390625\n",
            "***\n",
            "Itenarion 11\n",
            "x_k = 1.61767578125\n",
            "error = 0.0008008480072021484\n",
            "***\n",
            "Itenarion 12\n",
            "x_k = 1.617919921875\n",
            "error = 0.0002550482749938965\n",
            "***\n",
            "Itenarion 13\n",
            "x_k = 1.6180419921875\n",
            "error = 1.7896294593811035e-05\n",
            "***\n",
            "Itenarion 14\n",
            "x_k = 1.61798095703125\n",
            "error = 0.00011857971549034119\n",
            "***\n",
            "Itenarion 15\n",
            "x_k = 1.618011474609375\n",
            "error = 5.034264177083969e-05\n",
            "***\n",
            "Itenarion 16\n",
            "x_k = 1.6180267333984375\n",
            "error = 1.6223406419157982e-05\n",
            "***\n",
            "Itenarion 17\n",
            "x_k = 1.6180343627929688\n",
            "error = 8.363858796656132e-07\n",
            "***\n",
            "Itenarion 18\n",
            "x_k = 1.6180305480957031\n",
            "error = 7.693524821661413e-06\n",
            "***\n",
            "Itenarion 19\n",
            "x_k = 1.618032455444336\n",
            "error = 3.428573108976707e-06\n",
            "***\n",
            "Itenarion 20\n",
            "x_k = 1.6180334091186523\n",
            "error = 1.2960945241502486e-06\n",
            "***\n",
            "Itenarion 21\n",
            "x_k = 1.6180338859558105\n",
            "error = 2.2985454961599316e-07\n",
            "***\n",
            "Itenarion 22\n",
            "x_k = 1.6180341243743896\n",
            "error = 3.0326560818139114e-07\n",
            "***\n",
            "Itenarion 23\n",
            "x_k = 1.6180340051651\n",
            "error = 3.6705515071844275e-08\n",
            "***\n",
            "Itenarion 24\n",
            "x_k = 1.6180339455604553\n",
            "error = 9.657452082478812e-08\n",
            "***\n",
            "Itenarion 25\n",
            "x_k = 1.6180339753627777\n",
            "error = 2.9934503764650344e-08\n",
            "***\n",
            "Itenarion 26\n",
            "x_k = 1.618033990263939\n",
            "error = 3.3855052095077554e-09\n",
            "***\n",
            "Itenarion 27\n",
            "x_k = 1.6180339828133583\n",
            "error = 1.3274499277571294e-08\n",
            "***\n",
            "Itenarion 28\n",
            "x_k = 1.6180339865386486\n",
            "error = 4.944496811987165e-09\n",
            "***\n",
            "Itenarion 29\n",
            "x_k = 1.6180339884012938\n",
            "error = 7.794955791950997e-10\n",
            "***\n",
            "Itenarion 30\n",
            "x_k = 1.6180339893326163\n",
            "error = 1.3030048151563278e-09\n",
            "***\n",
            "Itenarion 31\n",
            "x_k = 1.618033988866955\n",
            "error = 2.6175461798061406e-10\n",
            "***\n",
            "Itenarion 32\n",
            "x_k = 1.6180339886341244\n",
            "error = 2.5887070265184775e-10\n",
            "***\n",
            "Itenarion 33\n",
            "x_k = 1.6180339887505397\n",
            "error = 1.4419576643831533e-12\n",
            "\n",
            " ******El número aureo es aproximadamente 1.6180339887505397\n"
          ]
        }
      ],
      "source": [
        "#Tomemos el intervalo [1, 2] para poder usar el metodo de biseccion\n",
        "\n",
        "def aureo(x):\n",
        "  return x**2 - x -1\n",
        "\n",
        "a = 1\n",
        "b = 2\n",
        "k = 0\n",
        "\n",
        "bandera = True\n",
        "\n",
        "while bandera:\n",
        "  k += 1\n",
        "  c = a + (b-a)/2\n",
        "\n",
        "  if aureo(a)*aureo(c) < 0:\n",
        "    b = c\n",
        "  elif aureo(c)*aureo(b):\n",
        "    a = c\n",
        "\n",
        "  #El error lo obtenemos directamente al evaluar la funcion aurea en c\n",
        "  error = aureo(c)\n",
        "  print('***')\n",
        "  print(f'Itenarion {k}')\n",
        "  print(f'x_k = {c}')\n",
        "  print(f'error = {abs(error)}')\n",
        "\n",
        "\n",
        "  #Usamos la cota del error dada por el teorema de la biseccion para detener el ciclo\n",
        "  if 2**(-k-1) < 10**(-10):\n",
        "    bandera = False\n",
        "    print(f'\\n ******El número aureo es aproximadamente {c}')\n",
        "  "
      ]
    },
    {
      "cell_type": "markdown",
      "metadata": {
        "id": "95SeDGdyWpjr"
      },
      "source": [
        "Escribe otro programa que mediante el método de la secante calcule una aproximación $x_k$ de la raíz positiva de la ecuación cuadrática arriba mencionada; utiliza la misma tolerancia de error $\\vert x_k - \\phi \\vert \\leq 10^{-10}$.  Para cada iteración imprime $k$, el valor $x_k$ y el error."
      ]
    },
    {
      "cell_type": "code",
      "execution_count": 31,
      "metadata": {
        "colab": {
          "base_uri": "https://localhost:8080/"
        },
        "id": "0jyMwRTJWpjs",
        "outputId": "2a27c175-e2c5-4e18-90d1-761188568649"
      },
      "outputs": [
        {
          "name": "stdout",
          "output_type": "stream",
          "text": [
            "Iteración 1\n",
            "x_k = 1.5\n",
            "error = -0.25\n",
            "Iteración 2\n",
            "x_k = 1.6666666666666667\n",
            "error = 0.11111111111111138\n",
            "Iteración 3\n",
            "x_k = 1.6153846153846154\n",
            "error = -0.005917159763313418\n",
            "Iteración 4\n",
            "x_k = 1.6179775280898876\n",
            "error = -0.00012624668602478906\n",
            "Iteración 5\n",
            "x_k = 1.6180340557275543\n",
            "error = 1.4976660400733977e-07\n",
            "Iteración 6\n",
            "x_k = 1.6180339887482036\n",
            "error = -3.781641666478208e-12\n",
            "\n",
            " ******El número aureo es aproximadamente 1.6180339887505397\n"
          ]
        }
      ],
      "source": [
        "#Tomamos las aproximaciones iniciales\n",
        "xn = 1\n",
        "xn_1 = 2\n",
        "k = 0\n",
        "\n",
        "bandera = True\n",
        "\n",
        "while bandera:\n",
        "  #Contador de las iteraciones\n",
        "  k += 1\n",
        "  a = xn - xn_1\n",
        "  b = aureo(xn) - aureo(xn_1)\n",
        "\n",
        "  #Formula del metodo de la secante\n",
        "  secante = xn - (a/b)*aureo(xn)\n",
        "  #Actualizamos los terminos n y el n-1\n",
        "  xn, xn_1 = secante, xn\n",
        "  error = aureo(xn)\n",
        "\n",
        "  #Imrpimimos la iteracion, el valor de x_k y el error\n",
        "  print(f'Iteración {k}')\n",
        "  print(f'x_k = {xn}')\n",
        "  print(f'error = {error}')\n",
        "\n",
        "  #Si el error es menor que la cota dada, terminamos el bucle\n",
        "  if abs(error) < 10**(-10):\n",
        "    bandera = False\n",
        "    print(f'\\n ******El número aureo es aproximadamente {c}')"
      ]
    },
    {
      "cell_type": "markdown",
      "metadata": {
        "id": "XPCrEBoTWpjs"
      },
      "source": [
        "> - <font color=red> ¿Qué método converge en menos iteraciones?</font>\n",
        "\n",
        "En este caso el método que converge más rápido es el método de la secante\n",
        "> - <font color=red> Explica tu respuesta.\n",
        "\n",
        "El número de iteraciones que se hacen usando el método de la secante son 6, mientras que el método de la bisección usó 33 iteraciones.\n",
        "\n",
        "Por lo visto en clase, el método de la bisección tiene una convergencia muy lenta, es más rápido usar Newton-Rhapson, y como el método de la secante es una variación del de Newton, entonces eso explica su rápida convergencia"
      ]
    },
    {
      "cell_type": "markdown",
      "metadata": {
        "id": "hQiFszv8Wpjt"
      },
      "source": [
        "## Ejercicio 7\n",
        "La siguiente ecuación\n",
        "\n",
        "$$ \\left( p+ \\frac{n^2a}{V^2} \\right)\\left( V-nb \\right) = nRT$$\n",
        "\n",
        "se conoce como ecuación de Van der Waals y describe el comportamiento de un gas de manera más realista que la ecuación de gas ideal. En dicha ecuación: $p$ es la presión, $V$ es el volumen, $n$ es el número de moles del gas, $a$ y $b$ son constantes que dependen del gas en cuestión, $R = 8.3145 \\frac{J}{mol\\cdot K}$ es la constante universal de los gases y $T$ es la temperatura.\n",
        "\n",
        "Un gas tiene los siguientes parámetros: $a = 0.547 \\,Pa\\cdot m^3$, $b = 3.052\\times 10^{-5} \\frac{m^3}{mol}$, $p = 101325 \\,Pa$, $n = 70 \\,mol$ y $T = 400\\,K$. Encuentra el volumen $V$ de dicho gas por medio de un programa que utilice el método de Newton-Raphson con iteraciones $k = 1,2,...,15$. En cada iteración imprime el valor de $V_k$ y la tolerancia de error.\n",
        "*Sugerencia*: multiplica por $V^2$ ambos miembros de la ecuación y encuentra la raíz positiva de la ecuación cúbica resultante."
      ]
    },
    {
      "cell_type": "code",
      "execution_count": 32,
      "metadata": {
        "colab": {
          "base_uri": "https://localhost:8080/"
        },
        "id": "Z51IVE0CWpjt",
        "outputId": "dfa1e038-812c-43c7-fb0e-27535e0b49d5"
      },
      "outputs": [
        {
          "name": "stdout",
          "output_type": "stream",
          "text": [
            "El volumen aproximado es: 215.9376152768815 metros cúbicos\n"
          ]
        }
      ],
      "source": [
        "a = 0.547\n",
        "b = 3.052\n",
        "p = 101325\n",
        "n = 70\n",
        "T = 400\n",
        "R = 8.3145\n",
        "\n",
        "def h(V):\n",
        "  return p*V**3 - (p*n*b + n*R*T)*V**2 + (n**2)*a*V - a*b*n**3\n",
        "\n",
        "def h_derivada(V):\n",
        "  return 3*p*V**2 - 2*(p*n*b + n*R*T)*V + (n**2)*a \n",
        "\n",
        "x0 = 0\n",
        "\n",
        "for _ in range(15):\n",
        "  x0 = x0 - h(x0)/h_derivada(x0)\n",
        "\n",
        "print(f'El volumen aproximado es: {x0} metros cúbicos')"
      ]
    },
    {
      "cell_type": "markdown",
      "metadata": {
        "id": "l_ZVacJRWpju"
      },
      "source": [
        "## Ejercicio 8\n",
        "\n",
        "Escribe una rutina que mediante el método de punto fíjo calcule la raíz de la ecuación:\n",
        "\n",
        "$$ x^2 + 3x -4 = 0, $$\n",
        "\n",
        "considera $g(x) = \\frac{4}{x + 3}$. En cada iteración imprime el número de pasos y utiliza una tolerancia de error de $10^{-8}$."
      ]
    },
    {
      "cell_type": "code",
      "execution_count": 33,
      "metadata": {
        "colab": {
          "base_uri": "https://localhost:8080/",
          "height": 506
        },
        "id": "GJoghkSxWpju",
        "outputId": "75b03966-b4cb-417e-c518-f1a0483f55b4"
      },
      "outputs": [
        {
          "name": "stdout",
          "output_type": "stream",
          "text": [
            "El valor de la raiz de la ecuación es x= 1.0000000053218434\n"
          ]
        },
        {
          "data": {
            "text/html": [
              "<div>\n",
              "<style scoped>\n",
              "    .dataframe tbody tr th:only-of-type {\n",
              "        vertical-align: middle;\n",
              "    }\n",
              "\n",
              "    .dataframe tbody tr th {\n",
              "        vertical-align: top;\n",
              "    }\n",
              "\n",
              "    .dataframe thead th {\n",
              "        text-align: right;\n",
              "    }\n",
              "</style>\n",
              "<table border=\"1\" class=\"dataframe\">\n",
              "  <thead>\n",
              "    <tr style=\"text-align: right;\">\n",
              "      <th></th>\n",
              "      <th>Iteraciones</th>\n",
              "      <th>Aprox. de la raiz</th>\n",
              "      <th>f(x)</th>\n",
              "    </tr>\n",
              "  </thead>\n",
              "  <tbody>\n",
              "    <tr>\n",
              "      <th>0</th>\n",
              "      <td>1</td>\n",
              "      <td>0.666667</td>\n",
              "      <td>-1.555556e+00</td>\n",
              "    </tr>\n",
              "    <tr>\n",
              "      <th>1</th>\n",
              "      <td>2</td>\n",
              "      <td>1.090909</td>\n",
              "      <td>4.628099e-01</td>\n",
              "    </tr>\n",
              "    <tr>\n",
              "      <th>2</th>\n",
              "      <td>3</td>\n",
              "      <td>0.977778</td>\n",
              "      <td>-1.106173e-01</td>\n",
              "    </tr>\n",
              "    <tr>\n",
              "      <th>3</th>\n",
              "      <td>4</td>\n",
              "      <td>1.005587</td>\n",
              "      <td>2.796417e-02</td>\n",
              "    </tr>\n",
              "    <tr>\n",
              "      <th>4</th>\n",
              "      <td>5</td>\n",
              "      <td>0.998605</td>\n",
              "      <td>-6.971556e-03</td>\n",
              "    </tr>\n",
              "    <tr>\n",
              "      <th>5</th>\n",
              "      <td>6</td>\n",
              "      <td>1.000349</td>\n",
              "      <td>1.744105e-03</td>\n",
              "    </tr>\n",
              "    <tr>\n",
              "      <th>6</th>\n",
              "      <td>7</td>\n",
              "      <td>0.999913</td>\n",
              "      <td>-4.359502e-04</td>\n",
              "    </tr>\n",
              "    <tr>\n",
              "      <th>7</th>\n",
              "      <td>8</td>\n",
              "      <td>1.000022</td>\n",
              "      <td>1.089923e-04</td>\n",
              "    </tr>\n",
              "    <tr>\n",
              "      <th>8</th>\n",
              "      <td>9</td>\n",
              "      <td>0.999995</td>\n",
              "      <td>-2.724778e-05</td>\n",
              "    </tr>\n",
              "    <tr>\n",
              "      <th>9</th>\n",
              "      <td>10</td>\n",
              "      <td>1.000001</td>\n",
              "      <td>6.811963e-06</td>\n",
              "    </tr>\n",
              "    <tr>\n",
              "      <th>10</th>\n",
              "      <td>11</td>\n",
              "      <td>1.000000</td>\n",
              "      <td>-1.702990e-06</td>\n",
              "    </tr>\n",
              "    <tr>\n",
              "      <th>11</th>\n",
              "      <td>12</td>\n",
              "      <td>1.000000</td>\n",
              "      <td>4.257475e-07</td>\n",
              "    </tr>\n",
              "    <tr>\n",
              "      <th>12</th>\n",
              "      <td>13</td>\n",
              "      <td>1.000000</td>\n",
              "      <td>-1.064369e-07</td>\n",
              "    </tr>\n",
              "    <tr>\n",
              "      <th>13</th>\n",
              "      <td>14</td>\n",
              "      <td>1.000000</td>\n",
              "      <td>2.660922e-08</td>\n",
              "    </tr>\n",
              "  </tbody>\n",
              "</table>\n",
              "</div>"
            ],
            "text/plain": [
              "    Iteraciones  Aprox. de la raiz          f(x)\n",
              "0             1           0.666667 -1.555556e+00\n",
              "1             2           1.090909  4.628099e-01\n",
              "2             3           0.977778 -1.106173e-01\n",
              "3             4           1.005587  2.796417e-02\n",
              "4             5           0.998605 -6.971556e-03\n",
              "5             6           1.000349  1.744105e-03\n",
              "6             7           0.999913 -4.359502e-04\n",
              "7             8           1.000022  1.089923e-04\n",
              "8             9           0.999995 -2.724778e-05\n",
              "9            10           1.000001  6.811963e-06\n",
              "10           11           1.000000 -1.702990e-06\n",
              "11           12           1.000000  4.257475e-07\n",
              "12           13           1.000000 -1.064369e-07\n",
              "13           14           1.000000  2.660922e-08"
            ]
          },
          "execution_count": 33,
          "metadata": {},
          "output_type": "execute_result"
        }
      ],
      "source": [
        "def f(x):\n",
        "  y = x**2 + 3*x - 4\n",
        "  return y\n",
        "\n",
        "def g(x):\n",
        "  y = 4/(x+3)\n",
        "  return y\n",
        "\n",
        "x0 = float(3.0)\n",
        "j = int(0)\n",
        "\n",
        "iteraciones = []\n",
        "aprox_raiz = []\n",
        "fx = []\n",
        "\n",
        "while abs(g(x0)-x0) >= 1e-8:\n",
        "  j = j+1\n",
        "  x = g(x0)\n",
        "  x0 = x\n",
        "  iteraciones.append(j)\n",
        "  aprox_raiz.append(x0)\n",
        "  fx.append(f(x0))\n",
        "\n",
        "print('El valor de la raiz de la ecuación es x=', x0)     \n",
        "\n",
        "tabla = pd.DataFrame({'Iteraciones' : iteraciones, 'Aprox. de la raiz': aprox_raiz, 'f(x)' : fx})\n",
        "tabla"
      ]
    }
  ],
  "metadata": {
    "colab": {
      "provenance": []
    },
    "kernelspec": {
      "display_name": "Python 3.10.2 64-bit",
      "language": "python",
      "name": "python3"
    },
    "language_info": {
      "codemirror_mode": {
        "name": "ipython",
        "version": 3
      },
      "file_extension": ".py",
      "mimetype": "text/x-python",
      "name": "python",
      "nbconvert_exporter": "python",
      "pygments_lexer": "ipython3",
      "version": "3.10.2"
    },
    "vscode": {
      "interpreter": {
        "hash": "26de051ba29f2982a8de78e945f0abaf191376122a1563185a90213a26c5da77"
      }
    }
  },
  "nbformat": 4,
  "nbformat_minor": 0
}
