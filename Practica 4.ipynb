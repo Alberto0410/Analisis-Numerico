{
  "cells": [
    {
      "cell_type": "markdown",
      "metadata": {
        "id": "upQUXtFgmshj"
      },
      "source": [
        "# <font color=darkblue>**Universidad Nacional Autónoma de México**\n",
        "# <font color=darkblue>**Facultad de Ciencias**\n",
        "# <font color=orange>**Práctica 4 de Análisis Numérico**\n",
        "# <font color=orange>**Semestre 2023-1**\n",
        "# Dra. Úrsula Iturrarán Viveros"
      ]
    },
    {
      "cell_type": "markdown",
      "source": [
        "# Integrantes: \n",
        "\n",
        "*   Olvera Trejo Alberto\n",
        "*   Ramos López Gabriela\n",
        "\n"
      ],
      "metadata": {
        "id": "gFJ1VDU7l4wb"
      }
    },
    {
      "cell_type": "markdown",
      "metadata": {
        "id": "JyRVxwfld9Jm"
      },
      "source": [
        "## **Integración numérica**"
      ]
    },
    {
      "cell_type": "code",
      "source": [
        "import numpy as np \n",
        "import matplotlib.pyplot as plt\n",
        "import math\n",
        "import pandas as pd"
      ],
      "metadata": {
        "id": "wJFBx0x9RIwt"
      },
      "execution_count": null,
      "outputs": []
    },
    {
      "cell_type": "markdown",
      "metadata": {
        "id": "NHFLV84beDJu"
      },
      "source": [
        "# **Ejercicio 1**\n",
        "La gráfica de la función $f(x)=\\sqrt{1-x^2}$, en el intervalo $[-1,1]$, corresponde a la mitad superior de una circunferencia unitaria con centro en el origen. Entonces, se cumple la siguiente relación:\n",
        "\n",
        "$$ \\pi = 2\\int_{-1}^{1}\\sqrt{1-x^2}dx.$$\n",
        "\n",
        "Luego, es posible aproximar a $\\pi$ mediante la suma\n",
        "\n",
        "$$ \\pi \\approx 2 \\overset{n-1}{\\underset{k=0}{\\sum}}\\sqrt{1-(x_{k+1})^2}\\cdot (x_{k+1}-x_k),$$\n",
        "\n",
        "donde $n\\geq 2 $, $x_k= x_0 + k(2/n)$ para $k = 0,1,2,...,n$, $x_0 = -1$ y $x_n = 1$; en teoría la aproximación mejora para valores de $n$ grandes. Escribe un programa que, al introducir un valor de $n$, aproxime el valor de $\\pi$ mediante esta relación."
      ]
    },
    {
      "cell_type": "code",
      "execution_count": null,
      "metadata": {
        "id": "oShJDPKQP6R5",
        "colab": {
          "base_uri": "https://localhost:8080/"
        },
        "outputId": "8565b944-2ae6-4265-b776-bb9e32cd2e1f"
      },
      "outputs": [
        {
          "output_type": "stream",
          "name": "stdout",
          "text": [
            "Ingrese un valor para n, n = 10000\n",
            "El valor aproximado de pi será:  3.1415893274306\n"
          ]
        }
      ],
      "source": [
        "def aprox_pi(n):\n",
        "  x0 = -1\n",
        "  xn = 1\n",
        "  k = 0\n",
        "  raiz = 0\n",
        "\n",
        "  while k <= n-1:\n",
        "    xk = x0 + k*(2/n)\n",
        "    xk1 = x0 + (k+1)*(2/n)\n",
        "\n",
        "    raiz += math.sqrt(1-(xk1)**2)*(xk1-xk)\n",
        "    k += 1\n",
        "\n",
        "  pi = 2*raiz\n",
        "  return pi\n",
        "\n",
        "n = int(input('Ingrese un valor para n, n = '))\n",
        "print(\"El valor aproximado de pi será: \", aprox_pi(n))"
      ]
    },
    {
      "cell_type": "markdown",
      "metadata": {
        "id": "9V1sC5AHryBY"
      },
      "source": [
        "Escribe otro programa que calcule la aproximación de $\\pi$ mediante la regla del trapecio compuesta, considerando $n$ subintervalos, $f(x) = 2\\sqrt{1-x^2}$ y el intervalo $[-1,1]$. Los cálculos se deben hacer en doble precisión."
      ]
    },
    {
      "cell_type": "code",
      "execution_count": null,
      "metadata": {
        "id": "rcXvt9BuP6_3"
      },
      "outputs": [],
      "source": [
        "def trape_comp(f, a, b, num_intervalos):\n",
        "  n = num_intervalos\n",
        "  h = (b-a)/n\n",
        "  #Creamos la particion homogenea de n subintervalos \n",
        "  particion = np.linspace(a, b, n + 1)\n",
        "\n",
        "  #A cada nodo le aplicamos la funcion f\n",
        "  evaluacion = f(particion)\n",
        "\n",
        "  #Multiplicamos cada punto por el peso correspondiente\n",
        "  evaluacion = h*evaluacion\n",
        "\n",
        "  evaluacion[0] = (1/2)*evaluacion[0]\n",
        "  evaluacion[-1] = (1/2)*evaluacion[-1]\n",
        "\n",
        "  #Sumamos e imprimimos el resultado\n",
        "  integral = sum(evaluacion)\n",
        "  return integral\n"
      ]
    },
    {
      "cell_type": "code",
      "source": [
        "def f(x):\n",
        "  return 2*np.sqrt(1-x**2)\n",
        "\n",
        "integral = trape_comp(f, -1, 1, 10000)\n",
        "print('El valor de la integral es: \\n')\n",
        "print(integral)"
      ],
      "metadata": {
        "id": "wld9Pk3cW2aY",
        "outputId": "f2b3709d-4c1c-4f15-a8bf-a7c859dc2f6c",
        "colab": {
          "base_uri": "https://localhost:8080/"
        }
      },
      "execution_count": null,
      "outputs": [
        {
          "output_type": "stream",
          "name": "stdout",
          "text": [
            "El valor de la integral es: \n",
            "\n",
            "3.141589327430582\n"
          ]
        }
      ]
    },
    {
      "cell_type": "code",
      "source": [
        "#Calculamos cual metodo es mejor\n",
        "print('Riemann:')\n",
        "print(f'3.1415893274306 - pi = {abs(3.1415893274306 - math.pi)}\\n')\n",
        "\n",
        "print('Trapecio:')\n",
        "print(f'3.1415893274306 - pi = {abs(3.141589327430582 - math.pi)}')\n",
        "\n",
        "#El error mas chico se obtiene con la suma de Riemann"
      ],
      "metadata": {
        "colab": {
          "base_uri": "https://localhost:8080/"
        },
        "id": "mJ8z8rIX56Ey",
        "outputId": "853c9892-1af3-4dc5-a5b6-1861deb1202d"
      },
      "execution_count": null,
      "outputs": [
        {
          "output_type": "stream",
          "name": "stdout",
          "text": [
            "Riemann:\n",
            "3.1415893274306 - pi = 3.326159192962308e-06\n",
            "\n",
            "Trapecio:\n",
            "3.1415893274306 - pi = 3.3261592111699656e-06\n"
          ]
        }
      ]
    },
    {
      "cell_type": "markdown",
      "metadata": {
        "id": "SD-DzfT3xUz0"
      },
      "source": [
        "> - <font color=blue> ¿Qué método converge más rápido a $\\pi$?</font>\n",
        "\n",
        "El primer método, es decir, las sumas de Riemann\n",
        "> - <font color=blue> Explica tu respuesta anterior.</font>\n",
        "\n",
        "El error es más chico con el primer método"
      ]
    },
    {
      "cell_type": "markdown",
      "metadata": {
        "id": "I3vsa1G53TYS"
      },
      "source": [
        "# **Ejercicio 2**\n",
        "Escribe un programa que aproxime el valor de la integral\n",
        "\n",
        "$$ \\int_{-1}^{1} e^{-x^2}dx,$$\n",
        "\n",
        "primero con la regla de Simpson 1/3, luego con la regla de Simpson 1/3 compuesta que considere $n$ subintervalos, donde $n$ es cualquier entero positivo entre 2 y 1000."
      ]
    },
    {
      "cell_type": "code",
      "execution_count": null,
      "metadata": {
        "id": "gMfsaWe0QT95",
        "colab": {
          "base_uri": "https://localhost:8080/"
        },
        "outputId": "7d82b362-b35d-4f1d-ba11-c4c469ce3c8b"
      },
      "outputs": [
        {
          "output_type": "stream",
          "name": "stdout",
          "text": [
            "Ingresa el número de subintervalos, tal que n sea par, n = 100\n",
            "El valor aproximado de la integral de f(x)=e^{-x^2} con la regla de Simpson 1/3 es: 1.5785862941142952\n",
            "El valor aproximado de la integral de f(x)=e^{-x^2}  con la regla de Simpson 1/3 Compuesta es: 1.493648268240636\n"
          ]
        }
      ],
      "source": [
        "def f(x):\n",
        "    return math.e**(-x**2)\n",
        "\n",
        "def Simpson(x0, xn):\n",
        "  h = (xn - x0) / 6\n",
        "  return h*(f(x0) + 4*f((x0+xn)/2)+f(xn))\n",
        "\n",
        "def SimpsonC(x0,xn,n):\n",
        "    h = (xn - x0) / n\n",
        "    I = f(x0) + f(xn)\n",
        "    \n",
        "    for i in range(1,n):\n",
        "        k = x0 + i*h\n",
        "        \n",
        "        if i%2 == 0:\n",
        "            I = I + 2 * f(k)\n",
        "        else:\n",
        "            I = I + 4 * f(k)\n",
        "    \n",
        "    I = I * h/3\n",
        "    \n",
        "    return I\n",
        "\n",
        "a = -1\n",
        "b = 1\n",
        "n = int(input('Ingresa el número de subintervalos, tal que n sea par, n = ')) \n",
        "\n",
        "solucion1 = Simpson(a,b) \n",
        "solucion2 = SimpsonC(a,b,n)\n",
        "print('El valor aproximado de la integral de f(x)=e^{-x^2} con la regla de Simpson 1/3 es:', solucion1)\n",
        "print('El valor aproximado de la integral de f(x)=e^{-x^2}  con la regla de Simpson 1/3 Compuesta es:', solucion2)"
      ]
    },
    {
      "cell_type": "markdown",
      "metadata": {
        "id": "ek6xzo-IZtRB"
      },
      "source": [
        "# **Ejercicio 3**\n",
        "\n",
        "La función logaritmo se define como\n",
        "\n",
        "$$\\log (x) = \\int_1^x \\frac{dt}{t}.$$\n",
        "\n",
        "Escribe un programa que mediante una regla compuesta que puede ser de punto medio, de trapecio o de Simpson, y que considere $n = 10^5$ subintervalos, obtenga el valor de $\\log(x)$ para cualquier número $x>0$. \n",
        "\n",
        "*Divide el problema en tres casos: $x<1$, $x = 1$ y $x>1$*."
      ]
    },
    {
      "cell_type": "code",
      "execution_count": null,
      "metadata": {
        "id": "3Bo_4gpXct0d",
        "colab": {
          "base_uri": "https://localhost:8080/"
        },
        "outputId": "61ac553a-3b85-4ddb-f171-14a3d304cb94"
      },
      "outputs": [
        {
          "output_type": "stream",
          "name": "stdout",
          "text": [
            "*** log(2.718281828459045) = 1.0000000000212443\n"
          ]
        }
      ],
      "source": [
        "#Modificamos el codigo creado en el ejercicio 1\n",
        "def trape_comp_log(x):\n",
        "  num_intervalos = 10**5\n",
        "  f = lambda x : 1/x\n",
        "\n",
        "  if x == 1:\n",
        "    log = 0\n",
        "  elif x > 1:\n",
        "    log = trape_comp(f, 1, x, num_intervalos)\n",
        "  elif x < 1:\n",
        "    log = -trape_comp(f, x, 1, num_intervalos)\n",
        "    \n",
        "  return log\n",
        "\n",
        "log = trape_comp_log(np.e)\n",
        "print(f'*** log({np.e}) = {log}')"
      ]
    },
    {
      "cell_type": "markdown",
      "metadata": {
        "id": "DJdMZ8wDcugm"
      },
      "source": [
        "Haz una rutina que genere una tabla que muestre el valor de $\\log(x_j)$ para $x_j = 10^{-4+j}$, con $j = 0,1,2,...,20$; utilizando tu programa anterior. Al mismo tiempo, en la tabla se debe mostrar el valor de $\\log(x_j)$ calculado por la función predeterminada de la máquina y el error absoluto al comparar lo calculado por tu programa y lo que calcula la función $\\log(x)$ predeterminada."
      ]
    },
    {
      "cell_type": "code",
      "execution_count": null,
      "metadata": {
        "id": "XMWTHlVwfqMS",
        "colab": {
          "base_uri": "https://localhost:8080/",
          "height": 708
        },
        "outputId": "ccc571a2-fac7-4370-ba05-34c29ffb5f36"
      },
      "outputs": [
        {
          "output_type": "execute_result",
          "data": {
            "text/plain": [
              "                    x        Aprox log(x)          Real log(x)  \\\n",
              "0              0.0001  -9.211172709568073   -9.210340371976182   \n",
              "1               0.001  -6.907763595565741   -6.907755278982137   \n",
              "2                0.01  -4.605170267654927   -4.605170185988091   \n",
              "3                 0.1  -2.302585093662311  -2.3025850929940455   \n",
              "4                   1                   0                  0.0   \n",
              "5                  10   2.302585093662311    2.302585092994046   \n",
              "6                 100   4.605170267654928    4.605170185988092   \n",
              "7                1000   6.907763595565742    6.907755278982137   \n",
              "8               10000   9.211172709568073    9.210340371976184   \n",
              "9              100000    11.5901396805282   11.512925464970229   \n",
              "10            1000000  16.936676262043036   13.815510557964274   \n",
              "11           10000000  62.073806021210174    16.11809565095832   \n",
              "12          100000000   512.0884924067595   18.420680743952367   \n",
              "13         1000000000   5012.089971649545    20.72326583694641   \n",
              "14        10000000000  50012.090119680346   23.025850929940457   \n",
              "15       100000000000   500012.0901344924   25.328436022934504   \n",
              "16      1000000000000   5000012.090135895   27.631021115928547   \n",
              "17     10000000000000    50000012.0901365   29.933606208922594   \n",
              "18    100000000000000   500000012.0901361    32.23619130191664   \n",
              "19   1000000000000000   5000000012.090842   34.538776394910684   \n",
              "20  10000000000000000   50000000012.08724   36.841361487904734   \n",
              "\n",
              "                    Error  \n",
              "0   0.0008323375918912745  \n",
              "1   8.316583604006667e-06  \n",
              "2   8.166683596044777e-08  \n",
              "3   6.682654429823742e-10  \n",
              "4                     0.0  \n",
              "5   6.682649988931644e-10  \n",
              "6   8.166683596044777e-08  \n",
              "7   8.316583604894845e-06  \n",
              "8   0.0008323375918894982  \n",
              "9     0.07721421555797114  \n",
              "10      3.121165704078763  \n",
              "11      45.95571037025185  \n",
              "12      493.6678116628072  \n",
              "13      4991.366705812598  \n",
              "14      49989.06426875041  \n",
              "15     499986.76169846946  \n",
              "16      4999984.459114779  \n",
              "17      49999982.15653029  \n",
              "18     499999979.85394484  \n",
              "19      4999999977.552066  \n",
              "20      49999999975.24588  "
            ],
            "text/html": [
              "\n",
              "  <div id=\"df-ea5be422-050b-496c-9911-8dd9101af7e5\">\n",
              "    <div class=\"colab-df-container\">\n",
              "      <div>\n",
              "<style scoped>\n",
              "    .dataframe tbody tr th:only-of-type {\n",
              "        vertical-align: middle;\n",
              "    }\n",
              "\n",
              "    .dataframe tbody tr th {\n",
              "        vertical-align: top;\n",
              "    }\n",
              "\n",
              "    .dataframe thead th {\n",
              "        text-align: right;\n",
              "    }\n",
              "</style>\n",
              "<table border=\"1\" class=\"dataframe\">\n",
              "  <thead>\n",
              "    <tr style=\"text-align: right;\">\n",
              "      <th></th>\n",
              "      <th>x</th>\n",
              "      <th>Aprox log(x)</th>\n",
              "      <th>Real log(x)</th>\n",
              "      <th>Error</th>\n",
              "    </tr>\n",
              "  </thead>\n",
              "  <tbody>\n",
              "    <tr>\n",
              "      <th>0</th>\n",
              "      <td>0.0001</td>\n",
              "      <td>-9.211172709568073</td>\n",
              "      <td>-9.210340371976182</td>\n",
              "      <td>0.0008323375918912745</td>\n",
              "    </tr>\n",
              "    <tr>\n",
              "      <th>1</th>\n",
              "      <td>0.001</td>\n",
              "      <td>-6.907763595565741</td>\n",
              "      <td>-6.907755278982137</td>\n",
              "      <td>8.316583604006667e-06</td>\n",
              "    </tr>\n",
              "    <tr>\n",
              "      <th>2</th>\n",
              "      <td>0.01</td>\n",
              "      <td>-4.605170267654927</td>\n",
              "      <td>-4.605170185988091</td>\n",
              "      <td>8.166683596044777e-08</td>\n",
              "    </tr>\n",
              "    <tr>\n",
              "      <th>3</th>\n",
              "      <td>0.1</td>\n",
              "      <td>-2.302585093662311</td>\n",
              "      <td>-2.3025850929940455</td>\n",
              "      <td>6.682654429823742e-10</td>\n",
              "    </tr>\n",
              "    <tr>\n",
              "      <th>4</th>\n",
              "      <td>1</td>\n",
              "      <td>0</td>\n",
              "      <td>0.0</td>\n",
              "      <td>0.0</td>\n",
              "    </tr>\n",
              "    <tr>\n",
              "      <th>5</th>\n",
              "      <td>10</td>\n",
              "      <td>2.302585093662311</td>\n",
              "      <td>2.302585092994046</td>\n",
              "      <td>6.682649988931644e-10</td>\n",
              "    </tr>\n",
              "    <tr>\n",
              "      <th>6</th>\n",
              "      <td>100</td>\n",
              "      <td>4.605170267654928</td>\n",
              "      <td>4.605170185988092</td>\n",
              "      <td>8.166683596044777e-08</td>\n",
              "    </tr>\n",
              "    <tr>\n",
              "      <th>7</th>\n",
              "      <td>1000</td>\n",
              "      <td>6.907763595565742</td>\n",
              "      <td>6.907755278982137</td>\n",
              "      <td>8.316583604894845e-06</td>\n",
              "    </tr>\n",
              "    <tr>\n",
              "      <th>8</th>\n",
              "      <td>10000</td>\n",
              "      <td>9.211172709568073</td>\n",
              "      <td>9.210340371976184</td>\n",
              "      <td>0.0008323375918894982</td>\n",
              "    </tr>\n",
              "    <tr>\n",
              "      <th>9</th>\n",
              "      <td>100000</td>\n",
              "      <td>11.5901396805282</td>\n",
              "      <td>11.512925464970229</td>\n",
              "      <td>0.07721421555797114</td>\n",
              "    </tr>\n",
              "    <tr>\n",
              "      <th>10</th>\n",
              "      <td>1000000</td>\n",
              "      <td>16.936676262043036</td>\n",
              "      <td>13.815510557964274</td>\n",
              "      <td>3.121165704078763</td>\n",
              "    </tr>\n",
              "    <tr>\n",
              "      <th>11</th>\n",
              "      <td>10000000</td>\n",
              "      <td>62.073806021210174</td>\n",
              "      <td>16.11809565095832</td>\n",
              "      <td>45.95571037025185</td>\n",
              "    </tr>\n",
              "    <tr>\n",
              "      <th>12</th>\n",
              "      <td>100000000</td>\n",
              "      <td>512.0884924067595</td>\n",
              "      <td>18.420680743952367</td>\n",
              "      <td>493.6678116628072</td>\n",
              "    </tr>\n",
              "    <tr>\n",
              "      <th>13</th>\n",
              "      <td>1000000000</td>\n",
              "      <td>5012.089971649545</td>\n",
              "      <td>20.72326583694641</td>\n",
              "      <td>4991.366705812598</td>\n",
              "    </tr>\n",
              "    <tr>\n",
              "      <th>14</th>\n",
              "      <td>10000000000</td>\n",
              "      <td>50012.090119680346</td>\n",
              "      <td>23.025850929940457</td>\n",
              "      <td>49989.06426875041</td>\n",
              "    </tr>\n",
              "    <tr>\n",
              "      <th>15</th>\n",
              "      <td>100000000000</td>\n",
              "      <td>500012.0901344924</td>\n",
              "      <td>25.328436022934504</td>\n",
              "      <td>499986.76169846946</td>\n",
              "    </tr>\n",
              "    <tr>\n",
              "      <th>16</th>\n",
              "      <td>1000000000000</td>\n",
              "      <td>5000012.090135895</td>\n",
              "      <td>27.631021115928547</td>\n",
              "      <td>4999984.459114779</td>\n",
              "    </tr>\n",
              "    <tr>\n",
              "      <th>17</th>\n",
              "      <td>10000000000000</td>\n",
              "      <td>50000012.0901365</td>\n",
              "      <td>29.933606208922594</td>\n",
              "      <td>49999982.15653029</td>\n",
              "    </tr>\n",
              "    <tr>\n",
              "      <th>18</th>\n",
              "      <td>100000000000000</td>\n",
              "      <td>500000012.0901361</td>\n",
              "      <td>32.23619130191664</td>\n",
              "      <td>499999979.85394484</td>\n",
              "    </tr>\n",
              "    <tr>\n",
              "      <th>19</th>\n",
              "      <td>1000000000000000</td>\n",
              "      <td>5000000012.090842</td>\n",
              "      <td>34.538776394910684</td>\n",
              "      <td>4999999977.552066</td>\n",
              "    </tr>\n",
              "    <tr>\n",
              "      <th>20</th>\n",
              "      <td>10000000000000000</td>\n",
              "      <td>50000000012.08724</td>\n",
              "      <td>36.841361487904734</td>\n",
              "      <td>49999999975.24588</td>\n",
              "    </tr>\n",
              "  </tbody>\n",
              "</table>\n",
              "</div>\n",
              "      <button class=\"colab-df-convert\" onclick=\"convertToInteractive('df-ea5be422-050b-496c-9911-8dd9101af7e5')\"\n",
              "              title=\"Convert this dataframe to an interactive table.\"\n",
              "              style=\"display:none;\">\n",
              "        \n",
              "  <svg xmlns=\"http://www.w3.org/2000/svg\" height=\"24px\"viewBox=\"0 0 24 24\"\n",
              "       width=\"24px\">\n",
              "    <path d=\"M0 0h24v24H0V0z\" fill=\"none\"/>\n",
              "    <path d=\"M18.56 5.44l.94 2.06.94-2.06 2.06-.94-2.06-.94-.94-2.06-.94 2.06-2.06.94zm-11 1L8.5 8.5l.94-2.06 2.06-.94-2.06-.94L8.5 2.5l-.94 2.06-2.06.94zm10 10l.94 2.06.94-2.06 2.06-.94-2.06-.94-.94-2.06-.94 2.06-2.06.94z\"/><path d=\"M17.41 7.96l-1.37-1.37c-.4-.4-.92-.59-1.43-.59-.52 0-1.04.2-1.43.59L10.3 9.45l-7.72 7.72c-.78.78-.78 2.05 0 2.83L4 21.41c.39.39.9.59 1.41.59.51 0 1.02-.2 1.41-.59l7.78-7.78 2.81-2.81c.8-.78.8-2.07 0-2.86zM5.41 20L4 18.59l7.72-7.72 1.47 1.35L5.41 20z\"/>\n",
              "  </svg>\n",
              "      </button>\n",
              "      \n",
              "  <style>\n",
              "    .colab-df-container {\n",
              "      display:flex;\n",
              "      flex-wrap:wrap;\n",
              "      gap: 12px;\n",
              "    }\n",
              "\n",
              "    .colab-df-convert {\n",
              "      background-color: #E8F0FE;\n",
              "      border: none;\n",
              "      border-radius: 50%;\n",
              "      cursor: pointer;\n",
              "      display: none;\n",
              "      fill: #1967D2;\n",
              "      height: 32px;\n",
              "      padding: 0 0 0 0;\n",
              "      width: 32px;\n",
              "    }\n",
              "\n",
              "    .colab-df-convert:hover {\n",
              "      background-color: #E2EBFA;\n",
              "      box-shadow: 0px 1px 2px rgba(60, 64, 67, 0.3), 0px 1px 3px 1px rgba(60, 64, 67, 0.15);\n",
              "      fill: #174EA6;\n",
              "    }\n",
              "\n",
              "    [theme=dark] .colab-df-convert {\n",
              "      background-color: #3B4455;\n",
              "      fill: #D2E3FC;\n",
              "    }\n",
              "\n",
              "    [theme=dark] .colab-df-convert:hover {\n",
              "      background-color: #434B5C;\n",
              "      box-shadow: 0px 1px 3px 1px rgba(0, 0, 0, 0.15);\n",
              "      filter: drop-shadow(0px 1px 2px rgba(0, 0, 0, 0.3));\n",
              "      fill: #FFFFFF;\n",
              "    }\n",
              "  </style>\n",
              "\n",
              "      <script>\n",
              "        const buttonEl =\n",
              "          document.querySelector('#df-ea5be422-050b-496c-9911-8dd9101af7e5 button.colab-df-convert');\n",
              "        buttonEl.style.display =\n",
              "          google.colab.kernel.accessAllowed ? 'block' : 'none';\n",
              "\n",
              "        async function convertToInteractive(key) {\n",
              "          const element = document.querySelector('#df-ea5be422-050b-496c-9911-8dd9101af7e5');\n",
              "          const dataTable =\n",
              "            await google.colab.kernel.invokeFunction('convertToInteractive',\n",
              "                                                     [key], {});\n",
              "          if (!dataTable) return;\n",
              "\n",
              "          const docLinkHtml = 'Like what you see? Visit the ' +\n",
              "            '<a target=\"_blank\" href=https://colab.research.google.com/notebooks/data_table.ipynb>data table notebook</a>'\n",
              "            + ' to learn more about interactive tables.';\n",
              "          element.innerHTML = '';\n",
              "          dataTable['output_type'] = 'display_data';\n",
              "          await google.colab.output.renderOutput(dataTable, element);\n",
              "          const docLink = document.createElement('div');\n",
              "          docLink.innerHTML = docLinkHtml;\n",
              "          element.appendChild(docLink);\n",
              "        }\n",
              "      </script>\n",
              "    </div>\n",
              "  </div>\n",
              "  "
            ]
          },
          "metadata": {},
          "execution_count": 15
        }
      ],
      "source": [
        "dic_tabla = {}\n",
        "\n",
        "for j in range(21):\n",
        "  x = 10**(j-4)\n",
        "  y = trape_comp_log(x)\n",
        "\n",
        "  dic_tabla[x] = y\n",
        "\n",
        "x = [str(10**(j-4)) for j in range(21)]\n",
        "y = [str(trape_comp_log(10**(j-4))) for j in range(21)]\n",
        "valor_real = [str(np.log(10**(j-4))) for j in range(21)]\n",
        "error = [str(abs(float(y[i]) - float(valor_real[i]))) for i in range(21)]\n",
        "\n",
        "dic_tabla = {'x' : x, 'Aprox log(x)' : y,\n",
        "             'Real log(x)' : valor_real, 'Error' : error}\n",
        "\n",
        "df = pd.DataFrame(dic_tabla)\n",
        "df"
      ]
    },
    {
      "cell_type": "markdown",
      "metadata": {
        "id": "adES8lasfv18"
      },
      "source": [
        "> - <font color=blue> ¿Qué sucede para valores pequeños de $x$?.</font>\n",
        "\n",
        "Para valores pequeños de $x$ la aproximación es buena debido a que el error obtenido es muy chico\n",
        "> - <font color=blue> ¿Qué sucede para valores grandes de $x$?.</font>\n",
        "\n",
        "Al tomar valores grandes de $x$ vemos que el error empieza a crecer demasiado\n",
        "> - <font color=blue> Explica tus respuestas.</font>\n",
        "\n",
        "Si el valor de $x$ es muy grande, entonces la región a integrar crece por lo que la partición homogenea de $n = 10^5$ ya es una partición fina del intervalo $[1, x]$, es decir que los intervalos formados son cadad vez más grandes y por lo tanto los errores crecen"
      ]
    },
    {
      "cell_type": "markdown",
      "metadata": {
        "id": "h_dGA-vEgDbq"
      },
      "source": []
    },
    {
      "cell_type": "markdown",
      "metadata": {
        "id": "zyaiz1hY5uMJ"
      },
      "source": [
        "# **Ejercicio 4**\n",
        "\n",
        "El periodo de un péndulo simple es determinado por una integral elípitca completa de primer tipo\n",
        "\n",
        "$$K(x) = \\int_{0}^{\\pi /2} \\frac{d\\theta}{\\sqrt{1 - x^2 \\sin^2(\\theta)}}.$$\n",
        "\n",
        "Escribe un programa que mediante una cuadratura compuesta (puede ser de punto medio, trapecio o Simpson) que considere 1000 subintervalos, devuelva el valor de $K(x)$ para algún valor de $x\\in \\left[ 0, 1 \\right)$. Utiliza doble precisión.\n",
        "\n",
        "En tu programa, implementa una rutina que grafique a $K(x)$ para valores suficientes de $x\\in \\left[ 0, 1 \\right).$"
      ]
    },
    {
      "cell_type": "code",
      "execution_count": null,
      "metadata": {
        "id": "mmBj6513QFPC",
        "colab": {
          "base_uri": "https://localhost:8080/",
          "height": 312
        },
        "outputId": "9bacedb8-d15e-43ad-827a-bfe72d8e0386"
      },
      "outputs": [
        {
          "output_type": "execute_result",
          "data": {
            "text/plain": [
              "Text(0, 0.5, '$K(x)$')"
            ]
          },
          "metadata": {},
          "execution_count": 16
        },
        {
          "output_type": "display_data",
          "data": {
            "text/plain": [
              "<Figure size 432x288 with 1 Axes>"
            ],
            "image/png": "[encoded data removed]"
          },
          "metadata": {
            "needs_background": "light"
          }
        }
      ],
      "source": [
        "def K(x):\n",
        "  #definimos la funcion a integrar\n",
        "  def integrando(theta):\n",
        "    a = np.sqrt(1 - (x*np.sin(theta))**2)\n",
        "    return 1/a\n",
        "\n",
        "  #mandamos llamar a la funcion de la regla del trapezoide compuesta\n",
        "  k = trape_comp(integrando, 0, np.pi/2, 1000)\n",
        "  return k\n",
        "\n",
        "#creamos los arreglos x, y para graficar\n",
        "\n",
        "x = np.linspace(0, 1, 801)\n",
        "#eliminamos x = 1 para quedarnos con el intervalo [0, 1)\n",
        "x = x[:-2]\n",
        "y = [K(xj) for xj in x]\n",
        "\n",
        "plt.plot(x, y, color = '#28BB84', linewidth = 3)\n",
        "plt.title('Periodo de un péndulo simple')\n",
        "plt.grid(True)\n",
        "plt.xlabel(r'$x$')\n",
        "plt.ylabel(r'$K(x)$')"
      ]
    },
    {
      "cell_type": "markdown",
      "metadata": {
        "id": "3h_9B1DuP_Bf"
      },
      "source": [
        "> - <font color=blue> ¿Cómo es el comportamiento de $x$ cuando se acerca a $1$?.</font>\n",
        "\n",
        "Si $x \\to 1$, entonces la función $K(x) \\to \\infty$"
      ]
    }
  ],
  "metadata": {
    "colab": {
      "provenance": []
    },
    "kernelspec": {
      "display_name": "Python 3 (ipykernel)",
      "language": "python",
      "name": "python3"
    },
    "language_info": {
      "codemirror_mode": {
        "name": "ipython",
        "version": 3
      },
      "file_extension": ".py",
      "mimetype": "text/x-python",
      "name": "python",
      "nbconvert_exporter": "python",
      "pygments_lexer": "ipython3",
      "version": "3.9.7"
    }
  },
  "nbformat": 4,
  "nbformat_minor": 0
}