{
  "cells": [
    {
      "cell_type": "markdown",
      "metadata": {
        "id": "upQUXtFgmshj"
      },
      "source": [
        "# <font color=darkblue>**Universidad Nacional Autónoma de México**\n",
        "# <font color=darkblue>**Facultad de Ciencias, semestre 2023-1**\n",
        "# <font color=orange>**Práctica 3 de Análisis Numérico**\n",
        "# Dra. Úrsula Iturrarán Viveros"
      ]
    },
    {
      "cell_type": "markdown",
      "metadata": {
        "id": "PbPY6GDIm3W0"
      },
      "source": [
        "## **Interpolación**"
      ]
    },
    {
      "cell_type": "code",
      "execution_count": 1,
      "metadata": {
        "id": "uONhG3-VYDhM"
      },
      "outputs": [],
      "source": [
        "#Importamos todas las librerias a usar\n",
        "import numpy as np\n",
        "from sympy import *\n",
        "import sympy as sym\n",
        "import matplotlib.pyplot as plt\n",
        "from more_itertools import sort_together\n",
        "from IPython.display import display, Latex\n",
        "import plotly.graph_objects as go\n",
        "from math import sqrt\n",
        "import plotly.io as pio"
      ]
    },
    {
      "cell_type": "markdown",
      "metadata": {
        "id": "EP0vsj55nEBn"
      },
      "source": [
        "# **Ejercicio 1**\n",
        "Dado un conjunto de puntos $S = \\lbrace \\left( x_i,y_i\\right):i=0,1,2...,n \\rbrace$, con $x_i\\neq x_j$ para todo $i\\neq j$; escribe un programa que calcule los coeficientes $a_k$ del polinomio de grado $n$:\n",
        "\n",
        "$$ P(x) = \\overset{n}{\\underset{k=0}{\\sum}}a_k x^k$$\n",
        "\n",
        "que pasa por cada punto de $S$. Y después escribe una rutina que pueda evaluar cualquier número real en la función $P(x)$ y que grafique a $P(x)$ en el intervalo $[x_0,x_n]$."
      ]
    },
    {
      "cell_type": "code",
      "execution_count": 3,
      "metadata": {
        "colab": {
          "base_uri": "https://localhost:8080/",
          "height": 577
        },
        "id": "EoAE1c6K6sYf",
        "outputId": "c4a618cc-9914-48dd-d02e-f0f476782773"
      },
      "outputs": [
        {
          "name": "stdout",
          "output_type": "stream",
          "text": [
            "Los puntos ingresados fueron: x-- [-1.  0.  1.] y-- [144.  49.   4.]\n",
            "La matriz de Vandermonde es:\n",
            "[[ 1. -1.  1.]\n",
            " [ 0.  0.  1.]\n",
            " [ 1.  1.  1.]]\n",
            "El vector de coeficientes es:\n",
            "[ 25. -70.  49.]\n",
            "El polinomio de interpolación es: \n",
            "25.0*x**2 - 70.0*x + 49.0\n"
          ]
        },
        {
          "data": {
            "image/png": "[encoded data removed]",
            "text/plain": [
              "<Figure size 432x288 with 1 Axes>"
            ]
          },
          "metadata": {
            "needs_background": "light"
          },
          "output_type": "display_data"
        }
      ],
      "source": [
        "# Sabemos que podemos calcular los coeficientes a_k por el método de la matriz\n",
        "# de Vandermonde \n",
        "\n",
        "# Primero pedimos al usuario ingresar sus coordenadas\n",
        "puntos = int(input(\"Ingrese la cantidad de puntos que desea graficar: \"))\n",
        "x = []\n",
        "y = []\n",
        "\n",
        "for i in range(puntos):\n",
        "  xi = float(input(\"Ingrese el valor de x: \"))\n",
        "  yi = float(input(\"Ingrese el valor de y: \"))\n",
        "  x.append(xi)\n",
        "  y.append(yi)\n",
        "\n",
        "xis = np.array(x)\n",
        "yis = np.array(y)\n",
        "print(\"Los puntos ingresados fueron: x--\", xis, \"y--\", yis)\n",
        "\n",
        "\n",
        "# Matriz de Vandermore\n",
        "n = len(xis)\n",
        "V = np.zeros(shape=(n,n),dtype =float)\n",
        "for i in range(0,n,1):\n",
        "  for j in range(0,n,1):\n",
        "    p = (n-1)-j\n",
        "    V[i,j] = xis[i]**p\n",
        "print(\"La matriz de Vandermonde es:\")\n",
        "print(V)\n",
        "#print(np.vander(xis)) Para comprobar con numpy\n",
        "\n",
        "# Solución del sistema Va=y\n",
        "a = np.linalg.solve(V,yis)\n",
        "print(\"El vector de coeficientes es:\")\n",
        "print(a)\n",
        "\n",
        "# Polinomio\n",
        "x = sym.Symbol('x')\n",
        "P = 0\n",
        "for i in range(0,n,1):\n",
        "  k = (n-1)-i  \n",
        "  termino = a[i]*(x**k)\n",
        "  P = P + termino\n",
        "\n",
        "print(\"El polinomio de interpolación es: \")\n",
        "print(P)\n",
        "\n",
        "# Graficar P en [x_0, x_n]\n",
        "px = sym.lambdify(x,P)\n",
        "a = np.min(xis)\n",
        "b = np.max(xis)\n",
        "xin = np.linspace(a,b,101)\n",
        "yin = px(xin)\n",
        "\n",
        "plt.plot(xis,yis,'o', label='[$x_i$,$y_i$]')\n",
        "plt.plot(xin,yin, label='$P(x)$')\n",
        "plt.xlabel('$x_i$')\n",
        "plt.ylabel('$y_i$')\n",
        "plt.legend()\n",
        "plt.title(\"Polinomio interpolante -- $P(x)$\")\n",
        "plt.grid(axis='both')\n",
        "plt.show()"
      ]
    },
    {
      "cell_type": "markdown",
      "metadata": {
        "id": "55B4z7ZxGsYE"
      },
      "source": [
        "> - <font color=red> Prueba tu programa encontrando el polinomio de grado 2 que pasa por los puntos del conjunto $S=\\lbrace (-1,144),(0,49),(1,4)\\rbrace$, y el polinomio de grado 3 que pasa por los puntos de $S=\\lbrace (-1,143),(0,49),(1,5),(2,17)\\rbrace$</font>\n",
        "> - <font color=red> Escribe los polinomios encontrados en el punto anterior.</font>"
      ]
    },
    {
      "cell_type": "code",
      "execution_count": null,
      "metadata": {
        "colab": {
          "base_uri": "https://localhost:8080/",
          "height": 438
        },
        "id": "-1v4VgrFZEzE",
        "outputId": "3fed89f4-f20d-43e3-ab34-c541abce9906"
      },
      "outputs": [
        {
          "name": "stdout",
          "output_type": "stream",
          "text": [
            "La matriz de Vandermonde es:\n",
            "[[ 1. -1.  1.]\n",
            " [ 0.  0.  1.]\n",
            " [ 1.  1.  1.]]\n",
            "El vector de coeficientes es:\n",
            "[ 25. -70.  49.]\n",
            "El polinomio de interpolación es: \n",
            "25.0*x**2 - 70.0*x + 49.0\n"
          ]
        },
        {
          "data": {
            "image/png": "[encoded data removed]",
            "text/plain": [
              "<Figure size 432x288 with 1 Axes>"
            ]
          },
          "metadata": {
            "needs_background": "light"
          },
          "output_type": "display_data"
        }
      ],
      "source": [
        "# Pruebas para S = {(-1,144),(0,49),(1,4)}\n",
        "# Ingresamos las coordenadas\n",
        "\n",
        "xi = [-1, 0, 1]\n",
        "yi = [144, 49, 4]\n",
        "\n",
        "xis = np.array(xi)\n",
        "yis = np.array(yi)\n",
        "\n",
        "# Matriz de Vandermore\n",
        "n = len(xis)\n",
        "V = np.zeros(shape=(n,n),dtype =float)\n",
        "for i in range(0,n,1):\n",
        "  for j in range(0,n,1):\n",
        "    p = (n-1)-j\n",
        "    V[i,j] = xis[i]**p\n",
        "print(\"La matriz de Vandermonde es:\")\n",
        "print(V)\n",
        "\n",
        "# Solución del sistema Va=y\n",
        "a = np.linalg.solve(V,yis)\n",
        "print(\"El vector de coeficientes es:\")\n",
        "print(a)\n",
        "\n",
        "# Polinomio\n",
        "x = sym.Symbol('x')\n",
        "P = 0\n",
        "for i in range(0,n,1):\n",
        "  k = (n-1)-i  \n",
        "  termino = a[i]*(x**k)\n",
        "  P = P + termino\n",
        "\n",
        "print(\"El polinomio de interpolación es: \")\n",
        "print(P)\n",
        "\n",
        "# Graficar P en [x_0, x_n]\n",
        "px = sym.lambdify(x,P)\n",
        "a = np.min(xis)\n",
        "b = np.max(xis)\n",
        "xin = np.linspace(a,b,101)\n",
        "yin = px(xin)\n",
        "\n",
        "plt.plot(xis,yis,'o', label='[$x_i$,$y_i$]')\n",
        "plt.plot(xin,yin, label='$P(x)$')\n",
        "plt.xlabel('$x_i$')\n",
        "plt.ylabel('$y_i$')\n",
        "plt.legend()\n",
        "plt.title(\"Polinomio interpolante -- $P(x)$\")\n",
        "plt.grid(axis='both')\n",
        "plt.show()"
      ]
    },
    {
      "cell_type": "code",
      "execution_count": null,
      "metadata": {
        "colab": {
          "base_uri": "https://localhost:8080/",
          "height": 455
        },
        "id": "NgfwXzgGZJ6n",
        "outputId": "e4a125de-a44e-48c0-bc14-0235f29f95d2"
      },
      "outputs": [
        {
          "name": "stdout",
          "output_type": "stream",
          "text": [
            "La matriz de Vandermonde es:\n",
            "[[-1.  1. -1.  1.]\n",
            " [ 0.  0.  0.  1.]\n",
            " [ 1.  1.  1.  1.]\n",
            " [ 8.  4.  2.  1.]]\n",
            "El vector de coeficientes es:\n",
            "[  1.  25. -70.  49.]\n",
            "El polinomio de interpolación es: \n",
            "1.0*x**3 + 25.0*x**2 - 70.0*x + 49.0\n"
          ]
        },
        {
          "data": {
            "image/png": "[encoded data removed]",
            "text/plain": [
              "<Figure size 432x288 with 1 Axes>"
            ]
          },
          "metadata": {
            "needs_background": "light"
          },
          "output_type": "display_data"
        }
      ],
      "source": [
        "# Prueba para S = {(-1,143),(0,49),(1,5),(2,17)}\n",
        "# Ingresamos las coordenadas\n",
        "\n",
        "xi = [-1, 0, 1, 2]\n",
        "yi = [143, 49, 5, 17]\n",
        "\n",
        "xis = np.array(xi)\n",
        "yis = np.array(yi)\n",
        "\n",
        "# Matriz de Vandermore\n",
        "n = len(xis)\n",
        "V = np.zeros(shape=(n,n),dtype =float)\n",
        "for i in range(0,n,1):\n",
        "  for j in range(0,n,1):\n",
        "    p = (n-1)-j\n",
        "    V[i,j] = xis[i]**p\n",
        "print(\"La matriz de Vandermonde es:\")\n",
        "print(V)\n",
        "#print(np.vander(xis)) Para comprobar con numpy\n",
        "\n",
        "# Solución del sistema Va=y\n",
        "a = np.linalg.solve(V,yis)\n",
        "print(\"El vector de coeficientes es:\")\n",
        "print(a)\n",
        "\n",
        "# Polinomio\n",
        "x = sym.Symbol('x')\n",
        "P = 0\n",
        "for i in range(0,n,1):\n",
        "  k = (n-1)-i  \n",
        "  termino = a[i]*(x**k)\n",
        "  P = P + termino\n",
        "\n",
        "print(\"El polinomio de interpolación es: \")\n",
        "print(P)\n",
        "\n",
        "# Graficar P en [x_0, x_n]\n",
        "px = sym.lambdify(x,P)\n",
        "a = np.min(xis)\n",
        "b = np.max(xis)\n",
        "xin = np.linspace(a,b,101)\n",
        "yin = px(xin)\n",
        "\n",
        "plt.plot(xis,yis,'o', label='[$x_i$,$y_i$]')\n",
        "plt.plot(xin,yin, label='$P(x)$')\n",
        "plt.xlabel('$x_i$')\n",
        "plt.ylabel('$y_i$')\n",
        "plt.legend()\n",
        "plt.title(\"Polinomio interpolante -- $P(x)$\")\n",
        "plt.grid(axis='both')\n",
        "plt.show()"
      ]
    },
    {
      "cell_type": "markdown",
      "metadata": {
        "id": "LksNvhPgjn4a"
      },
      "source": [
        "Así los polinomios obtenidos fueron:\n",
        "\n",
        "\n",
        "1.   $25x^2 - 70x + 49$\n",
        "2.   $x^3 + 25x^2 - 70x + 49$\n"
      ]
    },
    {
      "cell_type": "markdown",
      "metadata": {
        "id": "Y3zcplDGO5dv"
      },
      "source": [
        "# **Ejercicio 2**\n",
        "Escribe un programa que encuentre el polinomio interpolante de Newton para un conjunto de puntos $S = \\lbrace \\left( x_i,y_i\\right):i=0,1,2...,n \\rbrace$. Además, este programa debe arrojar un valor $P(x)$ para cualquier valor $x$ introducido y grafica a $P(x)$ en el intervalo $[x_0,x_n]$."
      ]
    },
    {
      "cell_type": "code",
      "execution_count": 4,
      "metadata": {
        "id": "j_FjM0f9kEmz"
      },
      "outputs": [],
      "source": [
        "def polNewton(numpuntos):\n",
        "  #Listas que van a contener los puntos x y\n",
        "  X = []\n",
        "\n",
        "  #Creamos la matriz de diferencias divididas\n",
        "  A = np.zeros((numpuntos, numpuntos))\n",
        "\n",
        "  #Pedimos los datos al usuario\n",
        "  for num in range(numpuntos):\n",
        "    try:\n",
        "      xi = float(input(f\"Ingresa la coordenada x del punto número {num} \"))\n",
        "      yi = float(input(f\"Ingresa la coordenada y del punto número {num} \"))\n",
        "\n",
        "      X.append(xi)\n",
        "      #La primer columna de la matriz A son los elementos del vector Y\n",
        "      A[num][0] = yi\n",
        "\n",
        "    except ValueError:\n",
        "      print(\"Lo siento, el valor ingresado no es un número\")\n",
        "\n",
        "  #Llenamos la matriz A columna por columna\n",
        "  for i in range(numpuntos):\n",
        "    for j in range(1, i + 1):\n",
        "      numerador = A[i][j - 1] - A[i - 1][ j - 1]\n",
        "      denominador = X[i] - X[i - j]\n",
        "      diferencia = numerador/denominador\n",
        "      A[i][j] = diferencia\n",
        "\n",
        "  #Construimos el polinomio que interpola\n",
        "  x = symbols('x')\n",
        "  init_printing()\n",
        "\n",
        "  polinomio = A[0][0]\n",
        "\n",
        "  #Vamos creando los sumandos del polinomio de Newton\n",
        "  for i in range(1, numpuntos):\n",
        "    sumando = 1\n",
        "    for j in range(i):\n",
        "      sumando = sumando*(x - X[j])\n",
        "\n",
        "    polinomio += sumando*A[i][i]\n",
        "\n",
        "  #Titulo de la grafica\n",
        "  latexpol =f'$P(x) = {latex(polinomio)}$'\n",
        "  print(\"***Polinomio\\n\")\n",
        "  display(Latex(latexpol))\n",
        "\n",
        "  print(\"***Polinomio simplificado\\n\")\n",
        "  display(Latex(latex(expand(polinomio))))\n",
        "\n",
        "  #Graficamos\n",
        "  xgraf = np.linspace(min(X), max(X), 100)\n",
        "  ygraf = [float(polinomio.subs(x, xi)) for xi in xgraf]\n",
        "\n",
        "  fig = go.Figure()\n",
        "\n",
        "  fig.add_trace(\n",
        "      go.Scatter(x = xgraf, y = ygraf, mode = 'lines',\n",
        "                 marker=dict(color=\"LightSeaGreen\"), name = 'P(x)')\n",
        "      )\n",
        "\n",
        "  fig.add_trace(\n",
        "      go.Scatter(x = X, y = A[:, 0], mode = 'markers',\n",
        "                 marker=dict(size=10, color=\"MediumPurple\"), name = 'Puntos dados')\n",
        "      )\n",
        "  fig.update_layout(title_text=\"Polinomio de Newton\",\n",
        "                  title_font_size=30, width=1400, height=700)\n",
        "  fig.show(renderer = 'svg')\n",
        "\n",
        "  #Preguntamos al usuario si quiere evaluar el polinomio\n",
        "  evaluar = True\n",
        "  while evaluar:\n",
        "    print('¿Quieres evaluar el polinomio P(x)?')\n",
        "    print('***1.- Sí')\n",
        "    print('***2.- No')\n",
        "\n",
        "    seleccion = int(input('\\n Ingresa el número deseado\\n'))\n",
        "    \n",
        "    if seleccion == 1:\n",
        "      valorx = float(input('Ingresa el valor de x\\n'))\n",
        "      print(f'*****P({x}) = {polinomio.subs(x, valorx)}')\n",
        "    \n",
        "    if seleccion == 2:\n",
        "      break"
      ]
    },
    {
      "cell_type": "markdown",
      "metadata": {
        "id": "9y_EiuYnkGD4"
      },
      "source": [
        "> - <font color=red>Dados los siguientes valores de una función:\n",
        "$$\\quad x = \\; 0.0 \\quad 1.0 \\quad 2.0 \\quad 3.0 \\quad 4.0 \\quad 5.0 $$\n",
        "$$f(x) = -7 \\:\\: -4 \\quad 5.0 \\quad 26 \\:\\:\\quad 65 \\quad 128 $$\n",
        "Calcula mediante el programa anterior el polinomio que interpola los datos.</font>\n",
        "\n",
        "> - <font color=red> ¿Cuál es el grado del polinomio anterior y el coeficiente de la más alta potencia de $x$?\n",
        "</font>\n",
        "\n",
        "El grado del polinomio es tres y el coeficiente de la más alta potencia es 1\n"
      ]
    },
    {
      "cell_type": "code",
      "execution_count": 6,
      "metadata": {
        "colab": {
          "base_uri": "https://localhost:8080/",
          "height": 968
        },
        "id": "UVfYMdT2QGB_",
        "outputId": "6501ed00-baa8-4a9e-b61e-916abc6bb679"
      },
      "outputs": [
        {
          "name": "stdout",
          "output_type": "stream",
          "text": [
            "***Polinomio\n",
            "\n"
          ]
        },
        {
          "data": {
            "text/latex": [
              "$P(x) = 1.0 x \\left(x - 2.0\\right) \\left(x - 1.0\\right) + 3.0 x \\left(x - 1.0\\right) + 3.0 x - 7.0$"
            ],
            "text/plain": [
              "<IPython.core.display.Latex object>"
            ]
          },
          "metadata": {},
          "output_type": "display_data"
        },
        {
          "name": "stdout",
          "output_type": "stream",
          "text": [
            "***Polinomio simplificado\n",
            "\n"
          ]
        },
        {
          "data": {
            "text/latex": [
              "1.0 x^{3} + 2.0 x - 7.0"
            ],
            "text/plain": [
              "<IPython.core.display.Latex object>"
            ]
          },
          "metadata": {},
          "output_type": "display_data"
        },
        {
          "data": {
            "image/svg+xml": "<svg class=\"main-svg\" xmlns=\"http://www.w3.org/2000/svg\" xmlns:xlink=\"http://www.w3.org/1999/xlink\" width=\"1400\" height=\"700\" style=\"\" viewBox=\"0 0 1400 700\"><rect x=\"0\" y=\"0\" width=\"1400\" height=\"700\" style=\"fill: rgb(255, 255, 255); fill-opacity: 1;\"/><defs id=\"defs-d96b95\"><g class=\"clips\"><clipPath id=\"clipd96b95xyplot\" class=\"plotclip\"><rect width=\"1158\" height=\"520\"/></clipPath><clipPath class=\"axesclip\" id=\"clipd96b95x\"><rect x=\"80\" y=\"0\" width=\"1158\" height=\"700\"/></clipPath><clipPath class=\"axesclip\" id=\"clipd96b95y\"><rect x=\"0\" y=\"100\" width=\"1400\" height=\"520\"/></clipPath><clipPath class=\"axesclip\" id=\"clipd96b95xy\"><rect x=\"80\" y=\"100\" width=\"1158\" height=\"520\"/></clipPath></g><g class=\"gradients\"/><g class=\"patterns\"/></defs><g class=\"bglayer\"><rect class=\"bg\" x=\"80\" y=\"100\" width=\"1158\" height=\"520\" style=\"fill: rgb(229, 236, 246); fill-opacity: 1; stroke-width: 0;\"/></g><g class=\"layer-below\"><g class=\"imagelayer\"/><g class=\"shapelayer\"/></g><g class=\"cartesianlayer\"><g class=\"subplot xy\"><g class=\"layer-subplot\"><g class=\"shapelayer\"/><g class=\"imagelayer\"/></g><g class=\"minor-gridlayer\"><g class=\"x\"/><g class=\"y\"/></g><g class=\"gridlayer\"><g class=\"x\"><path class=\"xgrid crisp\" transform=\"translate(350.09,0)\" d=\"M0,100v520\" style=\"stroke: rgb(255, 255, 255); stroke-opacity: 1; stroke-width: 1px;\"/><path class=\"xgrid crisp\" transform=\"translate(556.03,0)\" d=\"M0,100v520\" style=\"stroke: rgb(255, 255, 255); stroke-opacity: 1; stroke-width: 1px;\"/><path class=\"xgrid crisp\" transform=\"translate(761.97,0)\" d=\"M0,100v520\" style=\"stroke: rgb(255, 255, 255); stroke-opacity: 1; stroke-width: 1px;\"/><path class=\"xgrid crisp\" transform=\"translate(967.91,0)\" d=\"M0,100v520\" style=\"stroke: rgb(255, 255, 255); stroke-opacity: 1; stroke-width: 1px;\"/><path class=\"xgrid crisp\" transform=\"translate(1173.85,0)\" d=\"M0,100v520\" style=\"stroke: rgb(255, 255, 255); stroke-opacity: 1; stroke-width: 1px;\"/></g><g class=\"y\"><path class=\"ygrid crisp\" transform=\"translate(0,496.65)\" d=\"M80,0h1158\" style=\"stroke: rgb(255, 255, 255); stroke-opacity: 1; stroke-width: 1px;\"/><path class=\"ygrid crisp\" transform=\"translate(0,429.17)\" d=\"M80,0h1158\" style=\"stroke: rgb(255, 255, 255); stroke-opacity: 1; stroke-width: 1px;\"/><path class=\"ygrid crisp\" transform=\"translate(0,361.69)\" d=\"M80,0h1158\" style=\"stroke: rgb(255, 255, 255); stroke-opacity: 1; stroke-width: 1px;\"/><path class=\"ygrid crisp\" transform=\"translate(0,294.21000000000004)\" d=\"M80,0h1158\" style=\"stroke: rgb(255, 255, 255); stroke-opacity: 1; stroke-width: 1px;\"/><path class=\"ygrid crisp\" transform=\"translate(0,226.72)\" d=\"M80,0h1158\" style=\"stroke: rgb(255, 255, 255); stroke-opacity: 1; stroke-width: 1px;\"/><path class=\"ygrid crisp\" transform=\"translate(0,159.24)\" d=\"M80,0h1158\" style=\"stroke: rgb(255, 255, 255); stroke-opacity: 1; stroke-width: 1px;\"/></g></g><g class=\"zerolinelayer\"><path class=\"xzl zl crisp\" transform=\"translate(144.15,0)\" d=\"M0,100v520\" style=\"stroke: rgb(255, 255, 255); stroke-opacity: 1; stroke-width: 2px;\"/><path class=\"yzl zl crisp\" transform=\"translate(0,564.13)\" d=\"M80,0h1158\" style=\"stroke: rgb(255, 255, 255); stroke-opacity: 1; stroke-width: 2px;\"/></g><path class=\"xlines-below\"/><path class=\"ylines-below\"/><g class=\"overlines-below\"/><g class=\"xaxislayer-below\"/><g class=\"yaxislayer-below\"/><g class=\"overaxes-below\"/><g class=\"plot\" transform=\"translate(80,100)\" clip-path=\"url(#clipd96b95xyplot)\"><g class=\"scatterlayer mlayer\"><g class=\"trace scatter trace1ee992\" style=\"stroke-miterlimit: 2; opacity: 1;\"><g class=\"fills\"/><g class=\"errorbars\"/><g class=\"lines\"><path class=\"js-line\" d=\"M64.15,487.75L178.56,483.42L188.96,482.91L251.37,479.08L261.77,478.29L313.77,473.56L324.18,472.44L376.18,465.79L386.58,464.24L428.19,457.19L438.59,455.2L480.19,446.3L490.59,443.82L532.2,432.8L542.6,429.76L584.2,416.38L594.6,412.71L625.8,400.9L636.21,396.69L667.41,383.17L677.81,378.37L709.01,363.03L719.41,357.59L750.62,340.29L761.02,334.18L792.22,314.8L802.62,307.98L833.82,286.39L844.23,278.81L875.43,254.89L885.83,246.52L917.03,220.14L927.43,210.92L958.64,181.97L969.04,171.87L1000.24,140.2L1010.64,129.18L1041.84,94.68L1052.25,82.7L1083.45,45.24L1093.85,32.25\" style=\"vector-effect: non-scaling-stroke; fill: none; stroke: rgb(32, 178, 170); stroke-opacity: 1; stroke-width: 2px; opacity: 1;\"/></g><g class=\"points\"/><g class=\"text\"/></g><g class=\"trace scatter trace1755c8\" style=\"stroke-miterlimit: 2; opacity: 1;\"><g class=\"fills\"/><g class=\"errorbars\"/><g class=\"lines\"/><g class=\"points\"><path class=\"point\" transform=\"translate(64.15,487.75)\" d=\"M5,0A5,5 0 1,1 0,-5A5,5 0 0,1 5,0Z\" style=\"opacity: 1; stroke-width: 0px; fill: rgb(147, 112, 219); fill-opacity: 1;\"/><path class=\"point\" transform=\"translate(270.09,477.63)\" d=\"M5,0A5,5 0 1,1 0,-5A5,5 0 0,1 5,0Z\" style=\"opacity: 1; stroke-width: 0px; fill: rgb(147, 112, 219); fill-opacity: 1;\"/><path class=\"point\" transform=\"translate(476.03,447.26)\" d=\"M5,0A5,5 0 1,1 0,-5A5,5 0 0,1 5,0Z\" style=\"opacity: 1; stroke-width: 0px; fill: rgb(147, 112, 219); fill-opacity: 1;\"/><path class=\"point\" transform=\"translate(681.97,376.41)\" d=\"M5,0A5,5 0 1,1 0,-5A5,5 0 0,1 5,0Z\" style=\"opacity: 1; stroke-width: 0px; fill: rgb(147, 112, 219); fill-opacity: 1;\"/><path class=\"point\" transform=\"translate(887.91,244.82)\" d=\"M5,0A5,5 0 1,1 0,-5A5,5 0 0,1 5,0Z\" style=\"opacity: 1; stroke-width: 0px; fill: rgb(147, 112, 219); fill-opacity: 1;\"/><path class=\"point\" transform=\"translate(1093.85,32.25)\" d=\"M5,0A5,5 0 1,1 0,-5A5,5 0 0,1 5,0Z\" style=\"opacity: 1; stroke-width: 0px; fill: rgb(147, 112, 219); fill-opacity: 1;\"/></g><g class=\"text\"/></g></g></g><g class=\"overplot\"/><path class=\"xlines-above crisp\" d=\"M0,0\" style=\"fill: none;\"/><path class=\"ylines-above crisp\" d=\"M0,0\" style=\"fill: none;\"/><g class=\"overlines-above\"/><g class=\"xaxislayer-above\"><g class=\"xtick\"><text text-anchor=\"middle\" x=\"0\" y=\"633\" transform=\"translate(144.15,0)\" style=\"font-family: 'Open Sans', verdana, arial, sans-serif; font-size: 12px; fill: rgb(42, 63, 95); fill-opacity: 1; white-space: pre; opacity: 1;\">0</text></g><g class=\"xtick\"><text text-anchor=\"middle\" x=\"0\" y=\"633\" style=\"font-family: 'Open Sans', verdana, arial, sans-serif; font-size: 12px; fill: rgb(42, 63, 95); fill-opacity: 1; white-space: pre; opacity: 1;\" transform=\"translate(350.09,0)\">1</text></g><g class=\"xtick\"><text text-anchor=\"middle\" x=\"0\" y=\"633\" style=\"font-family: 'Open Sans', verdana, arial, sans-serif; font-size: 12px; fill: rgb(42, 63, 95); fill-opacity: 1; white-space: pre; opacity: 1;\" transform=\"translate(556.03,0)\">2</text></g><g class=\"xtick\"><text text-anchor=\"middle\" x=\"0\" y=\"633\" style=\"font-family: 'Open Sans', verdana, arial, sans-serif; font-size: 12px; fill: rgb(42, 63, 95); fill-opacity: 1; white-space: pre; opacity: 1;\" transform=\"translate(761.97,0)\">3</text></g><g class=\"xtick\"><text text-anchor=\"middle\" x=\"0\" y=\"633\" style=\"font-family: 'Open Sans', verdana, arial, sans-serif; font-size: 12px; fill: rgb(42, 63, 95); fill-opacity: 1; white-space: pre; opacity: 1;\" transform=\"translate(967.91,0)\">4</text></g><g class=\"xtick\"><text text-anchor=\"middle\" x=\"0\" y=\"633\" style=\"font-family: 'Open Sans', verdana, arial, sans-serif; font-size: 12px; fill: rgb(42, 63, 95); fill-opacity: 1; white-space: pre; opacity: 1;\" transform=\"translate(1173.85,0)\">5</text></g></g><g class=\"yaxislayer-above\"><g class=\"ytick\"><text text-anchor=\"end\" x=\"79\" y=\"4.199999999999999\" transform=\"translate(0,564.13)\" style=\"font-family: 'Open Sans', verdana, arial, sans-serif; font-size: 12px; fill: rgb(42, 63, 95); fill-opacity: 1; white-space: pre; opacity: 1;\">0</text></g><g class=\"ytick\"><text text-anchor=\"end\" x=\"79\" y=\"4.199999999999999\" style=\"font-family: 'Open Sans', verdana, arial, sans-serif; font-size: 12px; fill: rgb(42, 63, 95); fill-opacity: 1; white-space: pre; opacity: 1;\" transform=\"translate(0,496.65)\">20</text></g><g class=\"ytick\"><text text-anchor=\"end\" x=\"79\" y=\"4.199999999999999\" style=\"font-family: 'Open Sans', verdana, arial, sans-serif; font-size: 12px; fill: rgb(42, 63, 95); fill-opacity: 1; white-space: pre; opacity: 1;\" transform=\"translate(0,429.17)\">40</text></g><g class=\"ytick\"><text text-anchor=\"end\" x=\"79\" y=\"4.199999999999999\" style=\"font-family: 'Open Sans', verdana, arial, sans-serif; font-size: 12px; fill: rgb(42, 63, 95); fill-opacity: 1; white-space: pre; opacity: 1;\" transform=\"translate(0,361.69)\">60</text></g><g class=\"ytick\"><text text-anchor=\"end\" x=\"79\" y=\"4.199999999999999\" style=\"font-family: 'Open Sans', verdana, arial, sans-serif; font-size: 12px; fill: rgb(42, 63, 95); fill-opacity: 1; white-space: pre; opacity: 1;\" transform=\"translate(0,294.21000000000004)\">80</text></g><g class=\"ytick\"><text text-anchor=\"end\" x=\"79\" y=\"4.199999999999999\" style=\"font-family: 'Open Sans', verdana, arial, sans-serif; font-size: 12px; fill: rgb(42, 63, 95); fill-opacity: 1; white-space: pre; opacity: 1;\" transform=\"translate(0,226.72)\">100</text></g><g class=\"ytick\"><text text-anchor=\"end\" x=\"79\" y=\"4.199999999999999\" style=\"font-family: 'Open Sans', verdana, arial, sans-serif; font-size: 12px; fill: rgb(42, 63, 95); fill-opacity: 1; white-space: pre; opacity: 1;\" transform=\"translate(0,159.24)\">120</text></g></g><g class=\"overaxes-above\"/></g></g><g class=\"polarlayer\"/><g class=\"smithlayer\"/><g class=\"ternarylayer\"/><g class=\"geolayer\"/><g class=\"funnelarealayer\"/><g class=\"pielayer\"/><g class=\"iciclelayer\"/><g class=\"treemaplayer\"/><g class=\"sunburstlayer\"/><g class=\"glimages\"/><defs id=\"topdefs-d96b95\"><g class=\"clips\"/><clipPath id=\"legendd96b95\"><rect width=\"127\" height=\"48\" x=\"0\" y=\"0\"/></clipPath></defs><g class=\"layer-above\"><g class=\"imagelayer\"/><g class=\"shapelayer\"/></g><g class=\"infolayer\"><g class=\"legend\" pointer-events=\"all\" transform=\"translate(1261.16,100)\"><rect class=\"bg\" shape-rendering=\"crispEdges\" width=\"127\" height=\"48\" x=\"0\" y=\"0\" style=\"stroke: rgb(68, 68, 68); stroke-opacity: 1; fill: rgb(255, 255, 255); fill-opacity: 1; stroke-width: 0px;\"/><g class=\"scrollbox\" transform=\"\" clip-path=\"url(#legendd96b95)\"><g class=\"groups\"><g class=\"traces\" transform=\"translate(0,14.5)\" style=\"opacity: 1;\"><text class=\"legendtext\" text-anchor=\"start\" x=\"40\" y=\"4.680000000000001\" style=\"font-family: 'Open Sans', verdana, arial, sans-serif; font-size: 12px; fill: rgb(42, 63, 95); fill-opacity: 1; white-space: pre;\">P(x)</text><g class=\"layers\" style=\"opacity: 1;\"><g class=\"legendfill\"/><g class=\"legendlines\"><path class=\"js-line\" d=\"M5,0h30\" style=\"fill: none; stroke: rgb(32, 178, 170); stroke-opacity: 1; stroke-width: 2px;\"/></g><g class=\"legendsymbols\"><g class=\"legendpoints\"/></g></g><rect class=\"legendtoggle\" x=\"0\" y=\"-9.5\" width=\"121.359375\" height=\"19\" style=\"fill: rgb(0, 0, 0); fill-opacity: 0;\"/></g><g class=\"traces\" transform=\"translate(0,33.5)\" style=\"opacity: 1;\"><text class=\"legendtext\" text-anchor=\"start\" x=\"40\" y=\"4.680000000000001\" style=\"font-family: 'Open Sans', verdana, arial, sans-serif; font-size: 12px; fill: rgb(42, 63, 95); fill-opacity: 1; white-space: pre;\">Puntos dados</text><g class=\"layers\" style=\"opacity: 1;\"><g class=\"legendfill\"/><g class=\"legendlines\"/><g class=\"legendsymbols\"><g class=\"legendpoints\"><path class=\"scatterpts\" transform=\"translate(20,0)\" d=\"M5,0A5,5 0 1,1 0,-5A5,5 0 0,1 5,0Z\" style=\"opacity: 1; stroke-width: 0px; fill: rgb(147, 112, 219); fill-opacity: 1;\"/></g></g></g><rect class=\"legendtoggle\" x=\"0\" y=\"-9.5\" width=\"121.359375\" height=\"19\" style=\"fill: rgb(0, 0, 0); fill-opacity: 0;\"/></g></g></g><rect class=\"scrollbar\" rx=\"20\" ry=\"3\" width=\"0\" height=\"0\" x=\"0\" y=\"0\" style=\"fill: rgb(128, 139, 164); fill-opacity: 1;\"/></g><g class=\"g-gtitle\"><text class=\"gtitle\" x=\"70\" y=\"50\" text-anchor=\"start\" dy=\"0em\" style=\"font-family: 'Open Sans', verdana, arial, sans-serif; font-size: 30px; fill: rgb(42, 63, 95); opacity: 1; font-weight: normal; white-space: pre;\">Polinomio de Newton</text></g><g class=\"g-xtitle\"/><g class=\"g-ytitle\"/></g></svg>"
          },
          "metadata": {},
          "output_type": "display_data"
        },
        {
          "name": "stdout",
          "output_type": "stream",
          "text": [
            "¿Quieres evaluar el polinomio P(x)?\n",
            "***1.- Sí\n",
            "***2.- No\n"
          ]
        }
      ],
      "source": [
        "polNewton(6)"
      ]
    },
    {
      "cell_type": "markdown",
      "metadata": {
        "id": "yS1sAkHVcl2a"
      },
      "source": [
        "# **Ejercicio 3**\n",
        "Escribe un programa que encuentre el polinomio interpolante de Lagrange para un conjunto de puntos $S = \\lbrace \\left( x_i,y_i\\right):i=0,1,2...,n \\rbrace$. Además, este programa debe devolver un valor $P(x)$ para cualquier valor $x$ introducido y graficar a $P(x)$ en el intervalo $[x_0,x_n]$."
      ]
    },
    {
      "cell_type": "code",
      "execution_count": 7,
      "metadata": {
        "id": "VHH7qWI6nv83"
      },
      "outputs": [],
      "source": [
        "def polLagrange(numpuntos):\n",
        "  n = numpuntos\n",
        "\n",
        "  #Listas que van a contener los puntos x y\n",
        "  X = []\n",
        "  Y = []\n",
        "  #Pedimos los datos al usuario\n",
        "  for num in range(numpuntos):\n",
        "    try:\n",
        "      xi = float(input(f\"Ingresa la coordenada x del punto número {num} \"))\n",
        "      yi = float(input(f\"Ingresa la coordenada y del punto número {num} \"))\n",
        "\n",
        "      X.append(xi)\n",
        "      Y.append(yi)\n",
        "    except ValueError:\n",
        "      print(\"Lo siento, el valor ingresado no es un número\")\n",
        "\n",
        "  #Construimos los multiplicadores\n",
        "  list_multi = []\n",
        "  \n",
        "  #Creamos el simbolo x\n",
        "  x = symbols('x')\n",
        "  for i in range(n):\n",
        "    multi = 1\n",
        "    for j in range(n):\n",
        "      if i != j:\n",
        "        multi = multi * ((x - X[j])/(X[i] - X[j]))\n",
        "\n",
        "      #Lo agragamos a la lista\n",
        "    list_multi.append(multi)\n",
        "\n",
        "  #Creamos el polinomio\n",
        "  polinomio = 0\n",
        "  for i in range(n):\n",
        "    polinomio += Y[i]*list_multi[i]\n",
        "\n",
        "  #Titulo de la grafica\n",
        "  latexpol =f'$P(x) = {latex(polinomio)}$'\n",
        "  print(\"***Polinomio\\n\")\n",
        "  display(Latex(latexpol))\n",
        "\n",
        "  #Graficamos\n",
        "  xgraf = np.linspace(min(X), max(X), 30)\n",
        "  ygraf = [float(polinomio.subs(x, xi)) for xi in xgraf]\n",
        "\n",
        "  fig = go.Figure()\n",
        "\n",
        "  fig.add_trace(\n",
        "      go.Scatter(x = xgraf, y = ygraf, mode = 'lines',\n",
        "                 marker=dict(color=\"LightSeaGreen\"), name = 'P(x)')\n",
        "      )\n",
        "\n",
        "  fig.add_trace(\n",
        "      go.Scatter(x = X, y = Y, mode = 'markers',\n",
        "                 marker=dict(size=10, color=\"MediumPurple\"), name = 'Puntos dados')\n",
        "      )\n",
        "  fig.update_layout(title_text=\"Polinomio de Lagrange\",\n",
        "                  title_font_size=30, width=1400, height=700)\n",
        "  fig.show(renderer = 'svg') \n",
        "  \n",
        "  #Preguntamos al usuario si quiere evaluar el polinomio\n",
        "  evaluar = True\n",
        "  while evaluar:\n",
        "    print('¿Quieres evaluar el polinomio P(x)?')\n",
        "    print('***1.- Sí')\n",
        "    print('***2.- No')\n",
        "\n",
        "    seleccion = int(input('\\n Ingresa el número deseado\\n'))\n",
        "    \n",
        "    if seleccion == 1:\n",
        "      valorx = float(input('Ingresa el valor de x\\n'))\n",
        "      print(f'*****P({x}) = {polinomio.subs(x, valorx)}')\n",
        "    \n",
        "    if seleccion == 2:\n",
        "      break"
      ]
    },
    {
      "cell_type": "markdown",
      "metadata": {
        "id": "HAbgD_e7nw12"
      },
      "source": [
        "> - <font color=red>La presión de vapor del agua (en unidades $[bar]$) como función de la temperatura $T(°C)$ es:\n",
        "$$T =\\quad 0 \\qquad 10 \\qquad 20 \\qquad 30 \\qquad 40 \\qquad 60 \\qquad 80 \\qquad 100$$\n",
        "$$P = 0.0061 \\:\\: 0.0123 \\:\\: 0.0234 \\:\\: 0.0424 \\:\\: 0.0738 \\:\\: 0.1992 \\:\\: 0.4736 \\:\\: 1.0133 $$\n",
        "Calcula mediante el programa anterior el polinomio que interpola los datos.</font>"
      ]
    },
    {
      "cell_type": "code",
      "execution_count": 8,
      "metadata": {
        "colab": {
          "base_uri": "https://localhost:8080/",
          "height": 1000
        },
        "id": "6ItTDAxzaqRp",
        "outputId": "c1b145df-954e-46d7-ba6d-27a805a96549"
      },
      "outputs": [
        {
          "name": "stdout",
          "output_type": "stream",
          "text": [
            "***Polinomio\n",
            "\n"
          ]
        },
        {
          "data": {
            "text/latex": [
              "$P(x) = 0.00123 x \\left(1.11111111111111 - 0.0111111111111111 x\\right) \\left(1.14285714285714 - 0.0142857142857143 x\\right) \\left(1.2 - 0.02 x\\right) \\left(1.33333333333333 - 0.0333333333333333 x\\right) \\left(1.5 - 0.05 x\\right) \\left(2.0 - 0.1 x\\right) + 0.00117 x \\left(1.25 - 0.0125 x\\right) \\left(1.33333333333333 - 0.0166666666666667 x\\right) \\left(1.5 - 0.025 x\\right) \\left(2.0 - 0.05 x\\right) \\left(3.0 - 0.1 x\\right) \\left(0.1 x - 1.0\\right) + 0.00141333333333333 x \\left(1.42857142857143 - 0.0142857142857143 x\\right) \\left(1.6 - 0.02 x\\right) \\left(2.0 - 0.0333333333333333 x\\right) \\left(4.0 - 0.1 x\\right) \\left(0.05 x - 0.5\\right) \\left(0.1 x - 2.0\\right) + 0.001845 x \\left(1.66666666666667 - 0.0166666666666667 x\\right) \\left(2.0 - 0.025 x\\right) \\left(3.0 - 0.05 x\\right) \\left(0.0333333333333333 x - 0.333333333333333\\right) \\left(0.05 x - 1.0\\right) \\left(0.1 x - 3.0\\right) + 0.00332 x \\left(2.5 - 0.025 x\\right) \\left(4.0 - 0.05 x\\right) \\left(0.02 x - 0.2\\right) \\left(0.025 x - 0.5\\right) \\left(0.0333333333333333 x - 1.0\\right) \\left(0.05 x - 2.0\\right) + 0.00592 x \\left(5.0 - 0.05 x\\right) \\left(0.0142857142857143 x - 0.142857142857143\\right) \\left(0.0166666666666667 x - 0.333333333333333\\right) \\left(0.02 x - 0.6\\right) \\left(0.025 x - 1.0\\right) \\left(0.05 x - 3.0\\right) + 0.010133 x \\left(0.0111111111111111 x - 0.111111111111111\\right) \\left(0.0125 x - 0.25\\right) \\left(0.0142857142857143 x - 0.428571428571429\\right) \\left(0.0166666666666667 x - 0.666666666666667\\right) \\left(0.025 x - 1.5\\right) \\left(0.05 x - 4.0\\right) + 0.0061 \\cdot \\left(1.0 - 0.1 x\\right) \\left(1.0 - 0.05 x\\right) \\left(1.0 - 0.0333333333333333 x\\right) \\left(1.0 - 0.025 x\\right) \\left(1.0 - 0.0166666666666667 x\\right) \\left(1.0 - 0.0125 x\\right) \\left(1.0 - 0.01 x\\right)$"
            ],
            "text/plain": [
              "<IPython.core.display.Latex object>"
            ]
          },
          "metadata": {},
          "output_type": "display_data"
        },
        {
          "data": {
            "image/svg+xml": "<svg class=\"main-svg\" xmlns=\"http://www.w3.org/2000/svg\" xmlns:xlink=\"http://www.w3.org/1999/xlink\" width=\"1400\" height=\"700\" style=\"\" viewBox=\"0 0 1400 700\"><rect x=\"0\" y=\"0\" width=\"1400\" height=\"700\" style=\"fill: rgb(255, 255, 255); fill-opacity: 1;\"/><defs id=\"defs-3ee14e\"><g class=\"clips\"><clipPath id=\"clip3ee14exyplot\" class=\"plotclip\"><rect width=\"1158\" height=\"520\"/></clipPath><clipPath class=\"axesclip\" id=\"clip3ee14ex\"><rect x=\"80\" y=\"0\" width=\"1158\" height=\"700\"/></clipPath><clipPath class=\"axesclip\" id=\"clip3ee14ey\"><rect x=\"0\" y=\"100\" width=\"1400\" height=\"520\"/></clipPath><clipPath class=\"axesclip\" id=\"clip3ee14exy\"><rect x=\"80\" y=\"100\" width=\"1158\" height=\"520\"/></clipPath></g><g class=\"gradients\"/><g class=\"patterns\"/></defs><g class=\"bglayer\"><rect class=\"bg\" x=\"80\" y=\"100\" width=\"1158\" height=\"520\" style=\"fill: rgb(229, 236, 246); fill-opacity: 1; stroke-width: 0;\"/></g><g class=\"layer-below\"><g class=\"imagelayer\"/><g class=\"shapelayer\"/></g><g class=\"cartesianlayer\"><g class=\"subplot xy\"><g class=\"layer-subplot\"><g class=\"shapelayer\"/><g class=\"imagelayer\"/></g><g class=\"minor-gridlayer\"><g class=\"x\"/><g class=\"y\"/></g><g class=\"gridlayer\"><g class=\"x\"><path class=\"xgrid crisp\" transform=\"translate(350.09,0)\" d=\"M0,100v520\" style=\"stroke: rgb(255, 255, 255); stroke-opacity: 1; stroke-width: 1px;\"/><path class=\"xgrid crisp\" transform=\"translate(556.03,0)\" d=\"M0,100v520\" style=\"stroke: rgb(255, 255, 255); stroke-opacity: 1; stroke-width: 1px;\"/><path class=\"xgrid crisp\" transform=\"translate(761.97,0)\" d=\"M0,100v520\" style=\"stroke: rgb(255, 255, 255); stroke-opacity: 1; stroke-width: 1px;\"/><path class=\"xgrid crisp\" transform=\"translate(967.91,0)\" d=\"M0,100v520\" style=\"stroke: rgb(255, 255, 255); stroke-opacity: 1; stroke-width: 1px;\"/><path class=\"xgrid crisp\" transform=\"translate(1173.85,0)\" d=\"M0,100v520\" style=\"stroke: rgb(255, 255, 255); stroke-opacity: 1; stroke-width: 1px;\"/></g><g class=\"y\"><path class=\"ygrid crisp\" transform=\"translate(0,500.06)\" d=\"M80,0h1158\" style=\"stroke: rgb(255, 255, 255); stroke-opacity: 1; stroke-width: 1px;\"/><path class=\"ygrid crisp\" transform=\"translate(0,409.61)\" d=\"M80,0h1158\" style=\"stroke: rgb(255, 255, 255); stroke-opacity: 1; stroke-width: 1px;\"/><path class=\"ygrid crisp\" transform=\"translate(0,319.15999999999997)\" d=\"M80,0h1158\" style=\"stroke: rgb(255, 255, 255); stroke-opacity: 1; stroke-width: 1px;\"/><path class=\"ygrid crisp\" transform=\"translate(0,228.71)\" d=\"M80,0h1158\" style=\"stroke: rgb(255, 255, 255); stroke-opacity: 1; stroke-width: 1px;\"/><path class=\"ygrid crisp\" transform=\"translate(0,138.26)\" d=\"M80,0h1158\" style=\"stroke: rgb(255, 255, 255); stroke-opacity: 1; stroke-width: 1px;\"/></g></g><g class=\"zerolinelayer\"><path class=\"xzl zl crisp\" transform=\"translate(144.15,0)\" d=\"M0,100v520\" style=\"stroke: rgb(255, 255, 255); stroke-opacity: 1; stroke-width: 2px;\"/><path class=\"yzl zl crisp\" transform=\"translate(0,590.51)\" d=\"M80,0h1158\" style=\"stroke: rgb(255, 255, 255); stroke-opacity: 1; stroke-width: 2px;\"/></g><path class=\"xlines-below\"/><path class=\"ylines-below\"/><g class=\"overlines-below\"/><g class=\"xaxislayer-below\"/><g class=\"yaxislayer-below\"/><g class=\"overaxes-below\"/><g class=\"plot\" transform=\"translate(80,100)\" clip-path=\"url(#clip3ee14exyplot)\"><g class=\"scatterlayer mlayer\"><g class=\"trace scatter trace22425d\" style=\"stroke-miterlimit: 2; opacity: 1;\"><g class=\"fills\"/><g class=\"errorbars\"/><g class=\"lines\"><path class=\"js-line\" d=\"M64.15,487.75L170.67,484.82L206.18,483.36L277.19,479.47L312.7,476.91L383.71,470.16L419.22,465.8L454.73,460.65L490.23,454.59L525.74,447.51L561.25,439.27L596.75,429.72L632.26,418.69L667.77,406.01L703.27,391.46L738.78,374.82L774.29,355.86L809.79,334.3L845.3,309.86L880.81,282.26L916.32,251.16L951.82,216.26L987.33,177.23L1022.84,133.75L1058.34,85.52L1093.85,32.25\" style=\"vector-effect: non-scaling-stroke; fill: none; stroke: rgb(32, 178, 170); stroke-opacity: 1; stroke-width: 2px; opacity: 1;\"/></g><g class=\"points\"/><g class=\"text\"/></g><g class=\"trace scatter traceecf7c9\" style=\"stroke-miterlimit: 2; opacity: 1;\"><g class=\"fills\"/><g class=\"errorbars\"/><g class=\"lines\"/><g class=\"points\"><path class=\"point\" transform=\"translate(64.15,487.75)\" d=\"M5,0A5,5 0 1,1 0,-5A5,5 0 0,1 5,0Z\" style=\"opacity: 1; stroke-width: 0px; fill: rgb(147, 112, 219); fill-opacity: 1;\"/><path class=\"point\" transform=\"translate(167.12,484.95)\" d=\"M5,0A5,5 0 1,1 0,-5A5,5 0 0,1 5,0Z\" style=\"opacity: 1; stroke-width: 0px; fill: rgb(147, 112, 219); fill-opacity: 1;\"/><path class=\"point\" transform=\"translate(270.09,479.93)\" d=\"M5,0A5,5 0 1,1 0,-5A5,5 0 0,1 5,0Z\" style=\"opacity: 1; stroke-width: 0px; fill: rgb(147, 112, 219); fill-opacity: 1;\"/><path class=\"point\" transform=\"translate(373.06,471.33)\" d=\"M5,0A5,5 0 1,1 0,-5A5,5 0 0,1 5,0Z\" style=\"opacity: 1; stroke-width: 0px; fill: rgb(147, 112, 219); fill-opacity: 1;\"/><path class=\"point\" transform=\"translate(476.03,457.13)\" d=\"M5,0A5,5 0 1,1 0,-5A5,5 0 0,1 5,0Z\" style=\"opacity: 1; stroke-width: 0px; fill: rgb(147, 112, 219); fill-opacity: 1;\"/><path class=\"point\" transform=\"translate(681.97,400.42)\" d=\"M5,0A5,5 0 1,1 0,-5A5,5 0 0,1 5,0Z\" style=\"opacity: 1; stroke-width: 0px; fill: rgb(147, 112, 219); fill-opacity: 1;\"/><path class=\"point\" transform=\"translate(887.91,276.33)\" d=\"M5,0A5,5 0 1,1 0,-5A5,5 0 0,1 5,0Z\" style=\"opacity: 1; stroke-width: 0px; fill: rgb(147, 112, 219); fill-opacity: 1;\"/><path class=\"point\" transform=\"translate(1093.85,32.25)\" d=\"M5,0A5,5 0 1,1 0,-5A5,5 0 0,1 5,0Z\" style=\"opacity: 1; stroke-width: 0px; fill: rgb(147, 112, 219); fill-opacity: 1;\"/></g><g class=\"text\"/></g></g></g><g class=\"overplot\"/><path class=\"xlines-above crisp\" d=\"M0,0\" style=\"fill: none;\"/><path class=\"ylines-above crisp\" d=\"M0,0\" style=\"fill: none;\"/><g class=\"overlines-above\"/><g class=\"xaxislayer-above\"><g class=\"xtick\"><text text-anchor=\"middle\" x=\"0\" y=\"633\" transform=\"translate(144.15,0)\" style=\"font-family: 'Open Sans', verdana, arial, sans-serif; font-size: 12px; fill: rgb(42, 63, 95); fill-opacity: 1; white-space: pre; opacity: 1;\">0</text></g><g class=\"xtick\"><text text-anchor=\"middle\" x=\"0\" y=\"633\" style=\"font-family: 'Open Sans', verdana, arial, sans-serif; font-size: 12px; fill: rgb(42, 63, 95); fill-opacity: 1; white-space: pre; opacity: 1;\" transform=\"translate(350.09,0)\">20</text></g><g class=\"xtick\"><text text-anchor=\"middle\" x=\"0\" y=\"633\" style=\"font-family: 'Open Sans', verdana, arial, sans-serif; font-size: 12px; fill: rgb(42, 63, 95); fill-opacity: 1; white-space: pre; opacity: 1;\" transform=\"translate(556.03,0)\">40</text></g><g class=\"xtick\"><text text-anchor=\"middle\" x=\"0\" y=\"633\" style=\"font-family: 'Open Sans', verdana, arial, sans-serif; font-size: 12px; fill: rgb(42, 63, 95); fill-opacity: 1; white-space: pre; opacity: 1;\" transform=\"translate(761.97,0)\">60</text></g><g class=\"xtick\"><text text-anchor=\"middle\" x=\"0\" y=\"633\" style=\"font-family: 'Open Sans', verdana, arial, sans-serif; font-size: 12px; fill: rgb(42, 63, 95); fill-opacity: 1; white-space: pre; opacity: 1;\" transform=\"translate(967.91,0)\">80</text></g><g class=\"xtick\"><text text-anchor=\"middle\" x=\"0\" y=\"633\" style=\"font-family: 'Open Sans', verdana, arial, sans-serif; font-size: 12px; fill: rgb(42, 63, 95); fill-opacity: 1; white-space: pre; opacity: 1;\" transform=\"translate(1173.85,0)\">100</text></g></g><g class=\"yaxislayer-above\"><g class=\"ytick\"><text text-anchor=\"end\" x=\"79\" y=\"4.199999999999999\" transform=\"translate(0,590.51)\" style=\"font-family: 'Open Sans', verdana, arial, sans-serif; font-size: 12px; fill: rgb(42, 63, 95); fill-opacity: 1; white-space: pre; opacity: 1;\">0</text></g><g class=\"ytick\"><text text-anchor=\"end\" x=\"79\" y=\"4.199999999999999\" style=\"font-family: 'Open Sans', verdana, arial, sans-serif; font-size: 12px; fill: rgb(42, 63, 95); fill-opacity: 1; white-space: pre; opacity: 1;\" transform=\"translate(0,500.06)\">0.2</text></g><g class=\"ytick\"><text text-anchor=\"end\" x=\"79\" y=\"4.199999999999999\" style=\"font-family: 'Open Sans', verdana, arial, sans-serif; font-size: 12px; fill: rgb(42, 63, 95); fill-opacity: 1; white-space: pre; opacity: 1;\" transform=\"translate(0,409.61)\">0.4</text></g><g class=\"ytick\"><text text-anchor=\"end\" x=\"79\" y=\"4.199999999999999\" style=\"font-family: 'Open Sans', verdana, arial, sans-serif; font-size: 12px; fill: rgb(42, 63, 95); fill-opacity: 1; white-space: pre; opacity: 1;\" transform=\"translate(0,319.15999999999997)\">0.6</text></g><g class=\"ytick\"><text text-anchor=\"end\" x=\"79\" y=\"4.199999999999999\" style=\"font-family: 'Open Sans', verdana, arial, sans-serif; font-size: 12px; fill: rgb(42, 63, 95); fill-opacity: 1; white-space: pre; opacity: 1;\" transform=\"translate(0,228.71)\">0.8</text></g><g class=\"ytick\"><text text-anchor=\"end\" x=\"79\" y=\"4.199999999999999\" style=\"font-family: 'Open Sans', verdana, arial, sans-serif; font-size: 12px; fill: rgb(42, 63, 95); fill-opacity: 1; white-space: pre; opacity: 1;\" transform=\"translate(0,138.26)\">1</text></g></g><g class=\"overaxes-above\"/></g></g><g class=\"polarlayer\"/><g class=\"smithlayer\"/><g class=\"ternarylayer\"/><g class=\"geolayer\"/><g class=\"funnelarealayer\"/><g class=\"pielayer\"/><g class=\"iciclelayer\"/><g class=\"treemaplayer\"/><g class=\"sunburstlayer\"/><g class=\"glimages\"/><defs id=\"topdefs-3ee14e\"><g class=\"clips\"/><clipPath id=\"legend3ee14e\"><rect width=\"127\" height=\"48\" x=\"0\" y=\"0\"/></clipPath></defs><g class=\"layer-above\"><g class=\"imagelayer\"/><g class=\"shapelayer\"/></g><g class=\"infolayer\"><g class=\"legend\" pointer-events=\"all\" transform=\"translate(1261.16,100)\"><rect class=\"bg\" shape-rendering=\"crispEdges\" width=\"127\" height=\"48\" x=\"0\" y=\"0\" style=\"stroke: rgb(68, 68, 68); stroke-opacity: 1; fill: rgb(255, 255, 255); fill-opacity: 1; stroke-width: 0px;\"/><g class=\"scrollbox\" transform=\"\" clip-path=\"url(#legend3ee14e)\"><g class=\"groups\"><g class=\"traces\" transform=\"translate(0,14.5)\" style=\"opacity: 1;\"><text class=\"legendtext\" text-anchor=\"start\" x=\"40\" y=\"4.680000000000001\" style=\"font-family: 'Open Sans', verdana, arial, sans-serif; font-size: 12px; fill: rgb(42, 63, 95); fill-opacity: 1; white-space: pre;\">P(x)</text><g class=\"layers\" style=\"opacity: 1;\"><g class=\"legendfill\"/><g class=\"legendlines\"><path class=\"js-line\" d=\"M5,0h30\" style=\"fill: none; stroke: rgb(32, 178, 170); stroke-opacity: 1; stroke-width: 2px;\"/></g><g class=\"legendsymbols\"><g class=\"legendpoints\"/></g></g><rect class=\"legendtoggle\" x=\"0\" y=\"-9.5\" width=\"121.359375\" height=\"19\" style=\"fill: rgb(0, 0, 0); fill-opacity: 0;\"/></g><g class=\"traces\" transform=\"translate(0,33.5)\" style=\"opacity: 1;\"><text class=\"legendtext\" text-anchor=\"start\" x=\"40\" y=\"4.680000000000001\" style=\"font-family: 'Open Sans', verdana, arial, sans-serif; font-size: 12px; fill: rgb(42, 63, 95); fill-opacity: 1; white-space: pre;\">Puntos dados</text><g class=\"layers\" style=\"opacity: 1;\"><g class=\"legendfill\"/><g class=\"legendlines\"/><g class=\"legendsymbols\"><g class=\"legendpoints\"><path class=\"scatterpts\" transform=\"translate(20,0)\" d=\"M5,0A5,5 0 1,1 0,-5A5,5 0 0,1 5,0Z\" style=\"opacity: 1; stroke-width: 0px; fill: rgb(147, 112, 219); fill-opacity: 1;\"/></g></g></g><rect class=\"legendtoggle\" x=\"0\" y=\"-9.5\" width=\"121.359375\" height=\"19\" style=\"fill: rgb(0, 0, 0); fill-opacity: 0;\"/></g></g></g><rect class=\"scrollbar\" rx=\"20\" ry=\"3\" width=\"0\" height=\"0\" x=\"0\" y=\"0\" style=\"fill: rgb(128, 139, 164); fill-opacity: 1;\"/></g><g class=\"g-gtitle\"><text class=\"gtitle\" x=\"70\" y=\"50\" text-anchor=\"start\" dy=\"0em\" style=\"font-family: 'Open Sans', verdana, arial, sans-serif; font-size: 30px; fill: rgb(42, 63, 95); opacity: 1; font-weight: normal; white-space: pre;\">Polinomio de Lagrange</text></g><g class=\"g-xtitle\"/><g class=\"g-ytitle\"/></g></svg>"
          },
          "metadata": {},
          "output_type": "display_data"
        },
        {
          "name": "stdout",
          "output_type": "stream",
          "text": [
            "¿Quieres evaluar el polinomio P(x)?\n",
            "***1.- Sí\n",
            "***2.- No\n"
          ]
        }
      ],
      "source": [
        "polLagrange(8)"
      ]
    },
    {
      "cell_type": "markdown",
      "metadata": {
        "id": "lZ6uFakZooli"
      },
      "source": [
        "> - <font color=red> Por medio del polinomio encontrado estima el valor de $P(5)$, $P(45)$ y $P(95)$\n",
        "</font>\n",
        "\n",
        "> - <font color=red> Compara tus resultados con los valores conocidos de la presión: $P(5) = 0.008721$, $P(45) = 0.095848$ y $P(95) = 0.84528$. Calcula el error absoluto de los valores otenidos a través del polinomio interpolante. ¿El polinomio interpolante describe bien la presión de vapor como función de la temperatura?\n",
        "</font>\n",
        "\n",
        "Los valores estimados son:\n",
        "$$P(5) = 0.00869104207356771$$\n",
        "$$P(45) = 0.0959185974121094$$\n",
        "$$P(95) = 0.846172792561851$$\n",
        "\n",
        "El polinomio interpolantes sí describe bien la presión de vapor como función de la temperatura, pero si quisieramos un método que nos proporcione valores exactos, entonces el polinomio interpolante no es una buena opción debido a solo aproxima a uno o dos decimales"
      ]
    },
    {
      "cell_type": "markdown",
      "metadata": {
        "id": "G7W3cqbiIykG"
      },
      "source": [
        "# **Ejercicio 4**\n",
        "Escribe un programa que calcule un spline cuadratico $Q(x)$ que interpole un conjunto de datos $S = \\lbrace \\left( x_i,y_i\\right):i=1,2...,n \\rbrace$. Además, este programa debe devolver un valor $Q(x)$ para cualquier valor $x$ introducido y graficar $Q(x)$ en el intervalo $[x_0,x_n]$."
      ]
    },
    {
      "cell_type": "markdown",
      "metadata": {
        "id": "Fd4TYVmBzVCS"
      },
      "source": [
        "# Nota\n",
        "Al hacer el sistema de ecuaciones para encontar los valores de los coeficientes de los polinomios cúbicos, vamos a obtener un sistema con $n$ ecuaciones y $n + 1$ incógnitas, por lo que vamos a hacer que el polinomio del intervalo $[x_1, x_2]$ sea de grado uno, es decir, una recta.\n"
      ]
    },
    {
      "cell_type": "markdown",
      "metadata": {
        "id": "cWyhlVza3PNK"
      },
      "source": [
        "Sea $i \\in [1, \\ldots, n]$.\n",
        "\n",
        "Las primeras $2(n-1)$ ecuaciones surgen de que el polimnomio que extrapola,$P$, debe cumplir que $P(x_i) = y_i$, por lo que las ecuaciones van a ser del estilo:\n",
        "\n",
        "$$a_jx_i^2 + b_jx_i + c_j = f(x_i)$$\n",
        "$$a_jx_i^2 + b_jx_i + c_j = f(x_i)$$\n",
        "Para $j \\in [1, \\ldots, n-1]$\n",
        "\n",
        "Luego, el resto de las ecuaciones van a surgir del hecho de que la primer derivada del polinomio $P$ tiene que ser continua. Así, si $i \\in [2, \\ldots, n]$, el resto de las ecuaciones es:\n",
        "$$2a_ix_i - 2a_{i+1}x_{i+1} + b_i - b_{i+1} = 0$$"
      ]
    },
    {
      "cell_type": "code",
      "execution_count": 9,
      "metadata": {
        "id": "XzlufGiQshMw"
      },
      "outputs": [],
      "source": [
        "def spline2(numpuntos):\n",
        "  n = numpuntos\n",
        "  #tamaño de la matriz\n",
        "  nmatriz = 3*(n-1) -1\n",
        "\n",
        "  #Creamos una matriz de (n-1)x(n-1)\n",
        "  A = np.zeros((nmatriz, nmatriz))\n",
        "\n",
        "  #Listas que van a contener los puntos x y\n",
        "  X = []\n",
        "  Y = []\n",
        "  #Pedimos los datos al usuario\n",
        "  for num in range(numpuntos):\n",
        "    try:\n",
        "      xi = float(input(f\"Ingresa la coordenada x del punto número {num} \"))\n",
        "      yi = float(input(f\"Ingresa la coordenada y del punto número {num} \"))\n",
        "\n",
        "      X.append(xi)\n",
        "      Y.append(yi)\n",
        "    except ValueError:\n",
        "      print(\"Lo siento, el valor ingresado no es un número\")\n",
        "  \n",
        "  #Ordenamos ambas listas\n",
        "  Y = list(sort_together([X, Y])[1])\n",
        "  X.sort()\n",
        "\n",
        "  #Llenamos los primeros dos renlones de la matriz\n",
        "\n",
        "  A[0][0] = X[0]\n",
        "  A[0][1] = 1\n",
        "  A[1][0] = X[1]\n",
        "  A[1][1] = 1\n",
        "\n",
        "  #Tambien llenamos el renglon 2(n-1) + 1\n",
        "  A[2*(n-1)][0] = 1\n",
        "  A[2*(n-1)][2] = -2*X[1]\n",
        "  A[2*(n-1)][3] =  -1 \n",
        "  #Iterador para las ecuaciones\n",
        "  for i in range(2, 2*(n-1), 2):\n",
        "    #LLenamos la matriz\n",
        "    for k in range(2):\n",
        "      j = i + k\n",
        "      indicex = int(i/2 + k)\n",
        "\n",
        "      #Las primeras dos ecuaciones son diferentes\n",
        "      if i == 2:\n",
        "        columna = 2\n",
        "      else:\n",
        "        columna = int(3*i/2 - 1)\n",
        "      \n",
        "\n",
        "      A[j][columna] = X[indicex]**2\n",
        "      A[j][columna + 1] = X[indicex]\n",
        "      A[j][columna + 2] = 1\n",
        "\n",
        "  #Ahora llenamos con el resto de ecuaciones:\n",
        "  for i in range(2*(n-1) + 1, nmatriz):\n",
        "    columna = i - 2*(n-2) - 1\n",
        "\n",
        "    A[i][columna] = 2*X[columna]\n",
        "    A[i][columna + 1] = 1\n",
        "    A[i][columna + 3] = -2*X[columna]\n",
        "    A[i][columna + 4] = -1\n",
        "\n",
        "\n",
        "  #Creamos el vector b\n",
        "  b = np.zeros((nmatriz, 1))\n",
        "  b[0][0] = Y[0]\n",
        "  b[2*(n-1) - 1][0] = Y[-1]\n",
        "\n",
        "  for i in range(1, n - 1):\n",
        "    b[i*2 - 1][0] = Y[i]\n",
        "    b[i*2][0] = Y[i]\n",
        "  # print(A)\n",
        "  # print(b)\n",
        "\n",
        "  #Resolvemos el sistema \n",
        "  coef = np.linalg.solve(A, b)\n",
        "  \n",
        "  #Creamos el eje x para graficar el polinomio\n",
        "  z = np.linspace(X[0], X[1], 10)\n",
        "  y = coef[0]*z + coef[1]\n",
        "  for i in range(1, n-1):\n",
        "    zi = np.linspace(X[i], X[i+1], 10)\n",
        "    z = np.concatenate((z, zi), axis = 0)\n",
        "\n",
        "    #evaluamos el vector z\n",
        "    indicey = 3*(i-1) + 2\n",
        "    yi = coef[indicey]*zi**2 + coef[indicey + 1]*zi + coef[indicey + 2]\n",
        "    y = np.concatenate((y, yi), axis = 0)\n",
        "\n",
        "  #Graficamos\n",
        "  fig = go.Figure()\n",
        "\n",
        "  fig.add_trace(\n",
        "      go.Scatter(x = z, y = y, mode = 'lines',\n",
        "                 marker=dict(color=\"LightSeaGreen\"), name = 'Q(x)')\n",
        "      )\n",
        "\n",
        "  fig.add_trace(\n",
        "      go.Scatter(x = X, y = Y, mode = 'markers',\n",
        "                 marker=dict(size=10, color=\"MediumPurple\"), name = 'Puntos dados')\n",
        "      )\n",
        "  fig.update_layout(title_text=\"Spline cuadrático\",\n",
        "                  title_font_size=30, width=1400, height=700)\n",
        "  fig.show(renderer = 'svg')\n",
        "  \n",
        "  #Preguntamos al usuario si quiere evaluar el polinomio\n",
        "  evaluar = True\n",
        "  while evaluar:\n",
        "    print('¿Quieres evaluar el polinomio P(x)?')\n",
        "    print('***1.- Sí')\n",
        "    print('***2.- No')\n",
        "\n",
        "    seleccion = int(input('\\n Ingresa el número deseado\\n'))\n",
        "    \n",
        "    if seleccion == 1:\n",
        "      valorx = float(input('Ingresa el valor de x\\n'))\n",
        "      \n",
        "      #Verificamos que el valor este en el dominio\n",
        "      intervalo = -1\n",
        "      if valorx < X[0] or valorx > X[-1]:\n",
        "        print('El valor ingresado no está dentro de la definicion del splin')\n",
        "      else:\n",
        "        for i in range(n-1):\n",
        "          if X[i] <= valorx <= X[i+1]:\n",
        "            intervalo = i\n",
        "\n",
        "        if intervalo == 0:\n",
        "          evaluacion = coef[0]*valorx + coef[1]\n",
        "          print(f'Q({valorx}) = {evaluacion[0]}')\n",
        "        else:\n",
        "          indice = i*3 - 1\n",
        "          evaluacion = coef[indice]*valorx**2 + coef[indice + 1]*valorx + coef[indice + 2]\n",
        "          print(f'Q({valorx}) = {evaluacion[0]}')\n",
        "\n",
        "    if seleccion == 2:\n",
        "      break\n"
      ]
    },
    {
      "cell_type": "markdown",
      "metadata": {
        "id": "8p5szcoSs9Ho"
      },
      "source": [
        "> - <font color=red>Dados los siguientes valores de una función:\n",
        "$$\\quad x = \\; -1 \\;\\quad 0 \\quad 1 \\quad 2$$\n",
        "$$p(x) = -4 \\:\\: -1 \\quad 2 \\quad 23 $$\n",
        "Calcula mediante el programa anterior el spline cuadratico $Q(x)$ que interpola los datos y también calcula $Q(1.5)$.</font>\n",
        "\n",
        "El resultado obtenido es que $Q(1.5) = 8$"
      ]
    },
    {
      "cell_type": "code",
      "execution_count": 10,
      "metadata": {
        "colab": {
          "base_uri": "https://localhost:8080/",
          "height": 941
        },
        "id": "qXoRBg-chWJp",
        "outputId": "56017fa1-f0c7-489b-a70d-c4fa602af5f7"
      },
      "outputs": [
        {
          "data": {
            "image/svg+xml": "<svg class=\"main-svg\" xmlns=\"http://www.w3.org/2000/svg\" xmlns:xlink=\"http://www.w3.org/1999/xlink\" width=\"1400\" height=\"700\" style=\"\" viewBox=\"0 0 1400 700\"><rect x=\"0\" y=\"0\" width=\"1400\" height=\"700\" style=\"fill: rgb(255, 255, 255); fill-opacity: 1;\"/><defs id=\"defs-d4ef9b\"><g class=\"clips\"><clipPath id=\"clipd4ef9bxyplot\" class=\"plotclip\"><rect width=\"1158\" height=\"520\"/></clipPath><clipPath class=\"axesclip\" id=\"clipd4ef9bx\"><rect x=\"80\" y=\"0\" width=\"1158\" height=\"700\"/></clipPath><clipPath class=\"axesclip\" id=\"clipd4ef9by\"><rect x=\"0\" y=\"100\" width=\"1400\" height=\"520\"/></clipPath><clipPath class=\"axesclip\" id=\"clipd4ef9bxy\"><rect x=\"80\" y=\"100\" width=\"1158\" height=\"520\"/></clipPath></g><g class=\"gradients\"/><g class=\"patterns\"/></defs><g class=\"bglayer\"><rect class=\"bg\" x=\"80\" y=\"100\" width=\"1158\" height=\"520\" style=\"fill: rgb(229, 236, 246); fill-opacity: 1; stroke-width: 0;\"/></g><g class=\"layer-below\"><g class=\"imagelayer\"/><g class=\"shapelayer\"/></g><g class=\"cartesianlayer\"><g class=\"subplot xy\"><g class=\"layer-subplot\"><g class=\"shapelayer\"/><g class=\"imagelayer\"/></g><g class=\"minor-gridlayer\"><g class=\"x\"/><g class=\"y\"/></g><g class=\"gridlayer\"><g class=\"x\"><path class=\"xgrid crisp\" transform=\"translate(144.15,0)\" d=\"M0,100v520\" style=\"stroke: rgb(255, 255, 255); stroke-opacity: 1; stroke-width: 1px;\"/><path class=\"xgrid crisp\" transform=\"translate(315.77,0)\" d=\"M0,100v520\" style=\"stroke: rgb(255, 255, 255); stroke-opacity: 1; stroke-width: 1px;\"/><path class=\"xgrid crisp\" transform=\"translate(659,0)\" d=\"M0,100v520\" style=\"stroke: rgb(255, 255, 255); stroke-opacity: 1; stroke-width: 1px;\"/><path class=\"xgrid crisp\" transform=\"translate(830.62,0)\" d=\"M0,100v520\" style=\"stroke: rgb(255, 255, 255); stroke-opacity: 1; stroke-width: 1px;\"/><path class=\"xgrid crisp\" transform=\"translate(1002.23,0)\" d=\"M0,100v520\" style=\"stroke: rgb(255, 255, 255); stroke-opacity: 1; stroke-width: 1px;\"/><path class=\"xgrid crisp\" transform=\"translate(1173.85,0)\" d=\"M0,100v520\" style=\"stroke: rgb(255, 255, 255); stroke-opacity: 1; stroke-width: 1px;\"/></g><g class=\"y\"><path class=\"ygrid crisp\" transform=\"translate(0,604.62)\" d=\"M80,0h1158\" style=\"stroke: rgb(255, 255, 255); stroke-opacity: 1; stroke-width: 1px;\"/><path class=\"ygrid crisp\" transform=\"translate(0,435.92)\" d=\"M80,0h1158\" style=\"stroke: rgb(255, 255, 255); stroke-opacity: 1; stroke-width: 1px;\"/><path class=\"ygrid crisp\" transform=\"translate(0,351.56)\" d=\"M80,0h1158\" style=\"stroke: rgb(255, 255, 255); stroke-opacity: 1; stroke-width: 1px;\"/><path class=\"ygrid crisp\" transform=\"translate(0,267.21000000000004)\" d=\"M80,0h1158\" style=\"stroke: rgb(255, 255, 255); stroke-opacity: 1; stroke-width: 1px;\"/><path class=\"ygrid crisp\" transform=\"translate(0,182.86)\" d=\"M80,0h1158\" style=\"stroke: rgb(255, 255, 255); stroke-opacity: 1; stroke-width: 1px;\"/></g></g><g class=\"zerolinelayer\"><path class=\"xzl zl crisp\" transform=\"translate(487.38,0)\" d=\"M0,100v520\" style=\"stroke: rgb(255, 255, 255); stroke-opacity: 1; stroke-width: 2px;\"/><path class=\"yzl zl crisp\" transform=\"translate(0,520.27)\" d=\"M80,0h1158\" style=\"stroke: rgb(255, 255, 255); stroke-opacity: 1; stroke-width: 2px;\"/></g><path class=\"xlines-below\"/><path class=\"ylines-below\"/><g class=\"overlines-below\"/><g class=\"xaxislayer-below\"/><g class=\"yaxislayer-below\"/><g class=\"overaxes-below\"/><g class=\"plot\" transform=\"translate(80,100)\" clip-path=\"url(#clipd4ef9bxyplot)\"><g class=\"scatterlayer mlayer\"><g class=\"trace scatter trace0aef0f\" style=\"stroke-miterlimit: 2; opacity: 1;\"><g class=\"fills\"/><g class=\"errorbars\"/><g class=\"lines\"><path class=\"js-line\" d=\"M64.15,487.75L750.62,386.53L750.62,386.53L788.75,377.16L826.89,360.28L865.03,335.92L903.16,304.05L941.3,264.69L979.44,217.82L1017.58,163.46L1055.71,101.61L1093.85,32.25\" style=\"vector-effect: non-scaling-stroke; fill: none; stroke: rgb(32, 178, 170); stroke-opacity: 1; stroke-width: 2px; opacity: 1;\"/></g><g class=\"points\"/><g class=\"text\"/></g><g class=\"trace scatter tracee8e107\" style=\"stroke-miterlimit: 2; opacity: 1;\"><g class=\"fills\"/><g class=\"errorbars\"/><g class=\"lines\"/><g class=\"points\"><path class=\"point\" transform=\"translate(64.15,487.75)\" d=\"M5,0A5,5 0 1,1 0,-5A5,5 0 0,1 5,0Z\" style=\"opacity: 1; stroke-width: 0px; fill: rgb(147, 112, 219); fill-opacity: 1;\"/><path class=\"point\" transform=\"translate(407.38,437.14)\" d=\"M5,0A5,5 0 1,1 0,-5A5,5 0 0,1 5,0Z\" style=\"opacity: 1; stroke-width: 0px; fill: rgb(147, 112, 219); fill-opacity: 1;\"/><path class=\"point\" transform=\"translate(750.62,386.53)\" d=\"M5,0A5,5 0 1,1 0,-5A5,5 0 0,1 5,0Z\" style=\"opacity: 1; stroke-width: 0px; fill: rgb(147, 112, 219); fill-opacity: 1;\"/><path class=\"point\" transform=\"translate(1093.85,32.25)\" d=\"M5,0A5,5 0 1,1 0,-5A5,5 0 0,1 5,0Z\" style=\"opacity: 1; stroke-width: 0px; fill: rgb(147, 112, 219); fill-opacity: 1;\"/></g><g class=\"text\"/></g></g></g><g class=\"overplot\"/><path class=\"xlines-above crisp\" d=\"M0,0\" style=\"fill: none;\"/><path class=\"ylines-above crisp\" d=\"M0,0\" style=\"fill: none;\"/><g class=\"overlines-above\"/><g class=\"xaxislayer-above\"><g class=\"xtick\"><text text-anchor=\"middle\" x=\"0\" y=\"633\" transform=\"translate(144.15,0)\" style=\"font-family: 'Open Sans', verdana, arial, sans-serif; font-size: 12px; fill: rgb(42, 63, 95); fill-opacity: 1; white-space: pre; opacity: 1;\">−1</text></g><g class=\"xtick\"><text text-anchor=\"middle\" x=\"0\" y=\"633\" style=\"font-family: 'Open Sans', verdana, arial, sans-serif; font-size: 12px; fill: rgb(42, 63, 95); fill-opacity: 1; white-space: pre; opacity: 1;\" transform=\"translate(315.77,0)\">−0.5</text></g><g class=\"xtick\"><text text-anchor=\"middle\" x=\"0\" y=\"633\" style=\"font-family: 'Open Sans', verdana, arial, sans-serif; font-size: 12px; fill: rgb(42, 63, 95); fill-opacity: 1; white-space: pre; opacity: 1;\" transform=\"translate(487.38,0)\">0</text></g><g class=\"xtick\"><text text-anchor=\"middle\" x=\"0\" y=\"633\" style=\"font-family: 'Open Sans', verdana, arial, sans-serif; font-size: 12px; fill: rgb(42, 63, 95); fill-opacity: 1; white-space: pre; opacity: 1;\" transform=\"translate(659,0)\">0.5</text></g><g class=\"xtick\"><text text-anchor=\"middle\" x=\"0\" y=\"633\" style=\"font-family: 'Open Sans', verdana, arial, sans-serif; font-size: 12px; fill: rgb(42, 63, 95); fill-opacity: 1; white-space: pre; opacity: 1;\" transform=\"translate(830.62,0)\">1</text></g><g class=\"xtick\"><text text-anchor=\"middle\" x=\"0\" y=\"633\" style=\"font-family: 'Open Sans', verdana, arial, sans-serif; font-size: 12px; fill: rgb(42, 63, 95); fill-opacity: 1; white-space: pre; opacity: 1;\" transform=\"translate(1002.23,0)\">1.5</text></g><g class=\"xtick\"><text text-anchor=\"middle\" x=\"0\" y=\"633\" style=\"font-family: 'Open Sans', verdana, arial, sans-serif; font-size: 12px; fill: rgb(42, 63, 95); fill-opacity: 1; white-space: pre; opacity: 1;\" transform=\"translate(1173.85,0)\">2</text></g></g><g class=\"yaxislayer-above\"><g class=\"ytick\"><text text-anchor=\"end\" x=\"79\" y=\"4.199999999999999\" transform=\"translate(0,604.62)\" style=\"font-family: 'Open Sans', verdana, arial, sans-serif; font-size: 12px; fill: rgb(42, 63, 95); fill-opacity: 1; white-space: pre; opacity: 1;\">−5</text></g><g class=\"ytick\"><text text-anchor=\"end\" x=\"79\" y=\"4.199999999999999\" style=\"font-family: 'Open Sans', verdana, arial, sans-serif; font-size: 12px; fill: rgb(42, 63, 95); fill-opacity: 1; white-space: pre; opacity: 1;\" transform=\"translate(0,520.27)\">0</text></g><g class=\"ytick\"><text text-anchor=\"end\" x=\"79\" y=\"4.199999999999999\" style=\"font-family: 'Open Sans', verdana, arial, sans-serif; font-size: 12px; fill: rgb(42, 63, 95); fill-opacity: 1; white-space: pre; opacity: 1;\" transform=\"translate(0,435.92)\">5</text></g><g class=\"ytick\"><text text-anchor=\"end\" x=\"79\" y=\"4.199999999999999\" style=\"font-family: 'Open Sans', verdana, arial, sans-serif; font-size: 12px; fill: rgb(42, 63, 95); fill-opacity: 1; white-space: pre; opacity: 1;\" transform=\"translate(0,351.56)\">10</text></g><g class=\"ytick\"><text text-anchor=\"end\" x=\"79\" y=\"4.199999999999999\" style=\"font-family: 'Open Sans', verdana, arial, sans-serif; font-size: 12px; fill: rgb(42, 63, 95); fill-opacity: 1; white-space: pre; opacity: 1;\" transform=\"translate(0,267.21000000000004)\">15</text></g><g class=\"ytick\"><text text-anchor=\"end\" x=\"79\" y=\"4.199999999999999\" style=\"font-family: 'Open Sans', verdana, arial, sans-serif; font-size: 12px; fill: rgb(42, 63, 95); fill-opacity: 1; white-space: pre; opacity: 1;\" transform=\"translate(0,182.86)\">20</text></g></g><g class=\"overaxes-above\"/></g></g><g class=\"polarlayer\"/><g class=\"smithlayer\"/><g class=\"ternarylayer\"/><g class=\"geolayer\"/><g class=\"funnelarealayer\"/><g class=\"pielayer\"/><g class=\"iciclelayer\"/><g class=\"treemaplayer\"/><g class=\"sunburstlayer\"/><g class=\"glimages\"/><defs id=\"topdefs-d4ef9b\"><g class=\"clips\"/><clipPath id=\"legendd4ef9b\"><rect width=\"127\" height=\"48\" x=\"0\" y=\"0\"/></clipPath></defs><g class=\"layer-above\"><g class=\"imagelayer\"/><g class=\"shapelayer\"/></g><g class=\"infolayer\"><g class=\"legend\" pointer-events=\"all\" transform=\"translate(1261.16,100)\"><rect class=\"bg\" shape-rendering=\"crispEdges\" style=\"stroke: rgb(68, 68, 68); stroke-opacity: 1; fill: rgb(255, 255, 255); fill-opacity: 1; stroke-width: 0px;\" width=\"127\" height=\"48\" x=\"0\" y=\"0\"/><g class=\"scrollbox\" transform=\"\" clip-path=\"url(#legendd4ef9b)\"><g class=\"groups\"><g class=\"traces\" transform=\"translate(0,14.5)\" style=\"opacity: 1;\"><text class=\"legendtext\" text-anchor=\"start\" x=\"40\" y=\"4.680000000000001\" style=\"font-family: 'Open Sans', verdana, arial, sans-serif; font-size: 12px; fill: rgb(42, 63, 95); fill-opacity: 1; white-space: pre;\">Q(x)</text><g class=\"layers\" style=\"opacity: 1;\"><g class=\"legendfill\"/><g class=\"legendlines\"><path class=\"js-line\" d=\"M5,0h30\" style=\"fill: none; stroke: rgb(32, 178, 170); stroke-opacity: 1; stroke-width: 2px;\"/></g><g class=\"legendsymbols\"><g class=\"legendpoints\"/></g></g><rect class=\"legendtoggle\" x=\"0\" y=\"-9.5\" width=\"121.359375\" height=\"19\" style=\"fill: rgb(0, 0, 0); fill-opacity: 0;\"/></g><g class=\"traces\" transform=\"translate(0,33.5)\" style=\"opacity: 1;\"><text class=\"legendtext\" text-anchor=\"start\" x=\"40\" y=\"4.680000000000001\" style=\"font-family: 'Open Sans', verdana, arial, sans-serif; font-size: 12px; fill: rgb(42, 63, 95); fill-opacity: 1; white-space: pre;\">Puntos dados</text><g class=\"layers\" style=\"opacity: 1;\"><g class=\"legendfill\"/><g class=\"legendlines\"/><g class=\"legendsymbols\"><g class=\"legendpoints\"><path class=\"scatterpts\" transform=\"translate(20,0)\" d=\"M5,0A5,5 0 1,1 0,-5A5,5 0 0,1 5,0Z\" style=\"opacity: 1; stroke-width: 0px; fill: rgb(147, 112, 219); fill-opacity: 1;\"/></g></g></g><rect class=\"legendtoggle\" x=\"0\" y=\"-9.5\" width=\"121.359375\" height=\"19\" style=\"fill: rgb(0, 0, 0); fill-opacity: 0;\"/></g></g></g><rect class=\"scrollbar\" rx=\"20\" ry=\"3\" width=\"0\" height=\"0\" style=\"fill: rgb(128, 139, 164); fill-opacity: 1;\" x=\"0\" y=\"0\"/></g><g class=\"g-gtitle\"><text class=\"gtitle\" x=\"70\" y=\"50\" text-anchor=\"start\" dy=\"0em\" style=\"font-family: 'Open Sans', verdana, arial, sans-serif; font-size: 30px; fill: rgb(42, 63, 95); opacity: 1; font-weight: normal; white-space: pre;\">Spline cuadrático</text></g><g class=\"g-xtitle\"/><g class=\"g-ytitle\"/></g></svg>"
          },
          "metadata": {},
          "output_type": "display_data"
        },
        {
          "name": "stdout",
          "output_type": "stream",
          "text": [
            "¿Quieres evaluar el polinomio P(x)?\n",
            "***1.- Sí\n",
            "***2.- No\n"
          ]
        }
      ],
      "source": [
        "spline2(4)"
      ]
    },
    {
      "cell_type": "markdown",
      "metadata": {
        "id": "cOUW8SBvLnGB"
      },
      "source": [
        "# **Ejercicio 5**\n",
        "En un experimento se produjeron los siguientes datos:\n",
        "\n",
        "$$t = 0.0 \\quad 0.5 \\quad 1.0 \\quad 6.0 \\quad 7.0 \\quad 9.0 $$\n",
        "$$y = 0.0 \\quad 1.6 \\quad 2.0 \\quad 2.0 \\quad 1.5 \\quad 0.0 $$\n",
        "\n",
        "Se desea interpolar los datos con una curva suave con la esperanza de obtener valores razonables de $y$ para valores de $t$ entre los puntos en los que se hicieron las medidas\n",
        "\n",
        "a) Escribe un programa que utilice el método de tu preferencia para determinar el polinomio de grado cinco que interpole los datos y que grafique en el rango $0\\leq t \\leq 9$.\n",
        "\n",
        "b) Haz un programa que determine un spline cúbico natural que interpole los datos dados y que grafique en el intervalo $0\\leq t \\leq 9$."
      ]
    },
    {
      "cell_type": "code",
      "execution_count": null,
      "metadata": {
        "colab": {
          "base_uri": "https://localhost:8080/",
          "height": 354
        },
        "id": "97II7NRUZVps",
        "outputId": "1bf8aa62-f68e-482d-ddb3-9b6b2fcd872b"
      },
      "outputs": [
        {
          "name": "stdout",
          "output_type": "stream",
          "text": [
            "El polinomio de interpolación de grado 5 es: \n",
            "0.00568777627601149*x**5 - 0.134787108316519*x**4 + 1.12075734722793*x**3 - 3.85592316180551*x**2 + 4.86426514661809*x\n"
          ]
        },
        {
          "data": {
            "image/png": "[encoded data removed]",
            "text/plain": [
              "<Figure size 432x288 with 1 Axes>"
            ]
          },
          "metadata": {
            "needs_background": "light"
          },
          "output_type": "display_data"
        }
      ],
      "source": [
        "# a) Usemos el ejercicio 1\n",
        "\n",
        "# Prueba para S = {(0,0),(0.5,1.6),(1,2),(6,2),(7,1.5),(9,0)}\n",
        "# Ingresamos las coordenadas\n",
        "\n",
        "xi = [0,0.5,1,6,7,9]\n",
        "yi = [0,1.6,2,2,1.5,0]\n",
        "\n",
        "xis = np.array(xi)\n",
        "yis = np.array(yi)\n",
        "\n",
        "n = len(xis)\n",
        "V = np.zeros(shape=(n,n),dtype =float)\n",
        "for i in range(0,n,1):\n",
        "  for j in range(0,n,1):\n",
        "    p = (n-1)-j\n",
        "    V[i,j] = xis[i]**p\n",
        "\n",
        "a = np.linalg.solve(V,yis)\n",
        "\n",
        "# Polinomio\n",
        "x = sym.Symbol('x')\n",
        "P = 0\n",
        "for i in range(0,n,1):\n",
        "  k = (n-1)-i  \n",
        "  termino = a[i]*(x**k)\n",
        "  P = P + termino\n",
        "\n",
        "print(\"El polinomio de interpolación de grado 5 es: \")\n",
        "print(P)\n",
        "\n",
        "# Graficar P en [0,9]\n",
        "px = sym.lambdify(x,P)\n",
        "a = np.min(xis)\n",
        "b = np.max(xis)\n",
        "xin = np.linspace(a,b,101)\n",
        "yin = px(xin)\n",
        "\n",
        "plt.plot(xis,yis,'o', label='[$t$,$y$]')\n",
        "plt.plot(xin,yin, label='$P(t)$')\n",
        "plt.xlabel('$t$')\n",
        "plt.ylabel('$y$')\n",
        "plt.legend()\n",
        "plt.title(\"Polinomio interpolante -- $P(t)$\")\n",
        "plt.grid(axis='both')\n",
        "plt.show()"
      ]
    },
    {
      "cell_type": "code",
      "execution_count": null,
      "metadata": {
        "colab": {
          "base_uri": "https://localhost:8080/",
          "height": 297
        },
        "id": "PaC5JXKRg-1P",
        "outputId": "5a2774f3-eb87-4a96-b79b-8430e19127ed"
      },
      "outputs": [
        {
          "data": {
            "image/png": "[encoded data removed]",
            "text/plain": [
              "<Figure size 432x288 with 1 Axes>"
            ]
          },
          "metadata": {
            "needs_background": "light"
          },
          "output_type": "display_data"
        }
      ],
      "source": [
        "t =  [0.0,0.5,1.0,6.0,7.0,9.0]\n",
        "y = [0.0,1.6,2.0,2.0,1.5,0.0]\n",
        "\n",
        "def SplineCubicoNatural(x0, t, y):\n",
        "    t = np.asfarray(t)\n",
        "    y = np.asfarray(y)\n",
        "\n",
        "    # Ordenamos el vector t ascendentemente \n",
        "    if np.any(np.diff(t) < 0):\n",
        "        indexes = np.argsort(t)\n",
        "        t = t[indexes]\n",
        "        # Ordenamos tambien el vector y con el mismo orden que t\n",
        "        y = y[indexes]\n",
        "\n",
        "    # Tamaño\n",
        "    n = len(t)\n",
        "\n",
        "    # Obtenemos las diferencias de cada vector\n",
        "    dt = np.diff(t)\n",
        "    dy = np.diff(y)\n",
        "\n",
        "    #Creamos arreglos\n",
        "    L = np.empty(n)\n",
        "    L1 = np.empty(n-1)\n",
        "    z = np.empty(n)\n",
        "\n",
        "    # Diagonales\n",
        "    L[0] = sqrt(2*dt[0])\n",
        "    L1[0] = 0.0\n",
        "    B0 = 0.0\n",
        "    z[0] = B0/L[0]\n",
        "\n",
        "    for i in range(1, n-1, 1):\n",
        "        L1[i] = dt[i-1] / L[i-1]\n",
        "        L[i] = sqrt(2*(dt[i-1]+dt[i]) - L1[i-1]*L1[i-1])\n",
        "        Bi = 6*(dy[i]/dt[i] - dy[i-1]/dt[i-1])\n",
        "        z[i] = (Bi - L1[i-1]*z[i-1])/L[i]\n",
        "\n",
        "    i = n - 1\n",
        "    L1[i-1] = dt[-1] / L[i-1]\n",
        "    L[i] = sqrt(2*dt[-1] - L1[i-1] * L1[i-1])\n",
        "    Bi = 0.0 \n",
        "    z[i] = (Bi - L1[i-1]*z[i-1])/L[i]\n",
        " \n",
        "    # Se resuelve el sistema\n",
        "    i = n-1\n",
        "    z[i] = z[i] / L[i]\n",
        "    for i in range(n-2, -1, -1):\n",
        "        z[i] = (z[i] - L1[i-1]*z[i+1])/L[i]\n",
        "\n",
        "    index = t.searchsorted(x0)\n",
        "    np.clip(index, 1, n-1, index)\n",
        "\n",
        "    xi1, xi0 = t[index], t[index-1]\n",
        "    yi1, yi0 = y[index], y[index-1]\n",
        "    zi1, zi0 = z[index], z[index-1]\n",
        "    hi1 = xi1 - xi0\n",
        "\n",
        "    # Polinomio\n",
        "    f0 = zi0/(6*hi1)*(xi1-x0)**3 + zi1/(6*hi1)*(x0-xi0)**3 +  (yi1/hi1 - zi1*hi1/6)*(x0-xi0) + (yi0/hi1 - zi0*hi1/6)*(xi1-x0)\n",
        "    return f0\n",
        "\n",
        "\n",
        "# Graficar P en [0,9]\n",
        "plt.plot(t, y,'o',label='[$t$,$y$]')\n",
        "tin = np.linspace(0, 9, 101)\n",
        "plt.plot(tin, SplineCubicoNatural(tin, t, y),label='$P(t)$')\n",
        "plt.xlabel('$t$')\n",
        "plt.ylabel('$y$')\n",
        "plt.grid(axis='both')\n",
        "plt.title('Spline Cubico Natural -- Polinomio interpolante -- $P(t)')\n",
        "plt.legend()\n",
        "plt.show()"
      ]
    },
    {
      "cell_type": "code",
      "execution_count": null,
      "metadata": {
        "colab": {
          "base_uri": "https://localhost:8080/",
          "height": 316
        },
        "id": "GE80WNcjuK61",
        "outputId": "e93e238a-7b74-4406-d7b1-736028832d0c"
      },
      "outputs": [
        {
          "name": "stderr",
          "output_type": "stream",
          "text": [
            "WARNING:matplotlib.legend:No handles with labels found to put in legend.\n"
          ]
        },
        {
          "data": {
            "image/png": "[encoded data removed]",
            "text/plain": [
              "<Figure size 432x288 with 1 Axes>"
            ]
          },
          "metadata": {
            "needs_background": "light"
          },
          "output_type": "display_data"
        }
      ],
      "source": [
        "# Comprobamos con el método que usa SciPy para interpolar \n",
        "\n",
        "from scipy.interpolate import CubicSpline\n",
        "T = [0, 0.5, 1, 6, 7, 9]\n",
        "Y = [0, 1.6, 2, 2, 1.5, 0]\n",
        "cs1 = CubicSpline(T,Y,bc_type='natural')\n",
        "T1 = T\n",
        "Y1 = cs1(T1)\n",
        "plt.plot(T1,Y1,T,Y,'o',markersize=10)\n",
        "plt.xlabel('$t$')\n",
        "plt.ylabel('$y$')\n",
        "plt.legend()\n",
        "plt.title(\"Polinomio interpolante -- $P(t)$\")\n",
        "plt.grid(axis='both')\n",
        "plt.show()"
      ]
    }
  ],
  "metadata": {
    "colab": {
      "collapsed_sections": [],
      "provenance": []
    },
    "kernelspec": {
      "display_name": "Python 3.10.2 64-bit",
      "language": "python",
      "name": "python3"
    },
    "language_info": {
      "codemirror_mode": {
        "name": "ipython",
        "version": 3
      },
      "file_extension": ".py",
      "mimetype": "text/x-python",
      "name": "python",
      "nbconvert_exporter": "python",
      "pygments_lexer": "ipython3",
      "version": "3.10.2"
    },
    "vscode": {
      "interpreter": {
        "hash": "26de051ba29f2982a8de78e945f0abaf191376122a1563185a90213a26c5da77"
      }
    }
  },
  "nbformat": 4,
  "nbformat_minor": 0
}
